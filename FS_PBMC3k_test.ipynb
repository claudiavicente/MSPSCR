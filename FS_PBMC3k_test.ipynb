{
 "cells": [
  {
   "cell_type": "code",
   "execution_count": 1,
   "id": "9881fd99-6b85-4d46-8d5d-1f0f2e5d0516",
   "metadata": {},
   "outputs": [],
   "source": [
    "import glob\n",
    "import cobra\n",
    "import os\n",
    "import multiprocessing\n",
    "import time\n",
    "import numpy as np\n",
    "import pandas as pd\n",
    "import seaborn as sns\n",
    "import umap\n",
    "import matplotlib.pyplot as plt\n",
    "from matplotlib.colors import ListedColormap"
   ]
  },
  {
   "cell_type": "code",
   "execution_count": 2,
   "id": "6cf0d583-d6fc-44e3-8aeb-f28d4e6281e8",
   "metadata": {},
   "outputs": [
    {
     "name": "stderr",
     "output_type": "stream",
     "text": [
      "No defined compartments in model Recon3DModel. Compartments will be deduced heuristically using regular expressions.\n",
      "Using regular expression found the following compartments:c, e, g, i, l, m, n, r, x\n"
     ]
    },
    {
     "data": {
      "text/html": [
       "\n",
       "        <table>\n",
       "            <tr>\n",
       "                <td><strong>Name</strong></td>\n",
       "                <td>Recon3DModel</td>\n",
       "            </tr><tr>\n",
       "                <td><strong>Memory address</strong></td>\n",
       "                <td>15cea5c90</td>\n",
       "            </tr><tr>\n",
       "                <td><strong>Number of metabolites</strong></td>\n",
       "                <td>5835</td>\n",
       "            </tr><tr>\n",
       "                <td><strong>Number of reactions</strong></td>\n",
       "                <td>10600</td>\n",
       "            </tr><tr>\n",
       "                <td><strong>Number of genes</strong></td>\n",
       "                <td>2248</td>\n",
       "            </tr><tr>\n",
       "                <td><strong>Number of groups</strong></td>\n",
       "                <td>103</td>\n",
       "            </tr><tr>\n",
       "                <td><strong>Objective expression</strong></td>\n",
       "                <td>1.0*biomass_maintenance - 1.0*biomass_maintenance_reverse_95d2f</td>\n",
       "            </tr><tr>\n",
       "                <td><strong>Compartments</strong></td>\n",
       "                <td>c, l, m, r, e, x, n, g, i</td>\n",
       "            </tr>\n",
       "          </table>"
      ],
      "text/plain": [
       "<Model Recon3DModel at 0x15cea5c90>"
      ]
     },
     "execution_count": 2,
     "metadata": {},
     "output_type": "execute_result"
    }
   ],
   "source": [
    "recon3D = cobra.io.load_matlab_model('/Users/claudiavicentecomorera/Desktop/TFG/Data/Recon3D_301/Recon3DModel_301.mat')\n",
    "recon3D"
   ]
  },
  {
   "cell_type": "code",
   "execution_count": 3,
   "id": "d6ec1dd6-d53c-4eaa-ae50-7060dd6c21d9",
   "metadata": {},
   "outputs": [
    {
     "data": {
      "text/html": [
       "<strong><em>Optimal</em> solution with objective value 276649.865</strong><br><div>\n",
       "<style scoped>\n",
       "    .dataframe tbody tr th:only-of-type {\n",
       "        vertical-align: middle;\n",
       "    }\n",
       "\n",
       "    .dataframe tbody tr th {\n",
       "        vertical-align: top;\n",
       "    }\n",
       "\n",
       "    .dataframe thead th {\n",
       "        text-align: right;\n",
       "    }\n",
       "</style>\n",
       "<table border=\"1\" class=\"dataframe\">\n",
       "  <thead>\n",
       "    <tr style=\"text-align: right;\">\n",
       "      <th></th>\n",
       "      <th>fluxes</th>\n",
       "      <th>reduced_costs</th>\n",
       "    </tr>\n",
       "  </thead>\n",
       "  <tbody>\n",
       "    <tr>\n",
       "      <th>10FTHF5GLUtl</th>\n",
       "      <td>0.000000</td>\n",
       "      <td>0.000000</td>\n",
       "    </tr>\n",
       "    <tr>\n",
       "      <th>10FTHF5GLUtm</th>\n",
       "      <td>0.000000</td>\n",
       "      <td>1120.707071</td>\n",
       "    </tr>\n",
       "    <tr>\n",
       "      <th>10FTHF6GLUtl</th>\n",
       "      <td>0.000000</td>\n",
       "      <td>0.000000</td>\n",
       "    </tr>\n",
       "    <tr>\n",
       "      <th>10FTHF6GLUtm</th>\n",
       "      <td>0.000000</td>\n",
       "      <td>0.000000</td>\n",
       "    </tr>\n",
       "    <tr>\n",
       "      <th>10FTHF7GLUtl</th>\n",
       "      <td>0.000000</td>\n",
       "      <td>0.000000</td>\n",
       "    </tr>\n",
       "    <tr>\n",
       "      <th>...</th>\n",
       "      <td>...</td>\n",
       "      <td>...</td>\n",
       "    </tr>\n",
       "    <tr>\n",
       "      <th>CYOR_u10mi</th>\n",
       "      <td>666.666667</td>\n",
       "      <td>-2.000000</td>\n",
       "    </tr>\n",
       "    <tr>\n",
       "      <th>Htmi</th>\n",
       "      <td>0.000000</td>\n",
       "      <td>0.109053</td>\n",
       "    </tr>\n",
       "    <tr>\n",
       "      <th>NADH2_u10mi</th>\n",
       "      <td>0.000000</td>\n",
       "      <td>5.106996</td>\n",
       "    </tr>\n",
       "    <tr>\n",
       "      <th>CYOOm3i</th>\n",
       "      <td>0.000000</td>\n",
       "      <td>-1.859259</td>\n",
       "    </tr>\n",
       "    <tr>\n",
       "      <th>CYOOm2i</th>\n",
       "      <td>333.333333</td>\n",
       "      <td>-2.000000</td>\n",
       "    </tr>\n",
       "  </tbody>\n",
       "</table>\n",
       "<p>10600 rows × 2 columns</p>\n",
       "</div>"
      ],
      "text/plain": [
       "<Solution 276649.865 at 0x17e4f49d0>"
      ]
     },
     "execution_count": 3,
     "metadata": {},
     "output_type": "execute_result"
    }
   ],
   "source": [
    "recon3D.objective = 'biomass_maintenance'\n",
    "solution_recon_3D = cobra.flux_analysis.parsimonious.pfba(recon3D)\n",
    "ov = solution_recon_3D.objective_value\n",
    "solution_recon_3D"
   ]
  },
  {
   "cell_type": "code",
   "execution_count": 4,
   "id": "48b32860-a5d4-4663-982d-fe28d8dbae53",
   "metadata": {},
   "outputs": [],
   "source": [
    "f_path = \"/Users/claudiavicentecomorera/Desktop/TFG/Models/PBMC_Models/\"\n",
    "file_paths = glob.glob(f_path + \"*.mat\")"
   ]
  },
  {
   "cell_type": "code",
   "execution_count": 5,
   "id": "73bccbfc-bd10-49c9-b132-3bd347d014bb",
   "metadata": {},
   "outputs": [],
   "source": [
    "file_paths_500 = file_paths[:500]"
   ]
  },
  {
   "cell_type": "code",
   "execution_count": 6,
   "id": "907ad111-5bbe-4736-9439-02fadd036431",
   "metadata": {
    "scrolled": true
   },
   "outputs": [
    {
     "name": "stderr",
     "output_type": "stream",
     "text": [
      "No defined compartments in model ContextModel. Compartments will be deduced heuristically using regular expressions.\n",
      "Using regular expression found the following compartments:c, e, g, l, m, n, r, x\n",
      "No defined compartments in model ContextModel. Compartments will be deduced heuristically using regular expressions.\n",
      "Using regular expression found the following compartments:c, e, g, l, m, n, r, x\n"
     ]
    },
    {
     "name": "stdout",
     "output_type": "stream",
     "text": [
      "The simulation of GAGTGGGATGCCCT-1 (1) fluxes takes: 0.8651278018951416 seconds\n"
     ]
    },
    {
     "name": "stderr",
     "output_type": "stream",
     "text": [
      "No defined compartments in model ContextModel. Compartments will be deduced heuristically using regular expressions.\n",
      "Using regular expression found the following compartments:c, e, g, l, m, n, r, x\n"
     ]
    },
    {
     "name": "stdout",
     "output_type": "stream",
     "text": [
      "The simulation of CAGCCTACCCAACA-1 (2) fluxes takes: 0.8156957626342773 seconds\n"
     ]
    },
    {
     "name": "stderr",
     "output_type": "stream",
     "text": [
      "No defined compartments in model ContextModel. Compartments will be deduced heuristically using regular expressions.\n",
      "Using regular expression found the following compartments:c, e, g, l, m, n, r, x\n"
     ]
    },
    {
     "name": "stdout",
     "output_type": "stream",
     "text": [
      "The simulation of CGGACCGATGCGTA-1 (3) fluxes takes: 1.085707187652588 seconds\n"
     ]
    },
    {
     "name": "stderr",
     "output_type": "stream",
     "text": [
      "No defined compartments in model ContextModel. Compartments will be deduced heuristically using regular expressions.\n",
      "Using regular expression found the following compartments:c, e, g, l, m, n, r, x\n"
     ]
    },
    {
     "name": "stdout",
     "output_type": "stream",
     "text": [
      "The simulation of GCTCAAGAAGTCAC-1 (4) fluxes takes: 1.1877169609069824 seconds\n"
     ]
    },
    {
     "name": "stderr",
     "output_type": "stream",
     "text": [
      "No defined compartments in model ContextModel. Compartments will be deduced heuristically using regular expressions.\n",
      "Using regular expression found the following compartments:c, e, g, l, m, n, r, x\n"
     ]
    },
    {
     "name": "stdout",
     "output_type": "stream",
     "text": [
      "The simulation of AAGCACTGCATACG-1 (5) fluxes takes: 1.057753086090088 seconds\n"
     ]
    },
    {
     "name": "stderr",
     "output_type": "stream",
     "text": [
      "No defined compartments in model ContextModel. Compartments will be deduced heuristically using regular expressions.\n",
      "Using regular expression found the following compartments:c, e, g, l, m, n, r, x\n"
     ]
    },
    {
     "name": "stdout",
     "output_type": "stream",
     "text": [
      "The simulation of GGAGGCCTTTCTTG-1 (6) fluxes takes: 1.1130599975585938 seconds\n"
     ]
    },
    {
     "name": "stderr",
     "output_type": "stream",
     "text": [
      "No defined compartments in model ContextModel. Compartments will be deduced heuristically using regular expressions.\n",
      "Using regular expression found the following compartments:c, e, g, l, m, n, r, x\n"
     ]
    },
    {
     "name": "stdout",
     "output_type": "stream",
     "text": [
      "The simulation of ATTGTCTGCGTACA-1 (7) fluxes takes: 0.699660062789917 seconds\n"
     ]
    },
    {
     "name": "stderr",
     "output_type": "stream",
     "text": [
      "No defined compartments in model ContextModel. Compartments will be deduced heuristically using regular expressions.\n",
      "Using regular expression found the following compartments:c, e, g, l, m, n, r, x\n"
     ]
    },
    {
     "name": "stdout",
     "output_type": "stream",
     "text": [
      "The simulation of ACCAGTGAGGGATG-1 (8) fluxes takes: 0.7111148834228516 seconds\n"
     ]
    },
    {
     "name": "stderr",
     "output_type": "stream",
     "text": [
      "No defined compartments in model ContextModel. Compartments will be deduced heuristically using regular expressions.\n",
      "Using regular expression found the following compartments:c, e, g, l, m, n, r, x\n"
     ]
    },
    {
     "name": "stdout",
     "output_type": "stream",
     "text": [
      "The simulation of CCCTAGTGCAAAGA-1 (9) fluxes takes: 0.7718617916107178 seconds\n"
     ]
    },
    {
     "name": "stderr",
     "output_type": "stream",
     "text": [
      "No defined compartments in model ContextModel. Compartments will be deduced heuristically using regular expressions.\n",
      "Using regular expression found the following compartments:c, e, g, l, m, n, r, x\n"
     ]
    },
    {
     "name": "stdout",
     "output_type": "stream",
     "text": [
      "The simulation of TTCCATGACGAGAG-1 (10) fluxes takes: 1.0865447521209717 seconds\n"
     ]
    },
    {
     "name": "stderr",
     "output_type": "stream",
     "text": [
      "No defined compartments in model ContextModel. Compartments will be deduced heuristically using regular expressions.\n",
      "Using regular expression found the following compartments:c, e, g, l, m, n, r, x\n"
     ]
    },
    {
     "name": "stdout",
     "output_type": "stream",
     "text": [
      "The simulation of CGCACTACTCGTGA-1 (11) fluxes takes: 0.781203031539917 seconds\n"
     ]
    },
    {
     "name": "stderr",
     "output_type": "stream",
     "text": [
      "No defined compartments in model ContextModel. Compartments will be deduced heuristically using regular expressions.\n",
      "Using regular expression found the following compartments:c, e, g, l, m, n, r, x\n"
     ]
    },
    {
     "name": "stdout",
     "output_type": "stream",
     "text": [
      "The simulation of CTTTAGACGATACC-1 (12) fluxes takes: 0.8281040191650391 seconds\n"
     ]
    },
    {
     "name": "stderr",
     "output_type": "stream",
     "text": [
      "No defined compartments in model ContextModel. Compartments will be deduced heuristically using regular expressions.\n",
      "Using regular expression found the following compartments:c, e, g, l, m, n, r, x\n"
     ]
    },
    {
     "name": "stdout",
     "output_type": "stream",
     "text": [
      "The simulation of TAATGTGATTACTC-1 (13) fluxes takes: 1.193176031112671 seconds\n"
     ]
    },
    {
     "name": "stderr",
     "output_type": "stream",
     "text": [
      "No defined compartments in model ContextModel. Compartments will be deduced heuristically using regular expressions.\n",
      "Using regular expression found the following compartments:c, e, g, l, m, n, r, x\n"
     ]
    },
    {
     "name": "stdout",
     "output_type": "stream",
     "text": [
      "The simulation of ATGCGATGCTATGG-1 (14) fluxes takes: 1.0190069675445557 seconds\n"
     ]
    },
    {
     "name": "stderr",
     "output_type": "stream",
     "text": [
      "No defined compartments in model ContextModel. Compartments will be deduced heuristically using regular expressions.\n",
      "Using regular expression found the following compartments:c, e, g, l, m, n, r, x\n"
     ]
    },
    {
     "name": "stdout",
     "output_type": "stream",
     "text": [
      "The simulation of CTAACACTAGTGCT-1 (15) fluxes takes: 0.9155440330505371 seconds\n"
     ]
    },
    {
     "name": "stderr",
     "output_type": "stream",
     "text": [
      "No defined compartments in model ContextModel. Compartments will be deduced heuristically using regular expressions.\n",
      "Using regular expression found the following compartments:c, e, g, l, m, n, r, x\n"
     ]
    },
    {
     "name": "stdout",
     "output_type": "stream",
     "text": [
      "The simulation of ACTAGGTGGAACTC-1 (16) fluxes takes: 0.752392053604126 seconds\n"
     ]
    },
    {
     "name": "stderr",
     "output_type": "stream",
     "text": [
      "No defined compartments in model ContextModel. Compartments will be deduced heuristically using regular expressions.\n",
      "Using regular expression found the following compartments:c, e, g, l, m, n, r, x\n"
     ]
    },
    {
     "name": "stdout",
     "output_type": "stream",
     "text": [
      "The simulation of GACTCCTGCTCGCT-1 (17) fluxes takes: 0.8621029853820801 seconds\n"
     ]
    },
    {
     "name": "stderr",
     "output_type": "stream",
     "text": [
      "No defined compartments in model ContextModel. Compartments will be deduced heuristically using regular expressions.\n",
      "Using regular expression found the following compartments:c, e, g, l, m, n, r, x\n"
     ]
    },
    {
     "name": "stdout",
     "output_type": "stream",
     "text": [
      "The simulation of CCAACCTGTTCGCC-1 (18) fluxes takes: 0.8163721561431885 seconds\n"
     ]
    },
    {
     "name": "stderr",
     "output_type": "stream",
     "text": [
      "No defined compartments in model ContextModel. Compartments will be deduced heuristically using regular expressions.\n",
      "Using regular expression found the following compartments:c, e, g, l, m, n, r, x\n"
     ]
    },
    {
     "name": "stdout",
     "output_type": "stream",
     "text": [
      "The simulation of ACCATTACGAGATA-1 (19) fluxes takes: 0.7670879364013672 seconds\n"
     ]
    },
    {
     "name": "stderr",
     "output_type": "stream",
     "text": [
      "No defined compartments in model ContextModel. Compartments will be deduced heuristically using regular expressions.\n",
      "Using regular expression found the following compartments:c, e, g, l, m, n, r, x\n"
     ]
    },
    {
     "name": "stdout",
     "output_type": "stream",
     "text": [
      "The simulation of TATTTCCTGGAGGT-1 (20) fluxes takes: 0.7548589706420898 seconds\n"
     ]
    },
    {
     "name": "stderr",
     "output_type": "stream",
     "text": [
      "No defined compartments in model ContextModel. Compartments will be deduced heuristically using regular expressions.\n",
      "Using regular expression found the following compartments:c, e, g, l, m, n, r, x\n"
     ]
    },
    {
     "name": "stdout",
     "output_type": "stream",
     "text": [
      "The simulation of CTGAAGTGCAGCTA-1 (21) fluxes takes: 0.7072980403900146 seconds\n"
     ]
    },
    {
     "name": "stderr",
     "output_type": "stream",
     "text": [
      "No defined compartments in model ContextModel. Compartments will be deduced heuristically using regular expressions.\n",
      "Using regular expression found the following compartments:c, e, g, l, m, n, r, x\n"
     ]
    },
    {
     "name": "stdout",
     "output_type": "stream",
     "text": [
      "The simulation of CCATCCGATTCGCC-1 (22) fluxes takes: 1.1576519012451172 seconds\n"
     ]
    },
    {
     "name": "stderr",
     "output_type": "stream",
     "text": [
      "No defined compartments in model ContextModel. Compartments will be deduced heuristically using regular expressions.\n",
      "Using regular expression found the following compartments:c, e, g, l, m, n, r, x\n"
     ]
    },
    {
     "name": "stdout",
     "output_type": "stream",
     "text": [
      "The simulation of CTATACTGCTACGA-1 (23) fluxes takes: 0.8501317501068115 seconds\n"
     ]
    },
    {
     "name": "stderr",
     "output_type": "stream",
     "text": [
      "No defined compartments in model ContextModel. Compartments will be deduced heuristically using regular expressions.\n",
      "Using regular expression found the following compartments:c, e, g, l, m, n, r, x\n"
     ]
    },
    {
     "name": "stdout",
     "output_type": "stream",
     "text": [
      "The simulation of GTTGATCTGGGACA-1 (24) fluxes takes: 0.7538819313049316 seconds\n"
     ]
    },
    {
     "name": "stderr",
     "output_type": "stream",
     "text": [
      "No defined compartments in model ContextModel. Compartments will be deduced heuristically using regular expressions.\n",
      "Using regular expression found the following compartments:c, e, g, l, m, n, r, x\n"
     ]
    },
    {
     "name": "stdout",
     "output_type": "stream",
     "text": [
      "The simulation of TTTCGAACTCTCAT-1 (25) fluxes takes: 1.1314349174499512 seconds\n"
     ]
    },
    {
     "name": "stderr",
     "output_type": "stream",
     "text": [
      "No defined compartments in model ContextModel. Compartments will be deduced heuristically using regular expressions.\n",
      "Using regular expression found the following compartments:c, e, g, l, m, n, r, x\n"
     ]
    },
    {
     "name": "stdout",
     "output_type": "stream",
     "text": [
      "The simulation of GAACTGTGACCTGA-1 (26) fluxes takes: 0.9579160213470459 seconds\n"
     ]
    },
    {
     "name": "stderr",
     "output_type": "stream",
     "text": [
      "No defined compartments in model ContextModel. Compartments will be deduced heuristically using regular expressions.\n",
      "Using regular expression found the following compartments:c, e, g, l, m, n, r, x\n"
     ]
    },
    {
     "name": "stdout",
     "output_type": "stream",
     "text": [
      "The simulation of TGGCACCTTCACGA-1 (27) fluxes takes: 0.8872220516204834 seconds\n"
     ]
    },
    {
     "name": "stderr",
     "output_type": "stream",
     "text": [
      "No defined compartments in model ContextModel. Compartments will be deduced heuristically using regular expressions.\n",
      "Using regular expression found the following compartments:c, e, g, l, m, n, r, x\n"
     ]
    },
    {
     "name": "stdout",
     "output_type": "stream",
     "text": [
      "The simulation of ATGCACGAGTTCGA-1 (28) fluxes takes: 0.7691819667816162 seconds\n"
     ]
    },
    {
     "name": "stderr",
     "output_type": "stream",
     "text": [
      "No defined compartments in model ContextModel. Compartments will be deduced heuristically using regular expressions.\n",
      "Using regular expression found the following compartments:c, e, g, l, m, n, r, x\n"
     ]
    },
    {
     "name": "stdout",
     "output_type": "stream",
     "text": [
      "The simulation of CTATCAACTTTGGG-1 (29) fluxes takes: 0.7659568786621094 seconds\n"
     ]
    },
    {
     "name": "stderr",
     "output_type": "stream",
     "text": [
      "No defined compartments in model ContextModel. Compartments will be deduced heuristically using regular expressions.\n",
      "Using regular expression found the following compartments:c, e, g, l, m, n, r, x\n"
     ]
    },
    {
     "name": "stdout",
     "output_type": "stream",
     "text": [
      "The simulation of CAGCACCTGTAGGG-1 (30) fluxes takes: 0.9537968635559082 seconds\n"
     ]
    },
    {
     "name": "stderr",
     "output_type": "stream",
     "text": [
      "No defined compartments in model ContextModel. Compartments will be deduced heuristically using regular expressions.\n",
      "Using regular expression found the following compartments:c, e, g, l, m, n, r, x\n"
     ]
    },
    {
     "name": "stdout",
     "output_type": "stream",
     "text": [
      "The simulation of CCACTGTGTGTAGC-1 (31) fluxes takes: 1.5064458847045898 seconds\n"
     ]
    },
    {
     "name": "stderr",
     "output_type": "stream",
     "text": [
      "No defined compartments in model ContextModel. Compartments will be deduced heuristically using regular expressions.\n",
      "Using regular expression found the following compartments:c, e, g, l, m, n, r, x\n"
     ]
    },
    {
     "name": "stdout",
     "output_type": "stream",
     "text": [
      "The simulation of AACTGTCTCCCTTG-1 (32) fluxes takes: 1.077364206314087 seconds\n"
     ]
    },
    {
     "name": "stderr",
     "output_type": "stream",
     "text": [
      "No defined compartments in model ContextModel. Compartments will be deduced heuristically using regular expressions.\n",
      "Using regular expression found the following compartments:c, e, g, l, m, n, r, x\n"
     ]
    },
    {
     "name": "stdout",
     "output_type": "stream",
     "text": [
      "The simulation of CTCCACGAGAGATA-1 (33) fluxes takes: 0.9098060131072998 seconds\n"
     ]
    },
    {
     "name": "stderr",
     "output_type": "stream",
     "text": [
      "No defined compartments in model ContextModel. Compartments will be deduced heuristically using regular expressions.\n",
      "Using regular expression found the following compartments:c, e, g, l, m, n, r, x\n"
     ]
    },
    {
     "name": "stdout",
     "output_type": "stream",
     "text": [
      "The simulation of ATGAAACTCTGTGA-1 (34) fluxes takes: 1.6262011528015137 seconds\n"
     ]
    },
    {
     "name": "stderr",
     "output_type": "stream",
     "text": [
      "No defined compartments in model ContextModel. Compartments will be deduced heuristically using regular expressions.\n",
      "Using regular expression found the following compartments:c, e, g, l, m, n, r, x\n"
     ]
    },
    {
     "name": "stdout",
     "output_type": "stream",
     "text": [
      "The simulation of ACTGTTACCCACAA-1 (35) fluxes takes: 0.9240052700042725 seconds\n"
     ]
    },
    {
     "name": "stderr",
     "output_type": "stream",
     "text": [
      "No defined compartments in model ContextModel. Compartments will be deduced heuristically using regular expressions.\n",
      "Using regular expression found the following compartments:c, e, g, l, m, n, r, x\n"
     ]
    },
    {
     "name": "stdout",
     "output_type": "stream",
     "text": [
      "The simulation of AGGAGTCTTGTCAG-1 (36) fluxes takes: 0.6872351169586182 seconds\n"
     ]
    },
    {
     "name": "stderr",
     "output_type": "stream",
     "text": [
      "No defined compartments in model ContextModel. Compartments will be deduced heuristically using regular expressions.\n",
      "Using regular expression found the following compartments:c, e, g, l, m, n, r, x\n"
     ]
    },
    {
     "name": "stdout",
     "output_type": "stream",
     "text": [
      "The simulation of ATGTACCTTTCACT-1 (37) fluxes takes: 0.82877516746521 seconds\n"
     ]
    },
    {
     "name": "stderr",
     "output_type": "stream",
     "text": [
      "No defined compartments in model ContextModel. Compartments will be deduced heuristically using regular expressions.\n",
      "Using regular expression found the following compartments:c, e, g, l, m, n, r, x\n"
     ]
    },
    {
     "name": "stdout",
     "output_type": "stream",
     "text": [
      "The simulation of TGAAGCACTCACGA-1 (38) fluxes takes: 0.8376321792602539 seconds\n"
     ]
    },
    {
     "name": "stderr",
     "output_type": "stream",
     "text": [
      "No defined compartments in model ContextModel. Compartments will be deduced heuristically using regular expressions.\n",
      "Using regular expression found the following compartments:c, e, g, l, m, n, r, x\n"
     ]
    },
    {
     "name": "stdout",
     "output_type": "stream",
     "text": [
      "The simulation of TTGCTATGGTACGT-1 (39) fluxes takes: 1.066472053527832 seconds\n"
     ]
    },
    {
     "name": "stderr",
     "output_type": "stream",
     "text": [
      "No defined compartments in model ContextModel. Compartments will be deduced heuristically using regular expressions.\n",
      "Using regular expression found the following compartments:c, e, g, l, m, n, r, x\n"
     ]
    },
    {
     "name": "stdout",
     "output_type": "stream",
     "text": [
      "The simulation of CAGGTAACAGACTC-1 (40) fluxes takes: 0.7591061592102051 seconds\n"
     ]
    },
    {
     "name": "stderr",
     "output_type": "stream",
     "text": [
      "No defined compartments in model ContextModel. Compartments will be deduced heuristically using regular expressions.\n",
      "Using regular expression found the following compartments:c, e, g, l, m, n, r, x\n"
     ]
    },
    {
     "name": "stdout",
     "output_type": "stream",
     "text": [
      "The simulation of GTATTCACACAGCT-1 (41) fluxes takes: 1.7144272327423096 seconds\n"
     ]
    },
    {
     "name": "stderr",
     "output_type": "stream",
     "text": [
      "No defined compartments in model ContextModel. Compartments will be deduced heuristically using regular expressions.\n",
      "Using regular expression found the following compartments:c, e, g, l, m, n, r, x\n"
     ]
    },
    {
     "name": "stdout",
     "output_type": "stream",
     "text": [
      "The simulation of TTCTACGAGTTGGT-1 (42) fluxes takes: 0.9418392181396484 seconds\n"
     ]
    },
    {
     "name": "stderr",
     "output_type": "stream",
     "text": [
      "No defined compartments in model ContextModel. Compartments will be deduced heuristically using regular expressions.\n",
      "Using regular expression found the following compartments:c, e, g, l, m, n, r, x\n"
     ]
    },
    {
     "name": "stdout",
     "output_type": "stream",
     "text": [
      "The simulation of CACAGCCTGATACC-1 (43) fluxes takes: 0.9386191368103027 seconds\n"
     ]
    },
    {
     "name": "stderr",
     "output_type": "stream",
     "text": [
      "No defined compartments in model ContextModel. Compartments will be deduced heuristically using regular expressions.\n",
      "Using regular expression found the following compartments:c, e, g, l, m, n, r, x\n"
     ]
    },
    {
     "name": "stdout",
     "output_type": "stream",
     "text": [
      "The simulation of ACGAGTACGAATCC-1 (44) fluxes takes: 0.7135670185089111 seconds\n"
     ]
    },
    {
     "name": "stderr",
     "output_type": "stream",
     "text": [
      "No defined compartments in model ContextModel. Compartments will be deduced heuristically using regular expressions.\n",
      "Using regular expression found the following compartments:c, e, g, l, m, n, r, x\n"
     ]
    },
    {
     "name": "stdout",
     "output_type": "stream",
     "text": [
      "The simulation of GAGGGAACACCAGT-1 (45) fluxes takes: 0.7797398567199707 seconds\n"
     ]
    },
    {
     "name": "stderr",
     "output_type": "stream",
     "text": [
      "No defined compartments in model ContextModel. Compartments will be deduced heuristically using regular expressions.\n",
      "Using regular expression found the following compartments:c, e, g, l, m, n, r, x\n"
     ]
    },
    {
     "name": "stdout",
     "output_type": "stream",
     "text": [
      "The simulation of TCAACACTGTTTGG-1 (46) fluxes takes: 0.828326940536499 seconds\n"
     ]
    },
    {
     "name": "stderr",
     "output_type": "stream",
     "text": [
      "No defined compartments in model ContextModel. Compartments will be deduced heuristically using regular expressions.\n",
      "Using regular expression found the following compartments:c, e, g, l, m, n, r, x\n"
     ]
    },
    {
     "name": "stdout",
     "output_type": "stream",
     "text": [
      "The simulation of CAGTGTGATGTCAG-1 (47) fluxes takes: 0.6847631931304932 seconds\n"
     ]
    },
    {
     "name": "stderr",
     "output_type": "stream",
     "text": [
      "No defined compartments in model ContextModel. Compartments will be deduced heuristically using regular expressions.\n",
      "Using regular expression found the following compartments:c, e, g, l, m, n, r, x\n"
     ]
    },
    {
     "name": "stdout",
     "output_type": "stream",
     "text": [
      "The simulation of GCAACTGATTGCGA-1 (48) fluxes takes: 0.7737107276916504 seconds\n"
     ]
    },
    {
     "name": "stderr",
     "output_type": "stream",
     "text": [
      "No defined compartments in model ContextModel. Compartments will be deduced heuristically using regular expressions.\n",
      "Using regular expression found the following compartments:c, e, g, l, m, n, r, x\n"
     ]
    },
    {
     "name": "stdout",
     "output_type": "stream",
     "text": [
      "The simulation of GAAGGGTGCTTAGG-1 (49) fluxes takes: 1.1585540771484375 seconds\n"
     ]
    },
    {
     "name": "stderr",
     "output_type": "stream",
     "text": [
      "No defined compartments in model ContextModel. Compartments will be deduced heuristically using regular expressions.\n",
      "Using regular expression found the following compartments:c, e, g, l, m, n, r, x\n"
     ]
    },
    {
     "name": "stdout",
     "output_type": "stream",
     "text": [
      "The simulation of GTAACGTGATCGGT-1 (50) fluxes takes: 0.7334661483764648 seconds\n"
     ]
    },
    {
     "name": "stderr",
     "output_type": "stream",
     "text": [
      "No defined compartments in model ContextModel. Compartments will be deduced heuristically using regular expressions.\n",
      "Using regular expression found the following compartments:c, e, g, l, m, n, r, x\n"
     ]
    },
    {
     "name": "stdout",
     "output_type": "stream",
     "text": [
      "The simulation of TTCATCGAGGTGGA-1 (51) fluxes takes: 0.8841049671173096 seconds\n"
     ]
    },
    {
     "name": "stderr",
     "output_type": "stream",
     "text": [
      "No defined compartments in model ContextModel. Compartments will be deduced heuristically using regular expressions.\n",
      "Using regular expression found the following compartments:c, e, g, l, m, n, r, x\n"
     ]
    },
    {
     "name": "stdout",
     "output_type": "stream",
     "text": [
      "The simulation of ACTATCACTGCCAA-1 (52) fluxes takes: 0.7926909923553467 seconds\n"
     ]
    },
    {
     "name": "stderr",
     "output_type": "stream",
     "text": [
      "No defined compartments in model ContextModel. Compartments will be deduced heuristically using regular expressions.\n",
      "Using regular expression found the following compartments:c, e, g, l, m, n, r, x\n"
     ]
    },
    {
     "name": "stdout",
     "output_type": "stream",
     "text": [
      "The simulation of CGCGATCTCAGTCA-1 (53) fluxes takes: 1.0463228225708008 seconds\n"
     ]
    },
    {
     "name": "stderr",
     "output_type": "stream",
     "text": [
      "No defined compartments in model ContextModel. Compartments will be deduced heuristically using regular expressions.\n",
      "Using regular expression found the following compartments:c, e, g, l, m, n, r, x\n"
     ]
    },
    {
     "name": "stdout",
     "output_type": "stream",
     "text": [
      "The simulation of TTCCTAGAAAGTGA-1 (54) fluxes takes: 0.9851710796356201 seconds\n"
     ]
    },
    {
     "name": "stderr",
     "output_type": "stream",
     "text": [
      "No defined compartments in model ContextModel. Compartments will be deduced heuristically using regular expressions.\n",
      "Using regular expression found the following compartments:c, e, g, l, m, n, r, x\n"
     ]
    },
    {
     "name": "stdout",
     "output_type": "stream",
     "text": [
      "The simulation of GTACCCTGTCCTTA-1 (55) fluxes takes: 0.6617178916931152 seconds\n"
     ]
    },
    {
     "name": "stderr",
     "output_type": "stream",
     "text": [
      "No defined compartments in model ContextModel. Compartments will be deduced heuristically using regular expressions.\n",
      "Using regular expression found the following compartments:c, e, g, l, m, n, r, x\n"
     ]
    },
    {
     "name": "stdout",
     "output_type": "stream",
     "text": [
      "The simulation of CATGGCCTAGGGTG-1 (56) fluxes takes: 0.9441747665405273 seconds\n"
     ]
    },
    {
     "name": "stderr",
     "output_type": "stream",
     "text": [
      "No defined compartments in model ContextModel. Compartments will be deduced heuristically using regular expressions.\n",
      "Using regular expression found the following compartments:c, e, g, l, m, n, r, x\n"
     ]
    },
    {
     "name": "stdout",
     "output_type": "stream",
     "text": [
      "The simulation of GACTTTACGACAGG-1 (57) fluxes takes: 0.9587192535400391 seconds\n"
     ]
    },
    {
     "name": "stderr",
     "output_type": "stream",
     "text": [
      "No defined compartments in model ContextModel. Compartments will be deduced heuristically using regular expressions.\n",
      "Using regular expression found the following compartments:c, e, g, l, m, n, r, x\n"
     ]
    },
    {
     "name": "stdout",
     "output_type": "stream",
     "text": [
      "The simulation of ACAACCGAGGGATG-1 (58) fluxes takes: 0.834373950958252 seconds\n"
     ]
    },
    {
     "name": "stderr",
     "output_type": "stream",
     "text": [
      "No defined compartments in model ContextModel. Compartments will be deduced heuristically using regular expressions.\n",
      "Using regular expression found the following compartments:c, e, g, l, m, n, r, x\n"
     ]
    },
    {
     "name": "stdout",
     "output_type": "stream",
     "text": [
      "The simulation of ACTGCCACTCCGTC-1 (59) fluxes takes: 0.6044759750366211 seconds\n"
     ]
    },
    {
     "name": "stderr",
     "output_type": "stream",
     "text": [
      "No defined compartments in model ContextModel. Compartments will be deduced heuristically using regular expressions.\n",
      "Using regular expression found the following compartments:c, e, g, l, m, n, r, x\n"
     ]
    },
    {
     "name": "stdout",
     "output_type": "stream",
     "text": [
      "The simulation of CGAAGACTGTTACG-1 (60) fluxes takes: 0.8235290050506592 seconds\n"
     ]
    },
    {
     "name": "stderr",
     "output_type": "stream",
     "text": [
      "No defined compartments in model ContextModel. Compartments will be deduced heuristically using regular expressions.\n",
      "Using regular expression found the following compartments:c, e, g, l, m, n, r, x\n"
     ]
    },
    {
     "name": "stdout",
     "output_type": "stream",
     "text": [
      "The simulation of GACGTATGTTGACG-1 (61) fluxes takes: 0.7868359088897705 seconds\n"
     ]
    },
    {
     "name": "stderr",
     "output_type": "stream",
     "text": [
      "No defined compartments in model ContextModel. Compartments will be deduced heuristically using regular expressions.\n",
      "Using regular expression found the following compartments:c, e, g, l, m, n, r, x\n"
     ]
    },
    {
     "name": "stdout",
     "output_type": "stream",
     "text": [
      "The simulation of CATCATACGGAGCA-1 (62) fluxes takes: 0.8047089576721191 seconds\n"
     ]
    },
    {
     "name": "stderr",
     "output_type": "stream",
     "text": [
      "No defined compartments in model ContextModel. Compartments will be deduced heuristically using regular expressions.\n",
      "Using regular expression found the following compartments:c, e, g, l, m, n, r, x\n"
     ]
    },
    {
     "name": "stdout",
     "output_type": "stream",
     "text": [
      "The simulation of ACCCACTGTCGTAG-1 (63) fluxes takes: 1.0744719505310059 seconds\n"
     ]
    },
    {
     "name": "stderr",
     "output_type": "stream",
     "text": [
      "No defined compartments in model ContextModel. Compartments will be deduced heuristically using regular expressions.\n",
      "Using regular expression found the following compartments:c, e, g, l, m, n, r, x\n"
     ]
    },
    {
     "name": "stdout",
     "output_type": "stream",
     "text": [
      "The simulation of ACAGACACGTTGTG-1 (64) fluxes takes: 0.9925398826599121 seconds\n"
     ]
    },
    {
     "name": "stderr",
     "output_type": "stream",
     "text": [
      "No defined compartments in model ContextModel. Compartments will be deduced heuristically using regular expressions.\n",
      "Using regular expression found the following compartments:c, e, g, l, m, n, r, x\n"
     ]
    },
    {
     "name": "stdout",
     "output_type": "stream",
     "text": [
      "The simulation of CTATCAACGAACTC-1 (65) fluxes takes: 0.8174550533294678 seconds\n"
     ]
    },
    {
     "name": "stderr",
     "output_type": "stream",
     "text": [
      "No defined compartments in model ContextModel. Compartments will be deduced heuristically using regular expressions.\n",
      "Using regular expression found the following compartments:c, e, g, l, m, n, r, x\n"
     ]
    },
    {
     "name": "stdout",
     "output_type": "stream",
     "text": [
      "The simulation of AGGGCGCTATGGTC-1 (66) fluxes takes: 0.8272349834442139 seconds\n"
     ]
    },
    {
     "name": "stderr",
     "output_type": "stream",
     "text": [
      "No defined compartments in model ContextModel. Compartments will be deduced heuristically using regular expressions.\n",
      "Using regular expression found the following compartments:c, e, g, l, m, n, r, x\n"
     ]
    },
    {
     "name": "stdout",
     "output_type": "stream",
     "text": [
      "The simulation of CACAGTGATGAAGA-1 (67) fluxes takes: 1.056619644165039 seconds\n"
     ]
    },
    {
     "name": "stderr",
     "output_type": "stream",
     "text": [
      "No defined compartments in model ContextModel. Compartments will be deduced heuristically using regular expressions.\n",
      "Using regular expression found the following compartments:c, e, g, l, m, n, r, x\n"
     ]
    },
    {
     "name": "stdout",
     "output_type": "stream",
     "text": [
      "The simulation of GGAAGGACCACTAG-1 (68) fluxes takes: 0.8062262535095215 seconds\n"
     ]
    },
    {
     "name": "stderr",
     "output_type": "stream",
     "text": [
      "No defined compartments in model ContextModel. Compartments will be deduced heuristically using regular expressions.\n",
      "Using regular expression found the following compartments:c, e, g, l, m, n, r, x\n"
     ]
    },
    {
     "name": "stdout",
     "output_type": "stream",
     "text": [
      "The simulation of CGACTCACGTCGTA-1 (69) fluxes takes: 0.7485921382904053 seconds\n"
     ]
    },
    {
     "name": "stderr",
     "output_type": "stream",
     "text": [
      "No defined compartments in model ContextModel. Compartments will be deduced heuristically using regular expressions.\n",
      "Using regular expression found the following compartments:c, e, g, l, m, n, r, x\n"
     ]
    },
    {
     "name": "stdout",
     "output_type": "stream",
     "text": [
      "The simulation of TTTCCAGAGGTGAG-1 (70) fluxes takes: 0.834712028503418 seconds\n"
     ]
    },
    {
     "name": "stderr",
     "output_type": "stream",
     "text": [
      "No defined compartments in model ContextModel. Compartments will be deduced heuristically using regular expressions.\n",
      "Using regular expression found the following compartments:c, e, g, l, m, n, r, x\n"
     ]
    },
    {
     "name": "stdout",
     "output_type": "stream",
     "text": [
      "The simulation of GCACACCTGTGCTA-1 (71) fluxes takes: 0.7877469062805176 seconds\n"
     ]
    },
    {
     "name": "stderr",
     "output_type": "stream",
     "text": [
      "No defined compartments in model ContextModel. Compartments will be deduced heuristically using regular expressions.\n",
      "Using regular expression found the following compartments:c, e, g, l, m, n, r, x\n"
     ]
    },
    {
     "name": "stdout",
     "output_type": "stream",
     "text": [
      "The simulation of ATACGGACGAGGTG-1 (72) fluxes takes: 0.8548097610473633 seconds\n"
     ]
    },
    {
     "name": "stderr",
     "output_type": "stream",
     "text": [
      "No defined compartments in model ContextModel. Compartments will be deduced heuristically using regular expressions.\n",
      "Using regular expression found the following compartments:c, e, g, l, m, n, r, x\n"
     ]
    },
    {
     "name": "stdout",
     "output_type": "stream",
     "text": [
      "The simulation of GGATGTACGCGAAG-1 (73) fluxes takes: 0.7663311958312988 seconds\n"
     ]
    },
    {
     "name": "stderr",
     "output_type": "stream",
     "text": [
      "No defined compartments in model ContextModel. Compartments will be deduced heuristically using regular expressions.\n",
      "Using regular expression found the following compartments:c, e, g, l, m, n, r, x\n"
     ]
    },
    {
     "name": "stdout",
     "output_type": "stream",
     "text": [
      "The simulation of CCACCATGGACGAG-1 (74) fluxes takes: 1.0859551429748535 seconds\n"
     ]
    },
    {
     "name": "stderr",
     "output_type": "stream",
     "text": [
      "No defined compartments in model ContextModel. Compartments will be deduced heuristically using regular expressions.\n",
      "Using regular expression found the following compartments:c, e, g, l, m, n, r, x\n"
     ]
    },
    {
     "name": "stdout",
     "output_type": "stream",
     "text": [
      "The simulation of AAATTGACACGACT-1 (75) fluxes takes: 0.9218671321868896 seconds\n"
     ]
    },
    {
     "name": "stderr",
     "output_type": "stream",
     "text": [
      "No defined compartments in model ContextModel. Compartments will be deduced heuristically using regular expressions.\n",
      "Using regular expression found the following compartments:c, e, g, l, m, n, r, x\n"
     ]
    },
    {
     "name": "stdout",
     "output_type": "stream",
     "text": [
      "The simulation of AGTCTACTAGGGTG-1 (76) fluxes takes: 0.8353009223937988 seconds\n"
     ]
    },
    {
     "name": "stderr",
     "output_type": "stream",
     "text": [
      "No defined compartments in model ContextModel. Compartments will be deduced heuristically using regular expressions.\n",
      "Using regular expression found the following compartments:c, e, g, l, m, n, r, x\n"
     ]
    },
    {
     "name": "stdout",
     "output_type": "stream",
     "text": [
      "The simulation of GGATACTGTCTAGG-1 (77) fluxes takes: 0.8405468463897705 seconds\n"
     ]
    },
    {
     "name": "stderr",
     "output_type": "stream",
     "text": [
      "No defined compartments in model ContextModel. Compartments will be deduced heuristically using regular expressions.\n",
      "Using regular expression found the following compartments:c, e, g, l, m, n, r, x\n"
     ]
    },
    {
     "name": "stdout",
     "output_type": "stream",
     "text": [
      "The simulation of TATGAATGGAGGAC-1 (78) fluxes takes: 0.6538271903991699 seconds\n"
     ]
    },
    {
     "name": "stderr",
     "output_type": "stream",
     "text": [
      "No defined compartments in model ContextModel. Compartments will be deduced heuristically using regular expressions.\n",
      "Using regular expression found the following compartments:c, e, g, l, m, n, r, x\n"
     ]
    },
    {
     "name": "stdout",
     "output_type": "stream",
     "text": [
      "The simulation of CGAAGACTGGAACG-1 (79) fluxes takes: 0.8699562549591064 seconds\n"
     ]
    },
    {
     "name": "stderr",
     "output_type": "stream",
     "text": [
      "No defined compartments in model ContextModel. Compartments will be deduced heuristically using regular expressions.\n",
      "Using regular expression found the following compartments:c, e, g, l, m, n, r, x\n"
     ]
    },
    {
     "name": "stdout",
     "output_type": "stream",
     "text": [
      "The simulation of TGAGACACTCAAGC-1 (80) fluxes takes: 0.804358959197998 seconds\n"
     ]
    },
    {
     "name": "stderr",
     "output_type": "stream",
     "text": [
      "No defined compartments in model ContextModel. Compartments will be deduced heuristically using regular expressions.\n",
      "Using regular expression found the following compartments:c, e, g, l, m, n, r, x\n"
     ]
    },
    {
     "name": "stdout",
     "output_type": "stream",
     "text": [
      "The simulation of TGACTGGAGGACAG-1 (81) fluxes takes: 0.8787109851837158 seconds\n"
     ]
    },
    {
     "name": "stderr",
     "output_type": "stream",
     "text": [
      "No defined compartments in model ContextModel. Compartments will be deduced heuristically using regular expressions.\n",
      "Using regular expression found the following compartments:c, e, g, l, m, n, r, x\n"
     ]
    },
    {
     "name": "stdout",
     "output_type": "stream",
     "text": [
      "The simulation of CCATCGTGCTAGAC-1 (82) fluxes takes: 0.7822258472442627 seconds\n"
     ]
    },
    {
     "name": "stderr",
     "output_type": "stream",
     "text": [
      "No defined compartments in model ContextModel. Compartments will be deduced heuristically using regular expressions.\n",
      "Using regular expression found the following compartments:c, e, g, l, m, n, r, x\n"
     ]
    },
    {
     "name": "stdout",
     "output_type": "stream",
     "text": [
      "The simulation of GCGTATGATGAGAA-1 (83) fluxes takes: 0.9916253089904785 seconds\n"
     ]
    },
    {
     "name": "stderr",
     "output_type": "stream",
     "text": [
      "No defined compartments in model ContextModel. Compartments will be deduced heuristically using regular expressions.\n",
      "Using regular expression found the following compartments:c, e, g, l, m, n, r, x\n"
     ]
    },
    {
     "name": "stdout",
     "output_type": "stream",
     "text": [
      "The simulation of TACGCCACATTCCT-1 (84) fluxes takes: 0.758965015411377 seconds\n"
     ]
    },
    {
     "name": "stderr",
     "output_type": "stream",
     "text": [
      "No defined compartments in model ContextModel. Compartments will be deduced heuristically using regular expressions.\n",
      "Using regular expression found the following compartments:c, e, g, l, m, n, r, x\n"
     ]
    },
    {
     "name": "stdout",
     "output_type": "stream",
     "text": [
      "The simulation of CTATTGACGGTGAG-1 (85) fluxes takes: 0.8122141361236572 seconds\n"
     ]
    },
    {
     "name": "stderr",
     "output_type": "stream",
     "text": [
      "No defined compartments in model ContextModel. Compartments will be deduced heuristically using regular expressions.\n",
      "Using regular expression found the following compartments:c, e, g, l, m, n, r, x\n"
     ]
    },
    {
     "name": "stdout",
     "output_type": "stream",
     "text": [
      "The simulation of ACACGATGACGCAT-1 (86) fluxes takes: 0.6282989978790283 seconds\n"
     ]
    },
    {
     "name": "stderr",
     "output_type": "stream",
     "text": [
      "No defined compartments in model ContextModel. Compartments will be deduced heuristically using regular expressions.\n",
      "Using regular expression found the following compartments:c, e, g, l, m, n, r, x\n"
     ]
    },
    {
     "name": "stdout",
     "output_type": "stream",
     "text": [
      "The simulation of CTATGTTGAAAGCA-1 (87) fluxes takes: 0.6520357131958008 seconds\n"
     ]
    },
    {
     "name": "stderr",
     "output_type": "stream",
     "text": [
      "No defined compartments in model ContextModel. Compartments will be deduced heuristically using regular expressions.\n",
      "Using regular expression found the following compartments:c, e, g, l, m, n, r, x\n"
     ]
    },
    {
     "name": "stdout",
     "output_type": "stream",
     "text": [
      "The simulation of TCAAGGACAGCGTT-1 (88) fluxes takes: 0.7545897960662842 seconds\n"
     ]
    },
    {
     "name": "stderr",
     "output_type": "stream",
     "text": [
      "No defined compartments in model ContextModel. Compartments will be deduced heuristically using regular expressions.\n",
      "Using regular expression found the following compartments:c, e, g, l, m, n, r, x\n"
     ]
    },
    {
     "name": "stdout",
     "output_type": "stream",
     "text": [
      "The simulation of GGATGTACGTCTTT-1 (89) fluxes takes: 0.9941608905792236 seconds\n"
     ]
    },
    {
     "name": "stderr",
     "output_type": "stream",
     "text": [
      "No defined compartments in model ContextModel. Compartments will be deduced heuristically using regular expressions.\n",
      "Using regular expression found the following compartments:c, e, g, l, m, n, r, x\n"
     ]
    },
    {
     "name": "stdout",
     "output_type": "stream",
     "text": [
      "The simulation of GAGGTACTGGGAGT-1 (90) fluxes takes: 0.8114049434661865 seconds\n"
     ]
    },
    {
     "name": "stderr",
     "output_type": "stream",
     "text": [
      "No defined compartments in model ContextModel. Compartments will be deduced heuristically using regular expressions.\n",
      "Using regular expression found the following compartments:c, e, g, l, m, n, r, x\n"
     ]
    },
    {
     "name": "stdout",
     "output_type": "stream",
     "text": [
      "The simulation of ACCATTTGTCATTC-1 (91) fluxes takes: 0.8163950443267822 seconds\n"
     ]
    },
    {
     "name": "stderr",
     "output_type": "stream",
     "text": [
      "No defined compartments in model ContextModel. Compartments will be deduced heuristically using regular expressions.\n",
      "Using regular expression found the following compartments:c, e, g, l, m, n, r, x\n"
     ]
    },
    {
     "name": "stdout",
     "output_type": "stream",
     "text": [
      "The simulation of CAGGGCACCCAACA-1 (92) fluxes takes: 0.7664797306060791 seconds\n"
     ]
    },
    {
     "name": "stderr",
     "output_type": "stream",
     "text": [
      "No defined compartments in model ContextModel. Compartments will be deduced heuristically using regular expressions.\n",
      "Using regular expression found the following compartments:c, e, g, l, m, n, r, x\n"
     ]
    },
    {
     "name": "stdout",
     "output_type": "stream",
     "text": [
      "The simulation of AACCTTACGAGACG-1 (93) fluxes takes: 0.7745993137359619 seconds\n"
     ]
    },
    {
     "name": "stderr",
     "output_type": "stream",
     "text": [
      "No defined compartments in model ContextModel. Compartments will be deduced heuristically using regular expressions.\n",
      "Using regular expression found the following compartments:c, e, g, l, m, n, r, x\n"
     ]
    },
    {
     "name": "stdout",
     "output_type": "stream",
     "text": [
      "The simulation of ACAAATTGTTGCGA-1 (94) fluxes takes: 0.835418701171875 seconds\n"
     ]
    },
    {
     "name": "stderr",
     "output_type": "stream",
     "text": [
      "No defined compartments in model ContextModel. Compartments will be deduced heuristically using regular expressions.\n",
      "Using regular expression found the following compartments:c, e, g, l, m, n, r, x\n"
     ]
    },
    {
     "name": "stdout",
     "output_type": "stream",
     "text": [
      "The simulation of TGTCTAACCCCTTG-1 (95) fluxes takes: 0.7716639041900635 seconds\n"
     ]
    },
    {
     "name": "stderr",
     "output_type": "stream",
     "text": [
      "No defined compartments in model ContextModel. Compartments will be deduced heuristically using regular expressions.\n",
      "Using regular expression found the following compartments:c, e, g, l, m, n, r, x\n"
     ]
    },
    {
     "name": "stdout",
     "output_type": "stream",
     "text": [
      "The simulation of AATGATACACCAAC-1 (96) fluxes takes: 0.7352828979492188 seconds\n"
     ]
    },
    {
     "name": "stderr",
     "output_type": "stream",
     "text": [
      "No defined compartments in model ContextModel. Compartments will be deduced heuristically using regular expressions.\n",
      "Using regular expression found the following compartments:c, e, g, l, m, n, r, x\n"
     ]
    },
    {
     "name": "stdout",
     "output_type": "stream",
     "text": [
      "The simulation of TTCGTATGGATAGA-1 (97) fluxes takes: 0.9001362323760986 seconds\n"
     ]
    },
    {
     "name": "stderr",
     "output_type": "stream",
     "text": [
      "No defined compartments in model ContextModel. Compartments will be deduced heuristically using regular expressions.\n",
      "Using regular expression found the following compartments:c, e, g, l, m, n, r, x\n"
     ]
    },
    {
     "name": "stdout",
     "output_type": "stream",
     "text": [
      "The simulation of AGTCTTACACCACA-1 (98) fluxes takes: 0.6883862018585205 seconds\n"
     ]
    },
    {
     "name": "stderr",
     "output_type": "stream",
     "text": [
      "No defined compartments in model ContextModel. Compartments will be deduced heuristically using regular expressions.\n",
      "Using regular expression found the following compartments:c, e, g, l, m, n, r, x\n"
     ]
    },
    {
     "name": "stdout",
     "output_type": "stream",
     "text": [
      "The simulation of CTCAGGCTGCTAAC-1 (99) fluxes takes: 0.74003005027771 seconds\n"
     ]
    },
    {
     "name": "stderr",
     "output_type": "stream",
     "text": [
      "No defined compartments in model ContextModel. Compartments will be deduced heuristically using regular expressions.\n",
      "Using regular expression found the following compartments:c, e, g, l, m, n, r, x\n"
     ]
    },
    {
     "name": "stdout",
     "output_type": "stream",
     "text": [
      "The simulation of CTGAAGACGTGCAT-1 (100) fluxes takes: 0.7662768363952637 seconds\n"
     ]
    },
    {
     "name": "stderr",
     "output_type": "stream",
     "text": [
      "No defined compartments in model ContextModel. Compartments will be deduced heuristically using regular expressions.\n",
      "Using regular expression found the following compartments:c, e, g, l, m, n, r, x\n"
     ]
    },
    {
     "name": "stdout",
     "output_type": "stream",
     "text": [
      "The simulation of GATACTCTTGACTG-1 (101) fluxes takes: 1.009511947631836 seconds\n"
     ]
    },
    {
     "name": "stderr",
     "output_type": "stream",
     "text": [
      "No defined compartments in model ContextModel. Compartments will be deduced heuristically using regular expressions.\n",
      "Using regular expression found the following compartments:c, e, g, l, m, n, r, x\n"
     ]
    },
    {
     "name": "stdout",
     "output_type": "stream",
     "text": [
      "The simulation of GAACCAACCACAAC-1 (102) fluxes takes: 6.724633693695068 seconds\n"
     ]
    },
    {
     "name": "stderr",
     "output_type": "stream",
     "text": [
      "No defined compartments in model ContextModel. Compartments will be deduced heuristically using regular expressions.\n",
      "Using regular expression found the following compartments:c, e, g, l, m, n, r, x\n"
     ]
    },
    {
     "name": "stdout",
     "output_type": "stream",
     "text": [
      "The simulation of AAACGCTGTAGCCA-1 (103) fluxes takes: 0.9128119945526123 seconds\n"
     ]
    },
    {
     "name": "stderr",
     "output_type": "stream",
     "text": [
      "No defined compartments in model ContextModel. Compartments will be deduced heuristically using regular expressions.\n",
      "Using regular expression found the following compartments:c, e, g, l, m, n, r, x\n"
     ]
    },
    {
     "name": "stdout",
     "output_type": "stream",
     "text": [
      "The simulation of CAGTGATGGACGGA-1 (104) fluxes takes: 0.7407197952270508 seconds\n"
     ]
    },
    {
     "name": "stderr",
     "output_type": "stream",
     "text": [
      "No defined compartments in model ContextModel. Compartments will be deduced heuristically using regular expressions.\n",
      "Using regular expression found the following compartments:c, e, g, l, m, n, r, x\n"
     ]
    },
    {
     "name": "stdout",
     "output_type": "stream",
     "text": [
      "The simulation of GCTATACTAAGGCG-1 (105) fluxes takes: 0.8196122646331787 seconds\n"
     ]
    },
    {
     "name": "stderr",
     "output_type": "stream",
     "text": [
      "No defined compartments in model ContextModel. Compartments will be deduced heuristically using regular expressions.\n",
      "Using regular expression found the following compartments:c, e, g, l, m, n, r, x\n"
     ]
    },
    {
     "name": "stdout",
     "output_type": "stream",
     "text": [
      "The simulation of GTCGACCTGTTCAG-1 (106) fluxes takes: 0.8681659698486328 seconds\n"
     ]
    },
    {
     "name": "stderr",
     "output_type": "stream",
     "text": [
      "No defined compartments in model ContextModel. Compartments will be deduced heuristically using regular expressions.\n",
      "Using regular expression found the following compartments:c, e, g, l, m, n, r, x\n"
     ]
    },
    {
     "name": "stdout",
     "output_type": "stream",
     "text": [
      "The simulation of AAGGTCACGGTTAC-1 (107) fluxes takes: 0.95973801612854 seconds\n"
     ]
    },
    {
     "name": "stderr",
     "output_type": "stream",
     "text": [
      "No defined compartments in model ContextModel. Compartments will be deduced heuristically using regular expressions.\n",
      "Using regular expression found the following compartments:c, e, g, l, m, n, r, x\n"
     ]
    },
    {
     "name": "stdout",
     "output_type": "stream",
     "text": [
      "The simulation of GAGCAGGATTCCCG-1 (108) fluxes takes: 0.9328961372375488 seconds\n"
     ]
    },
    {
     "name": "stderr",
     "output_type": "stream",
     "text": [
      "No defined compartments in model ContextModel. Compartments will be deduced heuristically using regular expressions.\n",
      "Using regular expression found the following compartments:c, e, g, l, m, n, r, x\n"
     ]
    },
    {
     "name": "stdout",
     "output_type": "stream",
     "text": [
      "The simulation of GATCTACTGGTGAG-1 (109) fluxes takes: 0.731313943862915 seconds\n"
     ]
    },
    {
     "name": "stderr",
     "output_type": "stream",
     "text": [
      "No defined compartments in model ContextModel. Compartments will be deduced heuristically using regular expressions.\n",
      "Using regular expression found the following compartments:c, e, g, l, m, n, r, x\n"
     ]
    },
    {
     "name": "stdout",
     "output_type": "stream",
     "text": [
      "The simulation of ACTCTCCTGACACT-1 (110) fluxes takes: 0.6448860168457031 seconds\n"
     ]
    },
    {
     "name": "stderr",
     "output_type": "stream",
     "text": [
      "No defined compartments in model ContextModel. Compartments will be deduced heuristically using regular expressions.\n",
      "Using regular expression found the following compartments:c, e, g, l, m, n, r, x\n"
     ]
    },
    {
     "name": "stdout",
     "output_type": "stream",
     "text": [
      "The simulation of ATCAACCTTCTCTA-1 (111) fluxes takes: 0.9712650775909424 seconds\n"
     ]
    },
    {
     "name": "stderr",
     "output_type": "stream",
     "text": [
      "No defined compartments in model ContextModel. Compartments will be deduced heuristically using regular expressions.\n",
      "Using regular expression found the following compartments:c, e, g, l, m, n, r, x\n"
     ]
    },
    {
     "name": "stdout",
     "output_type": "stream",
     "text": [
      "The simulation of AGCTGAACCTCTCG-1 (112) fluxes takes: 0.8547232151031494 seconds\n"
     ]
    },
    {
     "name": "stderr",
     "output_type": "stream",
     "text": [
      "No defined compartments in model ContextModel. Compartments will be deduced heuristically using regular expressions.\n",
      "Using regular expression found the following compartments:c, e, g, l, m, n, r, x\n"
     ]
    },
    {
     "name": "stdout",
     "output_type": "stream",
     "text": [
      "The simulation of ACGCCACTGAACTC-1 (113) fluxes takes: 0.8356289863586426 seconds\n"
     ]
    },
    {
     "name": "stderr",
     "output_type": "stream",
     "text": [
      "No defined compartments in model ContextModel. Compartments will be deduced heuristically using regular expressions.\n",
      "Using regular expression found the following compartments:c, e, g, l, m, n, r, x\n"
     ]
    },
    {
     "name": "stdout",
     "output_type": "stream",
     "text": [
      "The simulation of ATGAAGGACCTTAT-1 (114) fluxes takes: 0.826591968536377 seconds\n"
     ]
    },
    {
     "name": "stderr",
     "output_type": "stream",
     "text": [
      "No defined compartments in model ContextModel. Compartments will be deduced heuristically using regular expressions.\n",
      "Using regular expression found the following compartments:c, e, g, l, m, n, r, x\n"
     ]
    },
    {
     "name": "stdout",
     "output_type": "stream",
     "text": [
      "The simulation of GAAGCTACGGTTTG-1 (115) fluxes takes: 0.9837329387664795 seconds\n"
     ]
    },
    {
     "name": "stderr",
     "output_type": "stream",
     "text": [
      "No defined compartments in model ContextModel. Compartments will be deduced heuristically using regular expressions.\n",
      "Using regular expression found the following compartments:c, e, g, l, m, n, r, x\n"
     ]
    },
    {
     "name": "stdout",
     "output_type": "stream",
     "text": [
      "The simulation of TTCAAGCTGTTGAC-1 (116) fluxes takes: 0.8038589954376221 seconds\n"
     ]
    },
    {
     "name": "stderr",
     "output_type": "stream",
     "text": [
      "No defined compartments in model ContextModel. Compartments will be deduced heuristically using regular expressions.\n",
      "Using regular expression found the following compartments:c, e, g, l, m, n, r, x\n"
     ]
    },
    {
     "name": "stdout",
     "output_type": "stream",
     "text": [
      "The simulation of CTGTATACGTAAAG-1 (117) fluxes takes: 0.8316390514373779 seconds\n"
     ]
    },
    {
     "name": "stderr",
     "output_type": "stream",
     "text": [
      "No defined compartments in model ContextModel. Compartments will be deduced heuristically using regular expressions.\n",
      "Using regular expression found the following compartments:c, e, g, l, m, n, r, x\n"
     ]
    },
    {
     "name": "stdout",
     "output_type": "stream",
     "text": [
      "The simulation of CGCGAGACAGGTCT-1 (118) fluxes takes: 0.8847451210021973 seconds\n"
     ]
    },
    {
     "name": "stderr",
     "output_type": "stream",
     "text": [
      "No defined compartments in model ContextModel. Compartments will be deduced heuristically using regular expressions.\n",
      "Using regular expression found the following compartments:c, e, g, l, m, n, r, x\n"
     ]
    },
    {
     "name": "stdout",
     "output_type": "stream",
     "text": [
      "The simulation of TAACTAGACTTAGG-1 (119) fluxes takes: 0.7444169521331787 seconds\n"
     ]
    },
    {
     "name": "stderr",
     "output_type": "stream",
     "text": [
      "No defined compartments in model ContextModel. Compartments will be deduced heuristically using regular expressions.\n",
      "Using regular expression found the following compartments:c, e, g, l, m, n, r, x\n"
     ]
    },
    {
     "name": "stdout",
     "output_type": "stream",
     "text": [
      "The simulation of GTGGATTGTAACGC-1 (120) fluxes takes: 0.8257300853729248 seconds\n"
     ]
    },
    {
     "name": "stderr",
     "output_type": "stream",
     "text": [
      "No defined compartments in model ContextModel. Compartments will be deduced heuristically using regular expressions.\n",
      "Using regular expression found the following compartments:c, e, g, l, m, n, r, x\n"
     ]
    },
    {
     "name": "stdout",
     "output_type": "stream",
     "text": [
      "The simulation of TTGCTATGGTAGGG-1 (121) fluxes takes: 0.7961428165435791 seconds\n"
     ]
    },
    {
     "name": "stderr",
     "output_type": "stream",
     "text": [
      "No defined compartments in model ContextModel. Compartments will be deduced heuristically using regular expressions.\n",
      "Using regular expression found the following compartments:c, e, g, l, m, n, r, x\n"
     ]
    },
    {
     "name": "stdout",
     "output_type": "stream",
     "text": [
      "The simulation of CTGCAGCTGACACT-1 (122) fluxes takes: 0.9362592697143555 seconds\n"
     ]
    },
    {
     "name": "stderr",
     "output_type": "stream",
     "text": [
      "No defined compartments in model ContextModel. Compartments will be deduced heuristically using regular expressions.\n",
      "Using regular expression found the following compartments:c, e, g, l, m, n, r, x\n"
     ]
    },
    {
     "name": "stdout",
     "output_type": "stream",
     "text": [
      "The simulation of GATAGCACCCATAG-1 (123) fluxes takes: 0.8369700908660889 seconds\n"
     ]
    },
    {
     "name": "stderr",
     "output_type": "stream",
     "text": [
      "No defined compartments in model ContextModel. Compartments will be deduced heuristically using regular expressions.\n",
      "Using regular expression found the following compartments:c, e, g, l, m, n, r, x\n"
     ]
    },
    {
     "name": "stdout",
     "output_type": "stream",
     "text": [
      "The simulation of GAAGGGTGAAAGTG-1 (124) fluxes takes: 0.773798942565918 seconds\n"
     ]
    },
    {
     "name": "stderr",
     "output_type": "stream",
     "text": [
      "No defined compartments in model ContextModel. Compartments will be deduced heuristically using regular expressions.\n",
      "Using regular expression found the following compartments:c, e, g, l, m, n, r, x\n"
     ]
    },
    {
     "name": "stdout",
     "output_type": "stream",
     "text": [
      "The simulation of GGAACTTGGGTAGG-1 (125) fluxes takes: 0.7152130603790283 seconds\n"
     ]
    },
    {
     "name": "stderr",
     "output_type": "stream",
     "text": [
      "No defined compartments in model ContextModel. Compartments will be deduced heuristically using regular expressions.\n",
      "Using regular expression found the following compartments:c, e, g, l, m, n, r, x\n"
     ]
    },
    {
     "name": "stdout",
     "output_type": "stream",
     "text": [
      "The simulation of TTGAGGACAGAACA-1 (126) fluxes takes: 1.0347988605499268 seconds\n"
     ]
    },
    {
     "name": "stderr",
     "output_type": "stream",
     "text": [
      "No defined compartments in model ContextModel. Compartments will be deduced heuristically using regular expressions.\n",
      "Using regular expression found the following compartments:c, e, g, l, m, n, r, x\n"
     ]
    },
    {
     "name": "stdout",
     "output_type": "stream",
     "text": [
      "The simulation of TTTGCATGAGAGGC-1 (127) fluxes takes: 0.5348243713378906 seconds\n"
     ]
    },
    {
     "name": "stderr",
     "output_type": "stream",
     "text": [
      "No defined compartments in model ContextModel. Compartments will be deduced heuristically using regular expressions.\n",
      "Using regular expression found the following compartments:c, e, g, l, m, n, r, x\n"
     ]
    },
    {
     "name": "stdout",
     "output_type": "stream",
     "text": [
      "The simulation of GTACTTTGTCGACA-1 (128) fluxes takes: 0.8712589740753174 seconds\n"
     ]
    },
    {
     "name": "stderr",
     "output_type": "stream",
     "text": [
      "No defined compartments in model ContextModel. Compartments will be deduced heuristically using regular expressions.\n",
      "Using regular expression found the following compartments:c, e, g, l, m, n, r, x\n"
     ]
    },
    {
     "name": "stdout",
     "output_type": "stream",
     "text": [
      "The simulation of ACACAGACCATACG-1 (129) fluxes takes: 0.8890581130981445 seconds\n"
     ]
    },
    {
     "name": "stderr",
     "output_type": "stream",
     "text": [
      "No defined compartments in model ContextModel. Compartments will be deduced heuristically using regular expressions.\n",
      "Using regular expression found the following compartments:c, e, g, l, m, n, r, x\n"
     ]
    },
    {
     "name": "stdout",
     "output_type": "stream",
     "text": [
      "The simulation of AGAACGCTTTGCTT-1 (130) fluxes takes: 0.835421085357666 seconds\n"
     ]
    },
    {
     "name": "stderr",
     "output_type": "stream",
     "text": [
      "No defined compartments in model ContextModel. Compartments will be deduced heuristically using regular expressions.\n",
      "Using regular expression found the following compartments:c, e, g, l, m, n, r, x\n"
     ]
    },
    {
     "name": "stdout",
     "output_type": "stream",
     "text": [
      "The simulation of CATTACACACGGAG-1 (131) fluxes takes: 0.761253833770752 seconds\n"
     ]
    },
    {
     "name": "stderr",
     "output_type": "stream",
     "text": [
      "No defined compartments in model ContextModel. Compartments will be deduced heuristically using regular expressions.\n",
      "Using regular expression found the following compartments:c, e, g, l, m, n, r, x\n"
     ]
    },
    {
     "name": "stdout",
     "output_type": "stream",
     "text": [
      "The simulation of GTTATGCTTTCATC-1 (132) fluxes takes: 8.584474802017212 seconds\n"
     ]
    },
    {
     "name": "stderr",
     "output_type": "stream",
     "text": [
      "No defined compartments in model ContextModel. Compartments will be deduced heuristically using regular expressions.\n",
      "Using regular expression found the following compartments:c, e, g, l, m, n, r, x\n"
     ]
    },
    {
     "name": "stdout",
     "output_type": "stream",
     "text": [
      "The simulation of CTGAAGTGAAGCCT-1 (133) fluxes takes: 0.978985071182251 seconds\n",
      "The simulation of AGTACGTGAGGGTG-1 (134) fluxes takes: 0.7537767887115479 seconds\n"
     ]
    },
    {
     "name": "stderr",
     "output_type": "stream",
     "text": [
      "No defined compartments in model ContextModel. Compartments will be deduced heuristically using regular expressions.\n",
      "Using regular expression found the following compartments:c, e, g, l, m, n, r, x\n",
      "No defined compartments in model ContextModel. Compartments will be deduced heuristically using regular expressions.\n",
      "Using regular expression found the following compartments:c, e, g, l, m, n, r, x\n"
     ]
    },
    {
     "name": "stdout",
     "output_type": "stream",
     "text": [
      "The simulation of TAGTAAACGTCACA-1 (135) fluxes takes: 0.9935250282287598 seconds\n"
     ]
    },
    {
     "name": "stderr",
     "output_type": "stream",
     "text": [
      "No defined compartments in model ContextModel. Compartments will be deduced heuristically using regular expressions.\n",
      "Using regular expression found the following compartments:c, e, g, l, m, n, r, x\n"
     ]
    },
    {
     "name": "stdout",
     "output_type": "stream",
     "text": [
      "The simulation of TCCATAACTACGCA-1 (136) fluxes takes: 0.837500810623169 seconds\n"
     ]
    },
    {
     "name": "stderr",
     "output_type": "stream",
     "text": [
      "No defined compartments in model ContextModel. Compartments will be deduced heuristically using regular expressions.\n",
      "Using regular expression found the following compartments:c, e, g, l, m, n, r, x\n"
     ]
    },
    {
     "name": "stdout",
     "output_type": "stream",
     "text": [
      "The simulation of CCGACTACCGTGTA-1 (137) fluxes takes: 0.7366220951080322 seconds\n"
     ]
    },
    {
     "name": "stderr",
     "output_type": "stream",
     "text": [
      "No defined compartments in model ContextModel. Compartments will be deduced heuristically using regular expressions.\n",
      "Using regular expression found the following compartments:c, e, g, l, m, n, r, x\n"
     ]
    },
    {
     "name": "stdout",
     "output_type": "stream",
     "text": [
      "The simulation of TGATCACTTCTACT-1 (138) fluxes takes: 0.7994318008422852 seconds\n"
     ]
    },
    {
     "name": "stderr",
     "output_type": "stream",
     "text": [
      "No defined compartments in model ContextModel. Compartments will be deduced heuristically using regular expressions.\n",
      "Using regular expression found the following compartments:c, e, g, l, m, n, r, x\n"
     ]
    },
    {
     "name": "stdout",
     "output_type": "stream",
     "text": [
      "The simulation of ACATCACTCTACTT-1 (139) fluxes takes: 1.056243896484375 seconds\n"
     ]
    },
    {
     "name": "stderr",
     "output_type": "stream",
     "text": [
      "No defined compartments in model ContextModel. Compartments will be deduced heuristically using regular expressions.\n",
      "Using regular expression found the following compartments:c, e, g, l, m, n, r, x\n"
     ]
    },
    {
     "name": "stdout",
     "output_type": "stream",
     "text": [
      "The simulation of TTACGTACGTTCAG-1 (140) fluxes takes: 1.076613187789917 seconds\n"
     ]
    },
    {
     "name": "stderr",
     "output_type": "stream",
     "text": [
      "No defined compartments in model ContextModel. Compartments will be deduced heuristically using regular expressions.\n",
      "Using regular expression found the following compartments:c, e, g, l, m, n, r, x\n"
     ]
    },
    {
     "name": "stdout",
     "output_type": "stream",
     "text": [
      "The simulation of CGGAGGCTATTCCT-1 (141) fluxes takes: 0.903494119644165 seconds\n"
     ]
    },
    {
     "name": "stderr",
     "output_type": "stream",
     "text": [
      "No defined compartments in model ContextModel. Compartments will be deduced heuristically using regular expressions.\n",
      "Using regular expression found the following compartments:c, e, g, l, m, n, r, x\n"
     ]
    },
    {
     "name": "stdout",
     "output_type": "stream",
     "text": [
      "The simulation of CTCGCATGCTTAGG-1 (142) fluxes takes: 0.7764341831207275 seconds\n"
     ]
    },
    {
     "name": "stderr",
     "output_type": "stream",
     "text": [
      "No defined compartments in model ContextModel. Compartments will be deduced heuristically using regular expressions.\n",
      "Using regular expression found the following compartments:c, e, g, l, m, n, r, x\n"
     ]
    },
    {
     "name": "stdout",
     "output_type": "stream",
     "text": [
      "The simulation of ACCTGGCTAAGTAG-1 (143) fluxes takes: 0.5990593433380127 seconds\n"
     ]
    },
    {
     "name": "stderr",
     "output_type": "stream",
     "text": [
      "No defined compartments in model ContextModel. Compartments will be deduced heuristically using regular expressions.\n",
      "Using regular expression found the following compartments:c, e, g, l, m, n, r, x\n"
     ]
    },
    {
     "name": "stdout",
     "output_type": "stream",
     "text": [
      "The simulation of TCTAACTGAACCAC-1 (144) fluxes takes: 0.9891250133514404 seconds\n"
     ]
    },
    {
     "name": "stderr",
     "output_type": "stream",
     "text": [
      "No defined compartments in model ContextModel. Compartments will be deduced heuristically using regular expressions.\n",
      "Using regular expression found the following compartments:c, e, g, l, m, n, r, x\n"
     ]
    },
    {
     "name": "stdout",
     "output_type": "stream",
     "text": [
      "The simulation of CGTGTAGAGTTCAG-1 (145) fluxes takes: 0.8009672164916992 seconds\n"
     ]
    },
    {
     "name": "stderr",
     "output_type": "stream",
     "text": [
      "No defined compartments in model ContextModel. Compartments will be deduced heuristically using regular expressions.\n",
      "Using regular expression found the following compartments:c, e, g, l, m, n, r, x\n"
     ]
    },
    {
     "name": "stdout",
     "output_type": "stream",
     "text": [
      "The simulation of TTGACACTGATAAG-1 (146) fluxes takes: 0.8371708393096924 seconds\n"
     ]
    },
    {
     "name": "stderr",
     "output_type": "stream",
     "text": [
      "No defined compartments in model ContextModel. Compartments will be deduced heuristically using regular expressions.\n",
      "Using regular expression found the following compartments:c, e, g, l, m, n, r, x\n"
     ]
    },
    {
     "name": "stdout",
     "output_type": "stream",
     "text": [
      "The simulation of CATCTCCTATGTGC-1 (147) fluxes takes: 0.7155311107635498 seconds\n"
     ]
    },
    {
     "name": "stderr",
     "output_type": "stream",
     "text": [
      "No defined compartments in model ContextModel. Compartments will be deduced heuristically using regular expressions.\n",
      "Using regular expression found the following compartments:c, e, g, l, m, n, r, x\n"
     ]
    },
    {
     "name": "stdout",
     "output_type": "stream",
     "text": [
      "The simulation of TGCTATACTGCTGA-1 (148) fluxes takes: 0.9475321769714355 seconds\n"
     ]
    },
    {
     "name": "stderr",
     "output_type": "stream",
     "text": [
      "No defined compartments in model ContextModel. Compartments will be deduced heuristically using regular expressions.\n",
      "Using regular expression found the following compartments:c, e, g, l, m, n, r, x\n"
     ]
    },
    {
     "name": "stdout",
     "output_type": "stream",
     "text": [
      "The simulation of CGATCAGAAGAACA-1 (149) fluxes takes: 0.870110034942627 seconds\n"
     ]
    },
    {
     "name": "stderr",
     "output_type": "stream",
     "text": [
      "No defined compartments in model ContextModel. Compartments will be deduced heuristically using regular expressions.\n",
      "Using regular expression found the following compartments:c, e, g, l, m, n, r, x\n"
     ]
    },
    {
     "name": "stdout",
     "output_type": "stream",
     "text": [
      "The simulation of CAGGTATGTGCTTT-1 (150) fluxes takes: 0.9085078239440918 seconds\n"
     ]
    },
    {
     "name": "stderr",
     "output_type": "stream",
     "text": [
      "No defined compartments in model ContextModel. Compartments will be deduced heuristically using regular expressions.\n",
      "Using regular expression found the following compartments:c, e, g, l, m, n, r, x\n"
     ]
    },
    {
     "name": "stdout",
     "output_type": "stream",
     "text": [
      "The simulation of TCGATACTATTCCT-1 (151) fluxes takes: 0.5707578659057617 seconds\n"
     ]
    },
    {
     "name": "stderr",
     "output_type": "stream",
     "text": [
      "No defined compartments in model ContextModel. Compartments will be deduced heuristically using regular expressions.\n",
      "Using regular expression found the following compartments:c, e, g, l, m, n, r, x\n"
     ]
    },
    {
     "name": "stdout",
     "output_type": "stream",
     "text": [
      "The simulation of TCAGACGACGCTAA-1 (152) fluxes takes: 0.895104169845581 seconds\n"
     ]
    },
    {
     "name": "stderr",
     "output_type": "stream",
     "text": [
      "No defined compartments in model ContextModel. Compartments will be deduced heuristically using regular expressions.\n",
      "Using regular expression found the following compartments:c, e, g, l, m, n, r, x\n"
     ]
    },
    {
     "name": "stdout",
     "output_type": "stream",
     "text": [
      "The simulation of AAATCCCTGCTATG-1 (153) fluxes takes: 0.8585426807403564 seconds\n"
     ]
    },
    {
     "name": "stderr",
     "output_type": "stream",
     "text": [
      "No defined compartments in model ContextModel. Compartments will be deduced heuristically using regular expressions.\n",
      "Using regular expression found the following compartments:c, e, g, l, m, n, r, x\n"
     ]
    },
    {
     "name": "stdout",
     "output_type": "stream",
     "text": [
      "The simulation of GAAAGATGCTGATG-1 (154) fluxes takes: 0.8499488830566406 seconds\n"
     ]
    },
    {
     "name": "stderr",
     "output_type": "stream",
     "text": [
      "No defined compartments in model ContextModel. Compartments will be deduced heuristically using regular expressions.\n",
      "Using regular expression found the following compartments:c, e, g, l, m, n, r, x\n"
     ]
    },
    {
     "name": "stdout",
     "output_type": "stream",
     "text": [
      "The simulation of CGTACCACGGAGCA-1 (155) fluxes takes: 0.816370964050293 seconds\n",
      "The simulation of CCAACCTGACGTAC-1 (156) fluxes takes: 9.826529026031494 seconds\n"
     ]
    },
    {
     "name": "stderr",
     "output_type": "stream",
     "text": [
      "No defined compartments in model ContextModel. Compartments will be deduced heuristically using regular expressions.\n",
      "Using regular expression found the following compartments:c, e, g, l, m, n, r, x\n"
     ]
    },
    {
     "name": "stdout",
     "output_type": "stream",
     "text": [
      "The simulation of GGATGTACCAAAGA-1 (157) fluxes takes: 1.0459239482879639 seconds\n"
     ]
    },
    {
     "name": "stderr",
     "output_type": "stream",
     "text": [
      "No defined compartments in model ContextModel. Compartments will be deduced heuristically using regular expressions.\n",
      "Using regular expression found the following compartments:c, e, g, l, m, n, r, x\n",
      "No defined compartments in model ContextModel. Compartments will be deduced heuristically using regular expressions.\n",
      "Using regular expression found the following compartments:c, e, g, l, m, n, r, x\n"
     ]
    },
    {
     "name": "stdout",
     "output_type": "stream",
     "text": [
      "The simulation of GAGTCTGATCGTGA-1 (158) fluxes takes: 0.942371129989624 seconds\n"
     ]
    },
    {
     "name": "stderr",
     "output_type": "stream",
     "text": [
      "No defined compartments in model ContextModel. Compartments will be deduced heuristically using regular expressions.\n",
      "Using regular expression found the following compartments:c, e, g, l, m, n, r, x\n"
     ]
    },
    {
     "name": "stdout",
     "output_type": "stream",
     "text": [
      "The simulation of GTAGCTGAATTCGG-1 (159) fluxes takes: 0.8345179557800293 seconds\n"
     ]
    },
    {
     "name": "stderr",
     "output_type": "stream",
     "text": [
      "No defined compartments in model ContextModel. Compartments will be deduced heuristically using regular expressions.\n",
      "Using regular expression found the following compartments:c, e, g, l, m, n, r, x\n"
     ]
    },
    {
     "name": "stdout",
     "output_type": "stream",
     "text": [
      "The simulation of CTAGGCCTCTCAGA-1 (160) fluxes takes: 0.7169389724731445 seconds\n"
     ]
    },
    {
     "name": "stderr",
     "output_type": "stream",
     "text": [
      "No defined compartments in model ContextModel. Compartments will be deduced heuristically using regular expressions.\n",
      "Using regular expression found the following compartments:c, e, g, l, m, n, r, x\n"
     ]
    },
    {
     "name": "stdout",
     "output_type": "stream",
     "text": [
      "The simulation of CTCCGAACAAGTGA-1 (161) fluxes takes: 0.9875049591064453 seconds\n"
     ]
    },
    {
     "name": "stderr",
     "output_type": "stream",
     "text": [
      "No defined compartments in model ContextModel. Compartments will be deduced heuristically using regular expressions.\n",
      "Using regular expression found the following compartments:c, e, g, l, m, n, r, x\n"
     ]
    },
    {
     "name": "stdout",
     "output_type": "stream",
     "text": [
      "The simulation of GCACAATGGTGCAT-1 (162) fluxes takes: 0.872718095779419 seconds\n"
     ]
    },
    {
     "name": "stderr",
     "output_type": "stream",
     "text": [
      "No defined compartments in model ContextModel. Compartments will be deduced heuristically using regular expressions.\n",
      "Using regular expression found the following compartments:c, e, g, l, m, n, r, x\n"
     ]
    },
    {
     "name": "stdout",
     "output_type": "stream",
     "text": [
      "The simulation of AATGTTGACAGTCA-1 (163) fluxes takes: 0.6492769718170166 seconds\n"
     ]
    },
    {
     "name": "stderr",
     "output_type": "stream",
     "text": [
      "No defined compartments in model ContextModel. Compartments will be deduced heuristically using regular expressions.\n",
      "Using regular expression found the following compartments:c, e, g, l, m, n, r, x\n"
     ]
    },
    {
     "name": "stdout",
     "output_type": "stream",
     "text": [
      "The simulation of TTAGCTACAACCGT-1 (164) fluxes takes: 0.8794150352478027 seconds\n"
     ]
    },
    {
     "name": "stderr",
     "output_type": "stream",
     "text": [
      "No defined compartments in model ContextModel. Compartments will be deduced heuristically using regular expressions.\n",
      "Using regular expression found the following compartments:c, e, g, l, m, n, r, x\n"
     ]
    },
    {
     "name": "stdout",
     "output_type": "stream",
     "text": [
      "The simulation of GGCTAATGGTCTAG-1 (165) fluxes takes: 0.739285945892334 seconds\n"
     ]
    },
    {
     "name": "stderr",
     "output_type": "stream",
     "text": [
      "No defined compartments in model ContextModel. Compartments will be deduced heuristically using regular expressions.\n",
      "Using regular expression found the following compartments:c, e, g, l, m, n, r, x\n"
     ]
    },
    {
     "name": "stdout",
     "output_type": "stream",
     "text": [
      "The simulation of ACCAGTGAACGGTT-1 (166) fluxes takes: 0.8986649513244629 seconds\n"
     ]
    },
    {
     "name": "stderr",
     "output_type": "stream",
     "text": [
      "No defined compartments in model ContextModel. Compartments will be deduced heuristically using regular expressions.\n",
      "Using regular expression found the following compartments:c, e, g, l, m, n, r, x\n"
     ]
    },
    {
     "name": "stdout",
     "output_type": "stream",
     "text": [
      "The simulation of AAGCGACTTACAGC-1 (167) fluxes takes: 0.8566989898681641 seconds\n"
     ]
    },
    {
     "name": "stderr",
     "output_type": "stream",
     "text": [
      "No defined compartments in model ContextModel. Compartments will be deduced heuristically using regular expressions.\n",
      "Using regular expression found the following compartments:c, e, g, l, m, n, r, x\n"
     ]
    },
    {
     "name": "stdout",
     "output_type": "stream",
     "text": [
      "The simulation of ATGGACACATCGGT-1 (168) fluxes takes: 0.8219118118286133 seconds\n"
     ]
    },
    {
     "name": "stderr",
     "output_type": "stream",
     "text": [
      "No defined compartments in model ContextModel. Compartments will be deduced heuristically using regular expressions.\n",
      "Using regular expression found the following compartments:c, e, g, l, m, n, r, x\n"
     ]
    },
    {
     "name": "stdout",
     "output_type": "stream",
     "text": [
      "The simulation of AGGTTCGAACCTCC-1 (169) fluxes takes: 0.7219319343566895 seconds\n"
     ]
    },
    {
     "name": "stderr",
     "output_type": "stream",
     "text": [
      "No defined compartments in model ContextModel. Compartments will be deduced heuristically using regular expressions.\n",
      "Using regular expression found the following compartments:c, e, g, l, m, n, r, x\n"
     ]
    },
    {
     "name": "stdout",
     "output_type": "stream",
     "text": [
      "The simulation of CTTGATTGCATTCT-1 (170) fluxes takes: 0.9590940475463867 seconds\n"
     ]
    },
    {
     "name": "stderr",
     "output_type": "stream",
     "text": [
      "No defined compartments in model ContextModel. Compartments will be deduced heuristically using regular expressions.\n",
      "Using regular expression found the following compartments:c, e, g, l, m, n, r, x\n"
     ]
    },
    {
     "name": "stdout",
     "output_type": "stream",
     "text": [
      "The simulation of AACAAACTCATTTC-1 (171) fluxes takes: 0.8576629161834717 seconds\n"
     ]
    },
    {
     "name": "stderr",
     "output_type": "stream",
     "text": [
      "No defined compartments in model ContextModel. Compartments will be deduced heuristically using regular expressions.\n",
      "Using regular expression found the following compartments:c, e, g, l, m, n, r, x\n"
     ]
    },
    {
     "name": "stdout",
     "output_type": "stream",
     "text": [
      "The simulation of GATCGAACCGAGAG-1 (172) fluxes takes: 0.8462629318237305 seconds\n"
     ]
    },
    {
     "name": "stderr",
     "output_type": "stream",
     "text": [
      "No defined compartments in model ContextModel. Compartments will be deduced heuristically using regular expressions.\n",
      "Using regular expression found the following compartments:c, e, g, l, m, n, r, x\n"
     ]
    },
    {
     "name": "stdout",
     "output_type": "stream",
     "text": [
      "The simulation of GGACGCTGTCCTCG-1 (173) fluxes takes: 0.761735200881958 seconds\n"
     ]
    },
    {
     "name": "stderr",
     "output_type": "stream",
     "text": [
      "No defined compartments in model ContextModel. Compartments will be deduced heuristically using regular expressions.\n",
      "Using regular expression found the following compartments:c, e, g, l, m, n, r, x\n"
     ]
    },
    {
     "name": "stdout",
     "output_type": "stream",
     "text": [
      "The simulation of AAATCAACTCGCAA-1 (174) fluxes takes: 0.8351101875305176 seconds\n"
     ]
    },
    {
     "name": "stderr",
     "output_type": "stream",
     "text": [
      "No defined compartments in model ContextModel. Compartments will be deduced heuristically using regular expressions.\n",
      "Using regular expression found the following compartments:c, e, g, l, m, n, r, x\n"
     ]
    },
    {
     "name": "stdout",
     "output_type": "stream",
     "text": [
      "The simulation of TTCTAGTGGAGAGC-1 (175) fluxes takes: 0.815662145614624 seconds\n"
     ]
    },
    {
     "name": "stderr",
     "output_type": "stream",
     "text": [
      "No defined compartments in model ContextModel. Compartments will be deduced heuristically using regular expressions.\n",
      "Using regular expression found the following compartments:c, e, g, l, m, n, r, x\n"
     ]
    },
    {
     "name": "stdout",
     "output_type": "stream",
     "text": [
      "The simulation of CGAGGCACCTATGG-1 (176) fluxes takes: 0.7409019470214844 seconds\n"
     ]
    },
    {
     "name": "stderr",
     "output_type": "stream",
     "text": [
      "No defined compartments in model ContextModel. Compartments will be deduced heuristically using regular expressions.\n",
      "Using regular expression found the following compartments:c, e, g, l, m, n, r, x\n"
     ]
    },
    {
     "name": "stdout",
     "output_type": "stream",
     "text": [
      "The simulation of AATAAGCTCGAATC-1 (177) fluxes takes: 0.7636809349060059 seconds\n"
     ]
    },
    {
     "name": "stderr",
     "output_type": "stream",
     "text": [
      "No defined compartments in model ContextModel. Compartments will be deduced heuristically using regular expressions.\n",
      "Using regular expression found the following compartments:c, e, g, l, m, n, r, x\n"
     ]
    },
    {
     "name": "stdout",
     "output_type": "stream",
     "text": [
      "The simulation of CTATAGCTTCGCTC-1 (178) fluxes takes: 1.1119060516357422 seconds\n"
     ]
    },
    {
     "name": "stderr",
     "output_type": "stream",
     "text": [
      "No defined compartments in model ContextModel. Compartments will be deduced heuristically using regular expressions.\n",
      "Using regular expression found the following compartments:c, e, g, l, m, n, r, x\n"
     ]
    },
    {
     "name": "stdout",
     "output_type": "stream",
     "text": [
      "The simulation of CACTGCTGGAAAGT-1 (179) fluxes takes: 0.8023679256439209 seconds\n"
     ]
    },
    {
     "name": "stderr",
     "output_type": "stream",
     "text": [
      "No defined compartments in model ContextModel. Compartments will be deduced heuristically using regular expressions.\n",
      "Using regular expression found the following compartments:c, e, g, l, m, n, r, x\n"
     ]
    },
    {
     "name": "stdout",
     "output_type": "stream",
     "text": [
      "The simulation of TCCATAACCGTAGT-1 (180) fluxes takes: 0.8255710601806641 seconds\n"
     ]
    },
    {
     "name": "stderr",
     "output_type": "stream",
     "text": [
      "No defined compartments in model ContextModel. Compartments will be deduced heuristically using regular expressions.\n",
      "Using regular expression found the following compartments:c, e, g, l, m, n, r, x\n"
     ]
    },
    {
     "name": "stdout",
     "output_type": "stream",
     "text": [
      "The simulation of GACGTCCTCTCAAG-1 (181) fluxes takes: 0.9189281463623047 seconds\n"
     ]
    },
    {
     "name": "stderr",
     "output_type": "stream",
     "text": [
      "No defined compartments in model ContextModel. Compartments will be deduced heuristically using regular expressions.\n",
      "Using regular expression found the following compartments:c, e, g, l, m, n, r, x\n"
     ]
    },
    {
     "name": "stdout",
     "output_type": "stream",
     "text": [
      "The simulation of TTAGTCTGCCAACA-1 (182) fluxes takes: 0.5604112148284912 seconds\n"
     ]
    },
    {
     "name": "stderr",
     "output_type": "stream",
     "text": [
      "No defined compartments in model ContextModel. Compartments will be deduced heuristically using regular expressions.\n",
      "Using regular expression found the following compartments:c, e, g, l, m, n, r, x\n"
     ]
    },
    {
     "name": "stdout",
     "output_type": "stream",
     "text": [
      "The simulation of TCTAGACTTAGAAG-1 (183) fluxes takes: 1.0236799716949463 seconds\n"
     ]
    },
    {
     "name": "stderr",
     "output_type": "stream",
     "text": [
      "No defined compartments in model ContextModel. Compartments will be deduced heuristically using regular expressions.\n",
      "Using regular expression found the following compartments:c, e, g, l, m, n, r, x\n"
     ]
    },
    {
     "name": "stdout",
     "output_type": "stream",
     "text": [
      "The simulation of GGGTAACTCAGCTA-1 (184) fluxes takes: 0.8026909828186035 seconds\n"
     ]
    },
    {
     "name": "stderr",
     "output_type": "stream",
     "text": [
      "No defined compartments in model ContextModel. Compartments will be deduced heuristically using regular expressions.\n",
      "Using regular expression found the following compartments:c, e, g, l, m, n, r, x\n"
     ]
    },
    {
     "name": "stdout",
     "output_type": "stream",
     "text": [
      "The simulation of TGGTTACTGACGTT-1 (185) fluxes takes: 0.9823470115661621 seconds\n"
     ]
    },
    {
     "name": "stderr",
     "output_type": "stream",
     "text": [
      "No defined compartments in model ContextModel. Compartments will be deduced heuristically using regular expressions.\n",
      "Using regular expression found the following compartments:c, e, g, l, m, n, r, x\n"
     ]
    },
    {
     "name": "stdout",
     "output_type": "stream",
     "text": [
      "The simulation of GGACCGTGCTTACT-1 (186) fluxes takes: 0.8994560241699219 seconds\n"
     ]
    },
    {
     "name": "stderr",
     "output_type": "stream",
     "text": [
      "No defined compartments in model ContextModel. Compartments will be deduced heuristically using regular expressions.\n",
      "Using regular expression found the following compartments:c, e, l, m, n, r, x\n"
     ]
    },
    {
     "name": "stdout",
     "output_type": "stream",
     "text": [
      "The simulation of TTACGACTGAGAGC-1 (187) fluxes takes: 0.825279951095581 seconds\n"
     ]
    },
    {
     "name": "stderr",
     "output_type": "stream",
     "text": [
      "No defined compartments in model ContextModel. Compartments will be deduced heuristically using regular expressions.\n",
      "Using regular expression found the following compartments:c, e, g, l, m, n, r, x\n"
     ]
    },
    {
     "name": "stdout",
     "output_type": "stream",
     "text": [
      "The simulation of GGCCACGACAGAGG-1 (188) fluxes takes: 0.4115290641784668 seconds\n"
     ]
    },
    {
     "name": "stderr",
     "output_type": "stream",
     "text": [
      "No defined compartments in model ContextModel. Compartments will be deduced heuristically using regular expressions.\n",
      "Using regular expression found the following compartments:c, e, g, l, m, n, r, x\n"
     ]
    },
    {
     "name": "stdout",
     "output_type": "stream",
     "text": [
      "The simulation of GTCGAATGAAGGCG-1 (189) fluxes takes: 0.9595699310302734 seconds\n"
     ]
    },
    {
     "name": "stderr",
     "output_type": "stream",
     "text": [
      "No defined compartments in model ContextModel. Compartments will be deduced heuristically using regular expressions.\n",
      "Using regular expression found the following compartments:c, e, g, l, m, n, r, x\n"
     ]
    },
    {
     "name": "stdout",
     "output_type": "stream",
     "text": [
      "The simulation of GGCGGACTCTTGGA-1 (190) fluxes takes: 0.749506950378418 seconds\n"
     ]
    },
    {
     "name": "stderr",
     "output_type": "stream",
     "text": [
      "No defined compartments in model ContextModel. Compartments will be deduced heuristically using regular expressions.\n",
      "Using regular expression found the following compartments:c, e, g, l, m, n, r, x\n"
     ]
    },
    {
     "name": "stdout",
     "output_type": "stream",
     "text": [
      "The simulation of AAACGCTGGTTCTT-1 (191) fluxes takes: 0.901068925857544 seconds\n"
     ]
    },
    {
     "name": "stderr",
     "output_type": "stream",
     "text": [
      "No defined compartments in model ContextModel. Compartments will be deduced heuristically using regular expressions.\n",
      "Using regular expression found the following compartments:c, e, g, l, m, n, r, x\n"
     ]
    },
    {
     "name": "stdout",
     "output_type": "stream",
     "text": [
      "The simulation of TGATAAACTTTCAC-1 (192) fluxes takes: 0.7535238265991211 seconds\n"
     ]
    },
    {
     "name": "stderr",
     "output_type": "stream",
     "text": [
      "No defined compartments in model ContextModel. Compartments will be deduced heuristically using regular expressions.\n",
      "Using regular expression found the following compartments:c, e, g, l, m, n, r, x\n"
     ]
    },
    {
     "name": "stdout",
     "output_type": "stream",
     "text": [
      "The simulation of AAATTCGAAGGTTC-1 (193) fluxes takes: 0.7606158256530762 seconds\n"
     ]
    },
    {
     "name": "stderr",
     "output_type": "stream",
     "text": [
      "No defined compartments in model ContextModel. Compartments will be deduced heuristically using regular expressions.\n",
      "Using regular expression found the following compartments:c, e, g, l, m, n, r, x\n"
     ]
    },
    {
     "name": "stdout",
     "output_type": "stream",
     "text": [
      "The simulation of AAAGCAGATATCGG-1 (194) fluxes takes: 0.9687290191650391 seconds\n"
     ]
    },
    {
     "name": "stderr",
     "output_type": "stream",
     "text": [
      "No defined compartments in model ContextModel. Compartments will be deduced heuristically using regular expressions.\n",
      "Using regular expression found the following compartments:c, e, g, l, m, n, r, x\n"
     ]
    },
    {
     "name": "stdout",
     "output_type": "stream",
     "text": [
      "The simulation of GTCTAGGAGCTTCC-1 (195) fluxes takes: 1.0994508266448975 seconds\n"
     ]
    },
    {
     "name": "stderr",
     "output_type": "stream",
     "text": [
      "No defined compartments in model ContextModel. Compartments will be deduced heuristically using regular expressions.\n",
      "Using regular expression found the following compartments:c, e, g, l, m, n, r, x\n"
     ]
    },
    {
     "name": "stdout",
     "output_type": "stream",
     "text": [
      "The simulation of CTTTGATGTGTGGT-1 (196) fluxes takes: 0.7187271118164062 seconds\n"
     ]
    },
    {
     "name": "stderr",
     "output_type": "stream",
     "text": [
      "No defined compartments in model ContextModel. Compartments will be deduced heuristically using regular expressions.\n",
      "Using regular expression found the following compartments:c, e, g, l, m, n, r, x\n"
     ]
    },
    {
     "name": "stdout",
     "output_type": "stream",
     "text": [
      "The simulation of ATCTTTCTTGTCCC-1 (197) fluxes takes: 0.6132521629333496 seconds\n"
     ]
    },
    {
     "name": "stderr",
     "output_type": "stream",
     "text": [
      "No defined compartments in model ContextModel. Compartments will be deduced heuristically using regular expressions.\n",
      "Using regular expression found the following compartments:c, e, g, l, m, n, r, x\n"
     ]
    },
    {
     "name": "stdout",
     "output_type": "stream",
     "text": [
      "The simulation of ATGTAAACGGGATG-1 (198) fluxes takes: 0.9264011383056641 seconds\n"
     ]
    },
    {
     "name": "stderr",
     "output_type": "stream",
     "text": [
      "No defined compartments in model ContextModel. Compartments will be deduced heuristically using regular expressions.\n",
      "Using regular expression found the following compartments:c, e, g, l, m, n, r, x\n"
     ]
    },
    {
     "name": "stdout",
     "output_type": "stream",
     "text": [
      "The simulation of CGATACGAACAGTC-1 (199) fluxes takes: 0.9493739604949951 seconds\n"
     ]
    },
    {
     "name": "stderr",
     "output_type": "stream",
     "text": [
      "No defined compartments in model ContextModel. Compartments will be deduced heuristically using regular expressions.\n",
      "Using regular expression found the following compartments:c, e, g, l, m, n, r, x\n"
     ]
    },
    {
     "name": "stdout",
     "output_type": "stream",
     "text": [
      "The simulation of CGCCATTGCTATGG-1 (200) fluxes takes: 12.11295199394226 seconds\n"
     ]
    },
    {
     "name": "stderr",
     "output_type": "stream",
     "text": [
      "No defined compartments in model ContextModel. Compartments will be deduced heuristically using regular expressions.\n",
      "Using regular expression found the following compartments:c, e, g, l, m, n, r, x\n"
     ]
    },
    {
     "name": "stdout",
     "output_type": "stream",
     "text": [
      "The simulation of CCCAGTTGTCTATC-1 (201) fluxes takes: 0.7616438865661621 seconds\n"
     ]
    },
    {
     "name": "stderr",
     "output_type": "stream",
     "text": [
      "No defined compartments in model ContextModel. Compartments will be deduced heuristically using regular expressions.\n",
      "Using regular expression found the following compartments:c, e, g, l, m, n, r, x\n"
     ]
    },
    {
     "name": "stdout",
     "output_type": "stream",
     "text": [
      "The simulation of CTACTATGTAAAGG-1 (202) fluxes takes: 0.7821052074432373 seconds\n"
     ]
    },
    {
     "name": "stderr",
     "output_type": "stream",
     "text": [
      "No defined compartments in model ContextModel. Compartments will be deduced heuristically using regular expressions.\n",
      "Using regular expression found the following compartments:c, e, g, l, m, n, r, x\n"
     ]
    },
    {
     "name": "stdout",
     "output_type": "stream",
     "text": [
      "The simulation of GGTACATGGTTACG-1 (203) fluxes takes: 0.8638160228729248 seconds\n"
     ]
    },
    {
     "name": "stderr",
     "output_type": "stream",
     "text": [
      "No defined compartments in model ContextModel. Compartments will be deduced heuristically using regular expressions.\n",
      "Using regular expression found the following compartments:c, e, g, l, m, n, r, x\n"
     ]
    },
    {
     "name": "stdout",
     "output_type": "stream",
     "text": [
      "The simulation of TGGAAGCTCAGATC-1 (204) fluxes takes: 0.7654609680175781 seconds\n"
     ]
    },
    {
     "name": "stderr",
     "output_type": "stream",
     "text": [
      "No defined compartments in model ContextModel. Compartments will be deduced heuristically using regular expressions.\n",
      "Using regular expression found the following compartments:c, e, g, l, m, n, r, x\n"
     ]
    },
    {
     "name": "stdout",
     "output_type": "stream",
     "text": [
      "The simulation of CAGCGGACCTTTAC-1 (205) fluxes takes: 0.832557201385498 seconds\n"
     ]
    },
    {
     "name": "stderr",
     "output_type": "stream",
     "text": [
      "No defined compartments in model ContextModel. Compartments will be deduced heuristically using regular expressions.\n",
      "Using regular expression found the following compartments:c, e, g, l, m, n, r, x\n"
     ]
    },
    {
     "name": "stdout",
     "output_type": "stream",
     "text": [
      "The simulation of CACATACTACAGCT-1 (206) fluxes takes: 0.8548619747161865 seconds\n"
     ]
    },
    {
     "name": "stderr",
     "output_type": "stream",
     "text": [
      "No defined compartments in model ContextModel. Compartments will be deduced heuristically using regular expressions.\n",
      "Using regular expression found the following compartments:c, e, g, l, m, n, r, x\n"
     ]
    },
    {
     "name": "stdout",
     "output_type": "stream",
     "text": [
      "The simulation of TCCCACGATCATTC-1 (207) fluxes takes: 0.8858492374420166 seconds\n"
     ]
    },
    {
     "name": "stderr",
     "output_type": "stream",
     "text": [
      "No defined compartments in model ContextModel. Compartments will be deduced heuristically using regular expressions.\n",
      "Using regular expression found the following compartments:c, e, g, l, m, n, r, x\n"
     ]
    },
    {
     "name": "stdout",
     "output_type": "stream",
     "text": [
      "The simulation of GGCAAGGAAGAAGT-1 (208) fluxes takes: 0.9590270519256592 seconds\n"
     ]
    },
    {
     "name": "stderr",
     "output_type": "stream",
     "text": [
      "No defined compartments in model ContextModel. Compartments will be deduced heuristically using regular expressions.\n",
      "Using regular expression found the following compartments:c, e, g, l, m, n, r, x\n"
     ]
    },
    {
     "name": "stdout",
     "output_type": "stream",
     "text": [
      "The simulation of TTTCAGTGTCTATC-1 (209) fluxes takes: 0.8579139709472656 seconds\n"
     ]
    },
    {
     "name": "stderr",
     "output_type": "stream",
     "text": [
      "No defined compartments in model ContextModel. Compartments will be deduced heuristically using regular expressions.\n",
      "Using regular expression found the following compartments:c, e, g, l, m, n, r, x\n"
     ]
    },
    {
     "name": "stdout",
     "output_type": "stream",
     "text": [
      "The simulation of CTGTATACGTTGGT-1 (210) fluxes takes: 0.89900803565979 seconds\n"
     ]
    },
    {
     "name": "stderr",
     "output_type": "stream",
     "text": [
      "No defined compartments in model ContextModel. Compartments will be deduced heuristically using regular expressions.\n",
      "Using regular expression found the following compartments:c, e, g, l, m, n, r, x\n"
     ]
    },
    {
     "name": "stdout",
     "output_type": "stream",
     "text": [
      "The simulation of GTCTAACTGGTCTA-1 (211) fluxes takes: 0.8327651023864746 seconds\n"
     ]
    },
    {
     "name": "stderr",
     "output_type": "stream",
     "text": [
      "No defined compartments in model ContextModel. Compartments will be deduced heuristically using regular expressions.\n",
      "Using regular expression found the following compartments:c, e, g, l, m, n, r, x\n"
     ]
    },
    {
     "name": "stdout",
     "output_type": "stream",
     "text": [
      "The simulation of TCACAACTATGTGC-1 (212) fluxes takes: 0.8534688949584961 seconds\n"
     ]
    },
    {
     "name": "stderr",
     "output_type": "stream",
     "text": [
      "No defined compartments in model ContextModel. Compartments will be deduced heuristically using regular expressions.\n",
      "Using regular expression found the following compartments:c, e, g, l, m, n, r, x\n"
     ]
    },
    {
     "name": "stdout",
     "output_type": "stream",
     "text": [
      "The simulation of CAAGGACTTCTTTG-1 (213) fluxes takes: 0.7769870758056641 seconds\n"
     ]
    },
    {
     "name": "stderr",
     "output_type": "stream",
     "text": [
      "No defined compartments in model ContextModel. Compartments will be deduced heuristically using regular expressions.\n",
      "Using regular expression found the following compartments:c, e, g, l, m, n, r, x\n"
     ]
    },
    {
     "name": "stdout",
     "output_type": "stream",
     "text": [
      "The simulation of TAACATGACACTAG-1 (214) fluxes takes: 0.8612396717071533 seconds\n"
     ]
    },
    {
     "name": "stderr",
     "output_type": "stream",
     "text": [
      "No defined compartments in model ContextModel. Compartments will be deduced heuristically using regular expressions.\n",
      "Using regular expression found the following compartments:c, e, g, l, m, n, r, x\n"
     ]
    },
    {
     "name": "stdout",
     "output_type": "stream",
     "text": [
      "The simulation of TCCATCCTCCCTAC-1 (215) fluxes takes: 0.73232102394104 seconds\n"
     ]
    },
    {
     "name": "stderr",
     "output_type": "stream",
     "text": [
      "No defined compartments in model ContextModel. Compartments will be deduced heuristically using regular expressions.\n",
      "Using regular expression found the following compartments:c, e, g, l, m, n, r, x\n"
     ]
    },
    {
     "name": "stdout",
     "output_type": "stream",
     "text": [
      "The simulation of CTTCATGAAGTACC-1 (216) fluxes takes: 0.848351001739502 seconds\n"
     ]
    },
    {
     "name": "stderr",
     "output_type": "stream",
     "text": [
      "No defined compartments in model ContextModel. Compartments will be deduced heuristically using regular expressions.\n",
      "Using regular expression found the following compartments:c, e, g, l, m, n, r, x\n"
     ]
    },
    {
     "name": "stdout",
     "output_type": "stream",
     "text": [
      "The simulation of GCAGATACAGCGTT-1 (217) fluxes takes: 0.8011672496795654 seconds\n"
     ]
    },
    {
     "name": "stderr",
     "output_type": "stream",
     "text": [
      "No defined compartments in model ContextModel. Compartments will be deduced heuristically using regular expressions.\n",
      "Using regular expression found the following compartments:c, e, g, l, m, n, r, x\n"
     ]
    },
    {
     "name": "stdout",
     "output_type": "stream",
     "text": [
      "The simulation of AGCGGGCTTGCCAA-1 (218) fluxes takes: 0.7247579097747803 seconds\n"
     ]
    },
    {
     "name": "stderr",
     "output_type": "stream",
     "text": [
      "No defined compartments in model ContextModel. Compartments will be deduced heuristically using regular expressions.\n",
      "Using regular expression found the following compartments:c, e, g, l, m, n, r, x\n"
     ]
    },
    {
     "name": "stdout",
     "output_type": "stream",
     "text": [
      "The simulation of CTTTAGTGGGTGGA-1 (219) fluxes takes: 0.931743860244751 seconds\n"
     ]
    },
    {
     "name": "stderr",
     "output_type": "stream",
     "text": [
      "No defined compartments in model ContextModel. Compartments will be deduced heuristically using regular expressions.\n",
      "Using regular expression found the following compartments:c, e, g, l, m, n, r, x\n"
     ]
    },
    {
     "name": "stdout",
     "output_type": "stream",
     "text": [
      "The simulation of CAGGTTGAGGATCT-1 (220) fluxes takes: 0.7700529098510742 seconds\n"
     ]
    },
    {
     "name": "stderr",
     "output_type": "stream",
     "text": [
      "No defined compartments in model ContextModel. Compartments will be deduced heuristically using regular expressions.\n",
      "Using regular expression found the following compartments:c, e, g, l, m, n, r, x\n"
     ]
    },
    {
     "name": "stdout",
     "output_type": "stream",
     "text": [
      "The simulation of CGAGCGTGCTCCAC-1 (221) fluxes takes: 0.6872289180755615 seconds\n"
     ]
    },
    {
     "name": "stderr",
     "output_type": "stream",
     "text": [
      "No defined compartments in model ContextModel. Compartments will be deduced heuristically using regular expressions.\n",
      "Using regular expression found the following compartments:c, e, g, l, m, n, r, x\n"
     ]
    },
    {
     "name": "stdout",
     "output_type": "stream",
     "text": [
      "The simulation of AGTAGGCTTGCCTC-1 (222) fluxes takes: 0.7461380958557129 seconds\n"
     ]
    },
    {
     "name": "stderr",
     "output_type": "stream",
     "text": [
      "No defined compartments in model ContextModel. Compartments will be deduced heuristically using regular expressions.\n",
      "Using regular expression found the following compartments:c, e, g, l, m, n, r, x\n"
     ]
    },
    {
     "name": "stdout",
     "output_type": "stream",
     "text": [
      "The simulation of CAGAAGCTCTCAAG-1 (223) fluxes takes: 0.7991659641265869 seconds\n"
     ]
    },
    {
     "name": "stderr",
     "output_type": "stream",
     "text": [
      "No defined compartments in model ContextModel. Compartments will be deduced heuristically using regular expressions.\n",
      "Using regular expression found the following compartments:c, e, g, l, m, n, r, x\n"
     ]
    },
    {
     "name": "stdout",
     "output_type": "stream",
     "text": [
      "The simulation of GTGCCACTCAGGAG-1 (224) fluxes takes: 0.8208298683166504 seconds\n"
     ]
    },
    {
     "name": "stderr",
     "output_type": "stream",
     "text": [
      "No defined compartments in model ContextModel. Compartments will be deduced heuristically using regular expressions.\n",
      "Using regular expression found the following compartments:c, e, g, l, m, n, r, x\n"
     ]
    },
    {
     "name": "stdout",
     "output_type": "stream",
     "text": [
      "The simulation of CATTTGTGCGGAGA-1 (225) fluxes takes: 0.8673930168151855 seconds\n"
     ]
    },
    {
     "name": "stderr",
     "output_type": "stream",
     "text": [
      "No defined compartments in model ContextModel. Compartments will be deduced heuristically using regular expressions.\n",
      "Using regular expression found the following compartments:c, e, g, l, m, n, r, x\n"
     ]
    },
    {
     "name": "stdout",
     "output_type": "stream",
     "text": [
      "The simulation of TATGTCACGGAACG-1 (226) fluxes takes: 0.846926212310791 seconds\n"
     ]
    },
    {
     "name": "stderr",
     "output_type": "stream",
     "text": [
      "No defined compartments in model ContextModel. Compartments will be deduced heuristically using regular expressions.\n",
      "Using regular expression found the following compartments:c, e, g, l, m, n, r, x\n"
     ]
    },
    {
     "name": "stdout",
     "output_type": "stream",
     "text": [
      "The simulation of GCCGGAACGTTCTT-1 (227) fluxes takes: 0.5977461338043213 seconds\n"
     ]
    },
    {
     "name": "stderr",
     "output_type": "stream",
     "text": [
      "No defined compartments in model ContextModel. Compartments will be deduced heuristically using regular expressions.\n",
      "Using regular expression found the following compartments:c, e, g, l, m, n, r, x\n"
     ]
    },
    {
     "name": "stdout",
     "output_type": "stream",
     "text": [
      "The simulation of CGATACGATTCACT-1 (228) fluxes takes: 0.782012939453125 seconds\n"
     ]
    },
    {
     "name": "stderr",
     "output_type": "stream",
     "text": [
      "No defined compartments in model ContextModel. Compartments will be deduced heuristically using regular expressions.\n",
      "Using regular expression found the following compartments:c, e, g, l, m, n, r, x\n"
     ]
    },
    {
     "name": "stdout",
     "output_type": "stream",
     "text": [
      "The simulation of TTGTAGCTCTCTTA-1 (229) fluxes takes: 0.7932860851287842 seconds\n"
     ]
    },
    {
     "name": "stderr",
     "output_type": "stream",
     "text": [
      "No defined compartments in model ContextModel. Compartments will be deduced heuristically using regular expressions.\n",
      "Using regular expression found the following compartments:c, e, g, l, m, n, r, x\n"
     ]
    },
    {
     "name": "stdout",
     "output_type": "stream",
     "text": [
      "The simulation of TTCGGAGATGTGCA-1 (230) fluxes takes: 0.6610901355743408 seconds\n"
     ]
    },
    {
     "name": "stderr",
     "output_type": "stream",
     "text": [
      "No defined compartments in model ContextModel. Compartments will be deduced heuristically using regular expressions.\n",
      "Using regular expression found the following compartments:c, e, g, l, m, n, r, x\n"
     ]
    },
    {
     "name": "stdout",
     "output_type": "stream",
     "text": [
      "The simulation of GACGTCCTGATAAG-1 (231) fluxes takes: 0.7534000873565674 seconds\n"
     ]
    },
    {
     "name": "stderr",
     "output_type": "stream",
     "text": [
      "No defined compartments in model ContextModel. Compartments will be deduced heuristically using regular expressions.\n",
      "Using regular expression found the following compartments:c, e, g, l, m, n, r, x\n"
     ]
    },
    {
     "name": "stdout",
     "output_type": "stream",
     "text": [
      "The simulation of TTTCACGAGGTTCA-1 (232) fluxes takes: 0.8334581851959229 seconds\n"
     ]
    },
    {
     "name": "stderr",
     "output_type": "stream",
     "text": [
      "No defined compartments in model ContextModel. Compartments will be deduced heuristically using regular expressions.\n",
      "Using regular expression found the following compartments:c, e, g, l, m, n, r, x\n"
     ]
    },
    {
     "name": "stdout",
     "output_type": "stream",
     "text": [
      "The simulation of GTTAACCTTGCTTT-1 (233) fluxes takes: 1.082160234451294 seconds\n"
     ]
    },
    {
     "name": "stderr",
     "output_type": "stream",
     "text": [
      "No defined compartments in model ContextModel. Compartments will be deduced heuristically using regular expressions.\n",
      "Using regular expression found the following compartments:c, e, g, l, m, n, r, x\n"
     ]
    },
    {
     "name": "stdout",
     "output_type": "stream",
     "text": [
      "The simulation of CGAATCGAGGAGCA-1 (234) fluxes takes: 0.9012610912322998 seconds\n"
     ]
    },
    {
     "name": "stderr",
     "output_type": "stream",
     "text": [
      "No defined compartments in model ContextModel. Compartments will be deduced heuristically using regular expressions.\n",
      "Using regular expression found the following compartments:c, e, g, l, m, n, r, x\n"
     ]
    },
    {
     "name": "stdout",
     "output_type": "stream",
     "text": [
      "The simulation of GCAGCCGACAGTCA-1 (235) fluxes takes: 0.8251237869262695 seconds\n"
     ]
    },
    {
     "name": "stderr",
     "output_type": "stream",
     "text": [
      "No defined compartments in model ContextModel. Compartments will be deduced heuristically using regular expressions.\n",
      "Using regular expression found the following compartments:c, e, g, l, m, n, r, x\n"
     ]
    },
    {
     "name": "stdout",
     "output_type": "stream",
     "text": [
      "The simulation of CTGAAGTGGCTATG-1 (236) fluxes takes: 0.9238669872283936 seconds\n"
     ]
    },
    {
     "name": "stderr",
     "output_type": "stream",
     "text": [
      "No defined compartments in model ContextModel. Compartments will be deduced heuristically using regular expressions.\n",
      "Using regular expression found the following compartments:c, e, g, l, m, n, r, x\n"
     ]
    },
    {
     "name": "stdout",
     "output_type": "stream",
     "text": [
      "The simulation of GAGGTACTACGGTT-1 (237) fluxes takes: 0.7612471580505371 seconds\n"
     ]
    },
    {
     "name": "stderr",
     "output_type": "stream",
     "text": [
      "No defined compartments in model ContextModel. Compartments will be deduced heuristically using regular expressions.\n",
      "Using regular expression found the following compartments:c, e, g, l, m, n, r, x\n"
     ]
    },
    {
     "name": "stdout",
     "output_type": "stream",
     "text": [
      "The simulation of TGCGTAGAATAAGG-1 (238) fluxes takes: 0.873772144317627 seconds\n"
     ]
    },
    {
     "name": "stderr",
     "output_type": "stream",
     "text": [
      "No defined compartments in model ContextModel. Compartments will be deduced heuristically using regular expressions.\n",
      "Using regular expression found the following compartments:c, e, g, l, m, n, r, x\n"
     ]
    },
    {
     "name": "stdout",
     "output_type": "stream",
     "text": [
      "The simulation of CCGTACACGTCATG-1 (239) fluxes takes: 0.720717191696167 seconds\n"
     ]
    },
    {
     "name": "stderr",
     "output_type": "stream",
     "text": [
      "No defined compartments in model ContextModel. Compartments will be deduced heuristically using regular expressions.\n",
      "Using regular expression found the following compartments:c, e, g, l, m, n, r, x\n"
     ]
    },
    {
     "name": "stdout",
     "output_type": "stream",
     "text": [
      "The simulation of ATAGCGTGTCTCTA-1 (240) fluxes takes: 0.8454437255859375 seconds\n"
     ]
    },
    {
     "name": "stderr",
     "output_type": "stream",
     "text": [
      "No defined compartments in model ContextModel. Compartments will be deduced heuristically using regular expressions.\n",
      "Using regular expression found the following compartments:c, e, g, l, m, n, r, x\n"
     ]
    },
    {
     "name": "stdout",
     "output_type": "stream",
     "text": [
      "The simulation of CCAATTTGAACGTC-1 (241) fluxes takes: 1.1637303829193115 seconds\n"
     ]
    },
    {
     "name": "stderr",
     "output_type": "stream",
     "text": [
      "No defined compartments in model ContextModel. Compartments will be deduced heuristically using regular expressions.\n",
      "Using regular expression found the following compartments:c, e, g, l, m, n, r, x\n"
     ]
    },
    {
     "name": "stdout",
     "output_type": "stream",
     "text": [
      "The simulation of TAACTAGAATTTCC-1 (242) fluxes takes: 0.7973339557647705 seconds\n"
     ]
    },
    {
     "name": "stderr",
     "output_type": "stream",
     "text": [
      "No defined compartments in model ContextModel. Compartments will be deduced heuristically using regular expressions.\n",
      "Using regular expression found the following compartments:c, e, g, l, m, n, r, x\n"
     ]
    },
    {
     "name": "stdout",
     "output_type": "stream",
     "text": [
      "The simulation of TACTCCCTCAGTTG-1 (243) fluxes takes: 0.7845079898834229 seconds\n"
     ]
    },
    {
     "name": "stderr",
     "output_type": "stream",
     "text": [
      "No defined compartments in model ContextModel. Compartments will be deduced heuristically using regular expressions.\n",
      "Using regular expression found the following compartments:c, e, g, l, m, n, r, x\n"
     ]
    },
    {
     "name": "stdout",
     "output_type": "stream",
     "text": [
      "The simulation of CAGACCCTAATGCC-1 (244) fluxes takes: 0.7891020774841309 seconds\n"
     ]
    },
    {
     "name": "stderr",
     "output_type": "stream",
     "text": [
      "No defined compartments in model ContextModel. Compartments will be deduced heuristically using regular expressions.\n",
      "Using regular expression found the following compartments:c, e, g, l, m, n, r, x\n"
     ]
    },
    {
     "name": "stdout",
     "output_type": "stream",
     "text": [
      "The simulation of GCACCTTGGCTGTA-1 (245) fluxes takes: 0.8420727252960205 seconds\n"
     ]
    },
    {
     "name": "stderr",
     "output_type": "stream",
     "text": [
      "No defined compartments in model ContextModel. Compartments will be deduced heuristically using regular expressions.\n",
      "Using regular expression found the following compartments:c, e, g, l, m, n, r, x\n"
     ]
    },
    {
     "name": "stdout",
     "output_type": "stream",
     "text": [
      "The simulation of TCCGGACTGTACGT-1 (246) fluxes takes: 0.8204379081726074 seconds\n"
     ]
    },
    {
     "name": "stderr",
     "output_type": "stream",
     "text": [
      "No defined compartments in model ContextModel. Compartments will be deduced heuristically using regular expressions.\n",
      "Using regular expression found the following compartments:c, e, g, l, m, n, r, x\n"
     ]
    },
    {
     "name": "stdout",
     "output_type": "stream",
     "text": [
      "The simulation of TCAATCACACTCTT-1 (247) fluxes takes: 0.8514339923858643 seconds\n"
     ]
    },
    {
     "name": "stderr",
     "output_type": "stream",
     "text": [
      "No defined compartments in model ContextModel. Compartments will be deduced heuristically using regular expressions.\n",
      "Using regular expression found the following compartments:c, e, g, l, m, n, r, x\n"
     ]
    },
    {
     "name": "stdout",
     "output_type": "stream",
     "text": [
      "The simulation of TTCCCACTTGAGGG-1 (248) fluxes takes: 0.652850866317749 seconds\n"
     ]
    },
    {
     "name": "stderr",
     "output_type": "stream",
     "text": [
      "No defined compartments in model ContextModel. Compartments will be deduced heuristically using regular expressions.\n",
      "Using regular expression found the following compartments:c, e, g, l, m, n, r, x\n"
     ]
    },
    {
     "name": "stdout",
     "output_type": "stream",
     "text": [
      "The simulation of GGGATTACGTCTAG-1 (249) fluxes takes: 0.8155190944671631 seconds\n"
     ]
    },
    {
     "name": "stderr",
     "output_type": "stream",
     "text": [
      "No defined compartments in model ContextModel. Compartments will be deduced heuristically using regular expressions.\n",
      "Using regular expression found the following compartments:c, e, g, l, m, n, r, x\n"
     ]
    },
    {
     "name": "stdout",
     "output_type": "stream",
     "text": [
      "The simulation of TACGTACTCCCGTT-1 (250) fluxes takes: 0.8421509265899658 seconds\n"
     ]
    },
    {
     "name": "stderr",
     "output_type": "stream",
     "text": [
      "No defined compartments in model ContextModel. Compartments will be deduced heuristically using regular expressions.\n",
      "Using regular expression found the following compartments:c, e, g, l, m, n, r, x\n"
     ]
    },
    {
     "name": "stdout",
     "output_type": "stream",
     "text": [
      "The simulation of TACATCACGCTAAC-1 (251) fluxes takes: 0.7813489437103271 seconds\n"
     ]
    },
    {
     "name": "stderr",
     "output_type": "stream",
     "text": [
      "No defined compartments in model ContextModel. Compartments will be deduced heuristically using regular expressions.\n",
      "Using regular expression found the following compartments:c, e, g, l, m, n, r, x\n"
     ]
    },
    {
     "name": "stdout",
     "output_type": "stream",
     "text": [
      "The simulation of AGATATACGATGAA-1 (252) fluxes takes: 0.868880033493042 seconds\n"
     ]
    },
    {
     "name": "stderr",
     "output_type": "stream",
     "text": [
      "No defined compartments in model ContextModel. Compartments will be deduced heuristically using regular expressions.\n",
      "Using regular expression found the following compartments:c, e, g, l, m, n, r, x\n"
     ]
    },
    {
     "name": "stdout",
     "output_type": "stream",
     "text": [
      "The simulation of TGCCGACTCTCCCA-1 (253) fluxes takes: 0.8069629669189453 seconds\n"
     ]
    },
    {
     "name": "stderr",
     "output_type": "stream",
     "text": [
      "No defined compartments in model ContextModel. Compartments will be deduced heuristically using regular expressions.\n",
      "Using regular expression found the following compartments:c, e, g, l, m, n, r, x\n"
     ]
    },
    {
     "name": "stdout",
     "output_type": "stream",
     "text": [
      "The simulation of GTCACCTGTCCCGT-1 (254) fluxes takes: 0.9902279376983643 seconds\n"
     ]
    },
    {
     "name": "stderr",
     "output_type": "stream",
     "text": [
      "No defined compartments in model ContextModel. Compartments will be deduced heuristically using regular expressions.\n",
      "Using regular expression found the following compartments:c, e, g, l, m, n, r, x\n"
     ]
    },
    {
     "name": "stdout",
     "output_type": "stream",
     "text": [
      "The simulation of GATCCCTGTGTAGC-1 (255) fluxes takes: 0.8193399906158447 seconds\n",
      "The simulation of TCGACGCTTCTATC-1 (256) fluxes takes: 1.509911060333252 seconds\n"
     ]
    },
    {
     "name": "stderr",
     "output_type": "stream",
     "text": [
      "No defined compartments in model ContextModel. Compartments will be deduced heuristically using regular expressions.\n",
      "Using regular expression found the following compartments:c, e, g, l, m, n, r, x\n",
      "No defined compartments in model ContextModel. Compartments will be deduced heuristically using regular expressions.\n",
      "Using regular expression found the following compartments:c, e, g, l, m, n, r, x\n"
     ]
    },
    {
     "name": "stdout",
     "output_type": "stream",
     "text": [
      "The simulation of TACTAAGATTGCGA-1 (257) fluxes takes: 0.7584359645843506 seconds\n"
     ]
    },
    {
     "name": "stderr",
     "output_type": "stream",
     "text": [
      "No defined compartments in model ContextModel. Compartments will be deduced heuristically using regular expressions.\n",
      "Using regular expression found the following compartments:c, e, g, l, m, n, r, x\n"
     ]
    },
    {
     "name": "stdout",
     "output_type": "stream",
     "text": [
      "The simulation of CAATTCACCCAACA-1 (258) fluxes takes: 0.6421430110931396 seconds\n"
     ]
    },
    {
     "name": "stderr",
     "output_type": "stream",
     "text": [
      "No defined compartments in model ContextModel. Compartments will be deduced heuristically using regular expressions.\n",
      "Using regular expression found the following compartments:c, e, g, l, m, n, r, x\n"
     ]
    },
    {
     "name": "stdout",
     "output_type": "stream",
     "text": [
      "The simulation of CGACGTCTGAGGCA-1 (259) fluxes takes: 0.7499990463256836 seconds\n"
     ]
    },
    {
     "name": "stderr",
     "output_type": "stream",
     "text": [
      "No defined compartments in model ContextModel. Compartments will be deduced heuristically using regular expressions.\n",
      "Using regular expression found the following compartments:c, e, g, l, m, n, r, x\n"
     ]
    },
    {
     "name": "stdout",
     "output_type": "stream",
     "text": [
      "The simulation of AACCGATGCTCCCA-1 (260) fluxes takes: 0.8048360347747803 seconds\n"
     ]
    },
    {
     "name": "stderr",
     "output_type": "stream",
     "text": [
      "No defined compartments in model ContextModel. Compartments will be deduced heuristically using regular expressions.\n",
      "Using regular expression found the following compartments:c, e, g, l, m, n, r, x\n"
     ]
    },
    {
     "name": "stdout",
     "output_type": "stream",
     "text": [
      "The simulation of AGTACGTGCTGCAA-1 (261) fluxes takes: 0.85201096534729 seconds\n"
     ]
    },
    {
     "name": "stderr",
     "output_type": "stream",
     "text": [
      "No defined compartments in model ContextModel. Compartments will be deduced heuristically using regular expressions.\n",
      "Using regular expression found the following compartments:c, e, g, l, m, n, r, x\n"
     ]
    },
    {
     "name": "stdout",
     "output_type": "stream",
     "text": [
      "The simulation of GGTACATGCGGTAT-1 (262) fluxes takes: 0.6281909942626953 seconds\n"
     ]
    },
    {
     "name": "stderr",
     "output_type": "stream",
     "text": [
      "No defined compartments in model ContextModel. Compartments will be deduced heuristically using regular expressions.\n",
      "Using regular expression found the following compartments:c, e, g, l, m, n, r, x\n"
     ]
    },
    {
     "name": "stdout",
     "output_type": "stream",
     "text": [
      "The simulation of GAAGGTCTGTTGCA-1 (263) fluxes takes: 0.9655921459197998 seconds\n"
     ]
    },
    {
     "name": "stderr",
     "output_type": "stream",
     "text": [
      "No defined compartments in model ContextModel. Compartments will be deduced heuristically using regular expressions.\n",
      "Using regular expression found the following compartments:c, e, g, l, m, n, r, x\n"
     ]
    },
    {
     "name": "stdout",
     "output_type": "stream",
     "text": [
      "The simulation of CAACCAGAGTTCAG-1 (264) fluxes takes: 0.8662400245666504 seconds\n"
     ]
    },
    {
     "name": "stderr",
     "output_type": "stream",
     "text": [
      "No defined compartments in model ContextModel. Compartments will be deduced heuristically using regular expressions.\n",
      "Using regular expression found the following compartments:c, e, g, l, m, n, r, x\n"
     ]
    },
    {
     "name": "stdout",
     "output_type": "stream",
     "text": [
      "The simulation of GGATAGCTCGTCTC-1 (265) fluxes takes: 0.781606912612915 seconds\n"
     ]
    },
    {
     "name": "stderr",
     "output_type": "stream",
     "text": [
      "No defined compartments in model ContextModel. Compartments will be deduced heuristically using regular expressions.\n",
      "Using regular expression found the following compartments:c, e, g, l, m, n, r, x\n"
     ]
    },
    {
     "name": "stdout",
     "output_type": "stream",
     "text": [
      "The simulation of ACCCACTGGACAGG-1 (266) fluxes takes: 0.8649158477783203 seconds\n"
     ]
    },
    {
     "name": "stderr",
     "output_type": "stream",
     "text": [
      "No defined compartments in model ContextModel. Compartments will be deduced heuristically using regular expressions.\n",
      "Using regular expression found the following compartments:c, e, g, l, m, n, r, x\n"
     ]
    },
    {
     "name": "stdout",
     "output_type": "stream",
     "text": [
      "The simulation of GACGATTGCCAATG-1 (267) fluxes takes: 0.7368748188018799 seconds\n"
     ]
    },
    {
     "name": "stderr",
     "output_type": "stream",
     "text": [
      "No defined compartments in model ContextModel. Compartments will be deduced heuristically using regular expressions.\n",
      "Using regular expression found the following compartments:c, e, g, l, m, n, r, x\n"
     ]
    },
    {
     "name": "stdout",
     "output_type": "stream",
     "text": [
      "The simulation of CACTTTGAGCTGTA-1 (268) fluxes takes: 0.7478001117706299 seconds\n"
     ]
    },
    {
     "name": "stderr",
     "output_type": "stream",
     "text": [
      "No defined compartments in model ContextModel. Compartments will be deduced heuristically using regular expressions.\n",
      "Using regular expression found the following compartments:c, e, g, l, m, n, r, x\n"
     ]
    },
    {
     "name": "stdout",
     "output_type": "stream",
     "text": [
      "The simulation of CAGCTCTGAGGCGA-1 (269) fluxes takes: 0.8143758773803711 seconds\n"
     ]
    },
    {
     "name": "stderr",
     "output_type": "stream",
     "text": [
      "No defined compartments in model ContextModel. Compartments will be deduced heuristically using regular expressions.\n",
      "Using regular expression found the following compartments:c, e, g, l, m, n, r, x\n"
     ]
    },
    {
     "name": "stdout",
     "output_type": "stream",
     "text": [
      "The simulation of TATGCGGATAACCG-1 (270) fluxes takes: 0.8499889373779297 seconds\n"
     ]
    },
    {
     "name": "stderr",
     "output_type": "stream",
     "text": [
      "No defined compartments in model ContextModel. Compartments will be deduced heuristically using regular expressions.\n",
      "Using regular expression found the following compartments:c, e, g, l, m, n, r, x\n"
     ]
    },
    {
     "name": "stdout",
     "output_type": "stream",
     "text": [
      "The simulation of GGAATGCTTTCTAC-1 (271) fluxes takes: 0.6872479915618896 seconds\n"
     ]
    },
    {
     "name": "stderr",
     "output_type": "stream",
     "text": [
      "No defined compartments in model ContextModel. Compartments will be deduced heuristically using regular expressions.\n",
      "Using regular expression found the following compartments:c, e, g, l, m, n, r, x\n"
     ]
    },
    {
     "name": "stdout",
     "output_type": "stream",
     "text": [
      "The simulation of AGCACTGATATGCG-1 (272) fluxes takes: 0.7490229606628418 seconds\n"
     ]
    },
    {
     "name": "stderr",
     "output_type": "stream",
     "text": [
      "No defined compartments in model ContextModel. Compartments will be deduced heuristically using regular expressions.\n",
      "Using regular expression found the following compartments:c, e, g, l, m, n, r, x\n"
     ]
    },
    {
     "name": "stdout",
     "output_type": "stream",
     "text": [
      "The simulation of GTATCTACAGAAGT-1 (273) fluxes takes: 0.8903317451477051 seconds\n"
     ]
    },
    {
     "name": "stderr",
     "output_type": "stream",
     "text": [
      "No defined compartments in model ContextModel. Compartments will be deduced heuristically using regular expressions.\n",
      "Using regular expression found the following compartments:c, e, g, l, m, n, r, x\n"
     ]
    },
    {
     "name": "stdout",
     "output_type": "stream",
     "text": [
      "The simulation of GAGGGCCTTCACCC-1 (274) fluxes takes: 0.8696498870849609 seconds\n"
     ]
    },
    {
     "name": "stderr",
     "output_type": "stream",
     "text": [
      "No defined compartments in model ContextModel. Compartments will be deduced heuristically using regular expressions.\n",
      "Using regular expression found the following compartments:c, e, g, l, m, n, r, x\n"
     ]
    },
    {
     "name": "stdout",
     "output_type": "stream",
     "text": [
      "The simulation of TTCTACGAACGTAC-1 (275) fluxes takes: 0.7872698307037354 seconds\n"
     ]
    },
    {
     "name": "stderr",
     "output_type": "stream",
     "text": [
      "No defined compartments in model ContextModel. Compartments will be deduced heuristically using regular expressions.\n",
      "Using regular expression found the following compartments:c, e, g, l, m, n, r, x\n"
     ]
    },
    {
     "name": "stdout",
     "output_type": "stream",
     "text": [
      "The simulation of CAGCCTTGCTACCC-1 (276) fluxes takes: 0.6846048831939697 seconds\n"
     ]
    },
    {
     "name": "stderr",
     "output_type": "stream",
     "text": [
      "No defined compartments in model ContextModel. Compartments will be deduced heuristically using regular expressions.\n",
      "Using regular expression found the following compartments:c, e, g, l, m, n, r, x\n"
     ]
    },
    {
     "name": "stdout",
     "output_type": "stream",
     "text": [
      "The simulation of TAAGTAACTTGTCT-1 (277) fluxes takes: 0.837310791015625 seconds\n"
     ]
    },
    {
     "name": "stderr",
     "output_type": "stream",
     "text": [
      "No defined compartments in model ContextModel. Compartments will be deduced heuristically using regular expressions.\n",
      "Using regular expression found the following compartments:c, e, g, l, m, n, r, x\n"
     ]
    },
    {
     "name": "stdout",
     "output_type": "stream",
     "text": [
      "The simulation of TAGAGCACCTTACT-1 (278) fluxes takes: 0.7963919639587402 seconds\n"
     ]
    },
    {
     "name": "stderr",
     "output_type": "stream",
     "text": [
      "No defined compartments in model ContextModel. Compartments will be deduced heuristically using regular expressions.\n",
      "Using regular expression found the following compartments:c, e, g, l, m, n, r, x\n"
     ]
    },
    {
     "name": "stdout",
     "output_type": "stream",
     "text": [
      "The simulation of ATACCGGAGGTGTT-1 (279) fluxes takes: 0.93212890625 seconds\n"
     ]
    },
    {
     "name": "stderr",
     "output_type": "stream",
     "text": [
      "No defined compartments in model ContextModel. Compartments will be deduced heuristically using regular expressions.\n",
      "Using regular expression found the following compartments:c, e, g, l, m, n, r, x\n"
     ]
    },
    {
     "name": "stdout",
     "output_type": "stream",
     "text": [
      "The simulation of TTACCATGAATCGC-1 (280) fluxes takes: 0.8520548343658447 seconds\n"
     ]
    },
    {
     "name": "stderr",
     "output_type": "stream",
     "text": [
      "No defined compartments in model ContextModel. Compartments will be deduced heuristically using regular expressions.\n",
      "Using regular expression found the following compartments:c, e, g, l, m, n, r, x\n"
     ]
    },
    {
     "name": "stdout",
     "output_type": "stream",
     "text": [
      "The simulation of CGATCAGAGGTACT-1 (281) fluxes takes: 0.9212579727172852 seconds\n"
     ]
    },
    {
     "name": "stderr",
     "output_type": "stream",
     "text": [
      "No defined compartments in model ContextModel. Compartments will be deduced heuristically using regular expressions.\n",
      "Using regular expression found the following compartments:c, e, g, l, m, n, r, x\n"
     ]
    },
    {
     "name": "stdout",
     "output_type": "stream",
     "text": [
      "The simulation of TTAACCACTCAGAC-1 (282) fluxes takes: 0.7555241584777832 seconds\n"
     ]
    },
    {
     "name": "stderr",
     "output_type": "stream",
     "text": [
      "No defined compartments in model ContextModel. Compartments will be deduced heuristically using regular expressions.\n",
      "Using regular expression found the following compartments:c, e, g, l, m, n, r, x\n"
     ]
    },
    {
     "name": "stdout",
     "output_type": "stream",
     "text": [
      "The simulation of CGATACGACAGGAG-1 (283) fluxes takes: 1.0080630779266357 seconds\n"
     ]
    },
    {
     "name": "stderr",
     "output_type": "stream",
     "text": [
      "No defined compartments in model ContextModel. Compartments will be deduced heuristically using regular expressions.\n",
      "Using regular expression found the following compartments:c, e, g, l, m, n, r, x\n"
     ]
    },
    {
     "name": "stdout",
     "output_type": "stream",
     "text": [
      "The simulation of GCCCATACAGCGTT-1 (284) fluxes takes: 0.8636670112609863 seconds\n"
     ]
    },
    {
     "name": "stderr",
     "output_type": "stream",
     "text": [
      "No defined compartments in model ContextModel. Compartments will be deduced heuristically using regular expressions.\n",
      "Using regular expression found the following compartments:c, e, g, l, m, n, r, x\n"
     ]
    },
    {
     "name": "stdout",
     "output_type": "stream",
     "text": [
      "The simulation of GCTATACTGGACGA-1 (285) fluxes takes: 0.8454320430755615 seconds\n"
     ]
    },
    {
     "name": "stderr",
     "output_type": "stream",
     "text": [
      "No defined compartments in model ContextModel. Compartments will be deduced heuristically using regular expressions.\n",
      "Using regular expression found the following compartments:c, e, g, l, m, n, r, x\n"
     ]
    },
    {
     "name": "stdout",
     "output_type": "stream",
     "text": [
      "The simulation of ATGTACCTTAGTCG-1 (286) fluxes takes: 0.807379961013794 seconds\n"
     ]
    },
    {
     "name": "stderr",
     "output_type": "stream",
     "text": [
      "No defined compartments in model ContextModel. Compartments will be deduced heuristically using regular expressions.\n",
      "Using regular expression found the following compartments:c, e, g, l, m, n, r, x\n"
     ]
    },
    {
     "name": "stdout",
     "output_type": "stream",
     "text": [
      "The simulation of ACCGTGCTGGAACG-1 (287) fluxes takes: 0.7143521308898926 seconds\n"
     ]
    },
    {
     "name": "stderr",
     "output_type": "stream",
     "text": [
      "No defined compartments in model ContextModel. Compartments will be deduced heuristically using regular expressions.\n",
      "Using regular expression found the following compartments:c, e, g, l, m, n, r, x\n"
     ]
    },
    {
     "name": "stdout",
     "output_type": "stream",
     "text": [
      "The simulation of ACCCAGCTGTTAGC-1 (288) fluxes takes: 0.9130978584289551 seconds\n"
     ]
    },
    {
     "name": "stderr",
     "output_type": "stream",
     "text": [
      "No defined compartments in model ContextModel. Compartments will be deduced heuristically using regular expressions.\n",
      "Using regular expression found the following compartments:c, e, g, l, m, n, r, x\n"
     ]
    },
    {
     "name": "stdout",
     "output_type": "stream",
     "text": [
      "The simulation of CAGGCCGAACACGT-1 (289) fluxes takes: 0.9047951698303223 seconds\n"
     ]
    },
    {
     "name": "stderr",
     "output_type": "stream",
     "text": [
      "No defined compartments in model ContextModel. Compartments will be deduced heuristically using regular expressions.\n",
      "Using regular expression found the following compartments:c, e, g, l, m, n, r, x\n"
     ]
    },
    {
     "name": "stdout",
     "output_type": "stream",
     "text": [
      "The simulation of CAGCGTCTTATCGG-1 (290) fluxes takes: 0.869682788848877 seconds\n"
     ]
    },
    {
     "name": "stderr",
     "output_type": "stream",
     "text": [
      "No defined compartments in model ContextModel. Compartments will be deduced heuristically using regular expressions.\n",
      "Using regular expression found the following compartments:c, e, g, l, m, n, r, x\n"
     ]
    },
    {
     "name": "stdout",
     "output_type": "stream",
     "text": [
      "The simulation of TCAGTGGAAGATCC-1 (291) fluxes takes: 0.894834041595459 seconds\n"
     ]
    },
    {
     "name": "stderr",
     "output_type": "stream",
     "text": [
      "No defined compartments in model ContextModel. Compartments will be deduced heuristically using regular expressions.\n",
      "Using regular expression found the following compartments:c, e, g, l, m, n, r, x\n"
     ]
    },
    {
     "name": "stdout",
     "output_type": "stream",
     "text": [
      "The simulation of CATTGTACTCGATG-1 (292) fluxes takes: 0.7692341804504395 seconds\n"
     ]
    },
    {
     "name": "stderr",
     "output_type": "stream",
     "text": [
      "No defined compartments in model ContextModel. Compartments will be deduced heuristically using regular expressions.\n",
      "Using regular expression found the following compartments:c, e, g, l, m, n, r, x\n"
     ]
    },
    {
     "name": "stdout",
     "output_type": "stream",
     "text": [
      "The simulation of ACGGTAACCTTCGC-1 (293) fluxes takes: 0.6920018196105957 seconds\n"
     ]
    },
    {
     "name": "stderr",
     "output_type": "stream",
     "text": [
      "No defined compartments in model ContextModel. Compartments will be deduced heuristically using regular expressions.\n",
      "Using regular expression found the following compartments:c, e, g, l, m, n, r, x\n"
     ]
    },
    {
     "name": "stdout",
     "output_type": "stream",
     "text": [
      "The simulation of TAGAAACTAATCGC-1 (294) fluxes takes: 0.8172497749328613 seconds\n"
     ]
    },
    {
     "name": "stderr",
     "output_type": "stream",
     "text": [
      "No defined compartments in model ContextModel. Compartments will be deduced heuristically using regular expressions.\n",
      "Using regular expression found the following compartments:c, e, g, l, m, n, r, x\n"
     ]
    },
    {
     "name": "stdout",
     "output_type": "stream",
     "text": [
      "The simulation of GAAGGTCTGAAAGT-1 (295) fluxes takes: 0.772050142288208 seconds\n"
     ]
    },
    {
     "name": "stderr",
     "output_type": "stream",
     "text": [
      "No defined compartments in model ContextModel. Compartments will be deduced heuristically using regular expressions.\n",
      "Using regular expression found the following compartments:c, e, g, l, m, n, r, x\n"
     ]
    },
    {
     "name": "stdout",
     "output_type": "stream",
     "text": [
      "The simulation of TTTCAGTGTGCAGT-1 (296) fluxes takes: 0.793118953704834 seconds\n"
     ]
    },
    {
     "name": "stderr",
     "output_type": "stream",
     "text": [
      "No defined compartments in model ContextModel. Compartments will be deduced heuristically using regular expressions.\n",
      "Using regular expression found the following compartments:c, e, g, l, m, n, r, x\n"
     ]
    },
    {
     "name": "stdout",
     "output_type": "stream",
     "text": [
      "The simulation of TGATTCTGCTCTTA-1 (297) fluxes takes: 0.7631180286407471 seconds\n"
     ]
    },
    {
     "name": "stderr",
     "output_type": "stream",
     "text": [
      "No defined compartments in model ContextModel. Compartments will be deduced heuristically using regular expressions.\n",
      "Using regular expression found the following compartments:c, e, g, l, m, n, r, x\n"
     ]
    },
    {
     "name": "stdout",
     "output_type": "stream",
     "text": [
      "The simulation of GTCCCATGTGGTGT-1 (298) fluxes takes: 1.186492919921875 seconds\n"
     ]
    },
    {
     "name": "stderr",
     "output_type": "stream",
     "text": [
      "No defined compartments in model ContextModel. Compartments will be deduced heuristically using regular expressions.\n",
      "Using regular expression found the following compartments:c, e, g, l, m, n, r, x\n"
     ]
    },
    {
     "name": "stdout",
     "output_type": "stream",
     "text": [
      "The simulation of GGCCGATGCAGGAG-1 (299) fluxes takes: 0.7107770442962646 seconds\n"
     ]
    },
    {
     "name": "stderr",
     "output_type": "stream",
     "text": [
      "No defined compartments in model ContextModel. Compartments will be deduced heuristically using regular expressions.\n",
      "Using regular expression found the following compartments:c, e, g, l, m, n, r, x\n"
     ]
    },
    {
     "name": "stdout",
     "output_type": "stream",
     "text": [
      "The simulation of TTCAGTTGTCTAGG-1 (300) fluxes takes: 0.7432858943939209 seconds\n"
     ]
    },
    {
     "name": "stderr",
     "output_type": "stream",
     "text": [
      "No defined compartments in model ContextModel. Compartments will be deduced heuristically using regular expressions.\n",
      "Using regular expression found the following compartments:c, e, g, l, m, n, r, x\n"
     ]
    },
    {
     "name": "stdout",
     "output_type": "stream",
     "text": [
      "The simulation of GACCTCACGTACGT-1 (301) fluxes takes: 1.1542341709136963 seconds\n"
     ]
    },
    {
     "name": "stderr",
     "output_type": "stream",
     "text": [
      "No defined compartments in model ContextModel. Compartments will be deduced heuristically using regular expressions.\n",
      "Using regular expression found the following compartments:c, e, g, l, m, n, r, x\n"
     ]
    },
    {
     "name": "stdout",
     "output_type": "stream",
     "text": [
      "The simulation of ACCAGTGATGACTG-1 (302) fluxes takes: 0.8723511695861816 seconds\n",
      "The simulation of TGCAATCTTCAGGT-1 (303) fluxes takes: 1.1412181854248047 seconds\n"
     ]
    },
    {
     "name": "stderr",
     "output_type": "stream",
     "text": [
      "No defined compartments in model ContextModel. Compartments will be deduced heuristically using regular expressions.\n",
      "Using regular expression found the following compartments:c, e, g, l, m, n, r, x\n",
      "No defined compartments in model ContextModel. Compartments will be deduced heuristically using regular expressions.\n",
      "Using regular expression found the following compartments:c, e, g, l, m, n, r, x\n"
     ]
    },
    {
     "name": "stdout",
     "output_type": "stream",
     "text": [
      "The simulation of AGCGTAACTGAGAA-1 (304) fluxes takes: 1.1249158382415771 seconds\n",
      "The simulation of GGCCGATGTACTCT-1 (305) fluxes takes: 0.8371129035949707 seconds\n"
     ]
    },
    {
     "name": "stderr",
     "output_type": "stream",
     "text": [
      "No defined compartments in model ContextModel. Compartments will be deduced heuristically using regular expressions.\n",
      "Using regular expression found the following compartments:c, e, g, l, m, n, r, x\n"
     ]
    },
    {
     "name": "stdout",
     "output_type": "stream",
     "text": [
      "The simulation of GTAGCAACAGTCGT-1 (306) fluxes takes: 1.1755380630493164 seconds\n"
     ]
    },
    {
     "name": "stderr",
     "output_type": "stream",
     "text": [
      "No defined compartments in model ContextModel. Compartments will be deduced heuristically using regular expressions.\n",
      "Using regular expression found the following compartments:c, e, g, l, m, n, r, x\n",
      "No defined compartments in model ContextModel. Compartments will be deduced heuristically using regular expressions.\n",
      "Using regular expression found the following compartments:c, e, g, l, m, n, r, x\n"
     ]
    },
    {
     "name": "stdout",
     "output_type": "stream",
     "text": [
      "The simulation of ATCGCCTGTGGCAT-1 (307) fluxes takes: 0.7817761898040771 seconds\n"
     ]
    },
    {
     "name": "stderr",
     "output_type": "stream",
     "text": [
      "No defined compartments in model ContextModel. Compartments will be deduced heuristically using regular expressions.\n",
      "Using regular expression found the following compartments:c, e, g, l, m, n, r, x\n"
     ]
    },
    {
     "name": "stdout",
     "output_type": "stream",
     "text": [
      "The simulation of CCAAGAACGTGTCA-1 (308) fluxes takes: 0.8396143913269043 seconds\n"
     ]
    },
    {
     "name": "stderr",
     "output_type": "stream",
     "text": [
      "No defined compartments in model ContextModel. Compartments will be deduced heuristically using regular expressions.\n",
      "Using regular expression found the following compartments:c, e, g, l, m, n, r, x\n"
     ]
    },
    {
     "name": "stdout",
     "output_type": "stream",
     "text": [
      "The simulation of TCTCTAGAATTTCC-1 (309) fluxes takes: 0.9746899604797363 seconds\n"
     ]
    },
    {
     "name": "stderr",
     "output_type": "stream",
     "text": [
      "No defined compartments in model ContextModel. Compartments will be deduced heuristically using regular expressions.\n",
      "Using regular expression found the following compartments:c, e, g, l, m, n, r, x\n"
     ]
    },
    {
     "name": "stdout",
     "output_type": "stream",
     "text": [
      "The simulation of CCAGTCACGTTGTG-1 (310) fluxes takes: 0.794349193572998 seconds\n"
     ]
    },
    {
     "name": "stderr",
     "output_type": "stream",
     "text": [
      "No defined compartments in model ContextModel. Compartments will be deduced heuristically using regular expressions.\n",
      "Using regular expression found the following compartments:c, e, g, l, m, n, r, x\n"
     ]
    },
    {
     "name": "stdout",
     "output_type": "stream",
     "text": [
      "The simulation of GGCAAGGACTTGGA-1 (311) fluxes takes: 1.0859930515289307 seconds\n"
     ]
    },
    {
     "name": "stderr",
     "output_type": "stream",
     "text": [
      "No defined compartments in model ContextModel. Compartments will be deduced heuristically using regular expressions.\n",
      "Using regular expression found the following compartments:c, e, g, l, m, n, r, x\n"
     ]
    },
    {
     "name": "stdout",
     "output_type": "stream",
     "text": [
      "The simulation of TGTTAAGATAAGGA-1 (312) fluxes takes: 0.8144698143005371 seconds\n"
     ]
    },
    {
     "name": "stderr",
     "output_type": "stream",
     "text": [
      "No defined compartments in model ContextModel. Compartments will be deduced heuristically using regular expressions.\n",
      "Using regular expression found the following compartments:c, e, g, l, m, n, r, x\n"
     ]
    },
    {
     "name": "stdout",
     "output_type": "stream",
     "text": [
      "The simulation of ACGGTAACTCGCAA-1 (313) fluxes takes: 0.7667298316955566 seconds\n"
     ]
    },
    {
     "name": "stderr",
     "output_type": "stream",
     "text": [
      "No defined compartments in model ContextModel. Compartments will be deduced heuristically using regular expressions.\n",
      "Using regular expression found the following compartments:c, e, g, l, m, n, r, x\n"
     ]
    },
    {
     "name": "stdout",
     "output_type": "stream",
     "text": [
      "The simulation of TTATTCCTGGTACT-1 (314) fluxes takes: 0.8007762432098389 seconds\n"
     ]
    },
    {
     "name": "stderr",
     "output_type": "stream",
     "text": [
      "No defined compartments in model ContextModel. Compartments will be deduced heuristically using regular expressions.\n",
      "Using regular expression found the following compartments:c, e, g, l, m, n, r, x\n"
     ]
    },
    {
     "name": "stdout",
     "output_type": "stream",
     "text": [
      "The simulation of CCTAAACTTTCGTT-1 (315) fluxes takes: 0.7448530197143555 seconds\n"
     ]
    },
    {
     "name": "stderr",
     "output_type": "stream",
     "text": [
      "No defined compartments in model ContextModel. Compartments will be deduced heuristically using regular expressions.\n",
      "Using regular expression found the following compartments:c, e, g, l, m, n, r, x\n"
     ]
    },
    {
     "name": "stdout",
     "output_type": "stream",
     "text": [
      "The simulation of GTTAAATGCTCGAA-1 (316) fluxes takes: 0.6885929107666016 seconds\n"
     ]
    },
    {
     "name": "stderr",
     "output_type": "stream",
     "text": [
      "No defined compartments in model ContextModel. Compartments will be deduced heuristically using regular expressions.\n",
      "Using regular expression found the following compartments:c, e, g, l, m, n, r, x\n"
     ]
    },
    {
     "name": "stdout",
     "output_type": "stream",
     "text": [
      "The simulation of TGACTGGACCGTAA-1 (317) fluxes takes: 0.7628788948059082 seconds\n"
     ]
    },
    {
     "name": "stderr",
     "output_type": "stream",
     "text": [
      "No defined compartments in model ContextModel. Compartments will be deduced heuristically using regular expressions.\n",
      "Using regular expression found the following compartments:c, e, g, l, m, n, r, x\n"
     ]
    },
    {
     "name": "stdout",
     "output_type": "stream",
     "text": [
      "The simulation of GGCTAATGAGCACT-1 (318) fluxes takes: 0.827326774597168 seconds\n"
     ]
    },
    {
     "name": "stderr",
     "output_type": "stream",
     "text": [
      "No defined compartments in model ContextModel. Compartments will be deduced heuristically using regular expressions.\n",
      "Using regular expression found the following compartments:c, e, g, l, m, n, r, x\n"
     ]
    },
    {
     "name": "stdout",
     "output_type": "stream",
     "text": [
      "The simulation of TGTAGTCTTCCAGA-1 (319) fluxes takes: 0.6888539791107178 seconds\n"
     ]
    },
    {
     "name": "stderr",
     "output_type": "stream",
     "text": [
      "No defined compartments in model ContextModel. Compartments will be deduced heuristically using regular expressions.\n",
      "Using regular expression found the following compartments:c, e, g, l, m, n, r, x\n"
     ]
    },
    {
     "name": "stdout",
     "output_type": "stream",
     "text": [
      "The simulation of ATACCACTCGTACA-1 (320) fluxes takes: 0.8946230411529541 seconds\n"
     ]
    },
    {
     "name": "stderr",
     "output_type": "stream",
     "text": [
      "No defined compartments in model ContextModel. Compartments will be deduced heuristically using regular expressions.\n",
      "Using regular expression found the following compartments:c, e, g, l, m, n, r, x\n"
     ]
    },
    {
     "name": "stdout",
     "output_type": "stream",
     "text": [
      "The simulation of TACGCCACTCCCAC-1 (321) fluxes takes: 0.8792450428009033 seconds\n"
     ]
    },
    {
     "name": "stderr",
     "output_type": "stream",
     "text": [
      "No defined compartments in model ContextModel. Compartments will be deduced heuristically using regular expressions.\n",
      "Using regular expression found the following compartments:c, e, g, l, m, n, r, x\n"
     ]
    },
    {
     "name": "stdout",
     "output_type": "stream",
     "text": [
      "The simulation of TGTATCTGTTAGGC-1 (322) fluxes takes: 0.8670673370361328 seconds\n"
     ]
    },
    {
     "name": "stderr",
     "output_type": "stream",
     "text": [
      "No defined compartments in model ContextModel. Compartments will be deduced heuristically using regular expressions.\n",
      "Using regular expression found the following compartments:c, e, g, l, m, n, r, x\n"
     ]
    },
    {
     "name": "stdout",
     "output_type": "stream",
     "text": [
      "The simulation of ACTTGTACCTGTCC-1 (323) fluxes takes: 0.9080519676208496 seconds\n"
     ]
    },
    {
     "name": "stderr",
     "output_type": "stream",
     "text": [
      "No defined compartments in model ContextModel. Compartments will be deduced heuristically using regular expressions.\n",
      "Using regular expression found the following compartments:c, e, g, l, m, n, r, x\n"
     ]
    },
    {
     "name": "stdout",
     "output_type": "stream",
     "text": [
      "The simulation of GGGACCTGACCCTC-1 (324) fluxes takes: 1.0581698417663574 seconds\n"
     ]
    },
    {
     "name": "stderr",
     "output_type": "stream",
     "text": [
      "No defined compartments in model ContextModel. Compartments will be deduced heuristically using regular expressions.\n",
      "Using regular expression found the following compartments:c, e, g, l, m, n, r, x\n"
     ]
    },
    {
     "name": "stdout",
     "output_type": "stream",
     "text": [
      "The simulation of CTTTAGACTCATTC-1 (325) fluxes takes: 0.8200399875640869 seconds\n"
     ]
    },
    {
     "name": "stderr",
     "output_type": "stream",
     "text": [
      "No defined compartments in model ContextModel. Compartments will be deduced heuristically using regular expressions.\n",
      "Using regular expression found the following compartments:c, e, g, l, m, n, r, x\n"
     ]
    },
    {
     "name": "stdout",
     "output_type": "stream",
     "text": [
      "The simulation of TAGCATCTCAGCTA-1 (326) fluxes takes: 0.514063835144043 seconds\n"
     ]
    },
    {
     "name": "stderr",
     "output_type": "stream",
     "text": [
      "No defined compartments in model ContextModel. Compartments will be deduced heuristically using regular expressions.\n",
      "Using regular expression found the following compartments:c, e, g, l, m, n, r, x\n"
     ]
    },
    {
     "name": "stdout",
     "output_type": "stream",
     "text": [
      "The simulation of CATTGTACTTTGCT-1 (327) fluxes takes: 0.7607619762420654 seconds\n"
     ]
    },
    {
     "name": "stderr",
     "output_type": "stream",
     "text": [
      "No defined compartments in model ContextModel. Compartments will be deduced heuristically using regular expressions.\n",
      "Using regular expression found the following compartments:c, e, g, l, m, n, r, x\n"
     ]
    },
    {
     "name": "stdout",
     "output_type": "stream",
     "text": [
      "The simulation of TGATTCACTGTCAG-1 (328) fluxes takes: 0.7581896781921387 seconds\n"
     ]
    },
    {
     "name": "stderr",
     "output_type": "stream",
     "text": [
      "No defined compartments in model ContextModel. Compartments will be deduced heuristically using regular expressions.\n",
      "Using regular expression found the following compartments:c, e, g, l, m, n, r, x\n"
     ]
    },
    {
     "name": "stdout",
     "output_type": "stream",
     "text": [
      "The simulation of CCTAAGGACTAGCA-1 (329) fluxes takes: 1.0568387508392334 seconds\n"
     ]
    },
    {
     "name": "stderr",
     "output_type": "stream",
     "text": [
      "No defined compartments in model ContextModel. Compartments will be deduced heuristically using regular expressions.\n",
      "Using regular expression found the following compartments:c, e, g, l, m, n, r, x\n"
     ]
    },
    {
     "name": "stdout",
     "output_type": "stream",
     "text": [
      "The simulation of TTCATGTGTGGTGT-1 (330) fluxes takes: 0.7491722106933594 seconds\n"
     ]
    },
    {
     "name": "stderr",
     "output_type": "stream",
     "text": [
      "No defined compartments in model ContextModel. Compartments will be deduced heuristically using regular expressions.\n",
      "Using regular expression found the following compartments:c, e, g, l, m, n, r, x\n"
     ]
    },
    {
     "name": "stdout",
     "output_type": "stream",
     "text": [
      "The simulation of TCGATTTGATGCCA-1 (331) fluxes takes: 0.896226167678833 seconds\n"
     ]
    },
    {
     "name": "stderr",
     "output_type": "stream",
     "text": [
      "No defined compartments in model ContextModel. Compartments will be deduced heuristically using regular expressions.\n",
      "Using regular expression found the following compartments:c, e, g, l, m, n, r, x\n"
     ]
    },
    {
     "name": "stdout",
     "output_type": "stream",
     "text": [
      "The simulation of GAGCGCACGCGTAT-1 (332) fluxes takes: 0.9471681118011475 seconds\n"
     ]
    },
    {
     "name": "stderr",
     "output_type": "stream",
     "text": [
      "No defined compartments in model ContextModel. Compartments will be deduced heuristically using regular expressions.\n",
      "Using regular expression found the following compartments:c, e, g, l, m, n, r, x\n"
     ]
    },
    {
     "name": "stdout",
     "output_type": "stream",
     "text": [
      "The simulation of GGGAACGAAGCTCA-1 (333) fluxes takes: 0.863476037979126 seconds\n"
     ]
    },
    {
     "name": "stderr",
     "output_type": "stream",
     "text": [
      "No defined compartments in model ContextModel. Compartments will be deduced heuristically using regular expressions.\n",
      "Using regular expression found the following compartments:c, e, g, l, m, n, r, x\n"
     ]
    },
    {
     "name": "stdout",
     "output_type": "stream",
     "text": [
      "The simulation of AGGAAATGAGGAGC-1 (334) fluxes takes: 0.8041002750396729 seconds\n",
      "The simulation of GCTTAACTGCTGAT-1 (335) fluxes takes: 0.8980858325958252 seconds\n"
     ]
    },
    {
     "name": "stderr",
     "output_type": "stream",
     "text": [
      "No defined compartments in model ContextModel. Compartments will be deduced heuristically using regular expressions.\n",
      "Using regular expression found the following compartments:c, e, g, l, m, n, r, x\n",
      "No defined compartments in model ContextModel. Compartments will be deduced heuristically using regular expressions.\n",
      "Using regular expression found the following compartments:c, e, g, l, m, n, r, x\n"
     ]
    },
    {
     "name": "stdout",
     "output_type": "stream",
     "text": [
      "The simulation of TCTGATACTCGCCT-1 (336) fluxes takes: 0.9750938415527344 seconds\n"
     ]
    },
    {
     "name": "stderr",
     "output_type": "stream",
     "text": [
      "No defined compartments in model ContextModel. Compartments will be deduced heuristically using regular expressions.\n",
      "Using regular expression found the following compartments:c, e, g, l, m, n, r, x\n"
     ]
    },
    {
     "name": "stdout",
     "output_type": "stream",
     "text": [
      "The simulation of CAACCAGATAGAAG-1 (337) fluxes takes: 0.7306458950042725 seconds\n"
     ]
    },
    {
     "name": "stderr",
     "output_type": "stream",
     "text": [
      "No defined compartments in model ContextModel. Compartments will be deduced heuristically using regular expressions.\n",
      "Using regular expression found the following compartments:c, e, g, l, m, n, r, x\n"
     ]
    },
    {
     "name": "stdout",
     "output_type": "stream",
     "text": [
      "The simulation of ATAGCGTGCAGATC-1 (338) fluxes takes: 0.7797307968139648 seconds\n"
     ]
    },
    {
     "name": "stderr",
     "output_type": "stream",
     "text": [
      "No defined compartments in model ContextModel. Compartments will be deduced heuristically using regular expressions.\n",
      "Using regular expression found the following compartments:c, e, g, l, m, n, r, x\n"
     ]
    },
    {
     "name": "stdout",
     "output_type": "stream",
     "text": [
      "The simulation of CTTAAGCTCCGCTT-1 (339) fluxes takes: 0.8078691959381104 seconds\n"
     ]
    },
    {
     "name": "stderr",
     "output_type": "stream",
     "text": [
      "No defined compartments in model ContextModel. Compartments will be deduced heuristically using regular expressions.\n",
      "Using regular expression found the following compartments:c, e, g, l, m, n, r, x\n"
     ]
    },
    {
     "name": "stdout",
     "output_type": "stream",
     "text": [
      "The simulation of CCAGAAACCCTGTC-1 (340) fluxes takes: 0.6934158802032471 seconds\n"
     ]
    },
    {
     "name": "stderr",
     "output_type": "stream",
     "text": [
      "No defined compartments in model ContextModel. Compartments will be deduced heuristically using regular expressions.\n",
      "Using regular expression found the following compartments:c, e, g, l, m, n, r, x\n"
     ]
    },
    {
     "name": "stdout",
     "output_type": "stream",
     "text": [
      "The simulation of GAAACCTGATGCCA-1 (341) fluxes takes: 0.8358840942382812 seconds\n"
     ]
    },
    {
     "name": "stderr",
     "output_type": "stream",
     "text": [
      "No defined compartments in model ContextModel. Compartments will be deduced heuristically using regular expressions.\n",
      "Using regular expression found the following compartments:c, e, g, l, m, n, r, x\n"
     ]
    },
    {
     "name": "stdout",
     "output_type": "stream",
     "text": [
      "The simulation of TATCTGACTGTTTC-1 (342) fluxes takes: 0.8924598693847656 seconds\n"
     ]
    },
    {
     "name": "stderr",
     "output_type": "stream",
     "text": [
      "No defined compartments in model ContextModel. Compartments will be deduced heuristically using regular expressions.\n",
      "Using regular expression found the following compartments:c, e, g, l, m, n, r, x\n"
     ]
    },
    {
     "name": "stdout",
     "output_type": "stream",
     "text": [
      "The simulation of GCCAACCTACGGTT-1 (343) fluxes takes: 0.9009230136871338 seconds\n"
     ]
    },
    {
     "name": "stderr",
     "output_type": "stream",
     "text": [
      "No defined compartments in model ContextModel. Compartments will be deduced heuristically using regular expressions.\n",
      "Using regular expression found the following compartments:c, e, g, l, m, n, r, x\n"
     ]
    },
    {
     "name": "stdout",
     "output_type": "stream",
     "text": [
      "The simulation of GACGTATGTTTGCT-1 (344) fluxes takes: 0.8508670330047607 seconds\n"
     ]
    },
    {
     "name": "stderr",
     "output_type": "stream",
     "text": [
      "No defined compartments in model ContextModel. Compartments will be deduced heuristically using regular expressions.\n",
      "Using regular expression found the following compartments:c, e, g, l, m, n, r, x\n"
     ]
    },
    {
     "name": "stdout",
     "output_type": "stream",
     "text": [
      "The simulation of ATTGCACTGACGGA-1 (345) fluxes takes: 0.8110010623931885 seconds\n"
     ]
    },
    {
     "name": "stderr",
     "output_type": "stream",
     "text": [
      "No defined compartments in model ContextModel. Compartments will be deduced heuristically using regular expressions.\n",
      "Using regular expression found the following compartments:c, e, g, l, m, n, r, x\n"
     ]
    },
    {
     "name": "stdout",
     "output_type": "stream",
     "text": [
      "The simulation of ACCACAGAAAGTAG-1 (346) fluxes takes: 0.8625829219818115 seconds\n"
     ]
    },
    {
     "name": "stderr",
     "output_type": "stream",
     "text": [
      "No defined compartments in model ContextModel. Compartments will be deduced heuristically using regular expressions.\n",
      "Using regular expression found the following compartments:c, e, g, l, m, n, r, x\n"
     ]
    },
    {
     "name": "stdout",
     "output_type": "stream",
     "text": [
      "The simulation of TAAGGCTGCCATGA-1 (347) fluxes takes: 0.8571667671203613 seconds\n"
     ]
    },
    {
     "name": "stderr",
     "output_type": "stream",
     "text": [
      "No defined compartments in model ContextModel. Compartments will be deduced heuristically using regular expressions.\n",
      "Using regular expression found the following compartments:c, e, g, l, m, n, r, x\n"
     ]
    },
    {
     "name": "stdout",
     "output_type": "stream",
     "text": [
      "The simulation of TGCGAAACGTTGCA-1 (348) fluxes takes: 0.8249778747558594 seconds\n"
     ]
    },
    {
     "name": "stderr",
     "output_type": "stream",
     "text": [
      "No defined compartments in model ContextModel. Compartments will be deduced heuristically using regular expressions.\n",
      "Using regular expression found the following compartments:c, e, g, l, m, n, r, x\n"
     ]
    },
    {
     "name": "stdout",
     "output_type": "stream",
     "text": [
      "The simulation of GCTACGCTAGAATG-1 (349) fluxes takes: 0.8159258365631104 seconds\n"
     ]
    },
    {
     "name": "stderr",
     "output_type": "stream",
     "text": [
      "No defined compartments in model ContextModel. Compartments will be deduced heuristically using regular expressions.\n",
      "Using regular expression found the following compartments:c, e, g, l, m, n, r, x\n"
     ]
    },
    {
     "name": "stdout",
     "output_type": "stream",
     "text": [
      "The simulation of GTGTACGATCAGTG-1 (350) fluxes takes: 0.8697760105133057 seconds\n"
     ]
    },
    {
     "name": "stderr",
     "output_type": "stream",
     "text": [
      "No defined compartments in model ContextModel. Compartments will be deduced heuristically using regular expressions.\n",
      "Using regular expression found the following compartments:c, e, g, l, m, n, r, x\n"
     ]
    },
    {
     "name": "stdout",
     "output_type": "stream",
     "text": [
      "The simulation of AATGGCTGCGTGAT-1 (351) fluxes takes: 0.8434388637542725 seconds\n",
      "The simulation of GAGGTTACTCGTTT-1 (352) fluxes takes: 1.4041600227355957 seconds\n"
     ]
    },
    {
     "name": "stderr",
     "output_type": "stream",
     "text": [
      "No defined compartments in model ContextModel. Compartments will be deduced heuristically using regular expressions.\n",
      "Using regular expression found the following compartments:c, e, g, l, m, n, r, x\n"
     ]
    },
    {
     "name": "stdout",
     "output_type": "stream",
     "text": [
      "The simulation of GTAGTGTGAGCGGA-1 (353) fluxes takes: 0.8709359169006348 seconds\n"
     ]
    },
    {
     "name": "stderr",
     "output_type": "stream",
     "text": [
      "No defined compartments in model ContextModel. Compartments will be deduced heuristically using regular expressions.\n",
      "Using regular expression found the following compartments:c, e, g, l, m, n, r, x\n",
      "No defined compartments in model ContextModel. Compartments will be deduced heuristically using regular expressions.\n",
      "Using regular expression found the following compartments:c, e, g, l, m, n, r, x\n"
     ]
    },
    {
     "name": "stdout",
     "output_type": "stream",
     "text": [
      "The simulation of CTGCCAACTGCTCC-1 (354) fluxes takes: 0.8515830039978027 seconds\n"
     ]
    },
    {
     "name": "stderr",
     "output_type": "stream",
     "text": [
      "No defined compartments in model ContextModel. Compartments will be deduced heuristically using regular expressions.\n",
      "Using regular expression found the following compartments:c, e, g, l, m, n, r, x\n"
     ]
    },
    {
     "name": "stdout",
     "output_type": "stream",
     "text": [
      "The simulation of CCTTTAGATTCATC-1 (355) fluxes takes: 1.1817381381988525 seconds\n"
     ]
    },
    {
     "name": "stderr",
     "output_type": "stream",
     "text": [
      "No defined compartments in model ContextModel. Compartments will be deduced heuristically using regular expressions.\n",
      "Using regular expression found the following compartments:c, e, g, l, m, n, r, x\n"
     ]
    },
    {
     "name": "stdout",
     "output_type": "stream",
     "text": [
      "The simulation of ATATAGTGGAATGA-1 (356) fluxes takes: 0.6446270942687988 seconds\n"
     ]
    },
    {
     "name": "stderr",
     "output_type": "stream",
     "text": [
      "No defined compartments in model ContextModel. Compartments will be deduced heuristically using regular expressions.\n",
      "Using regular expression found the following compartments:c, e, g, l, m, n, r, x\n"
     ]
    },
    {
     "name": "stdout",
     "output_type": "stream",
     "text": [
      "The simulation of CACAATCTTGTTCT-1 (357) fluxes takes: 0.9696149826049805 seconds\n"
     ]
    },
    {
     "name": "stderr",
     "output_type": "stream",
     "text": [
      "No defined compartments in model ContextModel. Compartments will be deduced heuristically using regular expressions.\n",
      "Using regular expression found the following compartments:c, e, g, l, m, n, r, x\n"
     ]
    },
    {
     "name": "stdout",
     "output_type": "stream",
     "text": [
      "The simulation of AAGTATACCGAACT-1 (358) fluxes takes: 0.7889547348022461 seconds\n"
     ]
    },
    {
     "name": "stderr",
     "output_type": "stream",
     "text": [
      "No defined compartments in model ContextModel. Compartments will be deduced heuristically using regular expressions.\n",
      "Using regular expression found the following compartments:c, e, g, l, m, n, r, x\n"
     ]
    },
    {
     "name": "stdout",
     "output_type": "stream",
     "text": [
      "The simulation of CCGTACACTAACGC-1 (359) fluxes takes: 0.8153319358825684 seconds\n"
     ]
    },
    {
     "name": "stderr",
     "output_type": "stream",
     "text": [
      "No defined compartments in model ContextModel. Compartments will be deduced heuristically using regular expressions.\n",
      "Using regular expression found the following compartments:c, e, g, l, m, n, r, x\n"
     ]
    },
    {
     "name": "stdout",
     "output_type": "stream",
     "text": [
      "The simulation of CAAGAAGATTCTAC-1 (360) fluxes takes: 0.7935609817504883 seconds\n"
     ]
    },
    {
     "name": "stderr",
     "output_type": "stream",
     "text": [
      "No defined compartments in model ContextModel. Compartments will be deduced heuristically using regular expressions.\n",
      "Using regular expression found the following compartments:c, e, g, l, m, n, r, x\n"
     ]
    },
    {
     "name": "stdout",
     "output_type": "stream",
     "text": [
      "The simulation of GCCTCAACTCTTTG-1 (361) fluxes takes: 0.7863156795501709 seconds\n"
     ]
    },
    {
     "name": "stderr",
     "output_type": "stream",
     "text": [
      "No defined compartments in model ContextModel. Compartments will be deduced heuristically using regular expressions.\n",
      "Using regular expression found the following compartments:c, e, g, l, m, n, r, x\n"
     ]
    },
    {
     "name": "stdout",
     "output_type": "stream",
     "text": [
      "The simulation of TACGTACTCAGTTG-1 (362) fluxes takes: 0.7079761028289795 seconds\n"
     ]
    },
    {
     "name": "stderr",
     "output_type": "stream",
     "text": [
      "No defined compartments in model ContextModel. Compartments will be deduced heuristically using regular expressions.\n",
      "Using regular expression found the following compartments:c, e, g, l, m, n, r, x\n"
     ]
    },
    {
     "name": "stdout",
     "output_type": "stream",
     "text": [
      "The simulation of ATTGCTTGTTACTC-1 (363) fluxes takes: 0.838651180267334 seconds\n"
     ]
    },
    {
     "name": "stderr",
     "output_type": "stream",
     "text": [
      "No defined compartments in model ContextModel. Compartments will be deduced heuristically using regular expressions.\n",
      "Using regular expression found the following compartments:c, e, g, l, m, n, r, x\n"
     ]
    },
    {
     "name": "stdout",
     "output_type": "stream",
     "text": [
      "The simulation of GTGAACACACTCTT-1 (364) fluxes takes: 0.7737200260162354 seconds\n"
     ]
    },
    {
     "name": "stderr",
     "output_type": "stream",
     "text": [
      "No defined compartments in model ContextModel. Compartments will be deduced heuristically using regular expressions.\n",
      "Using regular expression found the following compartments:c, e, g, l, m, n, r, x\n"
     ]
    },
    {
     "name": "stdout",
     "output_type": "stream",
     "text": [
      "The simulation of ATGTAAACACCTCC-1 (365) fluxes takes: 0.8835029602050781 seconds\n"
     ]
    },
    {
     "name": "stderr",
     "output_type": "stream",
     "text": [
      "No defined compartments in model ContextModel. Compartments will be deduced heuristically using regular expressions.\n",
      "Using regular expression found the following compartments:c, e, g, l, m, n, r, x\n"
     ]
    },
    {
     "name": "stdout",
     "output_type": "stream",
     "text": [
      "The simulation of GACGTAACCTGTGA-1 (366) fluxes takes: 0.7903971672058105 seconds\n"
     ]
    },
    {
     "name": "stderr",
     "output_type": "stream",
     "text": [
      "No defined compartments in model ContextModel. Compartments will be deduced heuristically using regular expressions.\n",
      "Using regular expression found the following compartments:c, e, g, l, m, n, r, x\n"
     ]
    },
    {
     "name": "stdout",
     "output_type": "stream",
     "text": [
      "The simulation of TAAGAGGACTTGTT-1 (367) fluxes takes: 0.6717491149902344 seconds\n"
     ]
    },
    {
     "name": "stderr",
     "output_type": "stream",
     "text": [
      "No defined compartments in model ContextModel. Compartments will be deduced heuristically using regular expressions.\n",
      "Using regular expression found the following compartments:c, e, g, l, m, n, r, x\n"
     ]
    },
    {
     "name": "stdout",
     "output_type": "stream",
     "text": [
      "The simulation of AATACTGAATTGGC-1 (368) fluxes takes: 0.8008670806884766 seconds\n"
     ]
    },
    {
     "name": "stderr",
     "output_type": "stream",
     "text": [
      "No defined compartments in model ContextModel. Compartments will be deduced heuristically using regular expressions.\n",
      "Using regular expression found the following compartments:c, e, g, l, m, n, r, x\n"
     ]
    },
    {
     "name": "stdout",
     "output_type": "stream",
     "text": [
      "The simulation of CATCAGGATGCACA-1 (369) fluxes takes: 0.9364750385284424 seconds\n"
     ]
    },
    {
     "name": "stderr",
     "output_type": "stream",
     "text": [
      "No defined compartments in model ContextModel. Compartments will be deduced heuristically using regular expressions.\n",
      "Using regular expression found the following compartments:c, e, g, l, m, n, r, x\n"
     ]
    },
    {
     "name": "stdout",
     "output_type": "stream",
     "text": [
      "The simulation of TACTACTGATGTCG-1 (370) fluxes takes: 0.8703250885009766 seconds\n",
      "The simulation of TGAGCTGATGCTAG-1 (371) fluxes takes: 0.8468992710113525 seconds\n"
     ]
    },
    {
     "name": "stderr",
     "output_type": "stream",
     "text": [
      "No defined compartments in model ContextModel. Compartments will be deduced heuristically using regular expressions.\n",
      "Using regular expression found the following compartments:c, e, g, l, m, n, r, x\n",
      "No defined compartments in model ContextModel. Compartments will be deduced heuristically using regular expressions.\n",
      "Using regular expression found the following compartments:c, e, g, l, m, n, r, x\n"
     ]
    },
    {
     "name": "stdout",
     "output_type": "stream",
     "text": [
      "The simulation of GGGACCACTCAAGC-1 (372) fluxes takes: 0.8315408229827881 seconds\n",
      "The simulation of CTTTAGTGACGGGA-1 (373) fluxes takes: 0.6522879600524902 seconds\n"
     ]
    },
    {
     "name": "stderr",
     "output_type": "stream",
     "text": [
      "No defined compartments in model ContextModel. Compartments will be deduced heuristically using regular expressions.\n",
      "Using regular expression found the following compartments:c, e, g, l, m, n, r, x\n",
      "No defined compartments in model ContextModel. Compartments will be deduced heuristically using regular expressions.\n",
      "Using regular expression found the following compartments:c, e, g, l, m, n, r, x\n"
     ]
    },
    {
     "name": "stdout",
     "output_type": "stream",
     "text": [
      "The simulation of CGCCATTGTACTGG-1 (374) fluxes takes: 0.7688038349151611 seconds\n"
     ]
    },
    {
     "name": "stderr",
     "output_type": "stream",
     "text": [
      "No defined compartments in model ContextModel. Compartments will be deduced heuristically using regular expressions.\n",
      "Using regular expression found the following compartments:c, e, g, l, m, n, r, x\n"
     ]
    },
    {
     "name": "stdout",
     "output_type": "stream",
     "text": [
      "The simulation of TACGGCCTGGGACA-1 (375) fluxes takes: 0.6544628143310547 seconds\n"
     ]
    },
    {
     "name": "stderr",
     "output_type": "stream",
     "text": [
      "No defined compartments in model ContextModel. Compartments will be deduced heuristically using regular expressions.\n",
      "Using regular expression found the following compartments:c, e, g, l, m, n, r, x\n"
     ]
    },
    {
     "name": "stdout",
     "output_type": "stream",
     "text": [
      "The simulation of CTGTGAGACTGTAG-1 (376) fluxes takes: 1.373565912246704 seconds\n"
     ]
    },
    {
     "name": "stderr",
     "output_type": "stream",
     "text": [
      "No defined compartments in model ContextModel. Compartments will be deduced heuristically using regular expressions.\n",
      "Using regular expression found the following compartments:c, e, g, l, m, n, r, x\n"
     ]
    },
    {
     "name": "stdout",
     "output_type": "stream",
     "text": [
      "The simulation of GATTCTTGCGAGTT-1 (377) fluxes takes: 0.7696702480316162 seconds\n"
     ]
    },
    {
     "name": "stderr",
     "output_type": "stream",
     "text": [
      "No defined compartments in model ContextModel. Compartments will be deduced heuristically using regular expressions.\n",
      "Using regular expression found the following compartments:c, e, g, l, m, n, r, x\n"
     ]
    },
    {
     "name": "stdout",
     "output_type": "stream",
     "text": [
      "The simulation of ACGCCTTGCTCCCA-1 (378) fluxes takes: 0.7515521049499512 seconds\n"
     ]
    },
    {
     "name": "stderr",
     "output_type": "stream",
     "text": [
      "No defined compartments in model ContextModel. Compartments will be deduced heuristically using regular expressions.\n",
      "Using regular expression found the following compartments:c, e, g, l, m, n, r, x\n"
     ]
    },
    {
     "name": "stdout",
     "output_type": "stream",
     "text": [
      "The simulation of CCCTTACTGCAGTT-1 (379) fluxes takes: 0.657804012298584 seconds\n"
     ]
    },
    {
     "name": "stderr",
     "output_type": "stream",
     "text": [
      "No defined compartments in model ContextModel. Compartments will be deduced heuristically using regular expressions.\n",
      "Using regular expression found the following compartments:c, e, g, l, m, n, r, x\n"
     ]
    },
    {
     "name": "stdout",
     "output_type": "stream",
     "text": [
      "The simulation of CAGGCCGAATCTCT-1 (380) fluxes takes: 0.9162189960479736 seconds\n"
     ]
    },
    {
     "name": "stderr",
     "output_type": "stream",
     "text": [
      "No defined compartments in model ContextModel. Compartments will be deduced heuristically using regular expressions.\n",
      "Using regular expression found the following compartments:c, e, g, l, m, n, r, x\n"
     ]
    },
    {
     "name": "stdout",
     "output_type": "stream",
     "text": [
      "The simulation of TGGCACCTTCAGTG-1 (381) fluxes takes: 0.9992361068725586 seconds\n"
     ]
    },
    {
     "name": "stderr",
     "output_type": "stream",
     "text": [
      "No defined compartments in model ContextModel. Compartments will be deduced heuristically using regular expressions.\n",
      "Using regular expression found the following compartments:c, e, g, l, m, n, r, x\n"
     ]
    },
    {
     "name": "stdout",
     "output_type": "stream",
     "text": [
      "The simulation of GGACGCTGCTAGCA-1 (382) fluxes takes: 0.8569059371948242 seconds\n"
     ]
    },
    {
     "name": "stderr",
     "output_type": "stream",
     "text": [
      "No defined compartments in model ContextModel. Compartments will be deduced heuristically using regular expressions.\n",
      "Using regular expression found the following compartments:c, e, g, l, m, n, r, x\n"
     ]
    },
    {
     "name": "stdout",
     "output_type": "stream",
     "text": [
      "The simulation of TATGGGTGCTAGCA-1 (383) fluxes takes: 0.7291789054870605 seconds\n"
     ]
    },
    {
     "name": "stderr",
     "output_type": "stream",
     "text": [
      "No defined compartments in model ContextModel. Compartments will be deduced heuristically using regular expressions.\n",
      "Using regular expression found the following compartments:c, e, g, l, m, n, r, x\n"
     ]
    },
    {
     "name": "stdout",
     "output_type": "stream",
     "text": [
      "The simulation of GATATTGAGCCAAT-1 (384) fluxes takes: 0.936633825302124 seconds\n"
     ]
    },
    {
     "name": "stderr",
     "output_type": "stream",
     "text": [
      "No defined compartments in model ContextModel. Compartments will be deduced heuristically using regular expressions.\n",
      "Using regular expression found the following compartments:c, e, g, l, m, n, r, x\n"
     ]
    },
    {
     "name": "stdout",
     "output_type": "stream",
     "text": [
      "The simulation of ATCCATACTTCATC-1 (385) fluxes takes: 0.761638879776001 seconds\n"
     ]
    },
    {
     "name": "stderr",
     "output_type": "stream",
     "text": [
      "No defined compartments in model ContextModel. Compartments will be deduced heuristically using regular expressions.\n",
      "Using regular expression found the following compartments:c, e, g, l, m, n, r, x\n"
     ]
    },
    {
     "name": "stdout",
     "output_type": "stream",
     "text": [
      "The simulation of AGAAACGAAAGTAG-1 (386) fluxes takes: 0.8335309028625488 seconds\n"
     ]
    },
    {
     "name": "stderr",
     "output_type": "stream",
     "text": [
      "No defined compartments in model ContextModel. Compartments will be deduced heuristically using regular expressions.\n",
      "Using regular expression found the following compartments:c, e, g, l, m, n, r, x\n"
     ]
    },
    {
     "name": "stdout",
     "output_type": "stream",
     "text": [
      "The simulation of AATCTCTGCTTTAC-1 (387) fluxes takes: 0.7480199337005615 seconds\n"
     ]
    },
    {
     "name": "stderr",
     "output_type": "stream",
     "text": [
      "No defined compartments in model ContextModel. Compartments will be deduced heuristically using regular expressions.\n",
      "Using regular expression found the following compartments:c, e, g, l, m, n, r, x\n"
     ]
    },
    {
     "name": "stdout",
     "output_type": "stream",
     "text": [
      "The simulation of TTCTCAGAAGAGAT-1 (388) fluxes takes: 0.8329207897186279 seconds\n"
     ]
    },
    {
     "name": "stderr",
     "output_type": "stream",
     "text": [
      "No defined compartments in model ContextModel. Compartments will be deduced heuristically using regular expressions.\n",
      "Using regular expression found the following compartments:c, e, g, l, m, n, r, x\n"
     ]
    },
    {
     "name": "stdout",
     "output_type": "stream",
     "text": [
      "The simulation of CCTATAACCAAAGA-1 (389) fluxes takes: 0.800584077835083 seconds\n"
     ]
    },
    {
     "name": "stderr",
     "output_type": "stream",
     "text": [
      "No defined compartments in model ContextModel. Compartments will be deduced heuristically using regular expressions.\n",
      "Using regular expression found the following compartments:c, e, g, l, m, n, r, x\n"
     ]
    },
    {
     "name": "stdout",
     "output_type": "stream",
     "text": [
      "The simulation of ATCTGTTGCCTTCG-1 (390) fluxes takes: 0.9490711688995361 seconds\n"
     ]
    },
    {
     "name": "stderr",
     "output_type": "stream",
     "text": [
      "No defined compartments in model ContextModel. Compartments will be deduced heuristically using regular expressions.\n",
      "Using regular expression found the following compartments:c, e, g, l, m, n, r, x\n"
     ]
    },
    {
     "name": "stdout",
     "output_type": "stream",
     "text": [
      "The simulation of TCTTCAGAGCTACA-1 (391) fluxes takes: 1.2637488842010498 seconds\n"
     ]
    },
    {
     "name": "stderr",
     "output_type": "stream",
     "text": [
      "No defined compartments in model ContextModel. Compartments will be deduced heuristically using regular expressions.\n",
      "Using regular expression found the following compartments:c, e, g, l, m, n, r, x\n"
     ]
    },
    {
     "name": "stdout",
     "output_type": "stream",
     "text": [
      "The simulation of ATATGCCTAGATCC-1 (392) fluxes takes: 0.9699249267578125 seconds\n"
     ]
    },
    {
     "name": "stderr",
     "output_type": "stream",
     "text": [
      "No defined compartments in model ContextModel. Compartments will be deduced heuristically using regular expressions.\n",
      "Using regular expression found the following compartments:c, e, g, l, m, n, r, x\n"
     ]
    },
    {
     "name": "stdout",
     "output_type": "stream",
     "text": [
      "The simulation of ATGTAAACTCTCCG-1 (393) fluxes takes: 1.0669357776641846 seconds\n"
     ]
    },
    {
     "name": "stderr",
     "output_type": "stream",
     "text": [
      "No defined compartments in model ContextModel. Compartments will be deduced heuristically using regular expressions.\n",
      "Using regular expression found the following compartments:c, e, g, l, m, n, r, x\n"
     ]
    },
    {
     "name": "stdout",
     "output_type": "stream",
     "text": [
      "The simulation of ATCTCAACCTCGAA-1 (394) fluxes takes: 0.9531502723693848 seconds\n"
     ]
    },
    {
     "name": "stderr",
     "output_type": "stream",
     "text": [
      "No defined compartments in model ContextModel. Compartments will be deduced heuristically using regular expressions.\n",
      "Using regular expression found the following compartments:c, e, g, l, m, n, r, x\n"
     ]
    },
    {
     "name": "stdout",
     "output_type": "stream",
     "text": [
      "The simulation of CACACCTGTATGGC-1 (395) fluxes takes: 0.9006960391998291 seconds\n"
     ]
    },
    {
     "name": "stderr",
     "output_type": "stream",
     "text": [
      "No defined compartments in model ContextModel. Compartments will be deduced heuristically using regular expressions.\n",
      "Using regular expression found the following compartments:c, e, g, l, m, n, r, x\n"
     ]
    },
    {
     "name": "stdout",
     "output_type": "stream",
     "text": [
      "The simulation of TACATAGAACGCAT-1 (396) fluxes takes: 0.9363629817962646 seconds\n"
     ]
    },
    {
     "name": "stderr",
     "output_type": "stream",
     "text": [
      "No defined compartments in model ContextModel. Compartments will be deduced heuristically using regular expressions.\n",
      "Using regular expression found the following compartments:c, e, g, l, m, n, r, x\n"
     ]
    },
    {
     "name": "stdout",
     "output_type": "stream",
     "text": [
      "The simulation of GAATTAACTGAAGA-1 (397) fluxes takes: 0.8670518398284912 seconds\n"
     ]
    },
    {
     "name": "stderr",
     "output_type": "stream",
     "text": [
      "No defined compartments in model ContextModel. Compartments will be deduced heuristically using regular expressions.\n",
      "Using regular expression found the following compartments:c, e, g, l, m, n, r, x\n"
     ]
    },
    {
     "name": "stdout",
     "output_type": "stream",
     "text": [
      "The simulation of TACTAAGAATCACG-1 (398) fluxes takes: 0.8959770202636719 seconds\n",
      "The simulation of TTCCAAACCTATGG-1 (399) fluxes takes: 1.121750831604004 seconds\n"
     ]
    },
    {
     "name": "stderr",
     "output_type": "stream",
     "text": [
      "No defined compartments in model ContextModel. Compartments will be deduced heuristically using regular expressions.\n",
      "Using regular expression found the following compartments:c, e, g, l, m, n, r, x\n",
      "No defined compartments in model ContextModel. Compartments will be deduced heuristically using regular expressions.\n",
      "Using regular expression found the following compartments:c, e, g, l, m, n, r, x\n"
     ]
    },
    {
     "name": "stdout",
     "output_type": "stream",
     "text": [
      "The simulation of CAGTGATGGGACAG-1 (400) fluxes takes: 0.8807642459869385 seconds\n"
     ]
    },
    {
     "name": "stderr",
     "output_type": "stream",
     "text": [
      "No defined compartments in model ContextModel. Compartments will be deduced heuristically using regular expressions.\n",
      "Using regular expression found the following compartments:c, e, g, l, m, n, r, x\n"
     ]
    },
    {
     "name": "stdout",
     "output_type": "stream",
     "text": [
      "The simulation of CGCTACTGTTCCCG-1 (401) fluxes takes: 0.8017630577087402 seconds\n"
     ]
    },
    {
     "name": "stderr",
     "output_type": "stream",
     "text": [
      "No defined compartments in model ContextModel. Compartments will be deduced heuristically using regular expressions.\n",
      "Using regular expression found the following compartments:c, e, g, l, m, n, r, x\n"
     ]
    },
    {
     "name": "stdout",
     "output_type": "stream",
     "text": [
      "The simulation of AATTGTGACTTGGA-1 (402) fluxes takes: 0.7801899909973145 seconds\n"
     ]
    },
    {
     "name": "stderr",
     "output_type": "stream",
     "text": [
      "No defined compartments in model ContextModel. Compartments will be deduced heuristically using regular expressions.\n",
      "Using regular expression found the following compartments:c, e, g, l, m, n, r, x\n"
     ]
    },
    {
     "name": "stdout",
     "output_type": "stream",
     "text": [
      "The simulation of CGATAGACCGTACA-1 (403) fluxes takes: 0.8114261627197266 seconds\n"
     ]
    },
    {
     "name": "stderr",
     "output_type": "stream",
     "text": [
      "No defined compartments in model ContextModel. Compartments will be deduced heuristically using regular expressions.\n",
      "Using regular expression found the following compartments:c, e, g, l, m, n, r, x\n"
     ]
    },
    {
     "name": "stdout",
     "output_type": "stream",
     "text": [
      "The simulation of ACAGTGACTCACCC-1 (404) fluxes takes: 0.8181560039520264 seconds\n"
     ]
    },
    {
     "name": "stderr",
     "output_type": "stream",
     "text": [
      "No defined compartments in model ContextModel. Compartments will be deduced heuristically using regular expressions.\n",
      "Using regular expression found the following compartments:c, e, g, l, m, n, r, x\n"
     ]
    },
    {
     "name": "stdout",
     "output_type": "stream",
     "text": [
      "The simulation of GGAACTTGCTCCAC-1 (405) fluxes takes: 1.1574547290802002 seconds\n"
     ]
    },
    {
     "name": "stderr",
     "output_type": "stream",
     "text": [
      "No defined compartments in model ContextModel. Compartments will be deduced heuristically using regular expressions.\n",
      "Using regular expression found the following compartments:c, e, g, l, m, n, r, x\n"
     ]
    },
    {
     "name": "stdout",
     "output_type": "stream",
     "text": [
      "The simulation of ATCCAGGACGCTAA-1 (406) fluxes takes: 0.7211310863494873 seconds\n"
     ]
    },
    {
     "name": "stderr",
     "output_type": "stream",
     "text": [
      "No defined compartments in model ContextModel. Compartments will be deduced heuristically using regular expressions.\n",
      "Using regular expression found the following compartments:c, e, g, l, m, n, r, x\n"
     ]
    },
    {
     "name": "stdout",
     "output_type": "stream",
     "text": [
      "The simulation of CACGGGTGGAGGAC-1 (407) fluxes takes: 0.8238770961761475 seconds\n"
     ]
    },
    {
     "name": "stderr",
     "output_type": "stream",
     "text": [
      "No defined compartments in model ContextModel. Compartments will be deduced heuristically using regular expressions.\n",
      "Using regular expression found the following compartments:c, e, g, l, m, n, r, x\n"
     ]
    },
    {
     "name": "stdout",
     "output_type": "stream",
     "text": [
      "The simulation of TACTAAGATGATGC-1 (408) fluxes takes: 1.1276390552520752 seconds\n"
     ]
    },
    {
     "name": "stderr",
     "output_type": "stream",
     "text": [
      "No defined compartments in model ContextModel. Compartments will be deduced heuristically using regular expressions.\n",
      "Using regular expression found the following compartments:c, e, g, l, m, n, r, x\n"
     ]
    },
    {
     "name": "stdout",
     "output_type": "stream",
     "text": [
      "The simulation of AGAGCGGAGGCAAG-1 (409) fluxes takes: 0.9958508014678955 seconds\n"
     ]
    },
    {
     "name": "stderr",
     "output_type": "stream",
     "text": [
      "No defined compartments in model ContextModel. Compartments will be deduced heuristically using regular expressions.\n",
      "Using regular expression found the following compartments:c, e, g, l, m, n, r, x\n"
     ]
    },
    {
     "name": "stdout",
     "output_type": "stream",
     "text": [
      "The simulation of GGGACCTGCTTGCC-1 (410) fluxes takes: 0.8017818927764893 seconds\n"
     ]
    },
    {
     "name": "stderr",
     "output_type": "stream",
     "text": [
      "No defined compartments in model ContextModel. Compartments will be deduced heuristically using regular expressions.\n",
      "Using regular expression found the following compartments:c, e, g, l, m, n, r, x\n"
     ]
    },
    {
     "name": "stdout",
     "output_type": "stream",
     "text": [
      "The simulation of TAACTCACGAGGAC-1 (411) fluxes takes: 0.8131659030914307 seconds\n"
     ]
    },
    {
     "name": "stderr",
     "output_type": "stream",
     "text": [
      "No defined compartments in model ContextModel. Compartments will be deduced heuristically using regular expressions.\n",
      "Using regular expression found the following compartments:c, e, g, l, m, n, r, x\n"
     ]
    },
    {
     "name": "stdout",
     "output_type": "stream",
     "text": [
      "The simulation of CCGTACACGTTGGT-1 (412) fluxes takes: 0.8841989040374756 seconds\n"
     ]
    },
    {
     "name": "stderr",
     "output_type": "stream",
     "text": [
      "No defined compartments in model ContextModel. Compartments will be deduced heuristically using regular expressions.\n",
      "Using regular expression found the following compartments:c, e, g, l, m, n, r, x\n"
     ]
    },
    {
     "name": "stdout",
     "output_type": "stream",
     "text": [
      "The simulation of CAAGTCGATAGCGT-1 (413) fluxes takes: 0.9156358242034912 seconds\n"
     ]
    },
    {
     "name": "stderr",
     "output_type": "stream",
     "text": [
      "No defined compartments in model ContextModel. Compartments will be deduced heuristically using regular expressions.\n",
      "Using regular expression found the following compartments:c, e, g, l, m, n, r, x\n"
     ]
    },
    {
     "name": "stdout",
     "output_type": "stream",
     "text": [
      "The simulation of AGAGATGATTGTGG-1 (414) fluxes takes: 0.8524651527404785 seconds\n"
     ]
    },
    {
     "name": "stderr",
     "output_type": "stream",
     "text": [
      "No defined compartments in model ContextModel. Compartments will be deduced heuristically using regular expressions.\n",
      "Using regular expression found the following compartments:c, e, g, l, m, n, r, x\n"
     ]
    },
    {
     "name": "stdout",
     "output_type": "stream",
     "text": [
      "The simulation of AACGCATGACCCAA-1 (415) fluxes takes: 0.822479248046875 seconds\n"
     ]
    },
    {
     "name": "stderr",
     "output_type": "stream",
     "text": [
      "No defined compartments in model ContextModel. Compartments will be deduced heuristically using regular expressions.\n",
      "Using regular expression found the following compartments:c, e, g, l, m, n, r, x\n"
     ]
    },
    {
     "name": "stdout",
     "output_type": "stream",
     "text": [
      "The simulation of CTGGATGACTGGAT-1 (416) fluxes takes: 0.8871476650238037 seconds\n"
     ]
    },
    {
     "name": "stderr",
     "output_type": "stream",
     "text": [
      "No defined compartments in model ContextModel. Compartments will be deduced heuristically using regular expressions.\n",
      "Using regular expression found the following compartments:c, e, g, l, m, n, r, x\n"
     ]
    },
    {
     "name": "stdout",
     "output_type": "stream",
     "text": [
      "The simulation of ACCTTTGAGGAACG-1 (417) fluxes takes: 1.160202980041504 seconds\n"
     ]
    },
    {
     "name": "stderr",
     "output_type": "stream",
     "text": [
      "No defined compartments in model ContextModel. Compartments will be deduced heuristically using regular expressions.\n",
      "Using regular expression found the following compartments:c, e, g, l, m, n, r, x\n"
     ]
    },
    {
     "name": "stdout",
     "output_type": "stream",
     "text": [
      "The simulation of CCTTCACTGGAGTG-1 (418) fluxes takes: 0.6467561721801758 seconds\n",
      "The simulation of GTATTAGAAACAGA-1 (419) fluxes takes: 1.1187539100646973 seconds\n"
     ]
    },
    {
     "name": "stderr",
     "output_type": "stream",
     "text": [
      "No defined compartments in model ContextModel. Compartments will be deduced heuristically using regular expressions.\n",
      "Using regular expression found the following compartments:c, e, g, l, m, n, r, x\n"
     ]
    },
    {
     "name": "stdout",
     "output_type": "stream",
     "text": [
      "The simulation of TAGCCCACAGCCAT-1 (420) fluxes takes: 0.9936778545379639 seconds\n"
     ]
    },
    {
     "name": "stderr",
     "output_type": "stream",
     "text": [
      "No defined compartments in model ContextModel. Compartments will be deduced heuristically using regular expressions.\n",
      "Using regular expression found the following compartments:c, e, g, l, m, n, r, x\n",
      "No defined compartments in model ContextModel. Compartments will be deduced heuristically using regular expressions.\n",
      "Using regular expression found the following compartments:c, e, g, l, m, n, r, x\n"
     ]
    },
    {
     "name": "stdout",
     "output_type": "stream",
     "text": [
      "The simulation of TTGGTACTCTTAGG-1 (421) fluxes takes: 0.7480440139770508 seconds\n"
     ]
    },
    {
     "name": "stderr",
     "output_type": "stream",
     "text": [
      "No defined compartments in model ContextModel. Compartments will be deduced heuristically using regular expressions.\n",
      "Using regular expression found the following compartments:c, e, g, l, m, n, r, x\n"
     ]
    },
    {
     "name": "stdout",
     "output_type": "stream",
     "text": [
      "The simulation of CCAGCTACACAGTC-1 (422) fluxes takes: 0.8349061012268066 seconds\n"
     ]
    },
    {
     "name": "stderr",
     "output_type": "stream",
     "text": [
      "No defined compartments in model ContextModel. Compartments will be deduced heuristically using regular expressions.\n",
      "Using regular expression found the following compartments:c, e, g, l, m, n, r, x\n"
     ]
    },
    {
     "name": "stdout",
     "output_type": "stream",
     "text": [
      "The simulation of TATAGATGTTCCGC-1 (423) fluxes takes: 0.7696318626403809 seconds\n"
     ]
    },
    {
     "name": "stderr",
     "output_type": "stream",
     "text": [
      "No defined compartments in model ContextModel. Compartments will be deduced heuristically using regular expressions.\n",
      "Using regular expression found the following compartments:c, e, g, l, m, n, r, x\n"
     ]
    },
    {
     "name": "stdout",
     "output_type": "stream",
     "text": [
      "The simulation of GGTAGTACGCCATA-1 (424) fluxes takes: 1.0497148036956787 seconds\n"
     ]
    },
    {
     "name": "stderr",
     "output_type": "stream",
     "text": [
      "No defined compartments in model ContextModel. Compartments will be deduced heuristically using regular expressions.\n",
      "Using regular expression found the following compartments:c, e, g, l, m, n, r, x\n"
     ]
    },
    {
     "name": "stdout",
     "output_type": "stream",
     "text": [
      "The simulation of GACATTCTCCACCT-1 (425) fluxes takes: 0.8404879570007324 seconds\n"
     ]
    },
    {
     "name": "stderr",
     "output_type": "stream",
     "text": [
      "No defined compartments in model ContextModel. Compartments will be deduced heuristically using regular expressions.\n",
      "Using regular expression found the following compartments:c, e, g, l, m, n, r, x\n"
     ]
    },
    {
     "name": "stdout",
     "output_type": "stream",
     "text": [
      "The simulation of CTAGTTACGAAACA-1 (426) fluxes takes: 0.7575910091400146 seconds\n"
     ]
    },
    {
     "name": "stderr",
     "output_type": "stream",
     "text": [
      "No defined compartments in model ContextModel. Compartments will be deduced heuristically using regular expressions.\n",
      "Using regular expression found the following compartments:c, e, g, l, m, n, r, x\n"
     ]
    },
    {
     "name": "stdout",
     "output_type": "stream",
     "text": [
      "The simulation of AGCCGTCTCAATCG-1 (427) fluxes takes: 0.7237899303436279 seconds\n"
     ]
    },
    {
     "name": "stderr",
     "output_type": "stream",
     "text": [
      "No defined compartments in model ContextModel. Compartments will be deduced heuristically using regular expressions.\n",
      "Using regular expression found the following compartments:c, e, g, l, m, n, r, x\n"
     ]
    },
    {
     "name": "stdout",
     "output_type": "stream",
     "text": [
      "The simulation of AACCCAGATCGCTC-1 (428) fluxes takes: 0.7027261257171631 seconds\n"
     ]
    },
    {
     "name": "stderr",
     "output_type": "stream",
     "text": [
      "No defined compartments in model ContextModel. Compartments will be deduced heuristically using regular expressions.\n",
      "Using regular expression found the following compartments:c, e, g, l, m, n, r, x\n"
     ]
    },
    {
     "name": "stdout",
     "output_type": "stream",
     "text": [
      "The simulation of GACGCCGACCTTCG-1 (429) fluxes takes: 0.8133127689361572 seconds\n"
     ]
    },
    {
     "name": "stderr",
     "output_type": "stream",
     "text": [
      "No defined compartments in model ContextModel. Compartments will be deduced heuristically using regular expressions.\n",
      "Using regular expression found the following compartments:c, e, g, l, m, n, r, x\n"
     ]
    },
    {
     "name": "stdout",
     "output_type": "stream",
     "text": [
      "The simulation of TATTTCCTATTGGC-1 (430) fluxes takes: 1.1156511306762695 seconds\n"
     ]
    },
    {
     "name": "stderr",
     "output_type": "stream",
     "text": [
      "No defined compartments in model ContextModel. Compartments will be deduced heuristically using regular expressions.\n",
      "Using regular expression found the following compartments:c, e, g, l, m, n, r, x\n"
     ]
    },
    {
     "name": "stdout",
     "output_type": "stream",
     "text": [
      "The simulation of TCCCGATGAGATCC-1 (431) fluxes takes: 0.8157901763916016 seconds\n"
     ]
    },
    {
     "name": "stderr",
     "output_type": "stream",
     "text": [
      "No defined compartments in model ContextModel. Compartments will be deduced heuristically using regular expressions.\n",
      "Using regular expression found the following compartments:c, e, g, l, m, n, r, x\n"
     ]
    },
    {
     "name": "stdout",
     "output_type": "stream",
     "text": [
      "The simulation of GAGGGAACGAGGGT-1 (432) fluxes takes: 0.8424551486968994 seconds\n"
     ]
    },
    {
     "name": "stderr",
     "output_type": "stream",
     "text": [
      "No defined compartments in model ContextModel. Compartments will be deduced heuristically using regular expressions.\n",
      "Using regular expression found the following compartments:c, e, g, l, m, n, r, x\n"
     ]
    },
    {
     "name": "stdout",
     "output_type": "stream",
     "text": [
      "The simulation of CCCAGACTGGTTTG-1 (433) fluxes takes: 0.7550320625305176 seconds\n"
     ]
    },
    {
     "name": "stderr",
     "output_type": "stream",
     "text": [
      "No defined compartments in model ContextModel. Compartments will be deduced heuristically using regular expressions.\n",
      "Using regular expression found the following compartments:c, e, g, l, m, n, r, x\n"
     ]
    },
    {
     "name": "stdout",
     "output_type": "stream",
     "text": [
      "The simulation of GAAAGTGACCACAA-1 (434) fluxes takes: 0.9467251300811768 seconds\n"
     ]
    },
    {
     "name": "stderr",
     "output_type": "stream",
     "text": [
      "No defined compartments in model ContextModel. Compartments will be deduced heuristically using regular expressions.\n",
      "Using regular expression found the following compartments:c, e, g, l, m, n, r, x\n"
     ]
    },
    {
     "name": "stdout",
     "output_type": "stream",
     "text": [
      "The simulation of ATAGGCTGTCAGAC-1 (435) fluxes takes: 0.794428825378418 seconds\n"
     ]
    },
    {
     "name": "stderr",
     "output_type": "stream",
     "text": [
      "No defined compartments in model ContextModel. Compartments will be deduced heuristically using regular expressions.\n",
      "Using regular expression found the following compartments:c, e, g, l, m, n, r, x\n"
     ]
    },
    {
     "name": "stdout",
     "output_type": "stream",
     "text": [
      "The simulation of TTTAGAGATCCTCG-1 (436) fluxes takes: 0.8222060203552246 seconds\n"
     ]
    },
    {
     "name": "stderr",
     "output_type": "stream",
     "text": [
      "No defined compartments in model ContextModel. Compartments will be deduced heuristically using regular expressions.\n",
      "Using regular expression found the following compartments:c, e, g, l, m, n, r, x\n"
     ]
    },
    {
     "name": "stdout",
     "output_type": "stream",
     "text": [
      "The simulation of CACCGGGACTTCTA-1 (437) fluxes takes: 0.8954727649688721 seconds\n"
     ]
    },
    {
     "name": "stderr",
     "output_type": "stream",
     "text": [
      "No defined compartments in model ContextModel. Compartments will be deduced heuristically using regular expressions.\n",
      "Using regular expression found the following compartments:c, e, g, l, m, n, r, x\n"
     ]
    },
    {
     "name": "stdout",
     "output_type": "stream",
     "text": [
      "The simulation of GATCTTACGAGATA-1 (438) fluxes takes: 0.7731750011444092 seconds\n"
     ]
    },
    {
     "name": "stderr",
     "output_type": "stream",
     "text": [
      "No defined compartments in model ContextModel. Compartments will be deduced heuristically using regular expressions.\n",
      "Using regular expression found the following compartments:c, e, g, l, m, n, r, x\n"
     ]
    },
    {
     "name": "stdout",
     "output_type": "stream",
     "text": [
      "The simulation of ATAAGTACGAATGA-1 (439) fluxes takes: 0.7415239810943604 seconds\n"
     ]
    },
    {
     "name": "stderr",
     "output_type": "stream",
     "text": [
      "No defined compartments in model ContextModel. Compartments will be deduced heuristically using regular expressions.\n",
      "Using regular expression found the following compartments:c, e, g, l, m, n, r, x\n"
     ]
    },
    {
     "name": "stdout",
     "output_type": "stream",
     "text": [
      "The simulation of TACTGTTGAAAGCA-1 (440) fluxes takes: 0.9226751327514648 seconds\n"
     ]
    },
    {
     "name": "stderr",
     "output_type": "stream",
     "text": [
      "No defined compartments in model ContextModel. Compartments will be deduced heuristically using regular expressions.\n",
      "Using regular expression found the following compartments:c, e, g, l, m, n, r, x\n"
     ]
    },
    {
     "name": "stdout",
     "output_type": "stream",
     "text": [
      "The simulation of TAAGCGTGAGGTTC-1 (441) fluxes takes: 1.0807669162750244 seconds\n"
     ]
    },
    {
     "name": "stderr",
     "output_type": "stream",
     "text": [
      "No defined compartments in model ContextModel. Compartments will be deduced heuristically using regular expressions.\n",
      "Using regular expression found the following compartments:c, e, g, l, m, n, r, x\n"
     ]
    },
    {
     "name": "stdout",
     "output_type": "stream",
     "text": [
      "The simulation of GAGTGTTGCTGTAG-1 (442) fluxes takes: 0.8291778564453125 seconds\n"
     ]
    },
    {
     "name": "stderr",
     "output_type": "stream",
     "text": [
      "No defined compartments in model ContextModel. Compartments will be deduced heuristically using regular expressions.\n",
      "Using regular expression found the following compartments:c, e, g, l, m, n, r, x\n"
     ]
    },
    {
     "name": "stdout",
     "output_type": "stream",
     "text": [
      "The simulation of ACGCACCTGTTAGC-1 (443) fluxes takes: 0.8203930854797363 seconds\n"
     ]
    },
    {
     "name": "stderr",
     "output_type": "stream",
     "text": [
      "No defined compartments in model ContextModel. Compartments will be deduced heuristically using regular expressions.\n",
      "Using regular expression found the following compartments:c, e, g, l, m, n, r, x\n"
     ]
    },
    {
     "name": "stdout",
     "output_type": "stream",
     "text": [
      "The simulation of TCCTAAACATCGAC-1 (444) fluxes takes: 0.8031899929046631 seconds\n"
     ]
    },
    {
     "name": "stderr",
     "output_type": "stream",
     "text": [
      "No defined compartments in model ContextModel. Compartments will be deduced heuristically using regular expressions.\n",
      "Using regular expression found the following compartments:c, e, g, l, m, n, r, x\n"
     ]
    },
    {
     "name": "stdout",
     "output_type": "stream",
     "text": [
      "The simulation of ATCGACGAATGACC-1 (445) fluxes takes: 0.8497228622436523 seconds\n"
     ]
    },
    {
     "name": "stderr",
     "output_type": "stream",
     "text": [
      "No defined compartments in model ContextModel. Compartments will be deduced heuristically using regular expressions.\n",
      "Using regular expression found the following compartments:c, e, g, l, m, n, r, x\n"
     ]
    },
    {
     "name": "stdout",
     "output_type": "stream",
     "text": [
      "The simulation of GTAGCAACCATTTC-1 (446) fluxes takes: 0.5145180225372314 seconds\n"
     ]
    },
    {
     "name": "stderr",
     "output_type": "stream",
     "text": [
      "No defined compartments in model ContextModel. Compartments will be deduced heuristically using regular expressions.\n",
      "Using regular expression found the following compartments:c, e, g, l, m, n, r, x\n"
     ]
    },
    {
     "name": "stdout",
     "output_type": "stream",
     "text": [
      "The simulation of GACTTTACATGCCA-1 (447) fluxes takes: 0.8952908515930176 seconds\n",
      "The simulation of GAGATGCTGAATGA-1 (448) fluxes takes: 0.827476978302002 seconds\n"
     ]
    },
    {
     "name": "stderr",
     "output_type": "stream",
     "text": [
      "No defined compartments in model ContextModel. Compartments will be deduced heuristically using regular expressions.\n",
      "Using regular expression found the following compartments:c, e, g, l, m, n, r, x\n",
      "No defined compartments in model ContextModel. Compartments will be deduced heuristically using regular expressions.\n",
      "Using regular expression found the following compartments:c, e, g, l, m, n, r, x\n"
     ]
    },
    {
     "name": "stdout",
     "output_type": "stream",
     "text": [
      "The simulation of TCGAGAACGACAGG-1 (449) fluxes takes: 0.7262599468231201 seconds\n"
     ]
    },
    {
     "name": "stderr",
     "output_type": "stream",
     "text": [
      "No defined compartments in model ContextModel. Compartments will be deduced heuristically using regular expressions.\n",
      "Using regular expression found the following compartments:c, e, g, l, m, n, r, x\n"
     ]
    },
    {
     "name": "stdout",
     "output_type": "stream",
     "text": [
      "The simulation of ATTGGTCTTGTCTT-1 (450) fluxes takes: 0.7943830490112305 seconds\n"
     ]
    },
    {
     "name": "stderr",
     "output_type": "stream",
     "text": [
      "No defined compartments in model ContextModel. Compartments will be deduced heuristically using regular expressions.\n",
      "Using regular expression found the following compartments:c, e, g, l, m, n, r, x\n"
     ]
    },
    {
     "name": "stdout",
     "output_type": "stream",
     "text": [
      "The simulation of AGTTTCACGGTCTA-1 (451) fluxes takes: 0.7249820232391357 seconds\n"
     ]
    },
    {
     "name": "stderr",
     "output_type": "stream",
     "text": [
      "No defined compartments in model ContextModel. Compartments will be deduced heuristically using regular expressions.\n",
      "Using regular expression found the following compartments:c, e, g, l, m, n, r, x\n"
     ]
    },
    {
     "name": "stdout",
     "output_type": "stream",
     "text": [
      "The simulation of GGACCCGAAGCTAC-1 (452) fluxes takes: 0.9538941383361816 seconds\n"
     ]
    },
    {
     "name": "stderr",
     "output_type": "stream",
     "text": [
      "No defined compartments in model ContextModel. Compartments will be deduced heuristically using regular expressions.\n",
      "Using regular expression found the following compartments:c, e, g, l, m, n, r, x\n"
     ]
    },
    {
     "name": "stdout",
     "output_type": "stream",
     "text": [
      "The simulation of CTTAACACTATCGG-1 (453) fluxes takes: 0.7208037376403809 seconds\n"
     ]
    },
    {
     "name": "stderr",
     "output_type": "stream",
     "text": [
      "No defined compartments in model ContextModel. Compartments will be deduced heuristically using regular expressions.\n",
      "Using regular expression found the following compartments:c, e, g, l, m, n, r, x\n"
     ]
    },
    {
     "name": "stdout",
     "output_type": "stream",
     "text": [
      "The simulation of CTTTACGAGCGAAG-1 (454) fluxes takes: 0.7042570114135742 seconds\n"
     ]
    },
    {
     "name": "stderr",
     "output_type": "stream",
     "text": [
      "No defined compartments in model ContextModel. Compartments will be deduced heuristically using regular expressions.\n",
      "Using regular expression found the following compartments:c, e, g, l, m, n, r, x\n"
     ]
    },
    {
     "name": "stdout",
     "output_type": "stream",
     "text": [
      "The simulation of TACATCACCTGTTT-1 (455) fluxes takes: 0.9137430191040039 seconds\n"
     ]
    },
    {
     "name": "stderr",
     "output_type": "stream",
     "text": [
      "No defined compartments in model ContextModel. Compartments will be deduced heuristically using regular expressions.\n",
      "Using regular expression found the following compartments:c, e, g, l, m, n, r, x\n"
     ]
    },
    {
     "name": "stdout",
     "output_type": "stream",
     "text": [
      "The simulation of ATCATCTGACACCA-1 (456) fluxes takes: 0.9571340084075928 seconds\n"
     ]
    },
    {
     "name": "stderr",
     "output_type": "stream",
     "text": [
      "No defined compartments in model ContextModel. Compartments will be deduced heuristically using regular expressions.\n",
      "Using regular expression found the following compartments:c, e, g, l, m, n, r, x\n"
     ]
    },
    {
     "name": "stdout",
     "output_type": "stream",
     "text": [
      "The simulation of GATCGATGTAAGGA-1 (457) fluxes takes: 0.8551750183105469 seconds\n"
     ]
    },
    {
     "name": "stderr",
     "output_type": "stream",
     "text": [
      "No defined compartments in model ContextModel. Compartments will be deduced heuristically using regular expressions.\n",
      "Using regular expression found the following compartments:c, e, g, l, m, n, r, x\n"
     ]
    },
    {
     "name": "stdout",
     "output_type": "stream",
     "text": [
      "The simulation of CTTCATGAAGCATC-1 (458) fluxes takes: 0.8324880599975586 seconds\n"
     ]
    },
    {
     "name": "stderr",
     "output_type": "stream",
     "text": [
      "No defined compartments in model ContextModel. Compartments will be deduced heuristically using regular expressions.\n",
      "Using regular expression found the following compartments:c, e, g, l, m, n, r, x\n"
     ]
    },
    {
     "name": "stdout",
     "output_type": "stream",
     "text": [
      "The simulation of ACGTGATGGGTCTA-1 (459) fluxes takes: 0.8345248699188232 seconds\n"
     ]
    },
    {
     "name": "stderr",
     "output_type": "stream",
     "text": [
      "No defined compartments in model ContextModel. Compartments will be deduced heuristically using regular expressions.\n",
      "Using regular expression found the following compartments:c, e, g, l, m, n, r, x\n"
     ]
    },
    {
     "name": "stdout",
     "output_type": "stream",
     "text": [
      "The simulation of CTATGTACGCTTAG-1 (460) fluxes takes: 0.975823163986206 seconds\n"
     ]
    },
    {
     "name": "stderr",
     "output_type": "stream",
     "text": [
      "No defined compartments in model ContextModel. Compartments will be deduced heuristically using regular expressions.\n",
      "Using regular expression found the following compartments:c, e, g, l, m, n, r, x\n"
     ]
    },
    {
     "name": "stdout",
     "output_type": "stream",
     "text": [
      "The simulation of ATGCTTTGGGCGAA-1 (461) fluxes takes: 0.8309841156005859 seconds\n"
     ]
    },
    {
     "name": "stderr",
     "output_type": "stream",
     "text": [
      "No defined compartments in model ContextModel. Compartments will be deduced heuristically using regular expressions.\n",
      "Using regular expression found the following compartments:c, e, g, l, m, n, r, x\n"
     ]
    },
    {
     "name": "stdout",
     "output_type": "stream",
     "text": [
      "The simulation of CCCAGACTGCCTTC-1 (462) fluxes takes: 1.0620238780975342 seconds\n"
     ]
    },
    {
     "name": "stderr",
     "output_type": "stream",
     "text": [
      "No defined compartments in model ContextModel. Compartments will be deduced heuristically using regular expressions.\n",
      "Using regular expression found the following compartments:c, e, g, l, m, n, r, x\n"
     ]
    },
    {
     "name": "stdout",
     "output_type": "stream",
     "text": [
      "The simulation of CGGAATTGTGGAGG-1 (463) fluxes takes: 0.8002288341522217 seconds\n"
     ]
    },
    {
     "name": "stderr",
     "output_type": "stream",
     "text": [
      "No defined compartments in model ContextModel. Compartments will be deduced heuristically using regular expressions.\n",
      "Using regular expression found the following compartments:c, e, g, l, m, n, r, x\n"
     ]
    },
    {
     "name": "stdout",
     "output_type": "stream",
     "text": [
      "The simulation of GATGCCCTCTCATT-1 (464) fluxes takes: 0.8777599334716797 seconds\n"
     ]
    },
    {
     "name": "stderr",
     "output_type": "stream",
     "text": [
      "No defined compartments in model ContextModel. Compartments will be deduced heuristically using regular expressions.\n",
      "Using regular expression found the following compartments:c, e, g, l, m, n, r, x\n"
     ]
    },
    {
     "name": "stdout",
     "output_type": "stream",
     "text": [
      "The simulation of GATTTGCTAACGGG-1 (465) fluxes takes: 1.0165319442749023 seconds\n"
     ]
    },
    {
     "name": "stderr",
     "output_type": "stream",
     "text": [
      "No defined compartments in model ContextModel. Compartments will be deduced heuristically using regular expressions.\n",
      "Using regular expression found the following compartments:c, e, g, l, m, n, r, x\n"
     ]
    },
    {
     "name": "stdout",
     "output_type": "stream",
     "text": [
      "The simulation of TGGAAAGACTCTCG-1 (466) fluxes takes: 0.6805377006530762 seconds\n"
     ]
    },
    {
     "name": "stderr",
     "output_type": "stream",
     "text": [
      "No defined compartments in model ContextModel. Compartments will be deduced heuristically using regular expressions.\n",
      "Using regular expression found the following compartments:c, e, g, l, m, n, r, x\n"
     ]
    },
    {
     "name": "stdout",
     "output_type": "stream",
     "text": [
      "The simulation of ATTCGGGATTAGGC-1 (467) fluxes takes: 0.8019847869873047 seconds\n"
     ]
    },
    {
     "name": "stderr",
     "output_type": "stream",
     "text": [
      "No defined compartments in model ContextModel. Compartments will be deduced heuristically using regular expressions.\n",
      "Using regular expression found the following compartments:c, e, g, l, m, n, r, x\n"
     ]
    },
    {
     "name": "stdout",
     "output_type": "stream",
     "text": [
      "The simulation of AAGCCATGAACTGC-1 (468) fluxes takes: 0.9590730667114258 seconds\n"
     ]
    },
    {
     "name": "stderr",
     "output_type": "stream",
     "text": [
      "No defined compartments in model ContextModel. Compartments will be deduced heuristically using regular expressions.\n",
      "Using regular expression found the following compartments:c, e, g, l, m, n, r, x\n"
     ]
    },
    {
     "name": "stdout",
     "output_type": "stream",
     "text": [
      "The simulation of TCAGCGCTGGATCT-1 (469) fluxes takes: 0.9051392078399658 seconds\n"
     ]
    },
    {
     "name": "stderr",
     "output_type": "stream",
     "text": [
      "No defined compartments in model ContextModel. Compartments will be deduced heuristically using regular expressions.\n",
      "Using regular expression found the following compartments:c, e, g, l, m, n, r, x\n"
     ]
    },
    {
     "name": "stdout",
     "output_type": "stream",
     "text": [
      "The simulation of TGCTGAGAGAGCAG-1 (470) fluxes takes: 0.8817989826202393 seconds\n",
      "The simulation of GCCACGGAGGCGAA-1 (471) fluxes takes: 0.8786897659301758 seconds\n"
     ]
    },
    {
     "name": "stderr",
     "output_type": "stream",
     "text": [
      "No defined compartments in model ContextModel. Compartments will be deduced heuristically using regular expressions.\n",
      "Using regular expression found the following compartments:c, e, g, l, m, n, r, x\n"
     ]
    },
    {
     "name": "stdout",
     "output_type": "stream",
     "text": [
      "The simulation of AATCTAGAATCGGT-1 (472) fluxes takes: 0.9459409713745117 seconds\n"
     ]
    },
    {
     "name": "stderr",
     "output_type": "stream",
     "text": [
      "No defined compartments in model ContextModel. Compartments will be deduced heuristically using regular expressions.\n",
      "Using regular expression found the following compartments:c, e, g, l, m, n, r, x\n",
      "No defined compartments in model ContextModel. Compartments will be deduced heuristically using regular expressions.\n",
      "Using regular expression found the following compartments:c, e, g, l, m, n, r, x\n"
     ]
    },
    {
     "name": "stdout",
     "output_type": "stream",
     "text": [
      "The simulation of ACGTAGACTACAGC-1 (473) fluxes takes: 0.8366279602050781 seconds\n"
     ]
    },
    {
     "name": "stderr",
     "output_type": "stream",
     "text": [
      "No defined compartments in model ContextModel. Compartments will be deduced heuristically using regular expressions.\n",
      "Using regular expression found the following compartments:c, e, g, l, m, n, r, x\n"
     ]
    },
    {
     "name": "stdout",
     "output_type": "stream",
     "text": [
      "The simulation of ATACCTTGGGGCAA-1 (474) fluxes takes: 0.8125612735748291 seconds\n"
     ]
    },
    {
     "name": "stderr",
     "output_type": "stream",
     "text": [
      "No defined compartments in model ContextModel. Compartments will be deduced heuristically using regular expressions.\n",
      "Using regular expression found the following compartments:c, e, g, l, m, n, r, x\n"
     ]
    },
    {
     "name": "stdout",
     "output_type": "stream",
     "text": [
      "The simulation of CATCATACCGCATA-1 (475) fluxes takes: 0.9344360828399658 seconds\n"
     ]
    },
    {
     "name": "stderr",
     "output_type": "stream",
     "text": [
      "No defined compartments in model ContextModel. Compartments will be deduced heuristically using regular expressions.\n",
      "Using regular expression found the following compartments:c, e, g, l, m, n, r, x\n"
     ]
    },
    {
     "name": "stdout",
     "output_type": "stream",
     "text": [
      "The simulation of CGGCCAGAAAGGTA-1 (476) fluxes takes: 0.7655248641967773 seconds\n"
     ]
    },
    {
     "name": "stderr",
     "output_type": "stream",
     "text": [
      "No defined compartments in model ContextModel. Compartments will be deduced heuristically using regular expressions.\n",
      "Using regular expression found the following compartments:c, e, g, l, m, n, r, x\n"
     ]
    },
    {
     "name": "stdout",
     "output_type": "stream",
     "text": [
      "The simulation of ATGCTTTGCGAATC-1 (477) fluxes takes: 0.8728749752044678 seconds\n"
     ]
    },
    {
     "name": "stderr",
     "output_type": "stream",
     "text": [
      "No defined compartments in model ContextModel. Compartments will be deduced heuristically using regular expressions.\n",
      "Using regular expression found the following compartments:c, e, g, l, m, n, r, x\n"
     ]
    },
    {
     "name": "stdout",
     "output_type": "stream",
     "text": [
      "The simulation of AGTACTCTCAACCA-1 (478) fluxes takes: 0.7846200466156006 seconds\n"
     ]
    },
    {
     "name": "stderr",
     "output_type": "stream",
     "text": [
      "No defined compartments in model ContextModel. Compartments will be deduced heuristically using regular expressions.\n",
      "Using regular expression found the following compartments:c, e, g, l, m, n, r, x\n"
     ]
    },
    {
     "name": "stdout",
     "output_type": "stream",
     "text": [
      "The simulation of CATGAGACACGGGA-1 (479) fluxes takes: 0.8030960559844971 seconds\n"
     ]
    },
    {
     "name": "stderr",
     "output_type": "stream",
     "text": [
      "No defined compartments in model ContextModel. Compartments will be deduced heuristically using regular expressions.\n",
      "Using regular expression found the following compartments:c, e, g, l, m, n, r, x\n"
     ]
    },
    {
     "name": "stdout",
     "output_type": "stream",
     "text": [
      "The simulation of AATCCTACCGGTAT-1 (480) fluxes takes: 0.9144937992095947 seconds\n"
     ]
    },
    {
     "name": "stderr",
     "output_type": "stream",
     "text": [
      "No defined compartments in model ContextModel. Compartments will be deduced heuristically using regular expressions.\n",
      "Using regular expression found the following compartments:c, e, g, l, m, n, r, x\n"
     ]
    },
    {
     "name": "stdout",
     "output_type": "stream",
     "text": [
      "The simulation of GAAGTCACCCTCGT-1 (481) fluxes takes: 0.9842400550842285 seconds\n"
     ]
    },
    {
     "name": "stderr",
     "output_type": "stream",
     "text": [
      "No defined compartments in model ContextModel. Compartments will be deduced heuristically using regular expressions.\n",
      "Using regular expression found the following compartments:c, e, g, l, m, n, r, x\n"
     ]
    },
    {
     "name": "stdout",
     "output_type": "stream",
     "text": [
      "The simulation of ATGTCGGAGGTGAG-1 (482) fluxes takes: 0.8351209163665771 seconds\n"
     ]
    },
    {
     "name": "stderr",
     "output_type": "stream",
     "text": [
      "No defined compartments in model ContextModel. Compartments will be deduced heuristically using regular expressions.\n",
      "Using regular expression found the following compartments:c, e, g, l, m, n, r, x\n"
     ]
    },
    {
     "name": "stdout",
     "output_type": "stream",
     "text": [
      "The simulation of ATAACAACTTTGTC-1 (483) fluxes takes: 0.7818131446838379 seconds\n"
     ]
    },
    {
     "name": "stderr",
     "output_type": "stream",
     "text": [
      "No defined compartments in model ContextModel. Compartments will be deduced heuristically using regular expressions.\n",
      "Using regular expression found the following compartments:c, e, g, l, m, n, r, x\n"
     ]
    },
    {
     "name": "stdout",
     "output_type": "stream",
     "text": [
      "The simulation of GTAGTGACCTCATT-1 (484) fluxes takes: 0.8752949237823486 seconds\n",
      "The simulation of CGAAGTACCAACTG-1 (485) fluxes takes: 0.7818942070007324 seconds\n"
     ]
    },
    {
     "name": "stderr",
     "output_type": "stream",
     "text": [
      "No defined compartments in model ContextModel. Compartments will be deduced heuristically using regular expressions.\n",
      "Using regular expression found the following compartments:c, e, g, l, m, n, r, x\n",
      "No defined compartments in model ContextModel. Compartments will be deduced heuristically using regular expressions.\n",
      "Using regular expression found the following compartments:c, e, g, l, m, n, r, x\n"
     ]
    },
    {
     "name": "stdout",
     "output_type": "stream",
     "text": [
      "The simulation of ACCCTCGACGGTAT-1 (486) fluxes takes: 0.8867549896240234 seconds\n"
     ]
    },
    {
     "name": "stderr",
     "output_type": "stream",
     "text": [
      "No defined compartments in model ContextModel. Compartments will be deduced heuristically using regular expressions.\n",
      "Using regular expression found the following compartments:c, e, g, l, m, n, r, x\n"
     ]
    },
    {
     "name": "stdout",
     "output_type": "stream",
     "text": [
      "The simulation of CGCAACCTCCTTGC-1 (487) fluxes takes: 0.7581062316894531 seconds\n"
     ]
    },
    {
     "name": "stderr",
     "output_type": "stream",
     "text": [
      "No defined compartments in model ContextModel. Compartments will be deduced heuristically using regular expressions.\n",
      "Using regular expression found the following compartments:c, e, g, l, m, n, r, x\n"
     ]
    },
    {
     "name": "stdout",
     "output_type": "stream",
     "text": [
      "The simulation of CTCGCATGACTTTC-1 (488) fluxes takes: 0.8064608573913574 seconds\n"
     ]
    },
    {
     "name": "stderr",
     "output_type": "stream",
     "text": [
      "No defined compartments in model ContextModel. Compartments will be deduced heuristically using regular expressions.\n",
      "Using regular expression found the following compartments:c, e, g, l, m, n, r, x\n"
     ]
    },
    {
     "name": "stdout",
     "output_type": "stream",
     "text": [
      "The simulation of TTCGAGGATAGAAG-1 (489) fluxes takes: 0.8281161785125732 seconds\n"
     ]
    },
    {
     "name": "stderr",
     "output_type": "stream",
     "text": [
      "No defined compartments in model ContextModel. Compartments will be deduced heuristically using regular expressions.\n",
      "Using regular expression found the following compartments:c, e, g, l, m, n, r, x\n"
     ]
    },
    {
     "name": "stdout",
     "output_type": "stream",
     "text": [
      "The simulation of CTCTAAACGGCGAA-1 (490) fluxes takes: 0.7386291027069092 seconds\n"
     ]
    },
    {
     "name": "stderr",
     "output_type": "stream",
     "text": [
      "No defined compartments in model ContextModel. Compartments will be deduced heuristically using regular expressions.\n",
      "Using regular expression found the following compartments:c, e, g, l, m, n, r, x\n"
     ]
    },
    {
     "name": "stdout",
     "output_type": "stream",
     "text": [
      "The simulation of CTTCACCTACCTGA-1 (491) fluxes takes: 1.0704810619354248 seconds\n"
     ]
    },
    {
     "name": "stderr",
     "output_type": "stream",
     "text": [
      "No defined compartments in model ContextModel. Compartments will be deduced heuristically using regular expressions.\n",
      "Using regular expression found the following compartments:c, e, g, l, m, n, r, x\n"
     ]
    },
    {
     "name": "stdout",
     "output_type": "stream",
     "text": [
      "The simulation of GGAACTTGAGAATG-1 (492) fluxes takes: 0.7652809619903564 seconds\n"
     ]
    },
    {
     "name": "stderr",
     "output_type": "stream",
     "text": [
      "No defined compartments in model ContextModel. Compartments will be deduced heuristically using regular expressions.\n",
      "Using regular expression found the following compartments:c, e, g, l, m, n, r, x\n"
     ]
    },
    {
     "name": "stdout",
     "output_type": "stream",
     "text": [
      "The simulation of TAGGAGCTGAGGGT-1 (493) fluxes takes: 0.9384081363677979 seconds\n"
     ]
    },
    {
     "name": "stderr",
     "output_type": "stream",
     "text": [
      "No defined compartments in model ContextModel. Compartments will be deduced heuristically using regular expressions.\n",
      "Using regular expression found the following compartments:c, e, g, l, m, n, r, x\n"
     ]
    },
    {
     "name": "stdout",
     "output_type": "stream",
     "text": [
      "The simulation of TAACAATGTGCCCT-1 (494) fluxes takes: 0.7119908332824707 seconds\n"
     ]
    },
    {
     "name": "stderr",
     "output_type": "stream",
     "text": [
      "No defined compartments in model ContextModel. Compartments will be deduced heuristically using regular expressions.\n",
      "Using regular expression found the following compartments:c, e, g, l, m, n, r, x\n"
     ]
    },
    {
     "name": "stdout",
     "output_type": "stream",
     "text": [
      "The simulation of CTGGATGATGTGAC-1 (495) fluxes takes: 0.8656079769134521 seconds\n"
     ]
    },
    {
     "name": "stderr",
     "output_type": "stream",
     "text": [
      "No defined compartments in model ContextModel. Compartments will be deduced heuristically using regular expressions.\n",
      "Using regular expression found the following compartments:c, e, g, l, m, n, r, x\n"
     ]
    },
    {
     "name": "stdout",
     "output_type": "stream",
     "text": [
      "The simulation of TCACATACAGGGTG-1 (496) fluxes takes: 0.581719160079956 seconds\n"
     ]
    },
    {
     "name": "stderr",
     "output_type": "stream",
     "text": [
      "No defined compartments in model ContextModel. Compartments will be deduced heuristically using regular expressions.\n",
      "Using regular expression found the following compartments:c, e, g, l, m, n, r, x\n"
     ]
    },
    {
     "name": "stdout",
     "output_type": "stream",
     "text": [
      "The simulation of CGTTAGGAAACCAC-1 (497) fluxes takes: 0.7525410652160645 seconds\n"
     ]
    },
    {
     "name": "stderr",
     "output_type": "stream",
     "text": [
      "No defined compartments in model ContextModel. Compartments will be deduced heuristically using regular expressions.\n",
      "Using regular expression found the following compartments:c, e, g, l, m, n, r, x\n"
     ]
    },
    {
     "name": "stdout",
     "output_type": "stream",
     "text": [
      "The simulation of TGCTGAGATTATCC-1 (498) fluxes takes: 0.831596851348877 seconds\n"
     ]
    },
    {
     "name": "stderr",
     "output_type": "stream",
     "text": [
      "No defined compartments in model ContextModel. Compartments will be deduced heuristically using regular expressions.\n",
      "Using regular expression found the following compartments:c, e, g, l, m, n, r, x\n"
     ]
    },
    {
     "name": "stdout",
     "output_type": "stream",
     "text": [
      "The simulation of AGTTTGCTCCAAGT-1 (499) fluxes takes: 0.8109009265899658 seconds\n",
      "The simulation of TTCAAGCTAGATGA-1 (500) fluxes takes: 0.7610549926757812 seconds\n"
     ]
    }
   ],
   "source": [
    "t0_simulations = time.time()\n",
    "models = []\n",
    "solutions = []\n",
    "times = []\n",
    "\n",
    "for i, file_path in enumerate(file_paths_500):\n",
    "    model = cobra.io.load_matlab_model(file_path)\n",
    "    model.id = os.path.splitext(os.path.basename(file_path))[0].replace(\"_\", \"-\")\n",
    "    \n",
    "    t0 = time.time()  \n",
    "    model.objective = 'biomass_maintenance'\n",
    "    solution = cobra.flux_analysis.pfba(model) \n",
    "    t = time.time()  \n",
    "    pfba_time = t - t0\n",
    "    \n",
    "    print(f\"The simulation of {model.id} ({i+1}) fluxes takes: {pfba_time} seconds\")\n",
    "    \n",
    "    models.append(model)\n",
    "    solutions.append(solution)\n",
    "    times.append(pfba_time)\n",
    "tf_simulations = time.time()"
   ]
  },
  {
   "cell_type": "code",
   "execution_count": 7,
   "id": "9e976b1d-220f-419b-b6f9-dde07d3f98b2",
   "metadata": {},
   "outputs": [
    {
     "name": "stdout",
     "output_type": "stream",
     "text": [
      "The simulation of 500 the models takes: 1643.030543088913 seconds\n"
     ]
    }
   ],
   "source": [
    "print(f\"The simulation of 500 the models takes: {tf_simulations-t0_simulations} seconds\")"
   ]
  },
  {
   "cell_type": "code",
   "execution_count": 30,
   "id": "9a121281-d75a-45a1-b0b4-c37402c4cd21",
   "metadata": {},
   "outputs": [
    {
     "name": "stdout",
     "output_type": "stream",
     "text": [
      "The creation of the r_models dataframe takes: 0.19442367553710938 seconds\n"
     ]
    },
    {
     "data": {
      "text/html": [
       "<div>\n",
       "<style scoped>\n",
       "    .dataframe tbody tr th:only-of-type {\n",
       "        vertical-align: middle;\n",
       "    }\n",
       "\n",
       "    .dataframe tbody tr th {\n",
       "        vertical-align: top;\n",
       "    }\n",
       "\n",
       "    .dataframe thead th {\n",
       "        text-align: right;\n",
       "    }\n",
       "</style>\n",
       "<table border=\"1\" class=\"dataframe\">\n",
       "  <thead>\n",
       "    <tr style=\"text-align: right;\">\n",
       "      <th></th>\n",
       "      <th>biomass_maintenance</th>\n",
       "      <th>objective_value</th>\n",
       "      <th>percent_ov</th>\n",
       "    </tr>\n",
       "  </thead>\n",
       "  <tbody>\n",
       "    <tr>\n",
       "      <th>GAGTGGGATGCCCT-1</th>\n",
       "      <td>147.757461</td>\n",
       "      <td>114202.320734</td>\n",
       "      <td>41.280454</td>\n",
       "    </tr>\n",
       "    <tr>\n",
       "      <th>CAGCCTACCCAACA-1</th>\n",
       "      <td>193.197086</td>\n",
       "      <td>92176.910022</td>\n",
       "      <td>33.318979</td>\n",
       "    </tr>\n",
       "    <tr>\n",
       "      <th>CGGACCGATGCGTA-1</th>\n",
       "      <td>144.897815</td>\n",
       "      <td>62452.570651</td>\n",
       "      <td>22.574589</td>\n",
       "    </tr>\n",
       "    <tr>\n",
       "      <th>GCTCAAGAAGTCAC-1</th>\n",
       "      <td>193.300814</td>\n",
       "      <td>85340.541140</td>\n",
       "      <td>30.847852</td>\n",
       "    </tr>\n",
       "    <tr>\n",
       "      <th>AAGCACTGCATACG-1</th>\n",
       "      <td>177.296177</td>\n",
       "      <td>84629.030228</td>\n",
       "      <td>30.590664</td>\n",
       "    </tr>\n",
       "  </tbody>\n",
       "</table>\n",
       "</div>"
      ],
      "text/plain": [
       "                  biomass_maintenance  objective_value  percent_ov\n",
       "GAGTGGGATGCCCT-1           147.757461    114202.320734   41.280454\n",
       "CAGCCTACCCAACA-1           193.197086     92176.910022   33.318979\n",
       "CGGACCGATGCGTA-1           144.897815     62452.570651   22.574589\n",
       "GCTCAAGAAGTCAC-1           193.300814     85340.541140   30.847852\n",
       "AAGCACTGCATACG-1           177.296177     84629.030228   30.590664"
      ]
     },
     "execution_count": 30,
     "metadata": {},
     "output_type": "execute_result"
    }
   ],
   "source": [
    "t0_rmodels = time.time()\n",
    "r_models = pd.DataFrame(index = [model.id for model in models])\n",
    "\n",
    "for i, solution in enumerate(solutions, start = 0):\n",
    "    ov_m = solution.objective_value\n",
    "    percent = (ov_m/ov) * 100\n",
    "\n",
    "    r_models.loc[r_models.index[i], 'biomass_maintenance'] = solutions[i].fluxes[\"biomass_maintenance\"]\n",
    "    r_models.loc[r_models.index[i], 'objective_value'] = ov_m\n",
    "    r_models.loc[r_models.index[i], 'percent_ov'] = percent\n",
    "    #r_models.loc[r_models.index[i], 'feasible_models'] = \"TRUE\" if percent > 15 else \"FALSE\"\n",
    "\n",
    "tf_rmodels = time.time()\n",
    "print(f\"The creation of the r_models dataframe takes: {tf_rmodels-t0_rmodels} seconds\")\n",
    "\n",
    "#print(f\"The _% of Recon 3D objective value is {_/100*ov}\")\n",
    "#print(f\"There are {r_models['feasible_models'].eq('FALSE').sum()} models that aren't feasible because of their low objective value.\\n\")\n",
    "r_models.head()"
   ]
  },
  {
   "cell_type": "code",
   "execution_count": 27,
   "id": "32826ba1-008a-41bb-b97d-61a8238fce6e",
   "metadata": {
    "scrolled": true
   },
   "outputs": [
    {
     "data": {
      "text/html": [
       "<div>\n",
       "<style scoped>\n",
       "    .dataframe tbody tr th:only-of-type {\n",
       "        vertical-align: middle;\n",
       "    }\n",
       "\n",
       "    .dataframe tbody tr th {\n",
       "        vertical-align: top;\n",
       "    }\n",
       "\n",
       "    .dataframe thead th {\n",
       "        text-align: right;\n",
       "    }\n",
       "</style>\n",
       "<table border=\"1\" class=\"dataframe\">\n",
       "  <thead>\n",
       "    <tr style=\"text-align: right;\">\n",
       "      <th></th>\n",
       "      <th>10FTHF7GLUtl</th>\n",
       "      <th>10FTHF7GLUtm</th>\n",
       "      <th>10FTHFtl</th>\n",
       "      <th>10FTHFtm</th>\n",
       "      <th>13DAMPPOX</th>\n",
       "      <th>2AMACSULT</th>\n",
       "      <th>2HBO</th>\n",
       "      <th>34DHOXPEGOX</th>\n",
       "      <th>34DHOXPEGt</th>\n",
       "      <th>34DHPHAMT</th>\n",
       "      <th>...</th>\n",
       "      <th>EX_kynate[e]</th>\n",
       "      <th>sink_citr[c]</th>\n",
       "      <th>LEULEULAPc</th>\n",
       "      <th>LEULEUPEPT1tc</th>\n",
       "      <th>EX_leuleu[e]</th>\n",
       "      <th>PTRCOX1</th>\n",
       "      <th>DM_sTn_antigen_g_</th>\n",
       "      <th>NS26Tg</th>\n",
       "      <th>10FTHF5GLUtm</th>\n",
       "      <th>r1984</th>\n",
       "    </tr>\n",
       "  </thead>\n",
       "  <tbody>\n",
       "    <tr>\n",
       "      <th>GAGTGGGATGCCCT-1</th>\n",
       "      <td>0.0</td>\n",
       "      <td>0.0</td>\n",
       "      <td>0.0</td>\n",
       "      <td>0.000000e+00</td>\n",
       "      <td>0.0</td>\n",
       "      <td>0.0</td>\n",
       "      <td>5.201313e+02</td>\n",
       "      <td>0.0</td>\n",
       "      <td>0.0</td>\n",
       "      <td>0.0</td>\n",
       "      <td>...</td>\n",
       "      <td>0.0</td>\n",
       "      <td>0.0</td>\n",
       "      <td>0.0</td>\n",
       "      <td>0.0</td>\n",
       "      <td>0.0</td>\n",
       "      <td>0.0</td>\n",
       "      <td>0.0</td>\n",
       "      <td>0.0</td>\n",
       "      <td>0.0</td>\n",
       "      <td>0.0</td>\n",
       "    </tr>\n",
       "    <tr>\n",
       "      <th>CAGCCTACCCAACA-1</th>\n",
       "      <td>0.0</td>\n",
       "      <td>0.0</td>\n",
       "      <td>0.0</td>\n",
       "      <td>0.000000e+00</td>\n",
       "      <td>0.0</td>\n",
       "      <td>0.0</td>\n",
       "      <td>0.000000e+00</td>\n",
       "      <td>0.0</td>\n",
       "      <td>0.0</td>\n",
       "      <td>0.0</td>\n",
       "      <td>...</td>\n",
       "      <td>0.0</td>\n",
       "      <td>0.0</td>\n",
       "      <td>0.0</td>\n",
       "      <td>0.0</td>\n",
       "      <td>0.0</td>\n",
       "      <td>0.0</td>\n",
       "      <td>0.0</td>\n",
       "      <td>0.0</td>\n",
       "      <td>0.0</td>\n",
       "      <td>0.0</td>\n",
       "    </tr>\n",
       "    <tr>\n",
       "      <th>CGGACCGATGCGTA-1</th>\n",
       "      <td>0.0</td>\n",
       "      <td>0.0</td>\n",
       "      <td>0.0</td>\n",
       "      <td>0.000000e+00</td>\n",
       "      <td>0.0</td>\n",
       "      <td>0.0</td>\n",
       "      <td>8.910705e-16</td>\n",
       "      <td>0.0</td>\n",
       "      <td>0.0</td>\n",
       "      <td>0.0</td>\n",
       "      <td>...</td>\n",
       "      <td>0.0</td>\n",
       "      <td>0.0</td>\n",
       "      <td>0.0</td>\n",
       "      <td>0.0</td>\n",
       "      <td>0.0</td>\n",
       "      <td>0.0</td>\n",
       "      <td>0.0</td>\n",
       "      <td>0.0</td>\n",
       "      <td>0.0</td>\n",
       "      <td>0.0</td>\n",
       "    </tr>\n",
       "    <tr>\n",
       "      <th>GCTCAAGAAGTCAC-1</th>\n",
       "      <td>0.0</td>\n",
       "      <td>0.0</td>\n",
       "      <td>0.0</td>\n",
       "      <td>0.000000e+00</td>\n",
       "      <td>0.0</td>\n",
       "      <td>0.0</td>\n",
       "      <td>0.000000e+00</td>\n",
       "      <td>0.0</td>\n",
       "      <td>0.0</td>\n",
       "      <td>0.0</td>\n",
       "      <td>...</td>\n",
       "      <td>0.0</td>\n",
       "      <td>0.0</td>\n",
       "      <td>0.0</td>\n",
       "      <td>0.0</td>\n",
       "      <td>0.0</td>\n",
       "      <td>0.0</td>\n",
       "      <td>0.0</td>\n",
       "      <td>0.0</td>\n",
       "      <td>0.0</td>\n",
       "      <td>0.0</td>\n",
       "    </tr>\n",
       "    <tr>\n",
       "      <th>AAGCACTGCATACG-1</th>\n",
       "      <td>0.0</td>\n",
       "      <td>0.0</td>\n",
       "      <td>0.0</td>\n",
       "      <td>7.876633e-16</td>\n",
       "      <td>0.0</td>\n",
       "      <td>0.0</td>\n",
       "      <td>0.000000e+00</td>\n",
       "      <td>0.0</td>\n",
       "      <td>0.0</td>\n",
       "      <td>0.0</td>\n",
       "      <td>...</td>\n",
       "      <td>0.0</td>\n",
       "      <td>0.0</td>\n",
       "      <td>0.0</td>\n",
       "      <td>0.0</td>\n",
       "      <td>0.0</td>\n",
       "      <td>0.0</td>\n",
       "      <td>0.0</td>\n",
       "      <td>0.0</td>\n",
       "      <td>0.0</td>\n",
       "      <td>0.0</td>\n",
       "    </tr>\n",
       "  </tbody>\n",
       "</table>\n",
       "<p>5 rows × 6267 columns</p>\n",
       "</div>"
      ],
      "text/plain": [
       "                  10FTHF7GLUtl  10FTHF7GLUtm  10FTHFtl      10FTHFtm  \\\n",
       "GAGTGGGATGCCCT-1           0.0           0.0       0.0  0.000000e+00   \n",
       "CAGCCTACCCAACA-1           0.0           0.0       0.0  0.000000e+00   \n",
       "CGGACCGATGCGTA-1           0.0           0.0       0.0  0.000000e+00   \n",
       "GCTCAAGAAGTCAC-1           0.0           0.0       0.0  0.000000e+00   \n",
       "AAGCACTGCATACG-1           0.0           0.0       0.0  7.876633e-16   \n",
       "\n",
       "                  13DAMPPOX  2AMACSULT          2HBO  34DHOXPEGOX  34DHOXPEGt  \\\n",
       "GAGTGGGATGCCCT-1        0.0        0.0  5.201313e+02          0.0         0.0   \n",
       "CAGCCTACCCAACA-1        0.0        0.0  0.000000e+00          0.0         0.0   \n",
       "CGGACCGATGCGTA-1        0.0        0.0  8.910705e-16          0.0         0.0   \n",
       "GCTCAAGAAGTCAC-1        0.0        0.0  0.000000e+00          0.0         0.0   \n",
       "AAGCACTGCATACG-1        0.0        0.0  0.000000e+00          0.0         0.0   \n",
       "\n",
       "                  34DHPHAMT  ...  EX_kynate[e]  sink_citr[c]  LEULEULAPc  \\\n",
       "GAGTGGGATGCCCT-1        0.0  ...           0.0           0.0         0.0   \n",
       "CAGCCTACCCAACA-1        0.0  ...           0.0           0.0         0.0   \n",
       "CGGACCGATGCGTA-1        0.0  ...           0.0           0.0         0.0   \n",
       "GCTCAAGAAGTCAC-1        0.0  ...           0.0           0.0         0.0   \n",
       "AAGCACTGCATACG-1        0.0  ...           0.0           0.0         0.0   \n",
       "\n",
       "                  LEULEUPEPT1tc  EX_leuleu[e]  PTRCOX1  DM_sTn_antigen_g_  \\\n",
       "GAGTGGGATGCCCT-1            0.0           0.0      0.0                0.0   \n",
       "CAGCCTACCCAACA-1            0.0           0.0      0.0                0.0   \n",
       "CGGACCGATGCGTA-1            0.0           0.0      0.0                0.0   \n",
       "GCTCAAGAAGTCAC-1            0.0           0.0      0.0                0.0   \n",
       "AAGCACTGCATACG-1            0.0           0.0      0.0                0.0   \n",
       "\n",
       "                  NS26Tg  10FTHF5GLUtm  r1984  \n",
       "GAGTGGGATGCCCT-1     0.0           0.0    0.0  \n",
       "CAGCCTACCCAACA-1     0.0           0.0    0.0  \n",
       "CGGACCGATGCGTA-1     0.0           0.0    0.0  \n",
       "GCTCAAGAAGTCAC-1     0.0           0.0    0.0  \n",
       "AAGCACTGCATACG-1     0.0           0.0    0.0  \n",
       "\n",
       "[5 rows x 6267 columns]"
      ]
     },
     "execution_count": 27,
     "metadata": {},
     "output_type": "execute_result"
    }
   ],
   "source": [
    "t0_df = time.time()\n",
    "fluxes_df = pd.DataFrame(index = [model.id for model in models])\n",
    "\n",
    "for i, solution in enumerate(solutions, start = 0):\n",
    "    \n",
    "    fluxes = solution.fluxes\n",
    "    \n",
    "    for reaction, flux in fluxes.items():\n",
    "        if reaction not in fluxes_df.columns:\n",
    "            fluxes_df[reaction] = 0.0\n",
    "        \n",
    "        fluxes_df.loc[fluxes_df.index[i], reaction] = flux\n",
    "        fluxes_df = fluxes_df.copy()\n",
    "tf_df = time.time()\n",
    "fluxes_df.head()"
   ]
  },
  {
   "cell_type": "code",
   "execution_count": 28,
   "id": "3303378c-4ae5-4e2c-ab00-a0ad93cc7e2e",
   "metadata": {},
   "outputs": [
    {
     "name": "stdout",
     "output_type": "stream",
     "text": [
      "The creation of the fluxes dataframe takes: 2005.1437590122223 seconds\n"
     ]
    }
   ],
   "source": [
    "print(f\"The creation of the fluxes dataframe takes: {tf_df-t0_df} seconds\")"
   ]
  }
 ],
 "metadata": {
  "kernelspec": {
   "display_name": "Python 3 (ipykernel)",
   "language": "python",
   "name": "python3"
  },
  "language_info": {
   "codemirror_mode": {
    "name": "ipython",
    "version": 3
   },
   "file_extension": ".py",
   "mimetype": "text/x-python",
   "name": "python",
   "nbconvert_exporter": "python",
   "pygments_lexer": "ipython3",
   "version": "3.11.7"
  }
 },
 "nbformat": 4,
 "nbformat_minor": 5
}
