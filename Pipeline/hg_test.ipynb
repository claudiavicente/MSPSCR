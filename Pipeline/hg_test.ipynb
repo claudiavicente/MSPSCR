{
 "cells": [
  {
   "cell_type": "markdown",
   "id": "178cab7b-5f2b-4799-80f8-6495444dacb5",
   "metadata": {},
   "source": [
    "# Hypergeometric Test"
   ]
  },
  {
   "cell_type": "markdown",
   "id": "aa3c94f4-f170-4c66-bb16-a035fb87e91b",
   "metadata": {},
   "source": [
    "You can interact with the notebook using Binder:\n",
    "[![Binder](https://mybinder.org/badge_logo.svg)](https://mybinder.org/v2/gh/claudiavicente/TFG_MTISCR/main?filepath=Pipeline/hg_test.ipynb)"
   ]
  },
  {
   "cell_type": "markdown",
   "id": "e69fcdf3-7531-40b9-88d4-3e73d4d65fb1",
   "metadata": {},
   "source": [
    "The goal of this notebook is to understand the use of the hypergeometric test to calculate the probability of drawing a certain number of successes. And explore how changing the parameters affects the probability."
   ]
  },
  {
   "cell_type": "markdown",
   "id": "86f14b53-a689-434f-80c2-1d0b2bd7eb3f",
   "metadata": {},
   "source": [
    "The hypergeometric distribution is given by:\n",
    "$$\n",
    "PMF:    P(X = k) = \\frac{{\\binom{K}{k} \\cdot \\binom{N - K}{n - k}}}{{\\binom{N}{n}}}   \n",
    "$$\n",
    "Where:\n",
    "- `N`: Total number of items.\n",
    "- `K`: Total number of items of interest.\n",
    "- `n`: Number of items in the sample.\n",
    "- `k`: Number of items in the sample that are also in the items of interest.\n",
    "  \n",
    "1. The cumulative mass function (CMF) is $(P(X \\leq k))$, which represents the probability of observing at most (`k`) successes.\n",
    "2. The survival function (SF) is $(P(X \\geq k))$, which represents the probability of observing at least (`k`) successes."
   ]
  },
  {
   "cell_type": "markdown",
   "id": "58ae2e5a-007a-423a-87c0-6dd7fcb5dff4",
   "metadata": {},
   "source": [
    "***"
   ]
  },
  {
   "cell_type": "code",
   "execution_count": 1,
   "id": "4feff3d0-6796-40c2-a996-f5e7012020e1",
   "metadata": {},
   "outputs": [],
   "source": [
    "import numpy as np\n",
    "import scipy.stats as stats\n",
    "import matplotlib.pyplot as plt\n",
    "import ipywidgets as widgets\n",
    "from ipywidgets import interact"
   ]
  },
  {
   "cell_type": "markdown",
   "id": "8ca6c7f2-92ef-487f-b117-32a1bc5b6172",
   "metadata": {},
   "source": [
    "From the hypergeometric distribution, we can calculate the cumulative probability (CDF) of drawing up to a certain number of spades, and the probability of drawing more than `k` spades by using the survival function (SF = 1-CDF)."
   ]
  },
  {
   "cell_type": "markdown",
   "id": "04366f3b-c61c-4002-bf9d-6b8be0d4bd96",
   "metadata": {},
   "source": [
    "Let's consider a standard deck of 52 cards, which contains 13 spades. \n",
    "Suppose we draw 10 cards from the deck. We want to find the probability of drawing exactly 4 spades."
   ]
  },
  {
   "cell_type": "code",
   "execution_count": 2,
   "id": "e5b8c4f2-3e0d-4607-ac97-1574c37025ef",
   "metadata": {},
   "outputs": [],
   "source": [
    "def hypergeometric_test(N, K, n, k):\n",
    "    x = np.arange(0, n+1)\n",
    "    pmf_values = stats.hypergeom.pmf(x, N, K, n)\n",
    "    cum_values = stats.hypergeom.cdf(x, N, K, n)\n",
    "    sf_values = stats.hypergeom.sf(x, N, K, n)\n",
    "\n",
    "    prob = stats.hypergeom.pmf(k, N, K, n)\n",
    "    print(f\"The probability of drawing exactly {k} spades in {n} draws is: {prob:.4f}\")\n",
    "    plt.figure(figsize=(10, 6))\n",
    "    plt.plot(x, pmf_values, 'o', ms=8, color = \"#88E2FF\", label='hypergeometric pmf')\n",
    "    plt.vlines(x, 0, pmf_values, colors='#88E2FF', lw=5)\n",
    "    plt.plot(k, prob, 'o', ms=8, color = \"#FF0000\", label='prob (pmf)')\n",
    "    plt.xlabel('Number of spades drawn')\n",
    "    plt.ylabel('Probability')\n",
    "    plt.title('Hypergeometric Distribution - Drawing spades from a deck of cards')\n",
    "    plt.legend()\n",
    "    plt.grid()\n",
    "    plt.show()\n",
    "\n",
    "    cum_prob = stats.hypergeom.cdf(k, N, K, n)\n",
    "    print(f\"The cumulative probability of drawing up to {k} spades in {n} draws is: {cum_prob:.4f}\")\n",
    "    plt.figure(figsize=(10, 6))\n",
    "    plt.plot(x, cum_values, 'o', ms=8, color = \"#6EC6E2\", label='hypergeometric cdf')\n",
    "    plt.vlines(x, 0, cum_values, colors = \"#6EC6E2\", lw=5)\n",
    "    plt.plot(k, cum_prob, 'o', ms=8, color = \"#FF0000\", label='prob (cdf)')\n",
    "    plt.xlabel('Number of spades drawn')\n",
    "    plt.ylabel('Cumulative distribution function (CDF)')\n",
    "    plt.title('Cumulative distribution function - Drawing spades from a deck of cards')\n",
    "    plt.legend()\n",
    "    plt.grid()\n",
    "    plt.show()\n",
    "    \n",
    "    surv_prob = stats.hypergeom.sf(k, N, K, n)\n",
    "    print(f\"The survival function (probability of drawing more than {k} spades, 1-CDF) is: {surv_prob:.4f}\")\n",
    "    plt.figure(figsize=(10, 6))\n",
    "    plt.plot(x, sf_values, 'o', ms=8, color = \"#54A9C4\", label='hypergeometric sf')\n",
    "    plt.vlines(x, 0, sf_values, colors='#54A9C4', lw=5)\n",
    "    plt.plot(k, surv_prob, 'o', ms=8, color = \"#FF0000\", label='prob (sf)')\n",
    "    plt.xlabel('Number of spades drawn')\n",
    "    plt.ylabel('Survival Function (SF, 1-CDF)')\n",
    "    plt.title('Survival Function - Drawing spades from a deck of cards')\n",
    "    plt.legend()\n",
    "    plt.grid()\n",
    "    plt.show()"
   ]
  },
  {
   "cell_type": "code",
   "execution_count": 3,
   "id": "8ba3f079-c543-423e-9681-a2a2acf5aa07",
   "metadata": {},
   "outputs": [
    {
     "data": {
      "application/vnd.jupyter.widget-view+json": {
       "model_id": "ea2f36bbc26442428ae1155b73e63d57",
       "version_major": 2,
       "version_minor": 0
      },
      "text/plain": [
       "interactive(children=(IntSlider(value=52, description='Total cards (N)', min=10), IntSlider(value=13, descript…"
      ]
     },
     "metadata": {},
     "output_type": "display_data"
    }
   ],
   "source": [
    "interact(hypergeometric_test,\n",
    "         N = widgets.IntSlider(min = 10, max = 100, step = 1, value = 52, description = 'Total cards (N)'),\n",
    "         K = widgets.IntSlider(min = 1, max = 52, step = 1, value = 13, description = 'Successes (K)'),\n",
    "         n = widgets.IntSlider(min = 1, max = 52, step = 1, value = 10, description = 'Draws (n)'),\n",
    "         k = widgets.IntSlider(min = 0, max = 52, step = 1, value = 4, description = 'Successes in draw (k)'));"
   ]
  },
  {
   "cell_type": "markdown",
   "id": "c85a8380-5170-4cc2-897b-d3814c9774e4",
   "metadata": {},
   "source": [
    "In the context of the project, of using the hypergeometric test for finding enriched pathways in context-specific models:\n",
    "\n",
    "- `N`: All reactions in the metabolic model Recon3D.\n",
    "- `K`: Reactions of Recon3D involved in the specific pathway.\n",
    "- `n`: Reactions identified from the context-specific models.\n",
    "- `k`: Reactions from the context-specific models that are involved in the specific pathway."
   ]
  },
  {
   "cell_type": "markdown",
   "id": "594f70e8-7172-468a-a438-3144d9fd7b87",
   "metadata": {},
   "source": [
    "The p-value which will determine the enriched pathways is going to be calculated using the hypergeometric test to determine the likelihood of observing `k` or more items of interest in a \"sample\" (**SF: (k-1, N, K, n)**). \n",
    "\n",
    "The SF quantifies the probability of seeing at least `k` items of interest purely by random chance under the null hypothesis. A low p-value indicates that the observed overlap between the sample and the pathway reactions is unlikely to be due to random chance, suggesting a significant enrichment. "
   ]
  }
 ],
 "metadata": {
  "kernelspec": {
   "display_name": "Python 3 (ipykernel)",
   "language": "python",
   "name": "python3"
  },
  "language_info": {
   "codemirror_mode": {
    "name": "ipython",
    "version": 3
   },
   "file_extension": ".py",
   "mimetype": "text/x-python",
   "name": "python",
   "nbconvert_exporter": "python",
   "pygments_lexer": "ipython3",
   "version": "3.11.7"
  }
 },
 "nbformat": 4,
 "nbformat_minor": 5
}
