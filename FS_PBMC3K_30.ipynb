{
 "cells": [
  {
   "cell_type": "markdown",
   "id": "bd5bb374-c9b7-4f0d-a5f0-8a88c90e4f38",
   "metadata": {},
   "source": [
    "# IMPORT LIBRARIES"
   ]
  },
  {
   "cell_type": "code",
   "execution_count": 1,
   "id": "f77a2cba-2177-4245-b2b0-b3ab061862cf",
   "metadata": {},
   "outputs": [],
   "source": [
    "import glob\n",
    "import cobra\n",
    "import os\n",
    "import time\n",
    "import numpy as np\n",
    "import pandas as pd\n",
    "import umap\n",
    "import matplotlib.pyplot as plt\n",
    "from matplotlib.colors import ListedColormap"
   ]
  },
  {
   "cell_type": "markdown",
   "id": "57b74e28-6763-4275-81f6-68827100b735",
   "metadata": {},
   "source": [
    "# RECON 3D"
   ]
  },
  {
   "cell_type": "code",
   "execution_count": 2,
   "id": "0995909e-ae4b-4b8a-8152-916266c42903",
   "metadata": {},
   "outputs": [
    {
     "name": "stderr",
     "output_type": "stream",
     "text": [
      "No defined compartments in model Recon3DModel. Compartments will be deduced heuristically using regular expressions.\n",
      "Using regular expression found the following compartments:c, e, g, i, l, m, n, r, x\n"
     ]
    },
    {
     "data": {
      "text/html": [
       "\n",
       "        <table>\n",
       "            <tr>\n",
       "                <td><strong>Name</strong></td>\n",
       "                <td>Recon3DModel</td>\n",
       "            </tr><tr>\n",
       "                <td><strong>Memory address</strong></td>\n",
       "                <td>15593fcd0</td>\n",
       "            </tr><tr>\n",
       "                <td><strong>Number of metabolites</strong></td>\n",
       "                <td>5835</td>\n",
       "            </tr><tr>\n",
       "                <td><strong>Number of reactions</strong></td>\n",
       "                <td>10600</td>\n",
       "            </tr><tr>\n",
       "                <td><strong>Number of genes</strong></td>\n",
       "                <td>2248</td>\n",
       "            </tr><tr>\n",
       "                <td><strong>Number of groups</strong></td>\n",
       "                <td>103</td>\n",
       "            </tr><tr>\n",
       "                <td><strong>Objective expression</strong></td>\n",
       "                <td>1.0*biomass_maintenance - 1.0*biomass_maintenance_reverse_95d2f</td>\n",
       "            </tr><tr>\n",
       "                <td><strong>Compartments</strong></td>\n",
       "                <td>c, l, m, r, e, x, n, g, i</td>\n",
       "            </tr>\n",
       "          </table>"
      ],
      "text/plain": [
       "<Model Recon3DModel at 0x15593fcd0>"
      ]
     },
     "execution_count": 2,
     "metadata": {},
     "output_type": "execute_result"
    }
   ],
   "source": [
    "recon3D = cobra.io.load_matlab_model('/Users/claudiavicentecomorera/Desktop/TFG/Data/Recon3D_301/Recon3DModel_301.mat')\n",
    "recon3D"
   ]
  },
  {
   "cell_type": "code",
   "execution_count": 3,
   "id": "e86e725f-2296-415b-9809-f4497a3518c6",
   "metadata": {},
   "outputs": [
    {
     "data": {
      "text/html": [
       "<strong><em>Optimal</em> solution with objective value 755.003</strong><br><div>\n",
       "<style scoped>\n",
       "    .dataframe tbody tr th:only-of-type {\n",
       "        vertical-align: middle;\n",
       "    }\n",
       "\n",
       "    .dataframe tbody tr th {\n",
       "        vertical-align: top;\n",
       "    }\n",
       "\n",
       "    .dataframe thead th {\n",
       "        text-align: right;\n",
       "    }\n",
       "</style>\n",
       "<table border=\"1\" class=\"dataframe\">\n",
       "  <thead>\n",
       "    <tr style=\"text-align: right;\">\n",
       "      <th></th>\n",
       "      <th>fluxes</th>\n",
       "      <th>reduced_costs</th>\n",
       "    </tr>\n",
       "  </thead>\n",
       "  <tbody>\n",
       "    <tr>\n",
       "      <th>10FTHF5GLUtl</th>\n",
       "      <td>0.0</td>\n",
       "      <td>0.000000e+00</td>\n",
       "    </tr>\n",
       "    <tr>\n",
       "      <th>10FTHF5GLUtm</th>\n",
       "      <td>0.0</td>\n",
       "      <td>-8.031949e-02</td>\n",
       "    </tr>\n",
       "    <tr>\n",
       "      <th>10FTHF6GLUtl</th>\n",
       "      <td>0.0</td>\n",
       "      <td>0.000000e+00</td>\n",
       "    </tr>\n",
       "    <tr>\n",
       "      <th>10FTHF6GLUtm</th>\n",
       "      <td>0.0</td>\n",
       "      <td>0.000000e+00</td>\n",
       "    </tr>\n",
       "    <tr>\n",
       "      <th>10FTHF7GLUtl</th>\n",
       "      <td>0.0</td>\n",
       "      <td>0.000000e+00</td>\n",
       "    </tr>\n",
       "    <tr>\n",
       "      <th>...</th>\n",
       "      <td>...</td>\n",
       "      <td>...</td>\n",
       "    </tr>\n",
       "    <tr>\n",
       "      <th>CYOR_u10mi</th>\n",
       "      <td>500.0</td>\n",
       "      <td>0.000000e+00</td>\n",
       "    </tr>\n",
       "    <tr>\n",
       "      <th>Htmi</th>\n",
       "      <td>1000.0</td>\n",
       "      <td>-7.246382e-19</td>\n",
       "    </tr>\n",
       "    <tr>\n",
       "      <th>NADH2_u10mi</th>\n",
       "      <td>0.0</td>\n",
       "      <td>7.145600e-18</td>\n",
       "    </tr>\n",
       "    <tr>\n",
       "      <th>CYOOm3i</th>\n",
       "      <td>750.0</td>\n",
       "      <td>-3.009266e-33</td>\n",
       "    </tr>\n",
       "    <tr>\n",
       "      <th>CYOOm2i</th>\n",
       "      <td>0.0</td>\n",
       "      <td>2.015649e-19</td>\n",
       "    </tr>\n",
       "  </tbody>\n",
       "</table>\n",
       "<p>10600 rows × 2 columns</p>\n",
       "</div>"
      ],
      "text/plain": [
       "<Solution 755.003 at 0x154b2b710>"
      ]
     },
     "execution_count": 3,
     "metadata": {},
     "output_type": "execute_result"
    }
   ],
   "source": [
    "solution_recon_3D = recon3D.optimize()\n",
    "bm = solution_recon_3D.objective_value\n",
    "solution_recon_3D"
   ]
  },
  {
   "cell_type": "markdown",
   "id": "c85528ca-f785-451a-8b78-d1b41a5c6e3a",
   "metadata": {},
   "source": [
    "# FLUXES SIMULATION"
   ]
  },
  {
   "cell_type": "markdown",
   "id": "13d1d2d5-05f5-4084-bdb1-7c46eb5b8657",
   "metadata": {},
   "source": [
    "## SETTING FILE PATHS"
   ]
  },
  {
   "cell_type": "code",
   "execution_count": 4,
   "id": "62618239-c0dd-4d0d-bd35-ecb0afd34783",
   "metadata": {},
   "outputs": [
    {
     "name": "stdout",
     "output_type": "stream",
     "text": [
      "['/Users/claudiavicentecomorera/Desktop/TFG/Models/PBMC_Models/GGATGTACGCGAAG_1.mat', '/Users/claudiavicentecomorera/Desktop/TFG/Models/PBMC_Models/AAGCGACTTACAGC_1.mat', '/Users/claudiavicentecomorera/Desktop/TFG/Models/PBMC_Models/AGCGTAACTGAGAA_1.mat', '/Users/claudiavicentecomorera/Desktop/TFG/Models/PBMC_Models/TACTAAGATGATGC_1.mat', '/Users/claudiavicentecomorera/Desktop/TFG/Models/PBMC_Models/ACTAAAACTCGACA_1.mat', '/Users/claudiavicentecomorera/Desktop/TFG/Models/PBMC_Models/CGCTACTGAGAACA_1.mat', '/Users/claudiavicentecomorera/Desktop/TFG/Models/PBMC_Models/TCTCAAACCTAAGC_1.mat', '/Users/claudiavicentecomorera/Desktop/TFG/Models/PBMC_Models/ACGTTGGATATGGC_1.mat', '/Users/claudiavicentecomorera/Desktop/TFG/Models/PBMC_Models/TTAGGTCTACTTTC_1.mat', '/Users/claudiavicentecomorera/Desktop/TFG/Models/PBMC_Models/AACTTGCTGGGACA_1.mat', '/Users/claudiavicentecomorera/Desktop/TFG/Models/PBMC_Models/ACTTGGGAGAAAGT_1.mat', '/Users/claudiavicentecomorera/Desktop/TFG/Models/PBMC_Models/ACGGTATGGTTGTG_1.mat', '/Users/claudiavicentecomorera/Desktop/TFG/Models/PBMC_Models/AACTCACTTGGAGG_1.mat', '/Users/claudiavicentecomorera/Desktop/TFG/Models/PBMC_Models/TAGGCATGCTCTCG_1.mat', '/Users/claudiavicentecomorera/Desktop/TFG/Models/PBMC_Models/CATACTACCTCGAA_1.mat', '/Users/claudiavicentecomorera/Desktop/TFG/Models/PBMC_Models/GGGATGGACGACAT_1.mat', '/Users/claudiavicentecomorera/Desktop/TFG/Models/PBMC_Models/TTCGTATGGTCTGA_1.mat', '/Users/claudiavicentecomorera/Desktop/TFG/Models/PBMC_Models/AAGCACTGGTTCTT_1.mat', '/Users/claudiavicentecomorera/Desktop/TFG/Models/PBMC_Models/CACTGAGACAGTCA_1.mat', '/Users/claudiavicentecomorera/Desktop/TFG/Models/PBMC_Models/CATATAGATCAGGT_1.mat', '/Users/claudiavicentecomorera/Desktop/TFG/Models/PBMC_Models/GTAATAACGTTGTG_1.mat', '/Users/claudiavicentecomorera/Desktop/TFG/Models/PBMC_Models/CACGGGACGTAGGG_1.mat', '/Users/claudiavicentecomorera/Desktop/TFG/Models/PBMC_Models/TGGAAAGATATGGC_1.mat', '/Users/claudiavicentecomorera/Desktop/TFG/Models/PBMC_Models/ATTCGGGAAAGGCG_1.mat', '/Users/claudiavicentecomorera/Desktop/TFG/Models/PBMC_Models/CACTTAACCGTACA_1.mat', '/Users/claudiavicentecomorera/Desktop/TFG/Models/PBMC_Models/TGTGATCTCTCTAT_1.mat', '/Users/claudiavicentecomorera/Desktop/TFG/Models/PBMC_Models/AAATCAACGGAAGC_1.mat', '/Users/claudiavicentecomorera/Desktop/TFG/Models/PBMC_Models/TGACCGCTCTGCAA_1.mat', '/Users/claudiavicentecomorera/Desktop/TFG/Models/PBMC_Models/TTAGACCTCCTTTA_1.mat', '/Users/claudiavicentecomorera/Desktop/TFG/Models/PBMC_Models/CCAAAGTGCTACGA_1.mat']\n"
     ]
    }
   ],
   "source": [
    "f_path = \"/Users/claudiavicentecomorera/Desktop/TFG/Models/PBMC_Models/\"\n",
    "file_paths = glob.glob(f_path + \"*.mat\")\n",
    "print(file_paths)"
   ]
  },
  {
   "cell_type": "markdown",
   "id": "3a28d926-87c0-4fd4-9a03-884218b22255",
   "metadata": {},
   "source": [
    "## FBA"
   ]
  },
  {
   "cell_type": "code",
   "execution_count": 5,
   "id": "5a45c877-e578-4b03-a16c-f26b50f46140",
   "metadata": {},
   "outputs": [
    {
     "name": "stderr",
     "output_type": "stream",
     "text": [
      "No defined compartments in model ContextModel. Compartments will be deduced heuristically using regular expressions.\n",
      "Using regular expression found the following compartments:c, e, r, x\n",
      "No defined compartments in model ContextModel. Compartments will be deduced heuristically using regular expressions.\n",
      "Using regular expression found the following compartments:c, e\n",
      "No defined compartments in model ContextModel. Compartments will be deduced heuristically using regular expressions.\n",
      "Using regular expression found the following compartments:c, e, l, n, x\n",
      "No defined compartments in model ContextModel. Compartments will be deduced heuristically using regular expressions.\n"
     ]
    },
    {
     "name": "stdout",
     "output_type": "stream",
     "text": [
      "The simulation of GGATGTACGCGAAG-1 fluxes takes: 0.005010843276977539 seconds\n",
      "The simulation of AAGCGACTTACAGC-1 fluxes takes: 0.0023479461669921875 seconds\n",
      "The simulation of AGCGTAACTGAGAA-1 fluxes takes: 0.00477910041809082 seconds\n"
     ]
    },
    {
     "name": "stderr",
     "output_type": "stream",
     "text": [
      "Using regular expression found the following compartments:c, e, m\n"
     ]
    },
    {
     "name": "stdout",
     "output_type": "stream",
     "text": [
      "The simulation of TACTAAGATGATGC-1 fluxes takes: 0.005882978439331055 seconds\n"
     ]
    },
    {
     "name": "stderr",
     "output_type": "stream",
     "text": [
      "No defined compartments in model ContextModel. Compartments will be deduced heuristically using regular expressions.\n",
      "Using regular expression found the following compartments:c, e, m, r\n",
      "No defined compartments in model ContextModel. Compartments will be deduced heuristically using regular expressions.\n",
      "Using regular expression found the following compartments:c, e, x\n",
      "No defined compartments in model ContextModel. Compartments will be deduced heuristically using regular expressions.\n",
      "Using regular expression found the following compartments:c, e\n"
     ]
    },
    {
     "name": "stdout",
     "output_type": "stream",
     "text": [
      "The simulation of ACTAAAACTCGACA-1 fluxes takes: 0.005574226379394531 seconds\n",
      "The simulation of CGCTACTGAGAACA-1 fluxes takes: 0.003548145294189453 seconds\n",
      "The simulation of TCTCAAACCTAAGC-1 fluxes takes: 0.0025129318237304688 seconds\n"
     ]
    },
    {
     "name": "stderr",
     "output_type": "stream",
     "text": [
      "No defined compartments in model ContextModel. Compartments will be deduced heuristically using regular expressions.\n",
      "Using regular expression found the following compartments:c, e\n",
      "No defined compartments in model ContextModel. Compartments will be deduced heuristically using regular expressions.\n",
      "Using regular expression found the following compartments:c, e, r\n",
      "No defined compartments in model ContextModel. Compartments will be deduced heuristically using regular expressions.\n",
      "Using regular expression found the following compartments:c, e, n, x\n",
      "No defined compartments in model ContextModel. Compartments will be deduced heuristically using regular expressions.\n",
      "Using regular expression found the following compartments:c, e, m, r, x\n"
     ]
    },
    {
     "name": "stdout",
     "output_type": "stream",
     "text": [
      "The simulation of ACGTTGGATATGGC-1 fluxes takes: 0.002382993698120117 seconds\n",
      "The simulation of TTAGGTCTACTTTC-1 fluxes takes: 0.004656791687011719 seconds\n",
      "The simulation of AACTTGCTGGGACA-1 fluxes takes: 0.006350040435791016 seconds\n",
      "The simulation of ACTTGGGAGAAAGT-1 fluxes takes: 0.009849309921264648 seconds\n"
     ]
    },
    {
     "name": "stderr",
     "output_type": "stream",
     "text": [
      "No defined compartments in model ContextModel. Compartments will be deduced heuristically using regular expressions.\n",
      "Using regular expression found the following compartments:c, e\n",
      "No defined compartments in model ContextModel. Compartments will be deduced heuristically using regular expressions.\n",
      "Using regular expression found the following compartments:c, e, x\n",
      "No defined compartments in model ContextModel. Compartments will be deduced heuristically using regular expressions.\n",
      "Using regular expression found the following compartments:c, e, g, l, m, n, r, x\n"
     ]
    },
    {
     "name": "stdout",
     "output_type": "stream",
     "text": [
      "The simulation of ACGGTATGGTTGTG-1 fluxes takes: 0.003242015838623047 seconds\n",
      "The simulation of AACTCACTTGGAGG-1 fluxes takes: 0.004100799560546875 seconds\n",
      "The simulation of TAGGCATGCTCTCG-1 fluxes takes: 0.009404897689819336 seconds\n"
     ]
    },
    {
     "name": "stderr",
     "output_type": "stream",
     "text": [
      "No defined compartments in model ContextModel. Compartments will be deduced heuristically using regular expressions.\n",
      "Using regular expression found the following compartments:c, e, r, x\n",
      "No defined compartments in model ContextModel. Compartments will be deduced heuristically using regular expressions.\n",
      "Using regular expression found the following compartments:c, e, m\n",
      "No defined compartments in model ContextModel. Compartments will be deduced heuristically using regular expressions.\n",
      "Using regular expression found the following compartments:c, e, n, x\n",
      "No defined compartments in model ContextModel. Compartments will be deduced heuristically using regular expressions.\n",
      "Using regular expression found the following compartments:c, e, n, r, x\n",
      "No defined compartments in model ContextModel. Compartments will be deduced heuristically using regular expressions.\n",
      "Using regular expression found the following compartments:c, e\n"
     ]
    },
    {
     "name": "stdout",
     "output_type": "stream",
     "text": [
      "The simulation of CATACTACCTCGAA-1 fluxes takes: 0.00439906120300293 seconds\n",
      "The simulation of GGGATGGACGACAT-1 fluxes takes: 0.002585887908935547 seconds\n",
      "The simulation of TTCGTATGGTCTGA-1 fluxes takes: 0.002892017364501953 seconds\n",
      "The simulation of AAGCACTGGTTCTT-1 fluxes takes: 0.0054399967193603516 seconds\n",
      "The simulation of CACTGAGACAGTCA-1 fluxes takes: 0.002706766128540039 seconds\n"
     ]
    },
    {
     "name": "stderr",
     "output_type": "stream",
     "text": [
      "No defined compartments in model ContextModel. Compartments will be deduced heuristically using regular expressions.\n",
      "Using regular expression found the following compartments:c, e, n\n",
      "No defined compartments in model ContextModel. Compartments will be deduced heuristically using regular expressions.\n",
      "Using regular expression found the following compartments:c, e, x\n",
      "No defined compartments in model ContextModel. Compartments will be deduced heuristically using regular expressions.\n",
      "Using regular expression found the following compartments:c, e, n, x\n",
      "No defined compartments in model ContextModel. Compartments will be deduced heuristically using regular expressions.\n",
      "Using regular expression found the following compartments:c, e, r, x\n",
      "No defined compartments in model ContextModel. Compartments will be deduced heuristically using regular expressions.\n",
      "Using regular expression found the following compartments:c, e\n"
     ]
    },
    {
     "name": "stdout",
     "output_type": "stream",
     "text": [
      "The simulation of CATATAGATCAGGT-1 fluxes takes: 0.0036432743072509766 seconds\n",
      "The simulation of GTAATAACGTTGTG-1 fluxes takes: 0.003326892852783203 seconds\n",
      "The simulation of CACGGGACGTAGGG-1 fluxes takes: 0.003863811492919922 seconds\n",
      "The simulation of TGGAAAGATATGGC-1 fluxes takes: 0.0034749507904052734 seconds\n",
      "The simulation of ATTCGGGAAAGGCG-1 fluxes takes: 0.005210161209106445 seconds\n"
     ]
    },
    {
     "name": "stderr",
     "output_type": "stream",
     "text": [
      "No defined compartments in model ContextModel. Compartments will be deduced heuristically using regular expressions.\n",
      "Using regular expression found the following compartments:c, e, m\n",
      "No defined compartments in model ContextModel. Compartments will be deduced heuristically using regular expressions.\n",
      "Using regular expression found the following compartments:c, e, m\n",
      "No defined compartments in model ContextModel. Compartments will be deduced heuristically using regular expressions.\n",
      "Using regular expression found the following compartments:c, e, x\n",
      "No defined compartments in model ContextModel. Compartments will be deduced heuristically using regular expressions.\n",
      "Using regular expression found the following compartments:c, e, x\n",
      "No defined compartments in model ContextModel. Compartments will be deduced heuristically using regular expressions.\n",
      "Using regular expression found the following compartments:c, e, m\n"
     ]
    },
    {
     "name": "stdout",
     "output_type": "stream",
     "text": [
      "The simulation of CACTTAACCGTACA-1 fluxes takes: 0.0035872459411621094 seconds\n",
      "The simulation of TGTGATCTCTCTAT-1 fluxes takes: 0.002198934555053711 seconds\n",
      "The simulation of AAATCAACGGAAGC-1 fluxes takes: 0.0036220550537109375 seconds\n",
      "The simulation of TGACCGCTCTGCAA-1 fluxes takes: 0.004285335540771484 seconds\n",
      "The simulation of TTAGACCTCCTTTA-1 fluxes takes: 0.005769252777099609 seconds\n"
     ]
    },
    {
     "name": "stderr",
     "output_type": "stream",
     "text": [
      "No defined compartments in model ContextModel. Compartments will be deduced heuristically using regular expressions.\n",
      "Using regular expression found the following compartments:c, e, m, r, x\n"
     ]
    },
    {
     "name": "stdout",
     "output_type": "stream",
     "text": [
      "The simulation of CCAAAGTGCTACGA-1 fluxes takes: 0.008870124816894531 seconds\n"
     ]
    }
   ],
   "source": [
    "models = []\n",
    "solutions = []\n",
    "times = []\n",
    "\n",
    "for file_path in file_paths:\n",
    "    model = cobra.io.load_matlab_model(file_path)\n",
    "    model.id = os.path.splitext(os.path.basename(file_path))[0].replace(\"_\", \"-\")\n",
    "    \n",
    "    t0 = time.time()  \n",
    "    solution = model.optimize()\n",
    "    t = time.time()  \n",
    "    fba_time = t - t0\n",
    "    \n",
    "    print(f\"The simulation of {model.id} fluxes takes: {fba_time} seconds\")\n",
    "    \n",
    "    models.append(model)\n",
    "    solutions.append(solution)\n",
    "    times.append(fba_time)"
   ]
  },
  {
   "cell_type": "code",
   "execution_count": 6,
   "id": "e682cc39-6435-4d00-9a79-8f1a4529c610",
   "metadata": {},
   "outputs": [
    {
     "name": "stdout",
     "output_type": "stream",
     "text": [
      "The 5% of Recon 2 v.04 objective value is 37.750160777533154\n",
      "There are 0 models that aren't feasible because of their low objective value.\n",
      "\n"
     ]
    },
    {
     "data": {
      "text/html": [
       "<div>\n",
       "<style scoped>\n",
       "    .dataframe tbody tr th:only-of-type {\n",
       "        vertical-align: middle;\n",
       "    }\n",
       "\n",
       "    .dataframe tbody tr th {\n",
       "        vertical-align: top;\n",
       "    }\n",
       "\n",
       "    .dataframe thead th {\n",
       "        text-align: right;\n",
       "    }\n",
       "</style>\n",
       "<table border=\"1\" class=\"dataframe\">\n",
       "  <thead>\n",
       "    <tr style=\"text-align: right;\">\n",
       "      <th></th>\n",
       "      <th>flux_bm</th>\n",
       "      <th>percent_bm</th>\n",
       "      <th>feasible_models</th>\n",
       "    </tr>\n",
       "  </thead>\n",
       "  <tbody>\n",
       "    <tr>\n",
       "      <th>GGATGTACGCGAAG-1</th>\n",
       "      <td>82.078662</td>\n",
       "      <td>10.871300</td>\n",
       "      <td>TRUE</td>\n",
       "    </tr>\n",
       "    <tr>\n",
       "      <th>AAGCGACTTACAGC-1</th>\n",
       "      <td>49.175238</td>\n",
       "      <td>6.513249</td>\n",
       "      <td>TRUE</td>\n",
       "    </tr>\n",
       "    <tr>\n",
       "      <th>AGCGTAACTGAGAA-1</th>\n",
       "      <td>96.584194</td>\n",
       "      <td>12.792554</td>\n",
       "      <td>TRUE</td>\n",
       "    </tr>\n",
       "    <tr>\n",
       "      <th>TACTAAGATGATGC-1</th>\n",
       "      <td>97.771499</td>\n",
       "      <td>12.949812</td>\n",
       "      <td>TRUE</td>\n",
       "    </tr>\n",
       "    <tr>\n",
       "      <th>ACTAAAACTCGACA-1</th>\n",
       "      <td>120.844045</td>\n",
       "      <td>16.005766</td>\n",
       "      <td>TRUE</td>\n",
       "    </tr>\n",
       "    <tr>\n",
       "      <th>CGCTACTGAGAACA-1</th>\n",
       "      <td>97.324259</td>\n",
       "      <td>12.890575</td>\n",
       "      <td>TRUE</td>\n",
       "    </tr>\n",
       "    <tr>\n",
       "      <th>TCTCAAACCTAAGC-1</th>\n",
       "      <td>49.204628</td>\n",
       "      <td>6.517142</td>\n",
       "      <td>TRUE</td>\n",
       "    </tr>\n",
       "    <tr>\n",
       "      <th>ACGTTGGATATGGC-1</th>\n",
       "      <td>49.204628</td>\n",
       "      <td>6.517142</td>\n",
       "      <td>TRUE</td>\n",
       "    </tr>\n",
       "    <tr>\n",
       "      <th>TTAGGTCTACTTTC-1</th>\n",
       "      <td>99.141608</td>\n",
       "      <td>13.131283</td>\n",
       "      <td>TRUE</td>\n",
       "    </tr>\n",
       "    <tr>\n",
       "      <th>AACTTGCTGGGACA-1</th>\n",
       "      <td>119.725536</td>\n",
       "      <td>15.857619</td>\n",
       "      <td>TRUE</td>\n",
       "    </tr>\n",
       "    <tr>\n",
       "      <th>ACTTGGGAGAAAGT-1</th>\n",
       "      <td>98.484514</td>\n",
       "      <td>13.044251</td>\n",
       "      <td>TRUE</td>\n",
       "    </tr>\n",
       "    <tr>\n",
       "      <th>ACGGTATGGTTGTG-1</th>\n",
       "      <td>103.545993</td>\n",
       "      <td>13.714643</td>\n",
       "      <td>TRUE</td>\n",
       "    </tr>\n",
       "    <tr>\n",
       "      <th>AACTCACTTGGAGG-1</th>\n",
       "      <td>97.771499</td>\n",
       "      <td>12.949812</td>\n",
       "      <td>TRUE</td>\n",
       "    </tr>\n",
       "    <tr>\n",
       "      <th>TAGGCATGCTCTCG-1</th>\n",
       "      <td>120.686024</td>\n",
       "      <td>15.984836</td>\n",
       "      <td>TRUE</td>\n",
       "    </tr>\n",
       "    <tr>\n",
       "      <th>CATACTACCTCGAA-1</th>\n",
       "      <td>160.774578</td>\n",
       "      <td>21.294555</td>\n",
       "      <td>TRUE</td>\n",
       "    </tr>\n",
       "    <tr>\n",
       "      <th>GGGATGGACGACAT-1</th>\n",
       "      <td>49.355279</td>\n",
       "      <td>6.537095</td>\n",
       "      <td>TRUE</td>\n",
       "    </tr>\n",
       "    <tr>\n",
       "      <th>TTCGTATGGTCTGA-1</th>\n",
       "      <td>49.204628</td>\n",
       "      <td>6.517142</td>\n",
       "      <td>TRUE</td>\n",
       "    </tr>\n",
       "    <tr>\n",
       "      <th>AAGCACTGGTTCTT-1</th>\n",
       "      <td>96.766611</td>\n",
       "      <td>12.816715</td>\n",
       "      <td>TRUE</td>\n",
       "    </tr>\n",
       "    <tr>\n",
       "      <th>CACTGAGACAGTCA-1</th>\n",
       "      <td>89.764239</td>\n",
       "      <td>11.889253</td>\n",
       "      <td>TRUE</td>\n",
       "    </tr>\n",
       "    <tr>\n",
       "      <th>CATATAGATCAGGT-1</th>\n",
       "      <td>49.629054</td>\n",
       "      <td>6.573357</td>\n",
       "      <td>TRUE</td>\n",
       "    </tr>\n",
       "    <tr>\n",
       "      <th>GTAATAACGTTGTG-1</th>\n",
       "      <td>97.324259</td>\n",
       "      <td>12.890575</td>\n",
       "      <td>TRUE</td>\n",
       "    </tr>\n",
       "    <tr>\n",
       "      <th>CACGGGACGTAGGG-1</th>\n",
       "      <td>98.135600</td>\n",
       "      <td>12.998037</td>\n",
       "      <td>TRUE</td>\n",
       "    </tr>\n",
       "    <tr>\n",
       "      <th>TGGAAAGATATGGC-1</th>\n",
       "      <td>98.156571</td>\n",
       "      <td>13.000815</td>\n",
       "      <td>TRUE</td>\n",
       "    </tr>\n",
       "    <tr>\n",
       "      <th>ATTCGGGAAAGGCG-1</th>\n",
       "      <td>145.272822</td>\n",
       "      <td>19.241351</td>\n",
       "      <td>TRUE</td>\n",
       "    </tr>\n",
       "    <tr>\n",
       "      <th>CACTTAACCGTACA-1</th>\n",
       "      <td>112.444960</td>\n",
       "      <td>14.893309</td>\n",
       "      <td>TRUE</td>\n",
       "    </tr>\n",
       "    <tr>\n",
       "      <th>TGTGATCTCTCTAT-1</th>\n",
       "      <td>49.307142</td>\n",
       "      <td>6.530719</td>\n",
       "      <td>TRUE</td>\n",
       "    </tr>\n",
       "    <tr>\n",
       "      <th>AAATCAACGGAAGC-1</th>\n",
       "      <td>98.156571</td>\n",
       "      <td>13.000815</td>\n",
       "      <td>TRUE</td>\n",
       "    </tr>\n",
       "    <tr>\n",
       "      <th>TGACCGCTCTGCAA-1</th>\n",
       "      <td>119.475682</td>\n",
       "      <td>15.824526</td>\n",
       "      <td>TRUE</td>\n",
       "    </tr>\n",
       "    <tr>\n",
       "      <th>TTAGACCTCCTTTA-1</th>\n",
       "      <td>96.584194</td>\n",
       "      <td>12.792554</td>\n",
       "      <td>TRUE</td>\n",
       "    </tr>\n",
       "    <tr>\n",
       "      <th>CCAAAGTGCTACGA-1</th>\n",
       "      <td>96.584194</td>\n",
       "      <td>12.792554</td>\n",
       "      <td>TRUE</td>\n",
       "    </tr>\n",
       "  </tbody>\n",
       "</table>\n",
       "</div>"
      ],
      "text/plain": [
       "                     flux_bm  percent_bm feasible_models\n",
       "GGATGTACGCGAAG-1   82.078662   10.871300            TRUE\n",
       "AAGCGACTTACAGC-1   49.175238    6.513249            TRUE\n",
       "AGCGTAACTGAGAA-1   96.584194   12.792554            TRUE\n",
       "TACTAAGATGATGC-1   97.771499   12.949812            TRUE\n",
       "ACTAAAACTCGACA-1  120.844045   16.005766            TRUE\n",
       "CGCTACTGAGAACA-1   97.324259   12.890575            TRUE\n",
       "TCTCAAACCTAAGC-1   49.204628    6.517142            TRUE\n",
       "ACGTTGGATATGGC-1   49.204628    6.517142            TRUE\n",
       "TTAGGTCTACTTTC-1   99.141608   13.131283            TRUE\n",
       "AACTTGCTGGGACA-1  119.725536   15.857619            TRUE\n",
       "ACTTGGGAGAAAGT-1   98.484514   13.044251            TRUE\n",
       "ACGGTATGGTTGTG-1  103.545993   13.714643            TRUE\n",
       "AACTCACTTGGAGG-1   97.771499   12.949812            TRUE\n",
       "TAGGCATGCTCTCG-1  120.686024   15.984836            TRUE\n",
       "CATACTACCTCGAA-1  160.774578   21.294555            TRUE\n",
       "GGGATGGACGACAT-1   49.355279    6.537095            TRUE\n",
       "TTCGTATGGTCTGA-1   49.204628    6.517142            TRUE\n",
       "AAGCACTGGTTCTT-1   96.766611   12.816715            TRUE\n",
       "CACTGAGACAGTCA-1   89.764239   11.889253            TRUE\n",
       "CATATAGATCAGGT-1   49.629054    6.573357            TRUE\n",
       "GTAATAACGTTGTG-1   97.324259   12.890575            TRUE\n",
       "CACGGGACGTAGGG-1   98.135600   12.998037            TRUE\n",
       "TGGAAAGATATGGC-1   98.156571   13.000815            TRUE\n",
       "ATTCGGGAAAGGCG-1  145.272822   19.241351            TRUE\n",
       "CACTTAACCGTACA-1  112.444960   14.893309            TRUE\n",
       "TGTGATCTCTCTAT-1   49.307142    6.530719            TRUE\n",
       "AAATCAACGGAAGC-1   98.156571   13.000815            TRUE\n",
       "TGACCGCTCTGCAA-1  119.475682   15.824526            TRUE\n",
       "TTAGACCTCCTTTA-1   96.584194   12.792554            TRUE\n",
       "CCAAAGTGCTACGA-1   96.584194   12.792554            TRUE"
      ]
     },
     "execution_count": 6,
     "metadata": {},
     "output_type": "execute_result"
    },
    {
     "data": {
      "image/png": "[encoded data removed]",
      "text/plain": [
       "<Figure size 640x480 with 1 Axes>"
      ]
     },
     "metadata": {},
     "output_type": "display_data"
    }
   ],
   "source": [
    "r_models = pd.DataFrame(index=[model.id for model in models])\n",
    "\n",
    "for i, solution in enumerate(solutions, start = 0):\n",
    "    bm_m = solution.objective_value\n",
    "    percent = (bm_m/bm) * 100\n",
    "    \n",
    "    r_models.loc[r_models.index[i], 'flux_bm'] = bm_m\n",
    "    r_models.loc[r_models.index[i], 'percent_bm'] = percent\n",
    "    r_models.loc[r_models.index[i], 'feasible_models'] = \"TRUE\" if percent > 5 else \"FALSE\"\n",
    "plt.hist(r_models[\"flux_bm\"], bins = 15)\n",
    "print(f'The 5% of Recon 2 v.04 objective value is {5/100*bm}')\n",
    "print(f'There are {r_models[\"feasible_models\"].eq(\"FALSE\").sum()} models that aren\\'t feasible because of their low objective value.\\n')\n",
    "r_models"
   ]
  },
  {
   "cell_type": "markdown",
   "id": "593cf33d-2bcc-4d0d-a1e8-4c80632595ba",
   "metadata": {},
   "source": [
    "# RESULTS VISUALIZATION"
   ]
  },
  {
   "cell_type": "markdown",
   "id": "ea2fbd79-2d7e-4b2a-95b5-cf8ff7824e74",
   "metadata": {},
   "source": [
    "## CREATION OF THE FLUXOMES DATAFRAME"
   ]
  },
  {
   "cell_type": "code",
   "execution_count": 7,
   "id": "81594272-421d-44b1-a354-c55cf7ff5e0b",
   "metadata": {},
   "outputs": [
    {
     "data": {
      "text/html": [
       "<div>\n",
       "<style scoped>\n",
       "    .dataframe tbody tr th:only-of-type {\n",
       "        vertical-align: middle;\n",
       "    }\n",
       "\n",
       "    .dataframe tbody tr th {\n",
       "        vertical-align: top;\n",
       "    }\n",
       "\n",
       "    .dataframe thead th {\n",
       "        text-align: right;\n",
       "    }\n",
       "</style>\n",
       "<table border=\"1\" class=\"dataframe\">\n",
       "  <thead>\n",
       "    <tr style=\"text-align: right;\">\n",
       "      <th></th>\n",
       "      <th>ABTti</th>\n",
       "      <th>ACTLMO</th>\n",
       "      <th>ALCD21_D</th>\n",
       "      <th>ALCD21_L</th>\n",
       "      <th>ALCD22_L</th>\n",
       "      <th>ALR2</th>\n",
       "      <th>ALR3</th>\n",
       "      <th>AMPDA</th>\n",
       "      <th>ARAB_Lt</th>\n",
       "      <th>ARABR</th>\n",
       "      <th>...</th>\n",
       "      <th>ABUTD</th>\n",
       "      <th>ANDRSTANDRtr</th>\n",
       "      <th>HMR_1126</th>\n",
       "      <th>HMR_1129</th>\n",
       "      <th>HMR_1927</th>\n",
       "      <th>HMR_1928</th>\n",
       "      <th>HMR_1929</th>\n",
       "      <th>HMR_2014</th>\n",
       "      <th>HMR_4078</th>\n",
       "      <th>DM_4abut[c]</th>\n",
       "    </tr>\n",
       "  </thead>\n",
       "  <tbody>\n",
       "    <tr>\n",
       "      <th>GGATGTACGCGAAG-1</th>\n",
       "      <td>666.822288</td>\n",
       "      <td>0.0</td>\n",
       "      <td>0.0</td>\n",
       "      <td>0.0</td>\n",
       "      <td>0.0</td>\n",
       "      <td>3.514824e-14</td>\n",
       "      <td>0.0</td>\n",
       "      <td>2.964435</td>\n",
       "      <td>666.822288</td>\n",
       "      <td>666.822288</td>\n",
       "      <td>...</td>\n",
       "      <td>0.0</td>\n",
       "      <td>0.0</td>\n",
       "      <td>0.0</td>\n",
       "      <td>0.0</td>\n",
       "      <td>0.0</td>\n",
       "      <td>0.0</td>\n",
       "      <td>0.0</td>\n",
       "      <td>0.0</td>\n",
       "      <td>0.0</td>\n",
       "      <td>0.0</td>\n",
       "    </tr>\n",
       "    <tr>\n",
       "      <th>AAGCGACTTACAGC-1</th>\n",
       "      <td>0.000000</td>\n",
       "      <td>0.0</td>\n",
       "      <td>0.0</td>\n",
       "      <td>0.0</td>\n",
       "      <td>0.0</td>\n",
       "      <td>0.000000e+00</td>\n",
       "      <td>0.0</td>\n",
       "      <td>1.776062</td>\n",
       "      <td>0.000000</td>\n",
       "      <td>0.000000</td>\n",
       "      <td>...</td>\n",
       "      <td>0.0</td>\n",
       "      <td>0.0</td>\n",
       "      <td>0.0</td>\n",
       "      <td>0.0</td>\n",
       "      <td>0.0</td>\n",
       "      <td>0.0</td>\n",
       "      <td>0.0</td>\n",
       "      <td>0.0</td>\n",
       "      <td>0.0</td>\n",
       "      <td>0.0</td>\n",
       "    </tr>\n",
       "    <tr>\n",
       "      <th>AGCGTAACTGAGAA-1</th>\n",
       "      <td>0.000000</td>\n",
       "      <td>0.0</td>\n",
       "      <td>0.0</td>\n",
       "      <td>0.0</td>\n",
       "      <td>0.0</td>\n",
       "      <td>0.000000e+00</td>\n",
       "      <td>0.0</td>\n",
       "      <td>3.488331</td>\n",
       "      <td>0.000000</td>\n",
       "      <td>0.000000</td>\n",
       "      <td>...</td>\n",
       "      <td>0.0</td>\n",
       "      <td>0.0</td>\n",
       "      <td>0.0</td>\n",
       "      <td>0.0</td>\n",
       "      <td>0.0</td>\n",
       "      <td>0.0</td>\n",
       "      <td>0.0</td>\n",
       "      <td>0.0</td>\n",
       "      <td>0.0</td>\n",
       "      <td>0.0</td>\n",
       "    </tr>\n",
       "    <tr>\n",
       "      <th>TACTAAGATGATGC-1</th>\n",
       "      <td>0.000000</td>\n",
       "      <td>0.0</td>\n",
       "      <td>0.0</td>\n",
       "      <td>0.0</td>\n",
       "      <td>0.0</td>\n",
       "      <td>0.000000e+00</td>\n",
       "      <td>0.0</td>\n",
       "      <td>17.838899</td>\n",
       "      <td>0.000000</td>\n",
       "      <td>0.000000</td>\n",
       "      <td>...</td>\n",
       "      <td>0.0</td>\n",
       "      <td>0.0</td>\n",
       "      <td>0.0</td>\n",
       "      <td>0.0</td>\n",
       "      <td>0.0</td>\n",
       "      <td>0.0</td>\n",
       "      <td>0.0</td>\n",
       "      <td>0.0</td>\n",
       "      <td>0.0</td>\n",
       "      <td>0.0</td>\n",
       "    </tr>\n",
       "    <tr>\n",
       "      <th>ACTAAAACTCGACA-1</th>\n",
       "      <td>0.000000</td>\n",
       "      <td>0.0</td>\n",
       "      <td>0.0</td>\n",
       "      <td>0.0</td>\n",
       "      <td>0.0</td>\n",
       "      <td>0.000000e+00</td>\n",
       "      <td>0.0</td>\n",
       "      <td>14.709621</td>\n",
       "      <td>0.000000</td>\n",
       "      <td>0.000000</td>\n",
       "      <td>...</td>\n",
       "      <td>0.0</td>\n",
       "      <td>0.0</td>\n",
       "      <td>0.0</td>\n",
       "      <td>0.0</td>\n",
       "      <td>0.0</td>\n",
       "      <td>0.0</td>\n",
       "      <td>0.0</td>\n",
       "      <td>0.0</td>\n",
       "      <td>0.0</td>\n",
       "      <td>0.0</td>\n",
       "    </tr>\n",
       "  </tbody>\n",
       "</table>\n",
       "<p>5 rows × 961 columns</p>\n",
       "</div>"
      ],
      "text/plain": [
       "                       ABTti  ACTLMO  ALCD21_D  ALCD21_L  ALCD22_L  \\\n",
       "GGATGTACGCGAAG-1  666.822288     0.0       0.0       0.0       0.0   \n",
       "AAGCGACTTACAGC-1    0.000000     0.0       0.0       0.0       0.0   \n",
       "AGCGTAACTGAGAA-1    0.000000     0.0       0.0       0.0       0.0   \n",
       "TACTAAGATGATGC-1    0.000000     0.0       0.0       0.0       0.0   \n",
       "ACTAAAACTCGACA-1    0.000000     0.0       0.0       0.0       0.0   \n",
       "\n",
       "                          ALR2  ALR3      AMPDA     ARAB_Lt       ARABR  ...  \\\n",
       "GGATGTACGCGAAG-1  3.514824e-14   0.0   2.964435  666.822288  666.822288  ...   \n",
       "AAGCGACTTACAGC-1  0.000000e+00   0.0   1.776062    0.000000    0.000000  ...   \n",
       "AGCGTAACTGAGAA-1  0.000000e+00   0.0   3.488331    0.000000    0.000000  ...   \n",
       "TACTAAGATGATGC-1  0.000000e+00   0.0  17.838899    0.000000    0.000000  ...   \n",
       "ACTAAAACTCGACA-1  0.000000e+00   0.0  14.709621    0.000000    0.000000  ...   \n",
       "\n",
       "                  ABUTD  ANDRSTANDRtr  HMR_1126  HMR_1129  HMR_1927  HMR_1928  \\\n",
       "GGATGTACGCGAAG-1    0.0           0.0       0.0       0.0       0.0       0.0   \n",
       "AAGCGACTTACAGC-1    0.0           0.0       0.0       0.0       0.0       0.0   \n",
       "AGCGTAACTGAGAA-1    0.0           0.0       0.0       0.0       0.0       0.0   \n",
       "TACTAAGATGATGC-1    0.0           0.0       0.0       0.0       0.0       0.0   \n",
       "ACTAAAACTCGACA-1    0.0           0.0       0.0       0.0       0.0       0.0   \n",
       "\n",
       "                  HMR_1929  HMR_2014  HMR_4078  DM_4abut[c]  \n",
       "GGATGTACGCGAAG-1       0.0       0.0       0.0          0.0  \n",
       "AAGCGACTTACAGC-1       0.0       0.0       0.0          0.0  \n",
       "AGCGTAACTGAGAA-1       0.0       0.0       0.0          0.0  \n",
       "TACTAAGATGATGC-1       0.0       0.0       0.0          0.0  \n",
       "ACTAAAACTCGACA-1       0.0       0.0       0.0          0.0  \n",
       "\n",
       "[5 rows x 961 columns]"
      ]
     },
     "execution_count": 7,
     "metadata": {},
     "output_type": "execute_result"
    }
   ],
   "source": [
    "fluxes_df = pd.DataFrame(index = [model.id for model in models])\n",
    "\n",
    "for i, solution in enumerate(solutions, start = 0):\n",
    "    fluxes = solution.fluxes\n",
    "    \n",
    "    for reaction, flux in fluxes.items():\n",
    "        if reaction not in fluxes_df.columns:\n",
    "            fluxes_df[reaction] = 0.0\n",
    "        \n",
    "        fluxes_df.loc[fluxes_df.index[i], reaction] = flux\n",
    "        fluxes_df = fluxes_df.copy()\n",
    "\n",
    "fluxes_df.head()"
   ]
  },
  {
   "cell_type": "markdown",
   "id": "7d9553cb-b9e5-42db-9b75-9bad395bac93",
   "metadata": {},
   "source": [
    "## UMAP PROJECTION"
   ]
  },
  {
   "cell_type": "code",
   "execution_count": 8,
   "id": "317b58af-1687-4f03-b0cc-ac06a2969da8",
   "metadata": {},
   "outputs": [
    {
     "name": "stderr",
     "output_type": "stream",
     "text": [
      "/Users/claudiavicentecomorera/anaconda3/lib/python3.11/site-packages/umap/umap_.py:1943: UserWarning: n_jobs value -1 overridden to 1 by setting random_state. Use no seed for parallelism.\n",
      "  warn(f\"n_jobs value {self.n_jobs} overridden to 1 by setting random_state. Use no seed for parallelism.\")\n"
     ]
    },
    {
     "data": {
      "image/png": "[encoded data removed]",
      "text/plain": [
       "<Figure size 640x480 with 1 Axes>"
      ]
     },
     "metadata": {},
     "output_type": "display_data"
    }
   ],
   "source": [
    "reducer = umap.UMAP(n_neighbors = 15, min_dist = 0.1, metric = \"euclidean\", random_state = 42)\n",
    "embedding = reducer.fit_transform(fluxes_df)\n",
    "\n",
    "c_labs = pd.read_csv('/Users/claudiavicentecomorera/Desktop/TFG/Data/PBMC/clabs_pbmc.csv')\n",
    "d_clabs = dict(zip(c_labs['Cell_Name'], c_labs['Cluster_Label']))\n",
    "\n",
    "cols = ['#4C8CD0', '#FF9333', '#3BB442']\n",
    "label = [\"1\", \"2\", \"3\"]\n",
    "cmap_cols = ListedColormap(cols)\n",
    "\n",
    "plt.scatter(embedding[:, 0], embedding[:, 1], c = [d_clabs.get(index, -1) for index in fluxes_df.index], cmap = cmap_cols)\n",
    "plt.title('UMAP of 30 PBMC models fluxes distributions')\n",
    "plt.xlabel('UMAP 1')\n",
    "plt.ylabel('UMAP 2')\n",
    "\n",
    "legend = [plt.Line2D([0], [0], marker = 'o', color = 'w', label = f'Cluster {label}', \n",
    "                     markerfacecolor = color, markersize = 8) for label, color in zip(label, cols)]\n",
    "plt.legend(handles = legend, loc = 'best')\n",
    "plt.show()"
   ]
  },
  {
   "cell_type": "code",
   "execution_count": 9,
   "id": "caa8e421",
   "metadata": {},
   "outputs": [
    {
     "data": {
      "image/png": "[encoded data removed]",
      "text/plain": [
       "<Figure size 640x480 with 2 Axes>"
      ]
     },
     "metadata": {},
     "output_type": "display_data"
    }
   ],
   "source": [
    "d_bm = dict(zip(r_models.index, r_models['flux_bm']))\n",
    "\n",
    "plt.scatter(embedding[:, 0], embedding[:, 1], c = [d_bm.get(index, -1) for index in fluxes_df.index], cmap = \"viridis\")\n",
    "plt.colorbar(label = 'Biomass maintenance flux')  \n",
    "plt.title('UMAP of 30 PBMC models fluxes distributions')\n",
    "plt.xlabel('UMAP 1')\n",
    "plt.ylabel('UMAP 2')\n",
    "plt.show()"
   ]
  }
 ],
 "metadata": {
  "kernelspec": {
   "display_name": "Python 3 (ipykernel)",
   "language": "python",
   "name": "python3"
  },
  "language_info": {
   "codemirror_mode": {
    "name": "ipython",
    "version": 3
   },
   "file_extension": ".py",
   "mimetype": "text/x-python",
   "name": "python",
   "nbconvert_exporter": "python",
   "pygments_lexer": "ipython3",
   "version": "3.11.7"
  }
 },
 "nbformat": 4,
 "nbformat_minor": 5
}
