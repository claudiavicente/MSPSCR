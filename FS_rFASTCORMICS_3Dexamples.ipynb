{
 "cells": [
  {
   "cell_type": "markdown",
   "id": "a6b5ec31-c7fe-44ed-bac0-7f097154a914",
   "metadata": {},
   "source": [
    "# IMPORT LIBRARIES"
   ]
  },
  {
   "cell_type": "code",
   "execution_count": 1,
   "id": "5e8baa72-c2a4-4135-8844-db1385276744",
   "metadata": {},
   "outputs": [],
   "source": [
    "import cobra\n",
    "import glob\n",
    "import os\n",
    "import time\n",
    "import pandas as pd"
   ]
  },
  {
   "cell_type": "markdown",
   "id": "975f4391-7db8-402f-9f03-7c3461656621",
   "metadata": {},
   "source": [
    "# RECON 3D"
   ]
  },
  {
   "cell_type": "code",
   "execution_count": 2,
   "id": "886f0767-6ece-433c-8cbe-0e17de253a6e",
   "metadata": {},
   "outputs": [
    {
     "name": "stderr",
     "output_type": "stream",
     "text": [
      "No defined compartments in model Recon3DModel. Compartments will be deduced heuristically using regular expressions.\n",
      "Using regular expression found the following compartments:c, e, g, i, l, m, n, r, x\n"
     ]
    },
    {
     "data": {
      "text/html": [
       "\n",
       "        <table>\n",
       "            <tr>\n",
       "                <td><strong>Name</strong></td>\n",
       "                <td>Recon3DModel</td>\n",
       "            </tr><tr>\n",
       "                <td><strong>Memory address</strong></td>\n",
       "                <td>1266acad0</td>\n",
       "            </tr><tr>\n",
       "                <td><strong>Number of metabolites</strong></td>\n",
       "                <td>5835</td>\n",
       "            </tr><tr>\n",
       "                <td><strong>Number of reactions</strong></td>\n",
       "                <td>10600</td>\n",
       "            </tr><tr>\n",
       "                <td><strong>Number of genes</strong></td>\n",
       "                <td>2248</td>\n",
       "            </tr><tr>\n",
       "                <td><strong>Number of groups</strong></td>\n",
       "                <td>103</td>\n",
       "            </tr><tr>\n",
       "                <td><strong>Objective expression</strong></td>\n",
       "                <td>1.0*biomass_maintenance - 1.0*biomass_maintenance_reverse_95d2f</td>\n",
       "            </tr><tr>\n",
       "                <td><strong>Compartments</strong></td>\n",
       "                <td>c, l, m, r, e, x, n, g, i</td>\n",
       "            </tr>\n",
       "          </table>"
      ],
      "text/plain": [
       "<Model Recon3DModel at 0x1266acad0>"
      ]
     },
     "execution_count": 2,
     "metadata": {},
     "output_type": "execute_result"
    }
   ],
   "source": [
    "recon3D = cobra.io.load_matlab_model('/Users/claudiavicentecomorera/Desktop/TFG/Data/Recon3D_301/Recon3DModel_301.mat')\n",
    "recon3D"
   ]
  },
  {
   "cell_type": "code",
   "execution_count": 3,
   "id": "a63b5cbe-6a30-49bf-81ba-8d3f1ea444d8",
   "metadata": {},
   "outputs": [
    {
     "data": {
      "text/html": [
       "<strong><em>Optimal</em> solution with objective value 755.003</strong><br><div>\n",
       "<style scoped>\n",
       "    .dataframe tbody tr th:only-of-type {\n",
       "        vertical-align: middle;\n",
       "    }\n",
       "\n",
       "    .dataframe tbody tr th {\n",
       "        vertical-align: top;\n",
       "    }\n",
       "\n",
       "    .dataframe thead th {\n",
       "        text-align: right;\n",
       "    }\n",
       "</style>\n",
       "<table border=\"1\" class=\"dataframe\">\n",
       "  <thead>\n",
       "    <tr style=\"text-align: right;\">\n",
       "      <th></th>\n",
       "      <th>fluxes</th>\n",
       "      <th>reduced_costs</th>\n",
       "    </tr>\n",
       "  </thead>\n",
       "  <tbody>\n",
       "    <tr>\n",
       "      <th>10FTHF5GLUtl</th>\n",
       "      <td>0.0</td>\n",
       "      <td>0.000000e+00</td>\n",
       "    </tr>\n",
       "    <tr>\n",
       "      <th>10FTHF5GLUtm</th>\n",
       "      <td>0.0</td>\n",
       "      <td>-8.031949e-02</td>\n",
       "    </tr>\n",
       "    <tr>\n",
       "      <th>10FTHF6GLUtl</th>\n",
       "      <td>0.0</td>\n",
       "      <td>0.000000e+00</td>\n",
       "    </tr>\n",
       "    <tr>\n",
       "      <th>10FTHF6GLUtm</th>\n",
       "      <td>0.0</td>\n",
       "      <td>0.000000e+00</td>\n",
       "    </tr>\n",
       "    <tr>\n",
       "      <th>10FTHF7GLUtl</th>\n",
       "      <td>0.0</td>\n",
       "      <td>0.000000e+00</td>\n",
       "    </tr>\n",
       "    <tr>\n",
       "      <th>...</th>\n",
       "      <td>...</td>\n",
       "      <td>...</td>\n",
       "    </tr>\n",
       "    <tr>\n",
       "      <th>CYOR_u10mi</th>\n",
       "      <td>500.0</td>\n",
       "      <td>0.000000e+00</td>\n",
       "    </tr>\n",
       "    <tr>\n",
       "      <th>Htmi</th>\n",
       "      <td>1000.0</td>\n",
       "      <td>-7.246382e-19</td>\n",
       "    </tr>\n",
       "    <tr>\n",
       "      <th>NADH2_u10mi</th>\n",
       "      <td>0.0</td>\n",
       "      <td>7.145600e-18</td>\n",
       "    </tr>\n",
       "    <tr>\n",
       "      <th>CYOOm3i</th>\n",
       "      <td>750.0</td>\n",
       "      <td>-3.009266e-33</td>\n",
       "    </tr>\n",
       "    <tr>\n",
       "      <th>CYOOm2i</th>\n",
       "      <td>0.0</td>\n",
       "      <td>2.015649e-19</td>\n",
       "    </tr>\n",
       "  </tbody>\n",
       "</table>\n",
       "<p>10600 rows × 2 columns</p>\n",
       "</div>"
      ],
      "text/plain": [
       "<Solution 755.003 at 0x1464881d0>"
      ]
     },
     "execution_count": 3,
     "metadata": {},
     "output_type": "execute_result"
    }
   ],
   "source": [
    "solution_recon_3D = recon3D.optimize()\n",
    "bm = solution_recon_3D.objective_value\n",
    "solution_recon_3D"
   ]
  },
  {
   "cell_type": "markdown",
   "id": "36336bb7-c952-4863-aa54-0a5154f5e6e7",
   "metadata": {},
   "source": [
    "# FLUXES SIMULATION: rFASTCORMICS EXAMPLE_V4"
   ]
  },
  {
   "cell_type": "code",
   "execution_count": 4,
   "id": "b3db2174-7330-48fa-a79a-254a2e7815f7",
   "metadata": {},
   "outputs": [
    {
     "name": "stderr",
     "output_type": "stream",
     "text": [
      "No defined compartments in model ContextModel. Compartments will be deduced heuristically using regular expressions.\n",
      "Using regular expression found the following compartments:c, e, g, i, l, m, n, r, x\n",
      "No defined compartments in model ContextModel. Compartments will be deduced heuristically using regular expressions.\n",
      "Using regular expression found the following compartments:c, e, g, i, l, m, n, r, x\n"
     ]
    }
   ],
   "source": [
    "model1 =  cobra.io.load_matlab_model(\"/Users/claudiavicentecomorera/Desktop/TFG/rFASTCORMICS/rFASTCORMICS_RNA-seq/exampleResults/Example_v4_3D/SampleModel_TCGA06067511A32RA36H07.mat\")\n",
    "model2 =  cobra.io.load_matlab_model(\"/Users/claudiavicentecomorera/Desktop/TFG/rFASTCORMICS/rFASTCORMICS_RNA-seq/exampleResults/Example_v4_3D/SampleModel_TCGA06067811A32RA36H07.mat\")"
   ]
  },
  {
   "cell_type": "code",
   "execution_count": 5,
   "id": "c177fa14-ca08-4c36-93d1-12da4818c253",
   "metadata": {},
   "outputs": [
    {
     "data": {
      "text/html": [
       "\n",
       "        <table>\n",
       "            <tr>\n",
       "                <td><strong>Name</strong></td>\n",
       "                <td>ContextModel</td>\n",
       "            </tr><tr>\n",
       "                <td><strong>Memory address</strong></td>\n",
       "                <td>152d58490</td>\n",
       "            </tr><tr>\n",
       "                <td><strong>Number of metabolites</strong></td>\n",
       "                <td>2522</td>\n",
       "            </tr><tr>\n",
       "                <td><strong>Number of reactions</strong></td>\n",
       "                <td>3412</td>\n",
       "            </tr><tr>\n",
       "                <td><strong>Number of genes</strong></td>\n",
       "                <td>2248</td>\n",
       "            </tr><tr>\n",
       "                <td><strong>Number of groups</strong></td>\n",
       "                <td>87</td>\n",
       "            </tr><tr>\n",
       "                <td><strong>Objective expression</strong></td>\n",
       "                <td>1.0*biomass_maintenance - 1.0*biomass_maintenance_reverse_95d2f</td>\n",
       "            </tr><tr>\n",
       "                <td><strong>Compartments</strong></td>\n",
       "                <td>c, m, x, e, l, r, g, n, i</td>\n",
       "            </tr>\n",
       "          </table>"
      ],
      "text/plain": [
       "<Model ContextModel at 0x152d58490>"
      ]
     },
     "execution_count": 5,
     "metadata": {},
     "output_type": "execute_result"
    }
   ],
   "source": [
    "model1"
   ]
  },
  {
   "cell_type": "code",
   "execution_count": 6,
   "id": "b3daf060-f6b8-4c3b-8400-9846f47541cc",
   "metadata": {},
   "outputs": [
    {
     "data": {
      "text/html": [
       "\n",
       "        <table>\n",
       "            <tr>\n",
       "                <td><strong>Name</strong></td>\n",
       "                <td>ContextModel</td>\n",
       "            </tr><tr>\n",
       "                <td><strong>Memory address</strong></td>\n",
       "                <td>145544950</td>\n",
       "            </tr><tr>\n",
       "                <td><strong>Number of metabolites</strong></td>\n",
       "                <td>2545</td>\n",
       "            </tr><tr>\n",
       "                <td><strong>Number of reactions</strong></td>\n",
       "                <td>3448</td>\n",
       "            </tr><tr>\n",
       "                <td><strong>Number of genes</strong></td>\n",
       "                <td>2248</td>\n",
       "            </tr><tr>\n",
       "                <td><strong>Number of groups</strong></td>\n",
       "                <td>88</td>\n",
       "            </tr><tr>\n",
       "                <td><strong>Objective expression</strong></td>\n",
       "                <td>1.0*biomass_maintenance - 1.0*biomass_maintenance_reverse_95d2f</td>\n",
       "            </tr><tr>\n",
       "                <td><strong>Compartments</strong></td>\n",
       "                <td>c, l, m, x, e, r, g, n, i</td>\n",
       "            </tr>\n",
       "          </table>"
      ],
      "text/plain": [
       "<Model ContextModel at 0x145544950>"
      ]
     },
     "execution_count": 6,
     "metadata": {},
     "output_type": "execute_result"
    }
   ],
   "source": [
    "model2"
   ]
  },
  {
   "cell_type": "code",
   "execution_count": 7,
   "id": "b32d67ed-a6c5-4860-8115-9551dbefd6af",
   "metadata": {},
   "outputs": [
    {
     "name": "stdout",
     "output_type": "stream",
     "text": [
      "The simulation of ContextModel fluxes takes: 0.6805949211120605 seconds\n"
     ]
    },
    {
     "data": {
      "text/html": [
       "<strong><em>Optimal</em> solution with objective value 63.411</strong><br><div>\n",
       "<style scoped>\n",
       "    .dataframe tbody tr th:only-of-type {\n",
       "        vertical-align: middle;\n",
       "    }\n",
       "\n",
       "    .dataframe tbody tr th {\n",
       "        vertical-align: top;\n",
       "    }\n",
       "\n",
       "    .dataframe thead th {\n",
       "        text-align: right;\n",
       "    }\n",
       "</style>\n",
       "<table border=\"1\" class=\"dataframe\">\n",
       "  <thead>\n",
       "    <tr style=\"text-align: right;\">\n",
       "      <th></th>\n",
       "      <th>fluxes</th>\n",
       "      <th>reduced_costs</th>\n",
       "    </tr>\n",
       "  </thead>\n",
       "  <tbody>\n",
       "    <tr>\n",
       "      <th>13DAMPPOX</th>\n",
       "      <td>0.000000</td>\n",
       "      <td>-8.860996e-02</td>\n",
       "    </tr>\n",
       "    <tr>\n",
       "      <th>2HBO</th>\n",
       "      <td>0.000000</td>\n",
       "      <td>-3.367852e-19</td>\n",
       "    </tr>\n",
       "    <tr>\n",
       "      <th>2HBt2</th>\n",
       "      <td>-103.574491</td>\n",
       "      <td>5.051778e-19</td>\n",
       "    </tr>\n",
       "    <tr>\n",
       "      <th>2HCO3_NAt</th>\n",
       "      <td>-374.003830</td>\n",
       "      <td>-0.000000e+00</td>\n",
       "    </tr>\n",
       "    <tr>\n",
       "      <th>2OXOADOXm</th>\n",
       "      <td>0.000000</td>\n",
       "      <td>1.572093e-18</td>\n",
       "    </tr>\n",
       "    <tr>\n",
       "      <th>...</th>\n",
       "      <td>...</td>\n",
       "      <td>...</td>\n",
       "    </tr>\n",
       "    <tr>\n",
       "      <th>ATPS4mi</th>\n",
       "      <td>1000.000000</td>\n",
       "      <td>1.965986e-02</td>\n",
       "    </tr>\n",
       "    <tr>\n",
       "      <th>CYOR_u10mi</th>\n",
       "      <td>595.460987</td>\n",
       "      <td>-5.204170e-18</td>\n",
       "    </tr>\n",
       "    <tr>\n",
       "      <th>Htmi</th>\n",
       "      <td>0.000000</td>\n",
       "      <td>-5.929563e-04</td>\n",
       "    </tr>\n",
       "    <tr>\n",
       "      <th>NADH2_u10mi</th>\n",
       "      <td>0.000000</td>\n",
       "      <td>-7.880809e-03</td>\n",
       "    </tr>\n",
       "    <tr>\n",
       "      <th>CYOOm3i</th>\n",
       "      <td>404.539013</td>\n",
       "      <td>-2.775558e-17</td>\n",
       "    </tr>\n",
       "  </tbody>\n",
       "</table>\n",
       "<p>3412 rows × 2 columns</p>\n",
       "</div>"
      ],
      "text/plain": [
       "<Solution 63.411 at 0x147a295d0>"
      ]
     },
     "execution_count": 7,
     "metadata": {},
     "output_type": "execute_result"
    }
   ],
   "source": [
    "t0_1 = time.time()  \n",
    "solution1 = model1.optimize()\n",
    "t_1 = time.time()  \n",
    "time1 = t_1 - t0_1\n",
    "print(f\"The simulation of {model1.id} fluxes takes: {time1} seconds\")\n",
    "\n",
    "bm1 = solution1.objective_value\n",
    "solution1"
   ]
  },
  {
   "cell_type": "code",
   "execution_count": 8,
   "id": "8ea63e4c-fe78-47f0-974e-109d86262c0f",
   "metadata": {},
   "outputs": [
    {
     "name": "stdout",
     "output_type": "stream",
     "text": [
      "The simulation of ContextModel fluxes takes: 0.5236332416534424 seconds\n"
     ]
    },
    {
     "data": {
      "text/html": [
       "<strong><em>Optimal</em> solution with objective value 61.703</strong><br><div>\n",
       "<style scoped>\n",
       "    .dataframe tbody tr th:only-of-type {\n",
       "        vertical-align: middle;\n",
       "    }\n",
       "\n",
       "    .dataframe tbody tr th {\n",
       "        vertical-align: top;\n",
       "    }\n",
       "\n",
       "    .dataframe thead th {\n",
       "        text-align: right;\n",
       "    }\n",
       "</style>\n",
       "<table border=\"1\" class=\"dataframe\">\n",
       "  <thead>\n",
       "    <tr style=\"text-align: right;\">\n",
       "      <th></th>\n",
       "      <th>fluxes</th>\n",
       "      <th>reduced_costs</th>\n",
       "    </tr>\n",
       "  </thead>\n",
       "  <tbody>\n",
       "    <tr>\n",
       "      <th>10FTHF7GLUtl</th>\n",
       "      <td>0.000000</td>\n",
       "      <td>-1.734723e-18</td>\n",
       "    </tr>\n",
       "    <tr>\n",
       "      <th>10FTHFtl</th>\n",
       "      <td>0.000000</td>\n",
       "      <td>-0.000000e+00</td>\n",
       "    </tr>\n",
       "    <tr>\n",
       "      <th>13DAMPPOX</th>\n",
       "      <td>0.000000</td>\n",
       "      <td>-4.999028e-19</td>\n",
       "    </tr>\n",
       "    <tr>\n",
       "      <th>2AMACHYD</th>\n",
       "      <td>0.000000</td>\n",
       "      <td>1.234821e-18</td>\n",
       "    </tr>\n",
       "    <tr>\n",
       "      <th>2HBO</th>\n",
       "      <td>0.000000</td>\n",
       "      <td>-1.683926e-19</td>\n",
       "    </tr>\n",
       "    <tr>\n",
       "      <th>...</th>\n",
       "      <td>...</td>\n",
       "      <td>...</td>\n",
       "    </tr>\n",
       "    <tr>\n",
       "      <th>EX_dolichol_L[e]</th>\n",
       "      <td>0.000000</td>\n",
       "      <td>0.000000e+00</td>\n",
       "    </tr>\n",
       "    <tr>\n",
       "      <th>ATPS4mi</th>\n",
       "      <td>1000.000000</td>\n",
       "      <td>1.846234e-02</td>\n",
       "    </tr>\n",
       "    <tr>\n",
       "      <th>CYOR_u10mi</th>\n",
       "      <td>495.730221</td>\n",
       "      <td>-5.204170e-18</td>\n",
       "    </tr>\n",
       "    <tr>\n",
       "      <th>NADH2_u10mi</th>\n",
       "      <td>0.000000</td>\n",
       "      <td>-1.360383e-02</td>\n",
       "    </tr>\n",
       "    <tr>\n",
       "      <th>CYOOm3i</th>\n",
       "      <td>504.269779</td>\n",
       "      <td>-2.081668e-17</td>\n",
       "    </tr>\n",
       "  </tbody>\n",
       "</table>\n",
       "<p>3448 rows × 2 columns</p>\n",
       "</div>"
      ],
      "text/plain": [
       "<Solution 61.703 at 0x147a29d90>"
      ]
     },
     "execution_count": 8,
     "metadata": {},
     "output_type": "execute_result"
    }
   ],
   "source": [
    "t0_2 = time.time()  \n",
    "solution2 = model2.optimize()\n",
    "t_2 = time.time()  \n",
    "time2 = t_2 - t0_2\n",
    "print(f\"The simulation of {model2.id} fluxes takes: {time2} seconds\")\n",
    "\n",
    "bm2 = solution2.objective_value\n",
    "solution2"
   ]
  },
  {
   "cell_type": "code",
   "execution_count": 9,
   "id": "f804ac63-f9e8-4b8f-b8f5-1579b4f980dd",
   "metadata": {},
   "outputs": [
    {
     "name": "stdout",
     "output_type": "stream",
     "text": [
      "8.398782634279042\n",
      "8.17256017914707\n"
     ]
    }
   ],
   "source": [
    "print((bm1/bm)*100)\n",
    "print((bm2/bm)*100)"
   ]
  },
  {
   "cell_type": "markdown",
   "id": "3b7b354f-241e-4a2f-89ec-e3cee37b356b",
   "metadata": {},
   "source": [
    "# FLUXES SIMULATION: rFASTCORMICS ADDITIONAL EXAMPLE"
   ]
  },
  {
   "cell_type": "code",
   "execution_count": 10,
   "id": "f413e0d8-ec79-4942-90e2-ad352779f68c",
   "metadata": {},
   "outputs": [
    {
     "name": "stderr",
     "output_type": "stream",
     "text": [
      "No defined compartments in model ContextModel. Compartments will be deduced heuristically using regular expressions.\n",
      "Using regular expression found the following compartments:c, e, g, i, l, m, n, r, x\n",
      "No defined compartments in model ContextModel. Compartments will be deduced heuristically using regular expressions.\n",
      "Using regular expression found the following compartments:c, e, g, i, l, m, n, r, x\n"
     ]
    },
    {
     "name": "stdout",
     "output_type": "stream",
     "text": [
      "The simulation of SampleModel_BRCA_C_TCGA_E9_A1NC_01A_21R_A26B_07 fluxes takes: 0.686474084854126 seconds\n"
     ]
    },
    {
     "name": "stderr",
     "output_type": "stream",
     "text": [
      "No defined compartments in model ContextModel. Compartments will be deduced heuristically using regular expressions.\n",
      "Using regular expression found the following compartments:c, e, g, i, l, m, n, r, x\n"
     ]
    },
    {
     "name": "stdout",
     "output_type": "stream",
     "text": [
      "The simulation of SampleModel_BRCA_C_TCGA_AO_A12H_01A_11R_A115_07 fluxes takes: 0.6226742267608643 seconds\n"
     ]
    },
    {
     "name": "stderr",
     "output_type": "stream",
     "text": [
      "No defined compartments in model ContextModel. Compartments will be deduced heuristically using regular expressions.\n",
      "Using regular expression found the following compartments:c, e, g, i, l, m, n, r, x\n"
     ]
    },
    {
     "name": "stdout",
     "output_type": "stream",
     "text": [
      "The simulation of SampleModel_BRCA_C_TCGA_B6_A0RH_01A_21R_A115_07 fluxes takes: 0.6667189598083496 seconds\n"
     ]
    },
    {
     "name": "stderr",
     "output_type": "stream",
     "text": [
      "No defined compartments in model ContextModel. Compartments will be deduced heuristically using regular expressions.\n",
      "Using regular expression found the following compartments:c, e, g, i, l, m, n, r, x\n"
     ]
    },
    {
     "name": "stdout",
     "output_type": "stream",
     "text": [
      "The simulation of SampleModel_BRCA_H_TCGA_BH_A1EO_11A_31R_A137_07 fluxes takes: 0.6449108123779297 seconds\n"
     ]
    },
    {
     "name": "stderr",
     "output_type": "stream",
     "text": [
      "No defined compartments in model ContextModel. Compartments will be deduced heuristically using regular expressions.\n",
      "Using regular expression found the following compartments:c, e, g, i, l, m, n, r, x\n"
     ]
    },
    {
     "name": "stdout",
     "output_type": "stream",
     "text": [
      "The simulation of SampleModel_BRCA_H_TCGA_BH_A1FG_11B_12R_A13Q_07 fluxes takes: 0.464019775390625 seconds\n"
     ]
    },
    {
     "name": "stderr",
     "output_type": "stream",
     "text": [
      "No defined compartments in model ContextModel. Compartments will be deduced heuristically using regular expressions.\n",
      "Using regular expression found the following compartments:c, e, g, i, l, m, n, r, x\n"
     ]
    },
    {
     "name": "stdout",
     "output_type": "stream",
     "text": [
      "The simulation of SampleModel_BRCA_C_TCGA_A8_A0AB_01A_11R_A034_07 fluxes takes: 0.49243879318237305 seconds\n"
     ]
    },
    {
     "name": "stderr",
     "output_type": "stream",
     "text": [
      "No defined compartments in model ContextModel. Compartments will be deduced heuristically using regular expressions.\n",
      "Using regular expression found the following compartments:c, e, g, i, l, m, n, r, x\n"
     ]
    },
    {
     "name": "stdout",
     "output_type": "stream",
     "text": [
      "The simulation of SampleModel_BRCA_H_TCGA_BH_A0BC_11A_22R_A089_07 fluxes takes: 0.6400680541992188 seconds\n"
     ]
    },
    {
     "name": "stderr",
     "output_type": "stream",
     "text": [
      "No defined compartments in model ContextModel. Compartments will be deduced heuristically using regular expressions.\n",
      "Using regular expression found the following compartments:c, e, g, i, l, m, n, r, x\n"
     ]
    },
    {
     "name": "stdout",
     "output_type": "stream",
     "text": [
      "The simulation of SampleModel_BRCA_H_TCGA_BH_A0DT_11A_12R_A12D_07 fluxes takes: 0.5722453594207764 seconds\n"
     ]
    },
    {
     "name": "stderr",
     "output_type": "stream",
     "text": [
      "No defined compartments in model ContextModel. Compartments will be deduced heuristically using regular expressions.\n",
      "Using regular expression found the following compartments:c, e, g, i, l, m, n, r, x\n"
     ]
    },
    {
     "name": "stdout",
     "output_type": "stream",
     "text": [
      "The simulation of SampleModel_BRCA_H_TCGA_BH_A0BA_11A_22R_A19E_07 fluxes takes: 0.5682287216186523 seconds\n"
     ]
    },
    {
     "name": "stderr",
     "output_type": "stream",
     "text": [
      "No defined compartments in model ContextModel. Compartments will be deduced heuristically using regular expressions.\n",
      "Using regular expression found the following compartments:c, e, g, i, l, m, n, r, x\n"
     ]
    },
    {
     "name": "stdout",
     "output_type": "stream",
     "text": [
      "The simulation of SampleModel_BRCA_C_TCGA_A2_A0D0_01A_11R_A00Z_07 fluxes takes: 0.579740047454834 seconds\n"
     ]
    },
    {
     "name": "stderr",
     "output_type": "stream",
     "text": [
      "No defined compartments in model ContextModel. Compartments will be deduced heuristically using regular expressions.\n",
      "Using regular expression found the following compartments:c, e, g, i, l, m, n, r, x\n"
     ]
    },
    {
     "name": "stdout",
     "output_type": "stream",
     "text": [
      "The simulation of SampleModel_BRCA_H_TCGA_BH_A203_11A_42R_A169_07 fluxes takes: 0.5602748394012451 seconds\n"
     ]
    },
    {
     "name": "stderr",
     "output_type": "stream",
     "text": [
      "No defined compartments in model ContextModel. Compartments will be deduced heuristically using regular expressions.\n",
      "Using regular expression found the following compartments:c, e, g, i, l, m, n, r, x\n"
     ]
    },
    {
     "name": "stdout",
     "output_type": "stream",
     "text": [
      "The simulation of SampleModel_BRCA_H_TCGA_AC_A23H_11A_12R_A157_07 fluxes takes: 0.5173161029815674 seconds\n"
     ]
    },
    {
     "name": "stderr",
     "output_type": "stream",
     "text": [
      "No defined compartments in model ContextModel. Compartments will be deduced heuristically using regular expressions.\n",
      "Using regular expression found the following compartments:c, e, g, i, l, m, n, r, x\n"
     ]
    },
    {
     "name": "stdout",
     "output_type": "stream",
     "text": [
      "The simulation of SampleModel_BRCA_C_TCGA_C8_A1HO_01A_11R_A13Q_07 fluxes takes: 0.581165075302124 seconds\n"
     ]
    },
    {
     "name": "stderr",
     "output_type": "stream",
     "text": [
      "No defined compartments in model ContextModel. Compartments will be deduced heuristically using regular expressions.\n",
      "Using regular expression found the following compartments:c, e, g, i, l, m, n, r, x\n"
     ]
    },
    {
     "name": "stdout",
     "output_type": "stream",
     "text": [
      "The simulation of SampleModel_BRCA_H_TCGA_BH_A1F0_11B_23R_A137_07 fluxes takes: 0.6860299110412598 seconds\n"
     ]
    },
    {
     "name": "stderr",
     "output_type": "stream",
     "text": [
      "No defined compartments in model ContextModel. Compartments will be deduced heuristically using regular expressions.\n",
      "Using regular expression found the following compartments:c, e, g, i, l, m, n, r, x\n"
     ]
    },
    {
     "name": "stdout",
     "output_type": "stream",
     "text": [
      "The simulation of SampleModel_BRCA_C_TCGA_A8_A06Y_01A_21R_A00Z_07 fluxes takes: 0.6609189510345459 seconds\n"
     ]
    },
    {
     "name": "stderr",
     "output_type": "stream",
     "text": [
      "No defined compartments in model ContextModel. Compartments will be deduced heuristically using regular expressions.\n",
      "Using regular expression found the following compartments:c, e, g, i, l, m, n, r, x\n"
     ]
    },
    {
     "name": "stdout",
     "output_type": "stream",
     "text": [
      "The simulation of SampleModel_BRCA_C_TCGA_C8_A1HL_01A_11R_A137_07 fluxes takes: 0.6205952167510986 seconds\n"
     ]
    },
    {
     "name": "stderr",
     "output_type": "stream",
     "text": [
      "No defined compartments in model ContextModel. Compartments will be deduced heuristically using regular expressions.\n",
      "Using regular expression found the following compartments:c, e, g, i, l, m, n, r, x\n"
     ]
    },
    {
     "name": "stdout",
     "output_type": "stream",
     "text": [
      "The simulation of SampleModel_BRCA_C_TCGA_D8_A4Z1_01A_21R_A266_07 fluxes takes: 0.6689767837524414 seconds\n"
     ]
    },
    {
     "name": "stderr",
     "output_type": "stream",
     "text": [
      "No defined compartments in model ContextModel. Compartments will be deduced heuristically using regular expressions.\n",
      "Using regular expression found the following compartments:c, e, g, i, l, m, n, r, x\n"
     ]
    },
    {
     "name": "stdout",
     "output_type": "stream",
     "text": [
      "The simulation of SampleModel_BRCA_H_TCGA_BH_A204_11A_53R_A157_07 fluxes takes: 0.6936891078948975 seconds\n"
     ]
    },
    {
     "name": "stderr",
     "output_type": "stream",
     "text": [
      "No defined compartments in model ContextModel. Compartments will be deduced heuristically using regular expressions.\n",
      "Using regular expression found the following compartments:c, e, g, i, l, m, n, r, x\n"
     ]
    },
    {
     "name": "stdout",
     "output_type": "stream",
     "text": [
      "The simulation of SampleModel_BRCA_H_TCGA_BH_A0DH_11A_31R_A089_07 fluxes takes: 0.6667792797088623 seconds\n",
      "The simulation of SampleModel_BRCA_C_TCGA_A1_A0SM_01A_11R_A084_07 fluxes takes: 0.7247421741485596 seconds\n"
     ]
    }
   ],
   "source": [
    "f_path = \"/Users/claudiavicentecomorera/Desktop/TFG/rFASTCORMICS/rFASTCORMICS_RNA-seq/exampleResults/Example_BRCA_3D/\"\n",
    "file_paths = glob.glob(f_path + \"*.mat\")\n",
    "\n",
    "models = []\n",
    "solutions = []\n",
    "times = []\n",
    "\n",
    "for file_path in file_paths:\n",
    "    model = cobra.io.load_matlab_model(file_path)\n",
    "    model.id = os.path.splitext(os.path.basename(file_path))[0]\n",
    "\n",
    "    t0_add = time.time()  \n",
    "    solution = model.optimize()\n",
    "    t_add = time.time()  \n",
    "    time_add = t_add - t0_add \n",
    "    \n",
    "    print(f\"The simulation of {model.id} fluxes takes: {time_add} seconds\")\n",
    "    \n",
    "    models.append(model)\n",
    "    solutions.append(solution)\n",
    "    times.append(time_add)"
   ]
  },
  {
   "cell_type": "code",
   "execution_count": 11,
   "id": "27bd8e10-8e82-442d-a802-f5246029d54e",
   "metadata": {},
   "outputs": [
    {
     "data": {
      "text/html": [
       "<strong><em>Optimal</em> solution with objective value 87.968</strong><br><div>\n",
       "<style scoped>\n",
       "    .dataframe tbody tr th:only-of-type {\n",
       "        vertical-align: middle;\n",
       "    }\n",
       "\n",
       "    .dataframe tbody tr th {\n",
       "        vertical-align: top;\n",
       "    }\n",
       "\n",
       "    .dataframe thead th {\n",
       "        text-align: right;\n",
       "    }\n",
       "</style>\n",
       "<table border=\"1\" class=\"dataframe\">\n",
       "  <thead>\n",
       "    <tr style=\"text-align: right;\">\n",
       "      <th></th>\n",
       "      <th>fluxes</th>\n",
       "      <th>reduced_costs</th>\n",
       "    </tr>\n",
       "  </thead>\n",
       "  <tbody>\n",
       "    <tr>\n",
       "      <th>10FTHF7GLUtl</th>\n",
       "      <td>0.000000</td>\n",
       "      <td>-4.398388e-02</td>\n",
       "    </tr>\n",
       "    <tr>\n",
       "      <th>10FTHF7GLUtm</th>\n",
       "      <td>0.000000</td>\n",
       "      <td>-6.938894e-18</td>\n",
       "    </tr>\n",
       "    <tr>\n",
       "      <th>10FTHFtl</th>\n",
       "      <td>0.000000</td>\n",
       "      <td>-0.000000e+00</td>\n",
       "    </tr>\n",
       "    <tr>\n",
       "      <th>13DAMPPOX</th>\n",
       "      <td>0.000000</td>\n",
       "      <td>-7.952625e-18</td>\n",
       "    </tr>\n",
       "    <tr>\n",
       "      <th>2HBO</th>\n",
       "      <td>0.000000</td>\n",
       "      <td>-0.000000e+00</td>\n",
       "    </tr>\n",
       "    <tr>\n",
       "      <th>...</th>\n",
       "      <td>...</td>\n",
       "      <td>...</td>\n",
       "    </tr>\n",
       "    <tr>\n",
       "      <th>DM_Lkynr[c]</th>\n",
       "      <td>0.000000</td>\n",
       "      <td>0.000000e+00</td>\n",
       "    </tr>\n",
       "    <tr>\n",
       "      <th>ATPS4mi</th>\n",
       "      <td>1000.000000</td>\n",
       "      <td>4.398388e-02</td>\n",
       "    </tr>\n",
       "    <tr>\n",
       "      <th>CYOR_u10mi</th>\n",
       "      <td>507.759152</td>\n",
       "      <td>0.000000e+00</td>\n",
       "    </tr>\n",
       "    <tr>\n",
       "      <th>Htmi</th>\n",
       "      <td>0.000000</td>\n",
       "      <td>-1.140484e-17</td>\n",
       "    </tr>\n",
       "    <tr>\n",
       "      <th>CYOOm3i</th>\n",
       "      <td>492.240848</td>\n",
       "      <td>2.465190e-32</td>\n",
       "    </tr>\n",
       "  </tbody>\n",
       "</table>\n",
       "<p>3398 rows × 2 columns</p>\n",
       "</div>"
      ],
      "text/plain": [
       "<Solution 87.968 at 0x15734bb50>"
      ]
     },
     "execution_count": 11,
     "metadata": {},
     "output_type": "execute_result"
    }
   ],
   "source": [
    "solutions[1]"
   ]
  },
  {
   "cell_type": "code",
   "execution_count": 12,
   "id": "b879fea5-4228-4427-b5e8-931f658cc4df",
   "metadata": {},
   "outputs": [
    {
     "name": "stdout",
     "output_type": "stream",
     "text": [
      "The 5% of Recon 2 v.04 objective value is 37.750160777533154\n",
      "There are 0 models that aren't feasible because of their low objective value.\n",
      "\n"
     ]
    },
    {
     "data": {
      "text/html": [
       "<div>\n",
       "<style scoped>\n",
       "    .dataframe tbody tr th:only-of-type {\n",
       "        vertical-align: middle;\n",
       "    }\n",
       "\n",
       "    .dataframe tbody tr th {\n",
       "        vertical-align: top;\n",
       "    }\n",
       "\n",
       "    .dataframe thead th {\n",
       "        text-align: right;\n",
       "    }\n",
       "</style>\n",
       "<table border=\"1\" class=\"dataframe\">\n",
       "  <thead>\n",
       "    <tr style=\"text-align: right;\">\n",
       "      <th></th>\n",
       "      <th>flux_bm</th>\n",
       "      <th>percent_bm</th>\n",
       "      <th>feasible_models</th>\n",
       "    </tr>\n",
       "  </thead>\n",
       "  <tbody>\n",
       "    <tr>\n",
       "      <th>SampleModel_BRCA_C_TCGA_E9_A1NC_01A_21R_A26B_07</th>\n",
       "      <td>74.087590</td>\n",
       "      <td>9.812884</td>\n",
       "      <td>TRUE</td>\n",
       "    </tr>\n",
       "    <tr>\n",
       "      <th>SampleModel_BRCA_C_TCGA_AO_A12H_01A_11R_A115_07</th>\n",
       "      <td>87.967757</td>\n",
       "      <td>11.651309</td>\n",
       "      <td>TRUE</td>\n",
       "    </tr>\n",
       "    <tr>\n",
       "      <th>SampleModel_BRCA_C_TCGA_B6_A0RH_01A_21R_A115_07</th>\n",
       "      <td>78.912376</td>\n",
       "      <td>10.451926</td>\n",
       "      <td>TRUE</td>\n",
       "    </tr>\n",
       "    <tr>\n",
       "      <th>SampleModel_BRCA_H_TCGA_BH_A1EO_11A_31R_A137_07</th>\n",
       "      <td>70.695423</td>\n",
       "      <td>9.363592</td>\n",
       "      <td>TRUE</td>\n",
       "    </tr>\n",
       "    <tr>\n",
       "      <th>SampleModel_BRCA_H_TCGA_BH_A1FG_11B_12R_A13Q_07</th>\n",
       "      <td>51.622864</td>\n",
       "      <td>6.837436</td>\n",
       "      <td>TRUE</td>\n",
       "    </tr>\n",
       "    <tr>\n",
       "      <th>SampleModel_BRCA_C_TCGA_A8_A0AB_01A_11R_A034_07</th>\n",
       "      <td>52.926298</td>\n",
       "      <td>7.010076</td>\n",
       "      <td>TRUE</td>\n",
       "    </tr>\n",
       "    <tr>\n",
       "      <th>SampleModel_BRCA_H_TCGA_BH_A0BC_11A_22R_A089_07</th>\n",
       "      <td>58.815409</td>\n",
       "      <td>7.790087</td>\n",
       "      <td>TRUE</td>\n",
       "    </tr>\n",
       "    <tr>\n",
       "      <th>SampleModel_BRCA_H_TCGA_BH_A0DT_11A_12R_A12D_07</th>\n",
       "      <td>69.641152</td>\n",
       "      <td>9.223954</td>\n",
       "      <td>TRUE</td>\n",
       "    </tr>\n",
       "    <tr>\n",
       "      <th>SampleModel_BRCA_H_TCGA_BH_A0BA_11A_22R_A19E_07</th>\n",
       "      <td>72.390478</td>\n",
       "      <td>9.588102</td>\n",
       "      <td>TRUE</td>\n",
       "    </tr>\n",
       "    <tr>\n",
       "      <th>SampleModel_BRCA_C_TCGA_A2_A0D0_01A_11R_A00Z_07</th>\n",
       "      <td>56.281054</td>\n",
       "      <td>7.454412</td>\n",
       "      <td>TRUE</td>\n",
       "    </tr>\n",
       "    <tr>\n",
       "      <th>SampleModel_BRCA_H_TCGA_BH_A203_11A_42R_A169_07</th>\n",
       "      <td>67.141127</td>\n",
       "      <td>8.892827</td>\n",
       "      <td>TRUE</td>\n",
       "    </tr>\n",
       "    <tr>\n",
       "      <th>SampleModel_BRCA_H_TCGA_AC_A23H_11A_12R_A157_07</th>\n",
       "      <td>62.017360</td>\n",
       "      <td>8.214185</td>\n",
       "      <td>TRUE</td>\n",
       "    </tr>\n",
       "    <tr>\n",
       "      <th>SampleModel_BRCA_C_TCGA_C8_A1HO_01A_11R_A13Q_07</th>\n",
       "      <td>90.333067</td>\n",
       "      <td>11.964594</td>\n",
       "      <td>TRUE</td>\n",
       "    </tr>\n",
       "    <tr>\n",
       "      <th>SampleModel_BRCA_H_TCGA_BH_A1F0_11B_23R_A137_07</th>\n",
       "      <td>69.902498</td>\n",
       "      <td>9.258570</td>\n",
       "      <td>TRUE</td>\n",
       "    </tr>\n",
       "    <tr>\n",
       "      <th>SampleModel_BRCA_C_TCGA_A8_A06Y_01A_21R_A00Z_07</th>\n",
       "      <td>56.955202</td>\n",
       "      <td>7.543703</td>\n",
       "      <td>TRUE</td>\n",
       "    </tr>\n",
       "    <tr>\n",
       "      <th>SampleModel_BRCA_C_TCGA_C8_A1HL_01A_11R_A137_07</th>\n",
       "      <td>94.223812</td>\n",
       "      <td>12.479922</td>\n",
       "      <td>TRUE</td>\n",
       "    </tr>\n",
       "    <tr>\n",
       "      <th>SampleModel_BRCA_C_TCGA_D8_A4Z1_01A_21R_A266_07</th>\n",
       "      <td>53.300603</td>\n",
       "      <td>7.059652</td>\n",
       "      <td>TRUE</td>\n",
       "    </tr>\n",
       "    <tr>\n",
       "      <th>SampleModel_BRCA_H_TCGA_BH_A204_11A_53R_A157_07</th>\n",
       "      <td>74.019504</td>\n",
       "      <td>9.803866</td>\n",
       "      <td>TRUE</td>\n",
       "    </tr>\n",
       "    <tr>\n",
       "      <th>SampleModel_BRCA_H_TCGA_BH_A0DH_11A_31R_A089_07</th>\n",
       "      <td>59.164696</td>\n",
       "      <td>7.836350</td>\n",
       "      <td>TRUE</td>\n",
       "    </tr>\n",
       "    <tr>\n",
       "      <th>SampleModel_BRCA_C_TCGA_A1_A0SM_01A_11R_A084_07</th>\n",
       "      <td>76.775326</td>\n",
       "      <td>10.168874</td>\n",
       "      <td>TRUE</td>\n",
       "    </tr>\n",
       "  </tbody>\n",
       "</table>\n",
       "</div>"
      ],
      "text/plain": [
       "                                                   flux_bm  percent_bm  \\\n",
       "SampleModel_BRCA_C_TCGA_E9_A1NC_01A_21R_A26B_07  74.087590    9.812884   \n",
       "SampleModel_BRCA_C_TCGA_AO_A12H_01A_11R_A115_07  87.967757   11.651309   \n",
       "SampleModel_BRCA_C_TCGA_B6_A0RH_01A_21R_A115_07  78.912376   10.451926   \n",
       "SampleModel_BRCA_H_TCGA_BH_A1EO_11A_31R_A137_07  70.695423    9.363592   \n",
       "SampleModel_BRCA_H_TCGA_BH_A1FG_11B_12R_A13Q_07  51.622864    6.837436   \n",
       "SampleModel_BRCA_C_TCGA_A8_A0AB_01A_11R_A034_07  52.926298    7.010076   \n",
       "SampleModel_BRCA_H_TCGA_BH_A0BC_11A_22R_A089_07  58.815409    7.790087   \n",
       "SampleModel_BRCA_H_TCGA_BH_A0DT_11A_12R_A12D_07  69.641152    9.223954   \n",
       "SampleModel_BRCA_H_TCGA_BH_A0BA_11A_22R_A19E_07  72.390478    9.588102   \n",
       "SampleModel_BRCA_C_TCGA_A2_A0D0_01A_11R_A00Z_07  56.281054    7.454412   \n",
       "SampleModel_BRCA_H_TCGA_BH_A203_11A_42R_A169_07  67.141127    8.892827   \n",
       "SampleModel_BRCA_H_TCGA_AC_A23H_11A_12R_A157_07  62.017360    8.214185   \n",
       "SampleModel_BRCA_C_TCGA_C8_A1HO_01A_11R_A13Q_07  90.333067   11.964594   \n",
       "SampleModel_BRCA_H_TCGA_BH_A1F0_11B_23R_A137_07  69.902498    9.258570   \n",
       "SampleModel_BRCA_C_TCGA_A8_A06Y_01A_21R_A00Z_07  56.955202    7.543703   \n",
       "SampleModel_BRCA_C_TCGA_C8_A1HL_01A_11R_A137_07  94.223812   12.479922   \n",
       "SampleModel_BRCA_C_TCGA_D8_A4Z1_01A_21R_A266_07  53.300603    7.059652   \n",
       "SampleModel_BRCA_H_TCGA_BH_A204_11A_53R_A157_07  74.019504    9.803866   \n",
       "SampleModel_BRCA_H_TCGA_BH_A0DH_11A_31R_A089_07  59.164696    7.836350   \n",
       "SampleModel_BRCA_C_TCGA_A1_A0SM_01A_11R_A084_07  76.775326   10.168874   \n",
       "\n",
       "                                                feasible_models  \n",
       "SampleModel_BRCA_C_TCGA_E9_A1NC_01A_21R_A26B_07            TRUE  \n",
       "SampleModel_BRCA_C_TCGA_AO_A12H_01A_11R_A115_07            TRUE  \n",
       "SampleModel_BRCA_C_TCGA_B6_A0RH_01A_21R_A115_07            TRUE  \n",
       "SampleModel_BRCA_H_TCGA_BH_A1EO_11A_31R_A137_07            TRUE  \n",
       "SampleModel_BRCA_H_TCGA_BH_A1FG_11B_12R_A13Q_07            TRUE  \n",
       "SampleModel_BRCA_C_TCGA_A8_A0AB_01A_11R_A034_07            TRUE  \n",
       "SampleModel_BRCA_H_TCGA_BH_A0BC_11A_22R_A089_07            TRUE  \n",
       "SampleModel_BRCA_H_TCGA_BH_A0DT_11A_12R_A12D_07            TRUE  \n",
       "SampleModel_BRCA_H_TCGA_BH_A0BA_11A_22R_A19E_07            TRUE  \n",
       "SampleModel_BRCA_C_TCGA_A2_A0D0_01A_11R_A00Z_07            TRUE  \n",
       "SampleModel_BRCA_H_TCGA_BH_A203_11A_42R_A169_07            TRUE  \n",
       "SampleModel_BRCA_H_TCGA_AC_A23H_11A_12R_A157_07            TRUE  \n",
       "SampleModel_BRCA_C_TCGA_C8_A1HO_01A_11R_A13Q_07            TRUE  \n",
       "SampleModel_BRCA_H_TCGA_BH_A1F0_11B_23R_A137_07            TRUE  \n",
       "SampleModel_BRCA_C_TCGA_A8_A06Y_01A_21R_A00Z_07            TRUE  \n",
       "SampleModel_BRCA_C_TCGA_C8_A1HL_01A_11R_A137_07            TRUE  \n",
       "SampleModel_BRCA_C_TCGA_D8_A4Z1_01A_21R_A266_07            TRUE  \n",
       "SampleModel_BRCA_H_TCGA_BH_A204_11A_53R_A157_07            TRUE  \n",
       "SampleModel_BRCA_H_TCGA_BH_A0DH_11A_31R_A089_07            TRUE  \n",
       "SampleModel_BRCA_C_TCGA_A1_A0SM_01A_11R_A084_07            TRUE  "
      ]
     },
     "execution_count": 12,
     "metadata": {},
     "output_type": "execute_result"
    }
   ],
   "source": [
    "r_models = pd.DataFrame(index=[model.id for model in models])\n",
    "\n",
    "for i, solution in enumerate(solutions, start = 0):\n",
    "    bm_m = solution.objective_value\n",
    "    percent = (bm_m/bm) * 100\n",
    "    \n",
    "    r_models.loc[r_models.index[i], 'flux_bm'] = bm_m\n",
    "    r_models.loc[r_models.index[i], 'percent_bm'] = percent\n",
    "    r_models.loc[r_models.index[i], 'feasible_models'] = \"TRUE\" if percent > 5 else \"FALSE\"\n",
    "\n",
    "print(f'The 5% of Recon 2 v.04 objective value is {5/100*bm}')\n",
    "print(f'There are {r_models[\"feasible_models\"].eq(\"FALSE\").sum()} models that aren\\'t feasible because of their low objective value.\\n')\n",
    "r_models"
   ]
  }
 ],
 "metadata": {
  "kernelspec": {
   "display_name": "Python 3 (ipykernel)",
   "language": "python",
   "name": "python3"
  },
  "language_info": {
   "codemirror_mode": {
    "name": "ipython",
    "version": 3
   },
   "file_extension": ".py",
   "mimetype": "text/x-python",
   "name": "python",
   "nbconvert_exporter": "python",
   "pygments_lexer": "ipython3",
   "version": "3.11.7"
  }
 },
 "nbformat": 4,
 "nbformat_minor": 5
}
