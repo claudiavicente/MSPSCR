{
 "cells": [
  {
   "cell_type": "markdown",
   "id": "a6b5ec31-c7fe-44ed-bac0-7f097154a914",
   "metadata": {},
   "source": [
    "# IMPORT LIBRARIES"
   ]
  },
  {
   "cell_type": "code",
   "execution_count": 1,
   "id": "5e8baa72-c2a4-4135-8844-db1385276744",
   "metadata": {},
   "outputs": [],
   "source": [
    "import cobra\n",
    "import glob\n",
    "import os\n",
    "import time\n",
    "import pandas as pd"
   ]
  },
  {
   "cell_type": "markdown",
   "id": "975f4391-7db8-402f-9f03-7c3461656621",
   "metadata": {},
   "source": [
    "# RECON 3D"
   ]
  },
  {
   "cell_type": "code",
   "execution_count": 2,
   "id": "886f0767-6ece-433c-8cbe-0e17de253a6e",
   "metadata": {},
   "outputs": [
    {
     "name": "stderr",
     "output_type": "stream",
     "text": [
      "No defined compartments in model Recon3DModel. Compartments will be deduced heuristically using regular expressions.\n",
      "Using regular expression found the following compartments:c, e, g, i, l, m, n, r, x\n"
     ]
    },
    {
     "data": {
      "text/html": [
       "\n",
       "        <table>\n",
       "            <tr>\n",
       "                <td><strong>Name</strong></td>\n",
       "                <td>Recon3DModel</td>\n",
       "            </tr><tr>\n",
       "                <td><strong>Memory address</strong></td>\n",
       "                <td>1266acad0</td>\n",
       "            </tr><tr>\n",
       "                <td><strong>Number of metabolites</strong></td>\n",
       "                <td>5835</td>\n",
       "            </tr><tr>\n",
       "                <td><strong>Number of reactions</strong></td>\n",
       "                <td>10600</td>\n",
       "            </tr><tr>\n",
       "                <td><strong>Number of genes</strong></td>\n",
       "                <td>2248</td>\n",
       "            </tr><tr>\n",
       "                <td><strong>Number of groups</strong></td>\n",
       "                <td>103</td>\n",
       "            </tr><tr>\n",
       "                <td><strong>Objective expression</strong></td>\n",
       "                <td>1.0*biomass_maintenance - 1.0*biomass_maintenance_reverse_95d2f</td>\n",
       "            </tr><tr>\n",
       "                <td><strong>Compartments</strong></td>\n",
       "                <td>c, l, m, r, e, x, n, g, i</td>\n",
       "            </tr>\n",
       "          </table>"
      ],
      "text/plain": [
       "<Model Recon3DModel at 0x1266acad0>"
      ]
     },
     "execution_count": 2,
     "metadata": {},
     "output_type": "execute_result"
    }
   ],
   "source": [
    "recon3D = cobra.io.load_matlab_model('/Users/claudiavicentecomorera/Desktop/TFG/Data/Recon3D_301/Recon3DModel_301.mat')\n",
    "recon3D"
   ]
  },
  {
   "cell_type": "code",
   "execution_count": null,
   "id": "a63b5cbe-6a30-49bf-81ba-8d3f1ea444d8",
   "metadata": {},
   "outputs": [],
   "source": [
    "solution_recon_3D = recon3D.optimize()\n",
    "bm = solution_recon_3D.objective_value\n",
    "solution_recon_3D"
   ]
  },
  {
   "cell_type": "markdown",
   "id": "36336bb7-c952-4863-aa54-0a5154f5e6e7",
   "metadata": {},
   "source": [
    "# FLUXES SIMULATION: rFASTCORMICS EXAMPLE_V4"
   ]
  },
  {
   "cell_type": "code",
   "execution_count": null,
   "id": "b3db2174-7330-48fa-a79a-254a2e7815f7",
   "metadata": {},
   "outputs": [],
   "source": [
    "model1 =  cobra.io.load_matlab_model(\"/Users/claudiavicentecomorera/Desktop/TFG/rFASTCORMICS/rFASTCORMICS_RNA-seq/exampleResults/Example_v4_3D/SampleModel_TCGA06067511A32RA36H07.mat\")\n",
    "model2 =  cobra.io.load_matlab_model(\"/Users/claudiavicentecomorera/Desktop/TFG/rFASTCORMICS/rFASTCORMICS_RNA-seq/exampleResults/Example_v4_3D/SampleModel_TCGA06067811A32RA36H07.mat\")"
   ]
  },
  {
   "cell_type": "code",
   "execution_count": null,
   "id": "c177fa14-ca08-4c36-93d1-12da4818c253",
   "metadata": {},
   "outputs": [],
   "source": [
    "model1"
   ]
  },
  {
   "cell_type": "code",
   "execution_count": null,
   "id": "b3daf060-f6b8-4c3b-8400-9846f47541cc",
   "metadata": {},
   "outputs": [],
   "source": [
    "model2"
   ]
  },
  {
   "cell_type": "code",
   "execution_count": null,
   "id": "b32d67ed-a6c5-4860-8115-9551dbefd6af",
   "metadata": {},
   "outputs": [],
   "source": [
    "t0_1 = time.time()  \n",
    "solution1 = model1.optimize()\n",
    "t_1 = time.time()  \n",
    "time1 = t_1 - t0_1\n",
    "print(f\"The simulation of {model1.id} fluxes takes: {time1} seconds\")\n",
    "\n",
    "bm1 = solution1.objective_value\n",
    "solution1"
   ]
  },
  {
   "cell_type": "code",
   "execution_count": null,
   "id": "8ea63e4c-fe78-47f0-974e-109d86262c0f",
   "metadata": {},
   "outputs": [],
   "source": [
    "t0_2 = time.time()  \n",
    "solution2 = model2.optimize()\n",
    "t_2 = time.time()  \n",
    "time2 = t_2 - t0_2\n",
    "print(f\"The simulation of {model2.id} fluxes takes: {time2} seconds\")\n",
    "\n",
    "bm2 = solution2.objective_value\n",
    "solution2"
   ]
  },
  {
   "cell_type": "code",
   "execution_count": null,
   "id": "f804ac63-f9e8-4b8f-b8f5-1579b4f980dd",
   "metadata": {},
   "outputs": [],
   "source": [
    "print((bm1/bm)*100)\n",
    "print((bm2/bm)*100)"
   ]
  },
  {
   "cell_type": "markdown",
   "id": "3b7b354f-241e-4a2f-89ec-e3cee37b356b",
   "metadata": {},
   "source": [
    "# FLUXES SIMULATION: rFASTCORMICS ADDITIONAL EXAMPLE"
   ]
  },
  {
   "cell_type": "code",
   "execution_count": null,
   "id": "f413e0d8-ec79-4942-90e2-ad352779f68c",
   "metadata": {},
   "outputs": [],
   "source": [
    "f_path = \"/Users/claudiavicentecomorera/Desktop/TFG/rFASTCORMICS/rFASTCORMICS_RNA-seq/exampleResults/Example_BRCA_3D/\"\n",
    "file_paths = glob.glob(f_path + \"*.mat\")\n",
    "\n",
    "models = []\n",
    "solutions = []\n",
    "times = []\n",
    "\n",
    "for file_path in file_paths:\n",
    "    model = cobra.io.load_matlab_model(file_path)\n",
    "    model.id = os.path.splitext(os.path.basename(file_path))[0]\n",
    "\n",
    "    t0_add = time.time()  \n",
    "    solution = model.optimize()\n",
    "    t_add = time.time()  \n",
    "    time_add = t_add - t0_add \n",
    "    \n",
    "    print(f\"The simulation of {model.id} fluxes takes: {time_add} seconds\")\n",
    "    \n",
    "    models.append(model)\n",
    "    solutions.append(solution)\n",
    "    times.append(time_add)"
   ]
  },
  {
   "cell_type": "code",
   "execution_count": null,
   "id": "27bd8e10-8e82-442d-a802-f5246029d54e",
   "metadata": {},
   "outputs": [],
   "source": [
    "solutions[1]"
   ]
  },
  {
   "cell_type": "code",
   "execution_count": null,
   "id": "b879fea5-4228-4427-b5e8-931f658cc4df",
   "metadata": {},
   "outputs": [],
   "source": [
    "r_models = pd.DataFrame(index=[model.id for model in models])\n",
    "\n",
    "for i, solution in enumerate(solutions, start = 0):\n",
    "    bm_m = solution.objective_value\n",
    "    percent = (bm_m/bm) * 100\n",
    "    \n",
    "    r_models.loc[r_models.index[i], 'flux_bm'] = bm_m\n",
    "    r_models.loc[r_models.index[i], 'percent_bm'] = percent\n",
    "    r_models.loc[r_models.index[i], 'feasible_models'] = \"TRUE\" if percent > 5 else \"FALSE\"\n",
    "\n",
    "print(f'The 5% of Recon 2 v.04 objective value is {5/100*bm}')\n",
    "print(f'There are {r_models[\"feasible_models\"].eq(\"FALSE\").sum()} models that aren\\'t feasible because of their low objective value.\\n')\n",
    "r_models"
   ]
  }
 ],
 "metadata": {
  "kernelspec": {
   "display_name": "Python 3 (ipykernel)",
   "language": "python",
   "name": "python3"
  },
  "language_info": {
   "codemirror_mode": {
    "name": "ipython",
    "version": 3
   },
   "file_extension": ".py",
   "mimetype": "text/x-python",
   "name": "python",
   "nbconvert_exporter": "python",
   "pygments_lexer": "ipython3",
   "version": "3.11.7"
  }
 },
 "nbformat": 4,
 "nbformat_minor": 5
}
