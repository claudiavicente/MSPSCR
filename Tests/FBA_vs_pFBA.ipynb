{
 "cells": [
  {
   "cell_type": "markdown",
   "id": "24609ba9-bdbb-4ae8-9a8e-49563d00eaaf",
   "metadata": {},
   "source": [
    "# COMPARING FBA AND pFBA SIMULATIONS OF RECON 3D"
   ]
  },
  {
   "cell_type": "code",
   "execution_count": 1,
   "id": "a938a484-5d1a-41cd-af16-b45dcdc92b69",
   "metadata": {},
   "outputs": [],
   "source": [
    "import cobra"
   ]
  },
  {
   "cell_type": "code",
   "execution_count": 2,
   "id": "24f51a2a-9af5-45be-bf06-3e480fe1a3d4",
   "metadata": {},
   "outputs": [
    {
     "name": "stderr",
     "output_type": "stream",
     "text": [
      "No defined compartments in model Recon3DModel. Compartments will be deduced heuristically using regular expressions.\n",
      "Using regular expression found the following compartments:c, e, g, i, l, m, n, r, x\n"
     ]
    },
    {
     "data": {
      "text/html": [
       "\n",
       "        <table>\n",
       "            <tr>\n",
       "                <td><strong>Name</strong></td>\n",
       "                <td>Recon3DModel</td>\n",
       "            </tr><tr>\n",
       "                <td><strong>Memory address</strong></td>\n",
       "                <td>156ac0550</td>\n",
       "            </tr><tr>\n",
       "                <td><strong>Number of metabolites</strong></td>\n",
       "                <td>5835</td>\n",
       "            </tr><tr>\n",
       "                <td><strong>Number of reactions</strong></td>\n",
       "                <td>10600</td>\n",
       "            </tr><tr>\n",
       "                <td><strong>Number of genes</strong></td>\n",
       "                <td>2248</td>\n",
       "            </tr><tr>\n",
       "                <td><strong>Number of groups</strong></td>\n",
       "                <td>103</td>\n",
       "            </tr><tr>\n",
       "                <td><strong>Objective expression</strong></td>\n",
       "                <td>1.0*biomass_maintenance - 1.0*biomass_maintenance_reverse_95d2f</td>\n",
       "            </tr><tr>\n",
       "                <td><strong>Compartments</strong></td>\n",
       "                <td>c, l, m, r, e, x, n, g, i</td>\n",
       "            </tr>\n",
       "          </table>"
      ],
      "text/plain": [
       "<Model Recon3DModel at 0x156ac0550>"
      ]
     },
     "execution_count": 2,
     "metadata": {},
     "output_type": "execute_result"
    }
   ],
   "source": [
    "recon3D = cobra.io.load_matlab_model('/Users/claudiavicentecomorera/Desktop/TFG/Data/Recon3D_301/Recon3DModel_301.mat')\n",
    "recon3D"
   ]
  },
  {
   "cell_type": "code",
   "execution_count": 22,
   "id": "d525ee36-0a38-4f4d-9430-859dea756d96",
   "metadata": {},
   "outputs": [
    {
     "data": {
      "text/html": [
       "\n",
       "        <table>\n",
       "            <tr>\n",
       "                <td><strong>Reaction identifier</strong></td><td>biomass_maintenance</td>\n",
       "            </tr><tr>\n",
       "                <td><strong>Name</strong></td><td>Biomass maintenance reaction without replication precursors</td>\n",
       "            </tr><tr>\n",
       "                <td><strong>Memory address</strong></td>\n",
       "                <td>0x177a5bf50</td>\n",
       "            </tr><tr>\n",
       "                <td><strong>Stoichiometry</strong></td>\n",
       "                <td>\n",
       "                    <p style='text-align:right'>0.50563 ala_L[c] + 0.35926 arg_L[c] + 0.27942 asn_L[c] + 0.35261 asp_L[c] + 20.7045 atp[c] + 0.020401 chsterol[c] + 0.011658 clpn_hs[c] + 0.039036 ctp[c] + 0.046571 cys_L[c] + 0.27519 g6p[c] +...</p>\n",
       "                    <p style='text-align:right'>0.50563 L-Alanine + 0.35926 L-Arginine + 0.27942 L-Asparagine + 0.35261 L-Aspartate + 20.7045 Adenosine Triphosphate + 0.020401 Cholesterol + 0.011658 Cardiolipin + 0.039036...</p>\n",
       "                </td>\n",
       "            </tr><tr>\n",
       "                <td><strong>GPR</strong></td><td></td>\n",
       "            </tr><tr>\n",
       "                <td><strong>Lower bound</strong></td><td>0.0</td>\n",
       "            </tr><tr>\n",
       "                <td><strong>Upper bound</strong></td><td>1000.0</td>\n",
       "            </tr>\n",
       "        </table>\n",
       "        "
      ],
      "text/plain": [
       "<Reaction biomass_maintenance at 0x177a5bf50>"
      ]
     },
     "execution_count": 22,
     "metadata": {},
     "output_type": "execute_result"
    }
   ],
   "source": [
    "recon3D.objective = \"biomass_maintenance\"\n",
    "recon3D.reactions.get_by_id(\"biomass_maintenance\")"
   ]
  },
  {
   "cell_type": "code",
   "execution_count": 5,
   "id": "bef19b1d-adb9-4fe7-ac98-4bda920f3b13",
   "metadata": {},
   "outputs": [],
   "source": [
    "fba = recon3D.optimize()\n",
    "pfba = cobra.flux_analysis.pfba(recon3D)"
   ]
  },
  {
   "cell_type": "markdown",
   "id": "a0fe3df3-17ce-4907-9740-abb21f576705",
   "metadata": {},
   "source": [
    "\"These functions will likely give completely different objective values, because the objective value shown from pFBA is defined as sum(abs(pfba_solution.fluxes.values)), while the objective value for standard FBA is defined as the weighted flux through the reactions being optimized for (e.g. fba_solution.fluxes[\"Biomass_Ecoli_core\"]).\n",
    "\n",
    "Both pFBA and FBA should return identical results within solver tolerances for the objective being optimized.\" "
   ]
  },
  {
   "cell_type": "code",
   "execution_count": 25,
   "id": "475fa09c-fe71-4ca7-8220-65bfd2d94e98",
   "metadata": {},
   "outputs": [
    {
     "data": {
      "text/plain": [
       "0.0"
      ]
     },
     "execution_count": 25,
     "metadata": {},
     "output_type": "execute_result"
    }
   ],
   "source": [
    "abs(fba.fluxes[\"biomass_maintenance\"] - pfba.fluxes[\"biomass_maintenance\"])"
   ]
  },
  {
   "cell_type": "code",
   "execution_count": 19,
   "id": "55c77a06-3975-4569-8a1d-4103706fff34",
   "metadata": {},
   "outputs": [
    {
     "name": "stdout",
     "output_type": "stream",
     "text": [
      "755.003215550663\n",
      "755.003215550663\n"
     ]
    }
   ],
   "source": [
    "print(fba.objective_value)\n",
    "print(fba.fluxes[\"biomass_maintenance\"])"
   ]
  },
  {
   "cell_type": "code",
   "execution_count": 15,
   "id": "4f0dc809-631a-44d1-9eb4-478d20051d3c",
   "metadata": {},
   "outputs": [
    {
     "name": "stdout",
     "output_type": "stream",
     "text": [
      "276649.8654639935\n",
      "276649.8654639937\n"
     ]
    }
   ],
   "source": [
    "print(pfba.objective_value)\n",
    "print(sum(abs(pfba.fluxes.values)))"
   ]
  },
  {
   "cell_type": "code",
   "execution_count": 24,
   "id": "19ea22e4",
   "metadata": {},
   "outputs": [
    {
     "data": {
      "text/plain": [
       "10FTHF5GLUtl      0.000000\n",
       "10FTHF5GLUtm      0.000000\n",
       "10FTHF6GLUtl      0.000000\n",
       "10FTHF6GLUtm      0.000000\n",
       "10FTHF7GLUtl      0.000000\n",
       "                   ...    \n",
       "CYOR_u10mi      666.666667\n",
       "Htmi              0.000000\n",
       "NADH2_u10mi       0.000000\n",
       "CYOOm3i           0.000000\n",
       "CYOOm2i         333.333333\n",
       "Name: fluxes, Length: 10600, dtype: float64"
      ]
     },
     "execution_count": 24,
     "metadata": {},
     "output_type": "execute_result"
    }
   ],
   "source": [
    "pfba.fluxes"
   ]
  }
 ],
 "metadata": {
  "kernelspec": {
   "display_name": "Python 3 (ipykernel)",
   "language": "python",
   "name": "python3"
  },
  "language_info": {
   "codemirror_mode": {
    "name": "ipython",
    "version": 3
   },
   "file_extension": ".py",
   "mimetype": "text/x-python",
   "name": "python",
   "nbconvert_exporter": "python",
   "pygments_lexer": "ipython3",
   "version": "3.11.7"
  }
 },
 "nbformat": 4,
 "nbformat_minor": 5
}
