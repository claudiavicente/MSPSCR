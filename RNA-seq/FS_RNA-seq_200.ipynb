{
 "cells": [
  {
   "cell_type": "markdown",
   "id": "ad6b61a8-5803-4468-a994-826c63c782a3",
   "metadata": {},
   "source": [
    "# IMPORT LIBRARIES"
   ]
  },
  {
   "cell_type": "code",
   "execution_count": 1,
   "id": "f59541c2-1625-4242-8545-5e101fbafb08",
   "metadata": {},
   "outputs": [],
   "source": [
    "import glob\n",
    "import cobra\n",
    "import os\n",
    "import time\n",
    "import numpy as np\n",
    "import pandas as pd\n",
    "import seaborn as sns\n",
    "import umap\n",
    "import matplotlib.pyplot as plt"
   ]
  },
  {
   "cell_type": "markdown",
   "id": "80252ca4-42fb-45ea-945e-89ee5d457d5e",
   "metadata": {},
   "source": [
    "# RECON 3D"
   ]
  },
  {
   "cell_type": "code",
   "execution_count": 2,
   "id": "999cbcf7-f41e-446c-a6fb-d3aeefdd7359",
   "metadata": {},
   "outputs": [
    {
     "name": "stderr",
     "output_type": "stream",
     "text": [
      "No defined compartments in model Recon3DModel. Compartments will be deduced heuristically using regular expressions.\n",
      "Using regular expression found the following compartments:c, e, g, i, l, m, n, r, x\n"
     ]
    },
    {
     "data": {
      "text/html": [
       "\n",
       "        <table>\n",
       "            <tr>\n",
       "                <td><strong>Name</strong></td>\n",
       "                <td>Recon3DModel</td>\n",
       "            </tr><tr>\n",
       "                <td><strong>Memory address</strong></td>\n",
       "                <td>146f633d0</td>\n",
       "            </tr><tr>\n",
       "                <td><strong>Number of metabolites</strong></td>\n",
       "                <td>5835</td>\n",
       "            </tr><tr>\n",
       "                <td><strong>Number of reactions</strong></td>\n",
       "                <td>10600</td>\n",
       "            </tr><tr>\n",
       "                <td><strong>Number of genes</strong></td>\n",
       "                <td>2248</td>\n",
       "            </tr><tr>\n",
       "                <td><strong>Number of groups</strong></td>\n",
       "                <td>103</td>\n",
       "            </tr><tr>\n",
       "                <td><strong>Objective expression</strong></td>\n",
       "                <td>1.0*biomass_maintenance - 1.0*biomass_maintenance_reverse_95d2f</td>\n",
       "            </tr><tr>\n",
       "                <td><strong>Compartments</strong></td>\n",
       "                <td>c, l, m, r, e, x, n, g, i</td>\n",
       "            </tr>\n",
       "          </table>"
      ],
      "text/plain": [
       "<Model Recon3DModel at 0x146f633d0>"
      ]
     },
     "execution_count": 2,
     "metadata": {},
     "output_type": "execute_result"
    }
   ],
   "source": [
    "recon3D = cobra.io.load_matlab_model('/Users/claudiavicentecomorera/Desktop/TFG/Data/Recon3D_301/Recon3DModel_301.mat')\n",
    "recon3D"
   ]
  },
  {
   "cell_type": "code",
   "execution_count": 3,
   "id": "e5755557-a6d1-40b5-a7af-7c72cc435217",
   "metadata": {},
   "outputs": [
    {
     "data": {
      "text/html": [
       "<strong><em>Optimal</em> solution with objective value 276649.865</strong><br><div>\n",
       "<style scoped>\n",
       "    .dataframe tbody tr th:only-of-type {\n",
       "        vertical-align: middle;\n",
       "    }\n",
       "\n",
       "    .dataframe tbody tr th {\n",
       "        vertical-align: top;\n",
       "    }\n",
       "\n",
       "    .dataframe thead th {\n",
       "        text-align: right;\n",
       "    }\n",
       "</style>\n",
       "<table border=\"1\" class=\"dataframe\">\n",
       "  <thead>\n",
       "    <tr style=\"text-align: right;\">\n",
       "      <th></th>\n",
       "      <th>fluxes</th>\n",
       "      <th>reduced_costs</th>\n",
       "    </tr>\n",
       "  </thead>\n",
       "  <tbody>\n",
       "    <tr>\n",
       "      <th>10FTHF5GLUtl</th>\n",
       "      <td>0.000000</td>\n",
       "      <td>0.000000</td>\n",
       "    </tr>\n",
       "    <tr>\n",
       "      <th>10FTHF5GLUtm</th>\n",
       "      <td>0.000000</td>\n",
       "      <td>1120.707071</td>\n",
       "    </tr>\n",
       "    <tr>\n",
       "      <th>10FTHF6GLUtl</th>\n",
       "      <td>0.000000</td>\n",
       "      <td>0.000000</td>\n",
       "    </tr>\n",
       "    <tr>\n",
       "      <th>10FTHF6GLUtm</th>\n",
       "      <td>0.000000</td>\n",
       "      <td>0.000000</td>\n",
       "    </tr>\n",
       "    <tr>\n",
       "      <th>10FTHF7GLUtl</th>\n",
       "      <td>0.000000</td>\n",
       "      <td>0.000000</td>\n",
       "    </tr>\n",
       "    <tr>\n",
       "      <th>...</th>\n",
       "      <td>...</td>\n",
       "      <td>...</td>\n",
       "    </tr>\n",
       "    <tr>\n",
       "      <th>CYOR_u10mi</th>\n",
       "      <td>666.666667</td>\n",
       "      <td>-2.000000</td>\n",
       "    </tr>\n",
       "    <tr>\n",
       "      <th>Htmi</th>\n",
       "      <td>0.000000</td>\n",
       "      <td>0.109053</td>\n",
       "    </tr>\n",
       "    <tr>\n",
       "      <th>NADH2_u10mi</th>\n",
       "      <td>0.000000</td>\n",
       "      <td>5.106996</td>\n",
       "    </tr>\n",
       "    <tr>\n",
       "      <th>CYOOm3i</th>\n",
       "      <td>0.000000</td>\n",
       "      <td>-1.859259</td>\n",
       "    </tr>\n",
       "    <tr>\n",
       "      <th>CYOOm2i</th>\n",
       "      <td>333.333333</td>\n",
       "      <td>-2.000000</td>\n",
       "    </tr>\n",
       "  </tbody>\n",
       "</table>\n",
       "<p>10600 rows × 2 columns</p>\n",
       "</div>"
      ],
      "text/plain": [
       "<Solution 276649.865 at 0x179648c50>"
      ]
     },
     "execution_count": 3,
     "metadata": {},
     "output_type": "execute_result"
    }
   ],
   "source": [
    "recon3D.objective = 'biomass_maintenance'\n",
    "solution_recon_3D = cobra.flux_analysis.parsimonious.pfba(recon3D)\n",
    "ov = solution_recon_3D.objective_value\n",
    "solution_recon_3D"
   ]
  },
  {
   "cell_type": "markdown",
   "id": "d1d9def7-7abe-42dc-81a0-8f9520b28519",
   "metadata": {},
   "source": [
    "# FLUXES SIMULATION"
   ]
  },
  {
   "cell_type": "markdown",
   "id": "594b5287-04ed-4f21-b3a8-83c81c19bcc5",
   "metadata": {},
   "source": [
    "## SETTING FILE PATHS"
   ]
  },
  {
   "cell_type": "code",
   "execution_count": 4,
   "id": "1b119e87-c49c-4d89-8bda-610d8ae224de",
   "metadata": {},
   "outputs": [],
   "source": [
    "f_path = \"/Users/claudiavicentecomorera/Desktop/TFG/Models/RNAseq_200Models/\"\n",
    "file_paths = glob.glob(f_path + \"*.mat\")"
   ]
  },
  {
   "cell_type": "markdown",
   "id": "594b5287-04ed-4f21-b3a8-83c81c19bcc5",
   "metadata": {},
   "source": [
    "## pFBA"
   ]
  },
  {
   "cell_type": "code",
   "execution_count": 5,
   "id": "4eb7ba9d-0129-44cb-a7a4-88ce37e9f40a",
   "metadata": {
    "scrolled": true
   },
   "outputs": [
    {
     "name": "stderr",
     "output_type": "stream",
     "text": [
      "No defined compartments in model ContextModel. Compartments will be deduced heuristically using regular expressions.\n",
      "Using regular expression found the following compartments:c, e, g, i, l, m, n, r, x\n"
     ]
    },
    {
     "name": "stdout",
     "output_type": "stream",
     "text": [
      "The simulation of GTEX-1I1GS-0011-R1a-SM-CJI43 fluxes takes: 1.9694719314575195 seconds\n"
     ]
    },
    {
     "name": "stderr",
     "output_type": "stream",
     "text": [
      "No defined compartments in model ContextModel. Compartments will be deduced heuristically using regular expressions.\n",
      "Using regular expression found the following compartments:c, e, g, i, l, m, n, r, x\n"
     ]
    },
    {
     "name": "stdout",
     "output_type": "stream",
     "text": [
      "The simulation of GTEX-1LB8K-0011-R1b-SM-EZ6MV fluxes takes: 1.76472806930542 seconds\n"
     ]
    },
    {
     "name": "stderr",
     "output_type": "stream",
     "text": [
      "No defined compartments in model ContextModel. Compartments will be deduced heuristically using regular expressions.\n",
      "Using regular expression found the following compartments:c, e, g, i, l, m, n, r, x\n",
      "No defined compartments in model ContextModel. Compartments will be deduced heuristically using regular expressions.\n",
      "Using regular expression found the following compartments:c, e, g, l, m, n, r, x\n"
     ]
    },
    {
     "name": "stdout",
     "output_type": "stream",
     "text": [
      "The simulation of GTEX-14JG1-0926-SM-5YY8W fluxes takes: 2.26338791847229 seconds\n",
      "The simulation of GTEX-1H4P4-0011-R1b-SM-CL54V fluxes takes: 1.738677978515625 seconds\n"
     ]
    },
    {
     "name": "stderr",
     "output_type": "stream",
     "text": [
      "No defined compartments in model ContextModel. Compartments will be deduced heuristically using regular expressions.\n",
      "Using regular expression found the following compartments:c, e, g, l, m, n, r, x\n"
     ]
    },
    {
     "name": "stdout",
     "output_type": "stream",
     "text": [
      "The simulation of GTEX-XMD2-1026-SM-4WWE8 fluxes takes: 2.099269151687622 seconds\n"
     ]
    },
    {
     "name": "stderr",
     "output_type": "stream",
     "text": [
      "No defined compartments in model ContextModel. Compartments will be deduced heuristically using regular expressions.\n",
      "Using regular expression found the following compartments:c, e, g, l, m, n, r, x\n",
      "No defined compartments in model ContextModel. Compartments will be deduced heuristically using regular expressions.\n",
      "Using regular expression found the following compartments:c, e, g, l, m, n, r, x\n"
     ]
    },
    {
     "name": "stdout",
     "output_type": "stream",
     "text": [
      "The simulation of GTEX-QVUS-0011-R1A-SM-3GAD2 fluxes takes: 1.7438249588012695 seconds\n"
     ]
    },
    {
     "name": "stderr",
     "output_type": "stream",
     "text": [
      "No defined compartments in model ContextModel. Compartments will be deduced heuristically using regular expressions.\n",
      "Using regular expression found the following compartments:c, e, g, l, m, n, r, x\n"
     ]
    },
    {
     "name": "stdout",
     "output_type": "stream",
     "text": [
      "The simulation of GTEX-P78B-0926-SM-2I5FA fluxes takes: 1.3971009254455566 seconds\n"
     ]
    },
    {
     "name": "stderr",
     "output_type": "stream",
     "text": [
      "No defined compartments in model ContextModel. Compartments will be deduced heuristically using regular expressions.\n",
      "Using regular expression found the following compartments:c, e, g, l, m, n, r, x\n"
     ]
    },
    {
     "name": "stdout",
     "output_type": "stream",
     "text": [
      "The simulation of GTEX-1I1HK-0011-R1b-SM-CM2T7 fluxes takes: 1.5605919361114502 seconds\n"
     ]
    },
    {
     "name": "stderr",
     "output_type": "stream",
     "text": [
      "No defined compartments in model ContextModel. Compartments will be deduced heuristically using regular expressions.\n",
      "Using regular expression found the following compartments:c, e, g, l, m, n, r, x\n"
     ]
    },
    {
     "name": "stdout",
     "output_type": "stream",
     "text": [
      "The simulation of GTEX-145LU-0011-R1a-SM-5Q5CE fluxes takes: 1.8954081535339355 seconds\n"
     ]
    },
    {
     "name": "stderr",
     "output_type": "stream",
     "text": [
      "No defined compartments in model ContextModel. Compartments will be deduced heuristically using regular expressions.\n",
      "Using regular expression found the following compartments:c, e, g, l, m, n, r, x\n"
     ]
    },
    {
     "name": "stdout",
     "output_type": "stream",
     "text": [
      "The simulation of GTEX-WFG7-0526-SM-3GIKI fluxes takes: 1.390692949295044 seconds\n",
      "The simulation of GTEX-14PK6-0326-SM-6AJ9S fluxes takes: 1.6219770908355713 seconds\n"
     ]
    },
    {
     "name": "stderr",
     "output_type": "stream",
     "text": [
      "No defined compartments in model ContextModel. Compartments will be deduced heuristically using regular expressions.\n",
      "Using regular expression found the following compartments:c, e, g, l, m, n, r, x\n"
     ]
    },
    {
     "name": "stdout",
     "output_type": "stream",
     "text": [
      "The simulation of GTEX-1212Z-0011-R1b-SM-5BC72 fluxes takes: 2.077299118041992 seconds\n"
     ]
    },
    {
     "name": "stderr",
     "output_type": "stream",
     "text": [
      "No defined compartments in model ContextModel. Compartments will be deduced heuristically using regular expressions.\n",
      "Using regular expression found the following compartments:c, e, g, i, l, m, n, r, x\n"
     ]
    },
    {
     "name": "stdout",
     "output_type": "stream",
     "text": [
      "The simulation of GTEX-QDVN-0726-SM-4B64L fluxes takes: 2.279161214828491 seconds\n"
     ]
    },
    {
     "name": "stderr",
     "output_type": "stream",
     "text": [
      "No defined compartments in model ContextModel. Compartments will be deduced heuristically using regular expressions.\n",
      "Using regular expression found the following compartments:c, e, g, i, l, m, n, r, x\n"
     ]
    },
    {
     "name": "stdout",
     "output_type": "stream",
     "text": [
      "The simulation of GTEX-T5JC-0011-R1A-SM-32PM6 fluxes takes: 1.4984040260314941 seconds\n"
     ]
    },
    {
     "name": "stderr",
     "output_type": "stream",
     "text": [
      "No defined compartments in model ContextModel. Compartments will be deduced heuristically using regular expressions.\n",
      "Using regular expression found the following compartments:c, e, g, i, l, m, n, r, x\n",
      "No defined compartments in model ContextModel. Compartments will be deduced heuristically using regular expressions.\n",
      "Using regular expression found the following compartments:c, e, g, l, m, n, r, x\n"
     ]
    },
    {
     "name": "stdout",
     "output_type": "stream",
     "text": [
      "The simulation of GTEX-1A3MX-0011-R1b-SM-7P8PH fluxes takes: 1.7455549240112305 seconds\n",
      "The simulation of GTEX-PLZ5-0726-SM-2I5F9 fluxes takes: 1.6294240951538086 seconds\n"
     ]
    },
    {
     "name": "stderr",
     "output_type": "stream",
     "text": [
      "No defined compartments in model ContextModel. Compartments will be deduced heuristically using regular expressions.\n",
      "Using regular expression found the following compartments:c, e, g, i, l, m, n, r, x\n"
     ]
    },
    {
     "name": "stdout",
     "output_type": "stream",
     "text": [
      "The simulation of GTEX-15CHQ-0011-R1a-SM-COH27 fluxes takes: 1.7863821983337402 seconds\n"
     ]
    },
    {
     "name": "stderr",
     "output_type": "stream",
     "text": [
      "No defined compartments in model ContextModel. Compartments will be deduced heuristically using regular expressions.\n",
      "Using regular expression found the following compartments:c, e, g, l, m, n, r, x\n"
     ]
    },
    {
     "name": "stdout",
     "output_type": "stream",
     "text": [
      "The simulation of GTEX-T2IS-0526-SM-32QP9 fluxes takes: 1.5865559577941895 seconds\n"
     ]
    },
    {
     "name": "stderr",
     "output_type": "stream",
     "text": [
      "No defined compartments in model ContextModel. Compartments will be deduced heuristically using regular expressions.\n",
      "Using regular expression found the following compartments:c, e, g, l, m, n, r, x\n",
      "No defined compartments in model ContextModel. Compartments will be deduced heuristically using regular expressions.\n",
      "Using regular expression found the following compartments:c, e, g, l, m, n, r, x\n"
     ]
    },
    {
     "name": "stdout",
     "output_type": "stream",
     "text": [
      "The simulation of GTEX-1IDJI-0626-SM-C1YQD fluxes takes: 1.6127660274505615 seconds\n",
      "The simulation of GTEX-14A6H-0526-SM-5NQAZ fluxes takes: 1.6611099243164062 seconds\n"
     ]
    },
    {
     "name": "stderr",
     "output_type": "stream",
     "text": [
      "No defined compartments in model ContextModel. Compartments will be deduced heuristically using regular expressions.\n",
      "Using regular expression found the following compartments:c, e, g, i, l, m, n, r, x\n"
     ]
    },
    {
     "name": "stdout",
     "output_type": "stream",
     "text": [
      "The simulation of GTEX-13NYB-0626-SM-5MR47 fluxes takes: 2.3319990634918213 seconds\n"
     ]
    },
    {
     "name": "stderr",
     "output_type": "stream",
     "text": [
      "No defined compartments in model ContextModel. Compartments will be deduced heuristically using regular expressions.\n",
      "Using regular expression found the following compartments:c, e, g, i, l, m, n, r, x\n",
      "No defined compartments in model ContextModel. Compartments will be deduced heuristically using regular expressions.\n"
     ]
    },
    {
     "name": "stdout",
     "output_type": "stream",
     "text": [
      "The simulation of GTEX-14ABY-0011-R1a-SM-6EU2W fluxes takes: 1.847038984298706 seconds\n"
     ]
    },
    {
     "name": "stderr",
     "output_type": "stream",
     "text": [
      "Using regular expression found the following compartments:c, e, g, l, m, n, r, x\n"
     ]
    },
    {
     "name": "stdout",
     "output_type": "stream",
     "text": [
      "The simulation of GTEX-VJYA-0326-SM-3GAEX fluxes takes: 1.379697322845459 seconds\n"
     ]
    },
    {
     "name": "stderr",
     "output_type": "stream",
     "text": [
      "No defined compartments in model ContextModel. Compartments will be deduced heuristically using regular expressions.\n",
      "Using regular expression found the following compartments:c, e, g, i, l, m, n, r, x\n"
     ]
    },
    {
     "name": "stdout",
     "output_type": "stream",
     "text": [
      "The simulation of GTEX-NL3H-0011-R1a-SM-48TDJ fluxes takes: 1.8094520568847656 seconds\n"
     ]
    },
    {
     "name": "stderr",
     "output_type": "stream",
     "text": [
      "No defined compartments in model ContextModel. Compartments will be deduced heuristically using regular expressions.\n",
      "Using regular expression found the following compartments:c, e, g, l, m, n, r, x\n"
     ]
    },
    {
     "name": "stdout",
     "output_type": "stream",
     "text": [
      "The simulation of GTEX-11DZ1-0426-SM-5H11A fluxes takes: 2.4234161376953125 seconds\n"
     ]
    },
    {
     "name": "stderr",
     "output_type": "stream",
     "text": [
      "No defined compartments in model ContextModel. Compartments will be deduced heuristically using regular expressions.\n",
      "Using regular expression found the following compartments:c, e, g, i, l, m, n, r, x\n"
     ]
    },
    {
     "name": "stdout",
     "output_type": "stream",
     "text": [
      "The simulation of GTEX-13S7M-2126-SM-5S2QR fluxes takes: 2.328307867050171 seconds\n"
     ]
    },
    {
     "name": "stderr",
     "output_type": "stream",
     "text": [
      "No defined compartments in model ContextModel. Compartments will be deduced heuristically using regular expressions.\n",
      "Using regular expression found the following compartments:c, e, g, i, l, m, n, r, x\n"
     ]
    },
    {
     "name": "stdout",
     "output_type": "stream",
     "text": [
      "The simulation of GTEX-13112-0011-R1b-SM-5HL7K fluxes takes: 1.6390430927276611 seconds\n"
     ]
    },
    {
     "name": "stderr",
     "output_type": "stream",
     "text": [
      "No defined compartments in model ContextModel. Compartments will be deduced heuristically using regular expressions.\n",
      "Using regular expression found the following compartments:c, e, g, i, l, m, n, r, x\n"
     ]
    },
    {
     "name": "stdout",
     "output_type": "stream",
     "text": [
      "The simulation of GTEX-14JIY-0011-R1a-SM-68713 fluxes takes: 1.6272971630096436 seconds\n"
     ]
    },
    {
     "name": "stderr",
     "output_type": "stream",
     "text": [
      "No defined compartments in model ContextModel. Compartments will be deduced heuristically using regular expressions.\n",
      "Using regular expression found the following compartments:c, e, g, i, l, m, n, r, x\n"
     ]
    },
    {
     "name": "stdout",
     "output_type": "stream",
     "text": [
      "The simulation of GTEX-13O3Q-0011-R1b-SM-5KM3L fluxes takes: 1.8688669204711914 seconds\n"
     ]
    },
    {
     "name": "stderr",
     "output_type": "stream",
     "text": [
      "No defined compartments in model ContextModel. Compartments will be deduced heuristically using regular expressions.\n",
      "Using regular expression found the following compartments:c, e, g, i, l, m, n, r, x\n"
     ]
    },
    {
     "name": "stdout",
     "output_type": "stream",
     "text": [
      "The simulation of GTEX-X4EP-0011-R1A-SM-3P624 fluxes takes: 2.2090649604797363 seconds\n"
     ]
    },
    {
     "name": "stderr",
     "output_type": "stream",
     "text": [
      "No defined compartments in model ContextModel. Compartments will be deduced heuristically using regular expressions.\n",
      "Using regular expression found the following compartments:c, e, g, i, l, m, n, r, x\n",
      "No defined compartments in model ContextModel. Compartments will be deduced heuristically using regular expressions.\n",
      "Using regular expression found the following compartments:c, e, g, l, m, n, r, x\n"
     ]
    },
    {
     "name": "stdout",
     "output_type": "stream",
     "text": [
      "The simulation of GTEX-1F75A-0011-R1b-SM-CE6RA fluxes takes: 1.689561128616333 seconds\n"
     ]
    },
    {
     "name": "stderr",
     "output_type": "stream",
     "text": [
      "No defined compartments in model ContextModel. Compartments will be deduced heuristically using regular expressions.\n",
      "Using regular expression found the following compartments:c, e, g, l, m, n, r, x\n"
     ]
    },
    {
     "name": "stdout",
     "output_type": "stream",
     "text": [
      "The simulation of GTEX-OIZF-0526-SM-7MXVM fluxes takes: 1.514793872833252 seconds\n",
      "The simulation of GTEX-18A6Q-0011-R1b-SM-731DI fluxes takes: 1.7630341053009033 seconds\n"
     ]
    },
    {
     "name": "stderr",
     "output_type": "stream",
     "text": [
      "No defined compartments in model ContextModel. Compartments will be deduced heuristically using regular expressions.\n",
      "Using regular expression found the following compartments:c, e, g, i, l, m, n, r, x\n"
     ]
    },
    {
     "name": "stdout",
     "output_type": "stream",
     "text": [
      "The simulation of GTEX-WRHU-0226-SM-3MJFV fluxes takes: 2.695183038711548 seconds\n"
     ]
    },
    {
     "name": "stderr",
     "output_type": "stream",
     "text": [
      "No defined compartments in model ContextModel. Compartments will be deduced heuristically using regular expressions.\n",
      "Using regular expression found the following compartments:c, e, g, i, l, m, n, r, x\n"
     ]
    },
    {
     "name": "stdout",
     "output_type": "stream",
     "text": [
      "The simulation of GTEX-13CF2-0011-R1a-SM-5LZY1 fluxes takes: 1.8915059566497803 seconds\n"
     ]
    },
    {
     "name": "stderr",
     "output_type": "stream",
     "text": [
      "No defined compartments in model ContextModel. Compartments will be deduced heuristically using regular expressions.\n",
      "Using regular expression found the following compartments:c, e, g, l, m, n, r, x\n",
      "No defined compartments in model ContextModel. Compartments will be deduced heuristically using regular expressions.\n",
      "Using regular expression found the following compartments:c, e, g, l, m, n, r, x\n"
     ]
    },
    {
     "name": "stdout",
     "output_type": "stream",
     "text": [
      "The simulation of GTEX-14PJM-0926-SM-6AJ9Y fluxes takes: 1.5333011150360107 seconds\n"
     ]
    },
    {
     "name": "stderr",
     "output_type": "stream",
     "text": [
      "No defined compartments in model ContextModel. Compartments will be deduced heuristically using regular expressions.\n"
     ]
    },
    {
     "name": "stdout",
     "output_type": "stream",
     "text": [
      "The simulation of GTEX-1GMR3-0226-SM-7RHIB fluxes takes: 1.4571597576141357 seconds\n"
     ]
    },
    {
     "name": "stderr",
     "output_type": "stream",
     "text": [
      "Using regular expression found the following compartments:c, e, g, i, l, m, n, r, x\n"
     ]
    },
    {
     "name": "stdout",
     "output_type": "stream",
     "text": [
      "The simulation of GTEX-1A8G6-0011-R1a-SM-7P8PC fluxes takes: 1.8479750156402588 seconds\n"
     ]
    },
    {
     "name": "stderr",
     "output_type": "stream",
     "text": [
      "No defined compartments in model ContextModel. Compartments will be deduced heuristically using regular expressions.\n",
      "Using regular expression found the following compartments:c, e, g, l, m, n, r, x\n"
     ]
    },
    {
     "name": "stdout",
     "output_type": "stream",
     "text": [
      "The simulation of GTEX-11EI6-0826-SM-5985V fluxes takes: 1.3848280906677246 seconds\n"
     ]
    },
    {
     "name": "stderr",
     "output_type": "stream",
     "text": [
      "No defined compartments in model ContextModel. Compartments will be deduced heuristically using regular expressions.\n",
      "Using regular expression found the following compartments:c, e, g, i, l, m, n, r, x\n"
     ]
    },
    {
     "name": "stdout",
     "output_type": "stream",
     "text": [
      "The simulation of GTEX-1AX9I-0011-R1b-SM-7RHG2 fluxes takes: 4.982174873352051 seconds\n"
     ]
    },
    {
     "name": "stderr",
     "output_type": "stream",
     "text": [
      "No defined compartments in model ContextModel. Compartments will be deduced heuristically using regular expressions.\n",
      "Using regular expression found the following compartments:c, e, g, l, m, n, r, x\n"
     ]
    },
    {
     "name": "stdout",
     "output_type": "stream",
     "text": [
      "The simulation of GTEX-XMD1-0011-R1A-SM-4AT4C fluxes takes: 1.5123248100280762 seconds\n"
     ]
    },
    {
     "name": "stderr",
     "output_type": "stream",
     "text": [
      "No defined compartments in model ContextModel. Compartments will be deduced heuristically using regular expressions.\n",
      "Using regular expression found the following compartments:c, e, g, l, m, n, r, x\n",
      "No defined compartments in model ContextModel. Compartments will be deduced heuristically using regular expressions.\n",
      "Using regular expression found the following compartments:c, e, g, i, l, m, n, r, x\n"
     ]
    },
    {
     "name": "stdout",
     "output_type": "stream",
     "text": [
      "The simulation of GTEX-1HR98-0011-R1a-SM-ARZLQ fluxes takes: 1.9792430400848389 seconds\n"
     ]
    },
    {
     "name": "stderr",
     "output_type": "stream",
     "text": [
      "No defined compartments in model ContextModel. Compartments will be deduced heuristically using regular expressions.\n",
      "Using regular expression found the following compartments:c, e, g, l, m, n, r, x\n"
     ]
    },
    {
     "name": "stdout",
     "output_type": "stream",
     "text": [
      "The simulation of GTEX-1EWIQ-0011-R1a-SM-9OSX7 fluxes takes: 1.478471040725708 seconds\n",
      "The simulation of GTEX-18A6Q-0826-SM-7KFRD fluxes takes: 1.3058838844299316 seconds\n"
     ]
    },
    {
     "name": "stderr",
     "output_type": "stream",
     "text": [
      "No defined compartments in model ContextModel. Compartments will be deduced heuristically using regular expressions.\n",
      "Using regular expression found the following compartments:c, e, g, i, l, m, n, r, x\n"
     ]
    },
    {
     "name": "stdout",
     "output_type": "stream",
     "text": [
      "The simulation of GTEX-11GS4-0011-R1a-SM-DO129 fluxes takes: 1.7221221923828125 seconds\n"
     ]
    },
    {
     "name": "stderr",
     "output_type": "stream",
     "text": [
      "No defined compartments in model ContextModel. Compartments will be deduced heuristically using regular expressions.\n",
      "Using regular expression found the following compartments:c, e, g, i, l, m, n, r, x\n"
     ]
    },
    {
     "name": "stdout",
     "output_type": "stream",
     "text": [
      "The simulation of GTEX-1F6IF-0011-R1b-SM-9WG78 fluxes takes: 1.9018630981445312 seconds\n"
     ]
    },
    {
     "name": "stderr",
     "output_type": "stream",
     "text": [
      "No defined compartments in model ContextModel. Compartments will be deduced heuristically using regular expressions.\n",
      "Using regular expression found the following compartments:c, e, g, l, m, n, r, x\n"
     ]
    },
    {
     "name": "stdout",
     "output_type": "stream",
     "text": [
      "The simulation of GTEX-17KNJ-0926-SM-7IGP2 fluxes takes: 1.6629197597503662 seconds\n"
     ]
    },
    {
     "name": "stderr",
     "output_type": "stream",
     "text": [
      "No defined compartments in model ContextModel. Compartments will be deduced heuristically using regular expressions.\n",
      "Using regular expression found the following compartments:c, e, g, i, l, m, n, r, x\n"
     ]
    },
    {
     "name": "stdout",
     "output_type": "stream",
     "text": [
      "The simulation of GTEX-1C6VQ-0011-R1a-SM-7P8Q2 fluxes takes: 2.1528639793395996 seconds\n"
     ]
    },
    {
     "name": "stderr",
     "output_type": "stream",
     "text": [
      "No defined compartments in model ContextModel. Compartments will be deduced heuristically using regular expressions.\n",
      "Using regular expression found the following compartments:c, e, g, l, m, n, r, x\n"
     ]
    },
    {
     "name": "stdout",
     "output_type": "stream",
     "text": [
      "The simulation of GTEX-11GSP-0011-R1a-SM-9QEJ3 fluxes takes: 1.8088419437408447 seconds\n"
     ]
    },
    {
     "name": "stderr",
     "output_type": "stream",
     "text": [
      "No defined compartments in model ContextModel. Compartments will be deduced heuristically using regular expressions.\n",
      "Using regular expression found the following compartments:c, e, g, l, m, n, r, x\n"
     ]
    },
    {
     "name": "stdout",
     "output_type": "stream",
     "text": [
      "The simulation of GTEX-1I1GV-0011-R1a-SM-CL559 fluxes takes: 1.64192795753479 seconds\n"
     ]
    },
    {
     "name": "stderr",
     "output_type": "stream",
     "text": [
      "No defined compartments in model ContextModel. Compartments will be deduced heuristically using regular expressions.\n",
      "Using regular expression found the following compartments:c, e, g, i, l, m, n, r, x\n"
     ]
    },
    {
     "name": "stdout",
     "output_type": "stream",
     "text": [
      "The simulation of GTEX-1313W-0011-R1b-SM-5EQ4A fluxes takes: 1.79010009765625 seconds\n"
     ]
    },
    {
     "name": "stderr",
     "output_type": "stream",
     "text": [
      "No defined compartments in model ContextModel. Compartments will be deduced heuristically using regular expressions.\n",
      "Using regular expression found the following compartments:c, e, g, l, m, n, r, x\n"
     ]
    },
    {
     "name": "stdout",
     "output_type": "stream",
     "text": [
      "The simulation of GTEX-15UF6-0011-R1a-SM-9QEGH fluxes takes: 7.207931995391846 seconds\n"
     ]
    },
    {
     "name": "stderr",
     "output_type": "stream",
     "text": [
      "No defined compartments in model ContextModel. Compartments will be deduced heuristically using regular expressions.\n",
      "Using regular expression found the following compartments:c, e, g, i, l, m, n, r, x\n"
     ]
    },
    {
     "name": "stdout",
     "output_type": "stream",
     "text": [
      "The simulation of GTEX-16YQH-0011-R1a-SM-7LT8R fluxes takes: 2.5718986988067627 seconds\n"
     ]
    },
    {
     "name": "stderr",
     "output_type": "stream",
     "text": [
      "No defined compartments in model ContextModel. Compartments will be deduced heuristically using regular expressions.\n",
      "Using regular expression found the following compartments:c, e, g, l, m, n, r, x\n"
     ]
    },
    {
     "name": "stdout",
     "output_type": "stream",
     "text": [
      "The simulation of GTEX-1GN2E-0011-R1b-SM-CE6RJ fluxes takes: 1.4748899936676025 seconds\n"
     ]
    },
    {
     "name": "stderr",
     "output_type": "stream",
     "text": [
      "No defined compartments in model ContextModel. Compartments will be deduced heuristically using regular expressions.\n",
      "Using regular expression found the following compartments:c, e, g, i, l, m, n, r, x\n"
     ]
    },
    {
     "name": "stdout",
     "output_type": "stream",
     "text": [
      "The simulation of GTEX-13FLV-0426-SM-5KLZA fluxes takes: 2.882385015487671 seconds\n"
     ]
    },
    {
     "name": "stderr",
     "output_type": "stream",
     "text": [
      "No defined compartments in model ContextModel. Compartments will be deduced heuristically using regular expressions.\n",
      "Using regular expression found the following compartments:c, e, g, i, l, m, n, r, x\n"
     ]
    },
    {
     "name": "stdout",
     "output_type": "stream",
     "text": [
      "The simulation of GTEX-11ZVC-0011-R1b-SM-5BC6M fluxes takes: 7.052917957305908 seconds\n"
     ]
    },
    {
     "name": "stderr",
     "output_type": "stream",
     "text": [
      "No defined compartments in model ContextModel. Compartments will be deduced heuristically using regular expressions.\n",
      "Using regular expression found the following compartments:c, e, g, i, l, m, n, r, x\n"
     ]
    },
    {
     "name": "stdout",
     "output_type": "stream",
     "text": [
      "The simulation of GTEX-13N1W-0011-R1b-SM-5MR4T fluxes takes: 2.5613791942596436 seconds\n"
     ]
    },
    {
     "name": "stderr",
     "output_type": "stream",
     "text": [
      "No defined compartments in model ContextModel. Compartments will be deduced heuristically using regular expressions.\n",
      "Using regular expression found the following compartments:c, e, g, l, m, n, r, x\n"
     ]
    },
    {
     "name": "stdout",
     "output_type": "stream",
     "text": [
      "The simulation of GTEX-13OW5-0011-R1b-SM-5L3GE fluxes takes: 1.8930797576904297 seconds\n"
     ]
    },
    {
     "name": "stderr",
     "output_type": "stream",
     "text": [
      "No defined compartments in model ContextModel. Compartments will be deduced heuristically using regular expressions.\n",
      "Using regular expression found the following compartments:c, e, g, l, m, n, r, x\n",
      "No defined compartments in model ContextModel. Compartments will be deduced heuristically using regular expressions.\n",
      "Using regular expression found the following compartments:c, e, g, l, m, n, r, x\n"
     ]
    },
    {
     "name": "stdout",
     "output_type": "stream",
     "text": [
      "The simulation of GTEX-X5EB-0426-SM-46MVY fluxes takes: 1.6897931098937988 seconds\n",
      "The simulation of GTEX-TML8-0326-SM-4GICN fluxes takes: 1.6120209693908691 seconds\n"
     ]
    },
    {
     "name": "stderr",
     "output_type": "stream",
     "text": [
      "No defined compartments in model ContextModel. Compartments will be deduced heuristically using regular expressions.\n",
      "Using regular expression found the following compartments:c, e, g, l, m, n, r, x\n"
     ]
    },
    {
     "name": "stdout",
     "output_type": "stream",
     "text": [
      "The simulation of GTEX-XPVG-1026-SM-4B64Y fluxes takes: 1.6090080738067627 seconds\n"
     ]
    },
    {
     "name": "stderr",
     "output_type": "stream",
     "text": [
      "No defined compartments in model ContextModel. Compartments will be deduced heuristically using regular expressions.\n",
      "Using regular expression found the following compartments:c, e, g, i, l, m, n, r, x\n"
     ]
    },
    {
     "name": "stdout",
     "output_type": "stream",
     "text": [
      "The simulation of GTEX-12BJ1-1026-SM-5EGJA fluxes takes: 2.185408115386963 seconds\n"
     ]
    },
    {
     "name": "stderr",
     "output_type": "stream",
     "text": [
      "No defined compartments in model ContextModel. Compartments will be deduced heuristically using regular expressions.\n",
      "Using regular expression found the following compartments:c, e, g, l, m, n, r, x\n"
     ]
    },
    {
     "name": "stdout",
     "output_type": "stream",
     "text": [
      "The simulation of GTEX-13FTZ-0526-SM-5IJCW fluxes takes: 1.5519752502441406 seconds\n"
     ]
    },
    {
     "name": "stderr",
     "output_type": "stream",
     "text": [
      "No defined compartments in model ContextModel. Compartments will be deduced heuristically using regular expressions.\n",
      "Using regular expression found the following compartments:c, e, g, l, m, n, r, x\n"
     ]
    },
    {
     "name": "stdout",
     "output_type": "stream",
     "text": [
      "The simulation of GTEX-11DXZ-0726-SM-5N9C4 fluxes takes: 1.7461192607879639 seconds\n"
     ]
    },
    {
     "name": "stderr",
     "output_type": "stream",
     "text": [
      "No defined compartments in model ContextModel. Compartments will be deduced heuristically using regular expressions.\n",
      "Using regular expression found the following compartments:c, e, g, i, l, m, n, r, x\n",
      "No defined compartments in model ContextModel. Compartments will be deduced heuristically using regular expressions.\n",
      "Using regular expression found the following compartments:c, e, g, i, l, m, n, r, x\n"
     ]
    },
    {
     "name": "stdout",
     "output_type": "stream",
     "text": [
      "The simulation of GTEX-1K9T9-0926-SM-D3L9C fluxes takes: 2.3137168884277344 seconds\n",
      "The simulation of GTEX-12WSH-0011-R1a-SM-5GU5V fluxes takes: 1.641625165939331 seconds\n"
     ]
    },
    {
     "name": "stderr",
     "output_type": "stream",
     "text": [
      "No defined compartments in model ContextModel. Compartments will be deduced heuristically using regular expressions.\n",
      "Using regular expression found the following compartments:c, e, g, l, m, n, r, x\n",
      "No defined compartments in model ContextModel. Compartments will be deduced heuristically using regular expressions.\n",
      "Using regular expression found the following compartments:c, e, g, l, m, n, r, x\n"
     ]
    },
    {
     "name": "stdout",
     "output_type": "stream",
     "text": [
      "The simulation of GTEX-RU72-0526-SM-2TF5Z fluxes takes: 1.6759819984436035 seconds\n",
      "The simulation of GTEX-11TUW-0011-R1a-SM-DO92S fluxes takes: 1.5676500797271729 seconds\n"
     ]
    },
    {
     "name": "stderr",
     "output_type": "stream",
     "text": [
      "No defined compartments in model ContextModel. Compartments will be deduced heuristically using regular expressions.\n",
      "Using regular expression found the following compartments:c, e, g, l, m, n, r, x\n"
     ]
    },
    {
     "name": "stdout",
     "output_type": "stream",
     "text": [
      "The simulation of GTEX-1H11D-0726-SM-9OSWA fluxes takes: 1.7948248386383057 seconds\n"
     ]
    },
    {
     "name": "stderr",
     "output_type": "stream",
     "text": [
      "No defined compartments in model ContextModel. Compartments will be deduced heuristically using regular expressions.\n",
      "Using regular expression found the following compartments:c, e, g, i, l, m, n, r, x\n",
      "No defined compartments in model ContextModel. Compartments will be deduced heuristically using regular expressions.\n",
      "Using regular expression found the following compartments:c, e, g, i, l, m, n, r, x\n"
     ]
    },
    {
     "name": "stdout",
     "output_type": "stream",
     "text": [
      "The simulation of GTEX-ZVT3-0926-SM-5GICK fluxes takes: 2.307023048400879 seconds\n",
      "The simulation of GTEX-11ONC-0011-R1a-SM-57WD4 fluxes takes: 1.5340170860290527 seconds\n"
     ]
    },
    {
     "name": "stderr",
     "output_type": "stream",
     "text": [
      "No defined compartments in model ContextModel. Compartments will be deduced heuristically using regular expressions.\n",
      "Using regular expression found the following compartments:c, e, g, l, m, n, r, x\n"
     ]
    },
    {
     "name": "stdout",
     "output_type": "stream",
     "text": [
      "The simulation of GTEX-ZF28-0011-R1a-SM-4WWD1 fluxes takes: 1.6814048290252686 seconds\n"
     ]
    },
    {
     "name": "stderr",
     "output_type": "stream",
     "text": [
      "No defined compartments in model ContextModel. Compartments will be deduced heuristically using regular expressions.\n",
      "Using regular expression found the following compartments:c, e, g, i, l, m, n, r, x\n"
     ]
    },
    {
     "name": "stdout",
     "output_type": "stream",
     "text": [
      "The simulation of GTEX-11DXW-0011-R1a-SM-DNZZD fluxes takes: 1.840592861175537 seconds\n"
     ]
    },
    {
     "name": "stderr",
     "output_type": "stream",
     "text": [
      "No defined compartments in model ContextModel. Compartments will be deduced heuristically using regular expressions.\n",
      "Using regular expression found the following compartments:c, e, g, l, m, n, r, x\n",
      "No defined compartments in model ContextModel. Compartments will be deduced heuristically using regular expressions.\n",
      "Using regular expression found the following compartments:c, e, g, l, m, n, r, x\n"
     ]
    },
    {
     "name": "stdout",
     "output_type": "stream",
     "text": [
      "The simulation of GTEX-132Q8-0011-R1a-SM-5EGLK fluxes takes: 1.8065400123596191 seconds\n"
     ]
    },
    {
     "name": "stderr",
     "output_type": "stream",
     "text": [
      "No defined compartments in model ContextModel. Compartments will be deduced heuristically using regular expressions.\n",
      "Using regular expression found the following compartments:c, e, g, i, l, m, n, r, x\n"
     ]
    },
    {
     "name": "stdout",
     "output_type": "stream",
     "text": [
      "The simulation of GTEX-1GN1W-1026-SM-9OSW2 fluxes takes: 1.4626820087432861 seconds\n",
      "The simulation of GTEX-X585-0011-R1B-SM-46MVE fluxes takes: 1.6657099723815918 seconds\n"
     ]
    },
    {
     "name": "stderr",
     "output_type": "stream",
     "text": [
      "No defined compartments in model ContextModel. Compartments will be deduced heuristically using regular expressions.\n",
      "Using regular expression found the following compartments:c, e, g, i, l, m, n, r, x\n",
      "No defined compartments in model ContextModel. Compartments will be deduced heuristically using regular expressions.\n",
      "Using regular expression found the following compartments:c, e, g, l, m, n, r, x\n"
     ]
    },
    {
     "name": "stdout",
     "output_type": "stream",
     "text": [
      "The simulation of GTEX-1B996-0011-R1b-SM-7P8PO fluxes takes: 1.845142126083374 seconds\n"
     ]
    },
    {
     "name": "stderr",
     "output_type": "stream",
     "text": [
      "No defined compartments in model ContextModel. Compartments will be deduced heuristically using regular expressions.\n",
      "Using regular expression found the following compartments:c, e, g, i, l, m, n, r, x\n"
     ]
    },
    {
     "name": "stdout",
     "output_type": "stream",
     "text": [
      "The simulation of GTEX-1HCUA-0226-SM-A8N88 fluxes takes: 1.6706969738006592 seconds\n",
      "The simulation of GTEX-13X6I-0011-R1b-SM-5PNZC fluxes takes: 1.51625394821167 seconds\n"
     ]
    },
    {
     "name": "stderr",
     "output_type": "stream",
     "text": [
      "No defined compartments in model ContextModel. Compartments will be deduced heuristically using regular expressions.\n",
      "Using regular expression found the following compartments:c, e, g, i, l, m, n, r, x\n",
      "No defined compartments in model ContextModel. Compartments will be deduced heuristically using regular expressions.\n",
      "Using regular expression found the following compartments:c, e, g, l, m, n, r, x\n"
     ]
    },
    {
     "name": "stdout",
     "output_type": "stream",
     "text": [
      "The simulation of GTEX-WZTO-0011-R1B-SM-3NMAR fluxes takes: 1.5078380107879639 seconds\n",
      "The simulation of GTEX-17F98-0226-SM-793BV fluxes takes: 1.6662869453430176 seconds\n"
     ]
    },
    {
     "name": "stderr",
     "output_type": "stream",
     "text": [
      "No defined compartments in model ContextModel. Compartments will be deduced heuristically using regular expressions.\n",
      "Using regular expression found the following compartments:c, e, g, i, l, m, n, r, x\n"
     ]
    },
    {
     "name": "stdout",
     "output_type": "stream",
     "text": [
      "The simulation of GTEX-R55G-0826-SM-2TC5U fluxes takes: 2.3470282554626465 seconds\n"
     ]
    },
    {
     "name": "stderr",
     "output_type": "stream",
     "text": [
      "No defined compartments in model ContextModel. Compartments will be deduced heuristically using regular expressions.\n",
      "Using regular expression found the following compartments:c, e, g, i, l, m, n, r, x\n",
      "No defined compartments in model ContextModel. Compartments will be deduced heuristically using regular expressions.\n",
      "Using regular expression found the following compartments:c, e, g, l, m, n, r, x\n"
     ]
    },
    {
     "name": "stdout",
     "output_type": "stream",
     "text": [
      "The simulation of GTEX-13JUV-0011-R1a-SM-5LZY4 fluxes takes: 1.7843232154846191 seconds\n",
      "The simulation of GTEX-148VI-0226-SM-5RQKA fluxes takes: 1.7694592475891113 seconds\n"
     ]
    },
    {
     "name": "stderr",
     "output_type": "stream",
     "text": [
      "No defined compartments in model ContextModel. Compartments will be deduced heuristically using regular expressions.\n",
      "Using regular expression found the following compartments:c, e, g, i, l, m, n, r, x\n"
     ]
    },
    {
     "name": "stdout",
     "output_type": "stream",
     "text": [
      "The simulation of GTEX-1ICLY-0926-SM-CM2RJ fluxes takes: 1.6086230278015137 seconds\n"
     ]
    },
    {
     "name": "stderr",
     "output_type": "stream",
     "text": [
      "No defined compartments in model ContextModel. Compartments will be deduced heuristically using regular expressions.\n",
      "Using regular expression found the following compartments:c, e, g, i, l, m, n, r, x\n",
      "No defined compartments in model ContextModel. Compartments will be deduced heuristically using regular expressions.\n",
      "Using regular expression found the following compartments:c, e, g, i, l, m, n, r, x\n"
     ]
    },
    {
     "name": "stdout",
     "output_type": "stream",
     "text": [
      "The simulation of GTEX-15DCD-0011-R1b-SM-6LPIJ fluxes takes: 1.590951919555664 seconds\n",
      "The simulation of GTEX-12WSD-0011-R1b-SM-5LZVY fluxes takes: 1.831063985824585 seconds\n"
     ]
    },
    {
     "name": "stderr",
     "output_type": "stream",
     "text": [
      "No defined compartments in model ContextModel. Compartments will be deduced heuristically using regular expressions.\n",
      "Using regular expression found the following compartments:c, e, g, l, m, n, r, x\n"
     ]
    },
    {
     "name": "stdout",
     "output_type": "stream",
     "text": [
      "The simulation of GTEX-QVJO-0011-R1A-SM-2S1QI fluxes takes: 1.7116467952728271 seconds\n"
     ]
    },
    {
     "name": "stderr",
     "output_type": "stream",
     "text": [
      "No defined compartments in model ContextModel. Compartments will be deduced heuristically using regular expressions.\n",
      "Using regular expression found the following compartments:c, e, g, i, l, m, n, r, x\n",
      "No defined compartments in model ContextModel. Compartments will be deduced heuristically using regular expressions.\n",
      "Using regular expression found the following compartments:c, e, g, i, l, m, n, r, x\n"
     ]
    },
    {
     "name": "stdout",
     "output_type": "stream",
     "text": [
      "The simulation of GTEX-P44G-0011-R1A-SM-2I3FE fluxes takes: 1.5987260341644287 seconds\n",
      "The simulation of GTEX-1HGF4-0011-R1a-SM-CJI3S fluxes takes: 2.051776170730591 seconds\n"
     ]
    },
    {
     "name": "stderr",
     "output_type": "stream",
     "text": [
      "No defined compartments in model ContextModel. Compartments will be deduced heuristically using regular expressions.\n",
      "Using regular expression found the following compartments:c, e, g, l, m, n, r, x\n"
     ]
    },
    {
     "name": "stdout",
     "output_type": "stream",
     "text": [
      "The simulation of GTEX-U412-0826-SM-3DB9K fluxes takes: 1.7025189399719238 seconds\n"
     ]
    },
    {
     "name": "stderr",
     "output_type": "stream",
     "text": [
      "No defined compartments in model ContextModel. Compartments will be deduced heuristically using regular expressions.\n",
      "Using regular expression found the following compartments:c, e, g, i, l, m, n, r, x\n"
     ]
    },
    {
     "name": "stdout",
     "output_type": "stream",
     "text": [
      "The simulation of GTEX-1LG7Y-0011-R1a-SM-EYYWV fluxes takes: 1.8461098670959473 seconds\n"
     ]
    },
    {
     "name": "stderr",
     "output_type": "stream",
     "text": [
      "No defined compartments in model ContextModel. Compartments will be deduced heuristically using regular expressions.\n",
      "Using regular expression found the following compartments:c, e, g, i, l, m, n, r, x\n"
     ]
    },
    {
     "name": "stdout",
     "output_type": "stream",
     "text": [
      "The simulation of GTEX-13FTY-0126-SM-5J2NZ fluxes takes: 2.3076701164245605 seconds\n"
     ]
    },
    {
     "name": "stderr",
     "output_type": "stream",
     "text": [
      "No defined compartments in model ContextModel. Compartments will be deduced heuristically using regular expressions.\n",
      "Using regular expression found the following compartments:c, e, g, i, l, m, n, r, x\n"
     ]
    },
    {
     "name": "stdout",
     "output_type": "stream",
     "text": [
      "The simulation of GTEX-1EMGI-0011-R1b-SM-9OSWZ fluxes takes: 2.297177791595459 seconds\n"
     ]
    },
    {
     "name": "stderr",
     "output_type": "stream",
     "text": [
      "No defined compartments in model ContextModel. Compartments will be deduced heuristically using regular expressions.\n",
      "Using regular expression found the following compartments:c, e, g, l, m, n, r, x\n"
     ]
    },
    {
     "name": "stdout",
     "output_type": "stream",
     "text": [
      "The simulation of GTEX-YJ8O-1826-SM-5HL82 fluxes takes: 1.6609840393066406 seconds\n"
     ]
    },
    {
     "name": "stderr",
     "output_type": "stream",
     "text": [
      "No defined compartments in model ContextModel. Compartments will be deduced heuristically using regular expressions.\n",
      "Using regular expression found the following compartments:c, e, g, l, m, n, r, x\n",
      "No defined compartments in model ContextModel. Compartments will be deduced heuristically using regular expressions.\n",
      "Using regular expression found the following compartments:c, e, g, i, l, m, n, r, x\n"
     ]
    },
    {
     "name": "stdout",
     "output_type": "stream",
     "text": [
      "The simulation of GTEX-18A67-1126-SM-7KFSB fluxes takes: 1.4954559803009033 seconds\n"
     ]
    },
    {
     "name": "stderr",
     "output_type": "stream",
     "text": [
      "No defined compartments in model ContextModel. Compartments will be deduced heuristically using regular expressions.\n",
      "Using regular expression found the following compartments:c, e, g, l, m, n, r, x\n"
     ]
    },
    {
     "name": "stdout",
     "output_type": "stream",
     "text": [
      "The simulation of GTEX-1GZ2Q-0011-R1a-SM-CJI2Y fluxes takes: 1.9886200428009033 seconds\n"
     ]
    },
    {
     "name": "stderr",
     "output_type": "stream",
     "text": [
      "No defined compartments in model ContextModel. Compartments will be deduced heuristically using regular expressions.\n",
      "Using regular expression found the following compartments:c, e, g, l, m, n, r, x\n"
     ]
    },
    {
     "name": "stdout",
     "output_type": "stream",
     "text": [
      "The simulation of GTEX-146FQ-0926-SM-5LUAV fluxes takes: 1.7301721572875977 seconds\n",
      "The simulation of GTEX-1S5VW-0926-SM-EWRNU fluxes takes: 1.3608250617980957 seconds\n"
     ]
    },
    {
     "name": "stderr",
     "output_type": "stream",
     "text": [
      "No defined compartments in model ContextModel. Compartments will be deduced heuristically using regular expressions.\n",
      "Using regular expression found the following compartments:c, e, g, l, m, n, r, x\n"
     ]
    },
    {
     "name": "stdout",
     "output_type": "stream",
     "text": [
      "The simulation of GTEX-13FTY-0011-R1a-SM-5LZXE fluxes takes: 1.8253960609436035 seconds\n"
     ]
    },
    {
     "name": "stderr",
     "output_type": "stream",
     "text": [
      "No defined compartments in model ContextModel. Compartments will be deduced heuristically using regular expressions.\n",
      "Using regular expression found the following compartments:c, e, g, l, m, n, r, x\n"
     ]
    },
    {
     "name": "stdout",
     "output_type": "stream",
     "text": [
      "The simulation of GTEX-13N11-0326-SM-5LUA3 fluxes takes: 1.5639290809631348 seconds\n"
     ]
    },
    {
     "name": "stderr",
     "output_type": "stream",
     "text": [
      "No defined compartments in model ContextModel. Compartments will be deduced heuristically using regular expressions.\n",
      "Using regular expression found the following compartments:c, e, g, i, l, m, n, r, x\n",
      "No defined compartments in model ContextModel. Compartments will be deduced heuristically using regular expressions.\n",
      "Using regular expression found the following compartments:c, e, g, l, m, n, r, x\n"
     ]
    },
    {
     "name": "stdout",
     "output_type": "stream",
     "text": [
      "The simulation of GTEX-11WQK-1226-SM-5GU5Z fluxes takes: 2.110278844833374 seconds\n",
      "The simulation of GTEX-14LLW-0726-SM-5ZZVV fluxes takes: 1.5492517948150635 seconds\n"
     ]
    },
    {
     "name": "stderr",
     "output_type": "stream",
     "text": [
      "No defined compartments in model ContextModel. Compartments will be deduced heuristically using regular expressions.\n",
      "Using regular expression found the following compartments:c, e, g, i, l, m, n, r, x\n"
     ]
    },
    {
     "name": "stdout",
     "output_type": "stream",
     "text": [
      "The simulation of GTEX-1F7RK-0826-SM-7SB8V fluxes takes: 2.4579079151153564 seconds\n"
     ]
    },
    {
     "name": "stderr",
     "output_type": "stream",
     "text": [
      "No defined compartments in model ContextModel. Compartments will be deduced heuristically using regular expressions.\n",
      "Using regular expression found the following compartments:c, e, g, i, l, m, n, r, x\n"
     ]
    },
    {
     "name": "stdout",
     "output_type": "stream",
     "text": [
      "The simulation of GTEX-XQ3S-0926-SM-4BOPI fluxes takes: 2.2275941371917725 seconds\n"
     ]
    },
    {
     "name": "stderr",
     "output_type": "stream",
     "text": [
      "No defined compartments in model ContextModel. Compartments will be deduced heuristically using regular expressions.\n",
      "Using regular expression found the following compartments:c, e, g, i, l, m, n, r, x\n",
      "No defined compartments in model ContextModel. Compartments will be deduced heuristically using regular expressions.\n",
      "Using regular expression found the following compartments:c, e, g, l, m, n, r, x\n"
     ]
    },
    {
     "name": "stdout",
     "output_type": "stream",
     "text": [
      "The simulation of GTEX-1H1ZS-0011-R1b-SM-A9G1E fluxes takes: 2.5556180477142334 seconds\n",
      "The simulation of GTEX-ZYW4-1526-SM-5SIBA fluxes takes: 1.6750929355621338 seconds\n"
     ]
    },
    {
     "name": "stderr",
     "output_type": "stream",
     "text": [
      "No defined compartments in model ContextModel. Compartments will be deduced heuristically using regular expressions.\n",
      "Using regular expression found the following compartments:c, e, g, i, l, m, n, r, x\n"
     ]
    },
    {
     "name": "stdout",
     "output_type": "stream",
     "text": [
      "The simulation of GTEX-1B933-0011-R1b-SM-9QEGW fluxes takes: 1.831874132156372 seconds\n"
     ]
    },
    {
     "name": "stderr",
     "output_type": "stream",
     "text": [
      "No defined compartments in model ContextModel. Compartments will be deduced heuristically using regular expressions.\n",
      "Using regular expression found the following compartments:c, e, g, i, l, m, n, r, x\n"
     ]
    },
    {
     "name": "stdout",
     "output_type": "stream",
     "text": [
      "The simulation of GTEX-1GF9W-0011-R1a-SM-9QEIQ fluxes takes: 1.750013828277588 seconds\n"
     ]
    },
    {
     "name": "stderr",
     "output_type": "stream",
     "text": [
      "No defined compartments in model ContextModel. Compartments will be deduced heuristically using regular expressions.\n",
      "Using regular expression found the following compartments:c, e, g, i, l, m, n, r, x\n"
     ]
    },
    {
     "name": "stdout",
     "output_type": "stream",
     "text": [
      "The simulation of GTEX-13OW6-0826-SM-5L3GA fluxes takes: 2.257780075073242 seconds\n"
     ]
    },
    {
     "name": "stderr",
     "output_type": "stream",
     "text": [
      "No defined compartments in model ContextModel. Compartments will be deduced heuristically using regular expressions.\n",
      "Using regular expression found the following compartments:c, e, g, i, l, m, n, r, x\n"
     ]
    },
    {
     "name": "stdout",
     "output_type": "stream",
     "text": [
      "The simulation of GTEX-1HSKV-0011-R1b-SM-CMKH7 fluxes takes: 1.823425054550171 seconds\n"
     ]
    },
    {
     "name": "stderr",
     "output_type": "stream",
     "text": [
      "No defined compartments in model ContextModel. Compartments will be deduced heuristically using regular expressions.\n",
      "Using regular expression found the following compartments:c, e, g, l, m, n, r, x\n"
     ]
    },
    {
     "name": "stdout",
     "output_type": "stream",
     "text": [
      "The simulation of GTEX-ZA64-0326-SM-5HL8T fluxes takes: 1.5508081912994385 seconds\n"
     ]
    },
    {
     "name": "stderr",
     "output_type": "stream",
     "text": [
      "No defined compartments in model ContextModel. Compartments will be deduced heuristically using regular expressions.\n",
      "Using regular expression found the following compartments:c, e, g, l, m, n, r, x\n",
      "No defined compartments in model ContextModel. Compartments will be deduced heuristically using regular expressions.\n",
      "Using regular expression found the following compartments:c, e, g, l, m, n, r, x\n"
     ]
    },
    {
     "name": "stdout",
     "output_type": "stream",
     "text": [
      "The simulation of GTEX-1GTWX-0626-SM-9WYU1 fluxes takes: 1.8701677322387695 seconds\n"
     ]
    },
    {
     "name": "stderr",
     "output_type": "stream",
     "text": [
      "No defined compartments in model ContextModel. Compartments will be deduced heuristically using regular expressions.\n",
      "Using regular expression found the following compartments:c, e, g, l, m, n, r, x\n"
     ]
    },
    {
     "name": "stdout",
     "output_type": "stream",
     "text": [
      "The simulation of GTEX-QEL4-0826-SM-3GAF2 fluxes takes: 1.60451078414917 seconds\n",
      "The simulation of GTEX-14DAQ-0926-SM-793AZ fluxes takes: 1.499279260635376 seconds\n"
     ]
    },
    {
     "name": "stderr",
     "output_type": "stream",
     "text": [
      "No defined compartments in model ContextModel. Compartments will be deduced heuristically using regular expressions.\n",
      "Using regular expression found the following compartments:c, e, g, i, l, m, n, r, x\n"
     ]
    },
    {
     "name": "stdout",
     "output_type": "stream",
     "text": [
      "The simulation of GTEX-N7MT-0011-R1a-SM-CNPO1 fluxes takes: 12.215513229370117 seconds\n"
     ]
    },
    {
     "name": "stderr",
     "output_type": "stream",
     "text": [
      "No defined compartments in model ContextModel. Compartments will be deduced heuristically using regular expressions.\n",
      "Using regular expression found the following compartments:c, e, g, l, m, n, r, x\n"
     ]
    },
    {
     "name": "stdout",
     "output_type": "stream",
     "text": [
      "The simulation of GTEX-13RTJ-1126-SM-5S2UJ fluxes takes: 1.53922700881958 seconds\n"
     ]
    },
    {
     "name": "stderr",
     "output_type": "stream",
     "text": [
      "No defined compartments in model ContextModel. Compartments will be deduced heuristically using regular expressions.\n",
      "Using regular expression found the following compartments:c, e, g, l, m, n, r, x\n"
     ]
    },
    {
     "name": "stdout",
     "output_type": "stream",
     "text": [
      "The simulation of GTEX-13QJC-0011-R1b-SM-5S2UU fluxes takes: 1.7671678066253662 seconds\n"
     ]
    },
    {
     "name": "stderr",
     "output_type": "stream",
     "text": [
      "No defined compartments in model ContextModel. Compartments will be deduced heuristically using regular expressions.\n",
      "Using regular expression found the following compartments:c, e, g, l, m, n, r, x\n"
     ]
    },
    {
     "name": "stdout",
     "output_type": "stream",
     "text": [
      "The simulation of GTEX-1313W-0926-SM-5EQ56 fluxes takes: 1.5973381996154785 seconds\n"
     ]
    },
    {
     "name": "stderr",
     "output_type": "stream",
     "text": [
      "No defined compartments in model ContextModel. Compartments will be deduced heuristically using regular expressions.\n",
      "Using regular expression found the following compartments:c, e, g, i, l, m, n, r, x\n"
     ]
    },
    {
     "name": "stdout",
     "output_type": "stream",
     "text": [
      "The simulation of GTEX-13FXS-0011-R1a-SM-5K7U6 fluxes takes: 1.7000799179077148 seconds\n"
     ]
    },
    {
     "name": "stderr",
     "output_type": "stream",
     "text": [
      "No defined compartments in model ContextModel. Compartments will be deduced heuristically using regular expressions.\n",
      "Using regular expression found the following compartments:c, e, g, i, l, m, n, r, x\n"
     ]
    },
    {
     "name": "stdout",
     "output_type": "stream",
     "text": [
      "The simulation of GTEX-1GN1U-0011-R1a-SM-CJI25 fluxes takes: 1.7663071155548096 seconds\n"
     ]
    },
    {
     "name": "stderr",
     "output_type": "stream",
     "text": [
      "No defined compartments in model ContextModel. Compartments will be deduced heuristically using regular expressions.\n",
      "Using regular expression found the following compartments:c, e, g, l, m, n, r, x\n"
     ]
    },
    {
     "name": "stdout",
     "output_type": "stream",
     "text": [
      "The simulation of GTEX-1477Z-0626-SM-5NQB7 fluxes takes: 1.3837580680847168 seconds\n"
     ]
    },
    {
     "name": "stderr",
     "output_type": "stream",
     "text": [
      "No defined compartments in model ContextModel. Compartments will be deduced heuristically using regular expressions.\n",
      "Using regular expression found the following compartments:c, e, g, i, l, m, n, r, x\n"
     ]
    },
    {
     "name": "stdout",
     "output_type": "stream",
     "text": [
      "The simulation of GTEX-1E2YA-0926-SM-7MXUK fluxes takes: 2.1677281856536865 seconds\n"
     ]
    },
    {
     "name": "stderr",
     "output_type": "stream",
     "text": [
      "No defined compartments in model ContextModel. Compartments will be deduced heuristically using regular expressions.\n",
      "Using regular expression found the following compartments:c, e, g, i, l, m, n, r, x\n"
     ]
    },
    {
     "name": "stdout",
     "output_type": "stream",
     "text": [
      "The simulation of GTEX-1IL2U-0926-SM-CKZOB fluxes takes: 2.371833086013794 seconds\n"
     ]
    },
    {
     "name": "stderr",
     "output_type": "stream",
     "text": [
      "No defined compartments in model ContextModel. Compartments will be deduced heuristically using regular expressions.\n",
      "Using regular expression found the following compartments:c, e, g, i, l, m, n, r, x\n"
     ]
    },
    {
     "name": "stdout",
     "output_type": "stream",
     "text": [
      "The simulation of GTEX-YECK-0926-SM-4W214 fluxes takes: 2.874135971069336 seconds\n"
     ]
    },
    {
     "name": "stderr",
     "output_type": "stream",
     "text": [
      "No defined compartments in model ContextModel. Compartments will be deduced heuristically using regular expressions.\n",
      "Using regular expression found the following compartments:c, e, g, i, l, m, n, r, x\n"
     ]
    },
    {
     "name": "stdout",
     "output_type": "stream",
     "text": [
      "The simulation of GTEX-YEC4-0526-SM-4W21U fluxes takes: 2.7680177688598633 seconds\n"
     ]
    },
    {
     "name": "stderr",
     "output_type": "stream",
     "text": [
      "No defined compartments in model ContextModel. Compartments will be deduced heuristically using regular expressions.\n",
      "Using regular expression found the following compartments:c, e, g, i, l, m, n, r, x\n"
     ]
    },
    {
     "name": "stdout",
     "output_type": "stream",
     "text": [
      "The simulation of GTEX-1I1GQ-1126-SM-CNNQT fluxes takes: 2.410126209259033 seconds\n"
     ]
    },
    {
     "name": "stderr",
     "output_type": "stream",
     "text": [
      "No defined compartments in model ContextModel. Compartments will be deduced heuristically using regular expressions.\n",
      "Using regular expression found the following compartments:c, e, g, i, l, m, n, r, x\n"
     ]
    },
    {
     "name": "stdout",
     "output_type": "stream",
     "text": [
      "The simulation of GTEX-14E6D-0011-R1b-SM-5YYAW fluxes takes: 1.728910207748413 seconds\n"
     ]
    },
    {
     "name": "stderr",
     "output_type": "stream",
     "text": [
      "No defined compartments in model ContextModel. Compartments will be deduced heuristically using regular expressions.\n",
      "Using regular expression found the following compartments:c, e, g, i, l, m, n, r, x\n"
     ]
    },
    {
     "name": "stdout",
     "output_type": "stream",
     "text": [
      "The simulation of GTEX-1EKGG-0011-R1b-SM-9QEI1 fluxes takes: 1.8006908893585205 seconds\n"
     ]
    },
    {
     "name": "stderr",
     "output_type": "stream",
     "text": [
      "No defined compartments in model ContextModel. Compartments will be deduced heuristically using regular expressions.\n",
      "Using regular expression found the following compartments:c, e, g, i, l, m, n, r, x\n"
     ]
    },
    {
     "name": "stdout",
     "output_type": "stream",
     "text": [
      "The simulation of GTEX-1E1VI-0926-SM-7P8T3 fluxes takes: 2.368466854095459 seconds\n"
     ]
    },
    {
     "name": "stderr",
     "output_type": "stream",
     "text": [
      "No defined compartments in model ContextModel. Compartments will be deduced heuristically using regular expressions.\n",
      "Using regular expression found the following compartments:c, e, g, i, l, m, n, r, x\n"
     ]
    },
    {
     "name": "stdout",
     "output_type": "stream",
     "text": [
      "The simulation of GTEX-P4QS-0526-SM-2I3ET fluxes takes: 2.692040205001831 seconds\n"
     ]
    },
    {
     "name": "stderr",
     "output_type": "stream",
     "text": [
      "No defined compartments in model ContextModel. Compartments will be deduced heuristically using regular expressions.\n",
      "Using regular expression found the following compartments:c, e, g, l, m, n, r, x\n"
     ]
    },
    {
     "name": "stdout",
     "output_type": "stream",
     "text": [
      "The simulation of GTEX-11ZTS-0011-R1a-SM-5BC71 fluxes takes: 1.5658588409423828 seconds\n"
     ]
    },
    {
     "name": "stderr",
     "output_type": "stream",
     "text": [
      "No defined compartments in model ContextModel. Compartments will be deduced heuristically using regular expressions.\n",
      "Using regular expression found the following compartments:c, e, g, i, l, m, n, r, x\n"
     ]
    },
    {
     "name": "stdout",
     "output_type": "stream",
     "text": [
      "The simulation of GTEX-13NYS-0011-R1b-SM-5MR55 fluxes takes: 1.7739617824554443 seconds\n"
     ]
    },
    {
     "name": "stderr",
     "output_type": "stream",
     "text": [
      "No defined compartments in model ContextModel. Compartments will be deduced heuristically using regular expressions.\n",
      "Using regular expression found the following compartments:c, e, g, i, l, m, n, r, x\n"
     ]
    },
    {
     "name": "stdout",
     "output_type": "stream",
     "text": [
      "The simulation of GTEX-13N2G-0011-R1b-SM-5MR3G fluxes takes: 1.6243610382080078 seconds\n"
     ]
    },
    {
     "name": "stderr",
     "output_type": "stream",
     "text": [
      "No defined compartments in model ContextModel. Compartments will be deduced heuristically using regular expressions.\n",
      "Using regular expression found the following compartments:c, e, g, i, l, m, n, r, x\n"
     ]
    },
    {
     "name": "stdout",
     "output_type": "stream",
     "text": [
      "The simulation of GTEX-14E6E-0426-SM-73KUE fluxes takes: 2.503467082977295 seconds\n"
     ]
    },
    {
     "name": "stderr",
     "output_type": "stream",
     "text": [
      "No defined compartments in model ContextModel. Compartments will be deduced heuristically using regular expressions.\n",
      "Using regular expression found the following compartments:c, e, g, l, m, n, r, x\n"
     ]
    },
    {
     "name": "stdout",
     "output_type": "stream",
     "text": [
      "The simulation of GTEX-17F96-0626-SM-793CC fluxes takes: 1.487048864364624 seconds\n"
     ]
    },
    {
     "name": "stderr",
     "output_type": "stream",
     "text": [
      "No defined compartments in model ContextModel. Compartments will be deduced heuristically using regular expressions.\n",
      "Using regular expression found the following compartments:c, e, g, i, l, m, n, r, x\n"
     ]
    },
    {
     "name": "stdout",
     "output_type": "stream",
     "text": [
      "The simulation of GTEX-PWO3-0011-R1A-SM-2I5EW fluxes takes: 2.0422050952911377 seconds\n"
     ]
    },
    {
     "name": "stderr",
     "output_type": "stream",
     "text": [
      "No defined compartments in model ContextModel. Compartments will be deduced heuristically using regular expressions.\n",
      "Using regular expression found the following compartments:c, e, g, l, m, n, r, x\n"
     ]
    },
    {
     "name": "stdout",
     "output_type": "stream",
     "text": [
      "The simulation of GTEX-17EVQ-0011-R1a-SM-7189S fluxes takes: 1.827768087387085 seconds\n"
     ]
    },
    {
     "name": "stderr",
     "output_type": "stream",
     "text": [
      "No defined compartments in model ContextModel. Compartments will be deduced heuristically using regular expressions.\n",
      "Using regular expression found the following compartments:c, e, g, l, m, n, r, x\n"
     ]
    },
    {
     "name": "stdout",
     "output_type": "stream",
     "text": [
      "The simulation of GTEX-13D11-0326-SM-5LZXX fluxes takes: 2.2253329753875732 seconds\n"
     ]
    },
    {
     "name": "stderr",
     "output_type": "stream",
     "text": [
      "No defined compartments in model ContextModel. Compartments will be deduced heuristically using regular expressions.\n",
      "Using regular expression found the following compartments:c, e, g, l, m, n, r, x\n"
     ]
    },
    {
     "name": "stdout",
     "output_type": "stream",
     "text": [
      "The simulation of GTEX-1J1R8-0226-SM-AHZ3C fluxes takes: 1.744645118713379 seconds\n"
     ]
    },
    {
     "name": "stderr",
     "output_type": "stream",
     "text": [
      "No defined compartments in model ContextModel. Compartments will be deduced heuristically using regular expressions.\n",
      "Using regular expression found the following compartments:c, e, g, l, m, n, r, x\n",
      "No defined compartments in model ContextModel. Compartments will be deduced heuristically using regular expressions.\n",
      "Using regular expression found the following compartments:c, e, g, l, m, n, r, x\n"
     ]
    },
    {
     "name": "stdout",
     "output_type": "stream",
     "text": [
      "The simulation of GTEX-1HBPI-0011-R1b-SM-A9SKF fluxes takes: 1.7741291522979736 seconds\n",
      "The simulation of GTEX-ZYVF-1726-SM-5E443 fluxes takes: 1.6898338794708252 seconds\n"
     ]
    },
    {
     "name": "stderr",
     "output_type": "stream",
     "text": [
      "No defined compartments in model ContextModel. Compartments will be deduced heuristically using regular expressions.\n",
      "Using regular expression found the following compartments:c, e, g, i, l, m, n, r, x\n"
     ]
    },
    {
     "name": "stdout",
     "output_type": "stream",
     "text": [
      "The simulation of GTEX-18A66-0926-SM-718BG fluxes takes: 2.3321449756622314 seconds\n"
     ]
    },
    {
     "name": "stderr",
     "output_type": "stream",
     "text": [
      "No defined compartments in model ContextModel. Compartments will be deduced heuristically using regular expressions.\n",
      "Using regular expression found the following compartments:c, e, g, i, l, m, n, r, x\n"
     ]
    },
    {
     "name": "stdout",
     "output_type": "stream",
     "text": [
      "The simulation of GTEX-14C5O-0011-R1b-SM-6AJBW fluxes takes: 1.5960838794708252 seconds\n"
     ]
    },
    {
     "name": "stderr",
     "output_type": "stream",
     "text": [
      "No defined compartments in model ContextModel. Compartments will be deduced heuristically using regular expressions.\n",
      "Using regular expression found the following compartments:c, e, g, i, l, m, n, r, x\n"
     ]
    },
    {
     "name": "stdout",
     "output_type": "stream",
     "text": [
      "The simulation of GTEX-OHPN-0011-R1A-SM-2I5GB fluxes takes: 1.6953530311584473 seconds\n"
     ]
    },
    {
     "name": "stderr",
     "output_type": "stream",
     "text": [
      "No defined compartments in model ContextModel. Compartments will be deduced heuristically using regular expressions.\n",
      "Using regular expression found the following compartments:c, e, g, l, m, n, r, x\n"
     ]
    },
    {
     "name": "stdout",
     "output_type": "stream",
     "text": [
      "The simulation of GTEX-REY6-0426-SM-2TF5G fluxes takes: 20.073464155197144 seconds\n"
     ]
    },
    {
     "name": "stderr",
     "output_type": "stream",
     "text": [
      "No defined compartments in model ContextModel. Compartments will be deduced heuristically using regular expressions.\n",
      "Using regular expression found the following compartments:c, e, g, l, m, n, r, x\n"
     ]
    },
    {
     "name": "stdout",
     "output_type": "stream",
     "text": [
      "The simulation of GTEX-ZUA1-1026-SM-4YCEA fluxes takes: 1.560384750366211 seconds\n"
     ]
    },
    {
     "name": "stderr",
     "output_type": "stream",
     "text": [
      "No defined compartments in model ContextModel. Compartments will be deduced heuristically using regular expressions.\n",
      "Using regular expression found the following compartments:c, e, g, l, m, n, r, x\n"
     ]
    },
    {
     "name": "stdout",
     "output_type": "stream",
     "text": [
      "The simulation of GTEX-139T8-0011-R1a-SM-5HL75 fluxes takes: 1.6246089935302734 seconds\n"
     ]
    },
    {
     "name": "stderr",
     "output_type": "stream",
     "text": [
      "No defined compartments in model ContextModel. Compartments will be deduced heuristically using regular expressions.\n",
      "Using regular expression found the following compartments:c, e, g, l, m, n, r, x\n"
     ]
    },
    {
     "name": "stdout",
     "output_type": "stream",
     "text": [
      "The simulation of GTEX-1LGRB-0226-SM-CNPQK fluxes takes: 1.7243199348449707 seconds\n"
     ]
    },
    {
     "name": "stderr",
     "output_type": "stream",
     "text": [
      "No defined compartments in model ContextModel. Compartments will be deduced heuristically using regular expressions.\n",
      "Using regular expression found the following compartments:c, e, g, i, l, m, n, r, x\n"
     ]
    },
    {
     "name": "stdout",
     "output_type": "stream",
     "text": [
      "The simulation of GTEX-1GN73-0011-R1a-SM-CKZNT fluxes takes: 1.6463103294372559 seconds\n"
     ]
    },
    {
     "name": "stderr",
     "output_type": "stream",
     "text": [
      "No defined compartments in model ContextModel. Compartments will be deduced heuristically using regular expressions.\n",
      "Using regular expression found the following compartments:c, e, g, i, l, m, n, r, x\n"
     ]
    },
    {
     "name": "stdout",
     "output_type": "stream",
     "text": [
      "The simulation of GTEX-1EX96-0226-SM-7RHHR fluxes takes: 2.537804126739502 seconds\n"
     ]
    },
    {
     "name": "stderr",
     "output_type": "stream",
     "text": [
      "No defined compartments in model ContextModel. Compartments will be deduced heuristically using regular expressions.\n",
      "Using regular expression found the following compartments:c, e, g, i, l, m, n, r, x\n"
     ]
    },
    {
     "name": "stdout",
     "output_type": "stream",
     "text": [
      "The simulation of GTEX-17JCI-0011-R1b-SM-718A3 fluxes takes: 2.0657827854156494 seconds\n"
     ]
    },
    {
     "name": "stderr",
     "output_type": "stream",
     "text": [
      "No defined compartments in model ContextModel. Compartments will be deduced heuristically using regular expressions.\n",
      "Using regular expression found the following compartments:c, e, g, i, l, m, n, r, x\n"
     ]
    },
    {
     "name": "stdout",
     "output_type": "stream",
     "text": [
      "The simulation of GTEX-13O3O-0011-R1b-SM-5KM2K fluxes takes: 2.7803471088409424 seconds\n"
     ]
    },
    {
     "name": "stderr",
     "output_type": "stream",
     "text": [
      "No defined compartments in model ContextModel. Compartments will be deduced heuristically using regular expressions.\n",
      "Using regular expression found the following compartments:c, e, g, i, l, m, n, r, x\n"
     ]
    },
    {
     "name": "stdout",
     "output_type": "stream",
     "text": [
      "The simulation of GTEX-ZDXO-0011-R1a-SM-4WKF4 fluxes takes: 1.8057329654693604 seconds\n"
     ]
    },
    {
     "name": "stderr",
     "output_type": "stream",
     "text": [
      "No defined compartments in model ContextModel. Compartments will be deduced heuristically using regular expressions.\n",
      "Using regular expression found the following compartments:c, e, g, i, l, m, n, r, x\n"
     ]
    },
    {
     "name": "stdout",
     "output_type": "stream",
     "text": [
      "The simulation of GTEX-13OW6-0011-R1a-SM-5L3HQ fluxes takes: 1.7124080657958984 seconds\n"
     ]
    },
    {
     "name": "stderr",
     "output_type": "stream",
     "text": [
      "No defined compartments in model ContextModel. Compartments will be deduced heuristically using regular expressions.\n",
      "Using regular expression found the following compartments:c, e, g, i, l, m, n, r, x\n"
     ]
    },
    {
     "name": "stdout",
     "output_type": "stream",
     "text": [
      "The simulation of GTEX-13FH7-1726-SM-5IJE7 fluxes takes: 2.593719005584717 seconds\n"
     ]
    },
    {
     "name": "stderr",
     "output_type": "stream",
     "text": [
      "No defined compartments in model ContextModel. Compartments will be deduced heuristically using regular expressions.\n",
      "Using regular expression found the following compartments:c, e, g, i, l, m, n, r, x\n",
      "No defined compartments in model ContextModel. Compartments will be deduced heuristically using regular expressions.\n",
      "Using regular expression found the following compartments:c, e, g, l, m, n, r, x\n"
     ]
    },
    {
     "name": "stdout",
     "output_type": "stream",
     "text": [
      "The simulation of GTEX-Q2AG-0011-R1A-SM-2HMJI fluxes takes: 2.1922497749328613 seconds\n",
      "The simulation of GTEX-1JMPZ-1126-SM-ARU8X fluxes takes: 1.618807077407837 seconds\n"
     ]
    },
    {
     "name": "stderr",
     "output_type": "stream",
     "text": [
      "No defined compartments in model ContextModel. Compartments will be deduced heuristically using regular expressions.\n",
      "Using regular expression found the following compartments:c, e, g, i, l, m, n, r, x\n"
     ]
    },
    {
     "name": "stdout",
     "output_type": "stream",
     "text": [
      "The simulation of GTEX-13G51-0011-R1a-SM-5LZYR fluxes takes: 1.8620920181274414 seconds\n"
     ]
    },
    {
     "name": "stderr",
     "output_type": "stream",
     "text": [
      "No defined compartments in model ContextModel. Compartments will be deduced heuristically using regular expressions.\n",
      "Using regular expression found the following compartments:c, e, g, i, l, m, n, r, x\n"
     ]
    },
    {
     "name": "stdout",
     "output_type": "stream",
     "text": [
      "The simulation of GTEX-1B8L1-0011-R1a-SM-7P8SS fluxes takes: 2.6052868366241455 seconds\n"
     ]
    },
    {
     "name": "stderr",
     "output_type": "stream",
     "text": [
      "No defined compartments in model ContextModel. Compartments will be deduced heuristically using regular expressions.\n",
      "Using regular expression found the following compartments:c, e, g, l, m, n, r, x\n"
     ]
    },
    {
     "name": "stdout",
     "output_type": "stream",
     "text": [
      "The simulation of GTEX-ZE7O-0826-SM-57WCP fluxes takes: 1.794827938079834 seconds\n"
     ]
    },
    {
     "name": "stderr",
     "output_type": "stream",
     "text": [
      "No defined compartments in model ContextModel. Compartments will be deduced heuristically using regular expressions.\n",
      "Using regular expression found the following compartments:c, e, g, i, l, m, n, r, x\n"
     ]
    },
    {
     "name": "stdout",
     "output_type": "stream",
     "text": [
      "The simulation of GTEX-OIZG-0526-SM-2HMLF fluxes takes: 2.2756168842315674 seconds\n"
     ]
    },
    {
     "name": "stderr",
     "output_type": "stream",
     "text": [
      "No defined compartments in model ContextModel. Compartments will be deduced heuristically using regular expressions.\n",
      "Using regular expression found the following compartments:c, e, g, l, m, n, r, x\n"
     ]
    },
    {
     "name": "stdout",
     "output_type": "stream",
     "text": [
      "The simulation of GTEX-S7SE-0011-R1A-SM-2XCDE fluxes takes: 1.7777810096740723 seconds\n"
     ]
    },
    {
     "name": "stderr",
     "output_type": "stream",
     "text": [
      "No defined compartments in model ContextModel. Compartments will be deduced heuristically using regular expressions.\n",
      "Using regular expression found the following compartments:c, e, g, l, m, n, r, x\n"
     ]
    },
    {
     "name": "stdout",
     "output_type": "stream",
     "text": [
      "The simulation of GTEX-13NZA-1426-SM-5KM4Y fluxes takes: 1.5815801620483398 seconds\n"
     ]
    },
    {
     "name": "stderr",
     "output_type": "stream",
     "text": [
      "No defined compartments in model ContextModel. Compartments will be deduced heuristically using regular expressions.\n",
      "Using regular expression found the following compartments:c, e, g, i, l, m, n, r, x\n"
     ]
    },
    {
     "name": "stdout",
     "output_type": "stream",
     "text": [
      "The simulation of GTEX-111VG-0726-SM-5GIDC fluxes takes: 2.5303921699523926 seconds\n"
     ]
    },
    {
     "name": "stderr",
     "output_type": "stream",
     "text": [
      "No defined compartments in model ContextModel. Compartments will be deduced heuristically using regular expressions.\n",
      "Using regular expression found the following compartments:c, e, g, i, l, m, n, r, x\n"
     ]
    },
    {
     "name": "stdout",
     "output_type": "stream",
     "text": [
      "The simulation of GTEX-ZUA1-0011-R1a-SM-4YCE2 fluxes takes: 1.7750821113586426 seconds\n"
     ]
    },
    {
     "name": "stderr",
     "output_type": "stream",
     "text": [
      "No defined compartments in model ContextModel. Compartments will be deduced heuristically using regular expressions.\n",
      "Using regular expression found the following compartments:c, e, g, i, l, m, n, r, x\n"
     ]
    },
    {
     "name": "stdout",
     "output_type": "stream",
     "text": [
      "The simulation of GTEX-1HSMO-0011-R1a-SM-CM2SV fluxes takes: 1.848811149597168 seconds\n"
     ]
    },
    {
     "name": "stderr",
     "output_type": "stream",
     "text": [
      "No defined compartments in model ContextModel. Compartments will be deduced heuristically using regular expressions.\n",
      "Using regular expression found the following compartments:c, e, g, l, m, n, r, x\n"
     ]
    },
    {
     "name": "stdout",
     "output_type": "stream",
     "text": [
      "The simulation of GTEX-117YW-0526-SM-5H11C fluxes takes: 1.3287451267242432 seconds\n"
     ]
    },
    {
     "name": "stderr",
     "output_type": "stream",
     "text": [
      "No defined compartments in model ContextModel. Compartments will be deduced heuristically using regular expressions.\n",
      "Using regular expression found the following compartments:c, e, g, l, m, n, r, x\n"
     ]
    },
    {
     "name": "stdout",
     "output_type": "stream",
     "text": [
      "The simulation of GTEX-139YR-0926-SM-5LZYB fluxes takes: 1.6473350524902344 seconds\n"
     ]
    },
    {
     "name": "stderr",
     "output_type": "stream",
     "text": [
      "No defined compartments in model ContextModel. Compartments will be deduced heuristically using regular expressions.\n",
      "Using regular expression found the following compartments:c, e, g, i, l, m, n, r, x\n"
     ]
    },
    {
     "name": "stdout",
     "output_type": "stream",
     "text": [
      "The simulation of GTEX-YJ89-0011-R1a-SM-4RGLS fluxes takes: 24.712336778640747 seconds\n"
     ]
    },
    {
     "name": "stderr",
     "output_type": "stream",
     "text": [
      "No defined compartments in model ContextModel. Compartments will be deduced heuristically using regular expressions.\n",
      "Using regular expression found the following compartments:c, e, g, l, m, n, r, x\n"
     ]
    },
    {
     "name": "stdout",
     "output_type": "stream",
     "text": [
      "The simulation of GTEX-QEG5-1126-SM-33HC2 fluxes takes: 1.5404119491577148 seconds\n"
     ]
    },
    {
     "name": "stderr",
     "output_type": "stream",
     "text": [
      "No defined compartments in model ContextModel. Compartments will be deduced heuristically using regular expressions.\n",
      "Using regular expression found the following compartments:c, e, g, i, l, m, n, r, x\n"
     ]
    },
    {
     "name": "stdout",
     "output_type": "stream",
     "text": [
      "The simulation of GTEX-13N1W-0726-SM-5MR57 fluxes takes: 2.711210012435913 seconds\n"
     ]
    },
    {
     "name": "stderr",
     "output_type": "stream",
     "text": [
      "No defined compartments in model ContextModel. Compartments will be deduced heuristically using regular expressions.\n",
      "Using regular expression found the following compartments:c, e, g, i, l, m, n, r, x\n"
     ]
    },
    {
     "name": "stdout",
     "output_type": "stream",
     "text": [
      "The simulation of GTEX-14E7W-0011-R1b-SM-5YYAT fluxes takes: 1.8352928161621094 seconds\n"
     ]
    },
    {
     "name": "stderr",
     "output_type": "stream",
     "text": [
      "No defined compartments in model ContextModel. Compartments will be deduced heuristically using regular expressions.\n",
      "Using regular expression found the following compartments:c, e, g, i, l, m, n, r, x\n"
     ]
    },
    {
     "name": "stdout",
     "output_type": "stream",
     "text": [
      "The simulation of GTEX-13FHO-0011-R1b-SM-5KLZG fluxes takes: 1.726708173751831 seconds\n"
     ]
    },
    {
     "name": "stderr",
     "output_type": "stream",
     "text": [
      "No defined compartments in model ContextModel. Compartments will be deduced heuristically using regular expressions.\n",
      "Using regular expression found the following compartments:c, e, g, i, l, m, n, r, x\n"
     ]
    },
    {
     "name": "stdout",
     "output_type": "stream",
     "text": [
      "The simulation of GTEX-11ZTS-1226-SM-5EQMQ fluxes takes: 2.2891881465911865 seconds\n"
     ]
    },
    {
     "name": "stderr",
     "output_type": "stream",
     "text": [
      "No defined compartments in model ContextModel. Compartments will be deduced heuristically using regular expressions.\n",
      "Using regular expression found the following compartments:c, e, g, l, m, n, r, x\n"
     ]
    },
    {
     "name": "stdout",
     "output_type": "stream",
     "text": [
      "The simulation of GTEX-13SLW-0011-R1a-SM-5S2W7 fluxes takes: 1.7646739482879639 seconds\n"
     ]
    },
    {
     "name": "stderr",
     "output_type": "stream",
     "text": [
      "No defined compartments in model ContextModel. Compartments will be deduced heuristically using regular expressions.\n",
      "Using regular expression found the following compartments:c, e, g, i, l, m, n, r, x\n",
      "No defined compartments in model ContextModel. Compartments will be deduced heuristically using regular expressions.\n",
      "Using regular expression found the following compartments:c, e, g, i, l, m, n, r, x\n"
     ]
    },
    {
     "name": "stdout",
     "output_type": "stream",
     "text": [
      "The simulation of GTEX-1H3VE-0011-R1a-SM-A9G1K fluxes takes: 1.796058177947998 seconds\n"
     ]
    },
    {
     "name": "stderr",
     "output_type": "stream",
     "text": [
      "No defined compartments in model ContextModel. Compartments will be deduced heuristically using regular expressions.\n",
      "Using regular expression found the following compartments:c, e, g, l, m, n, r, x\n"
     ]
    },
    {
     "name": "stdout",
     "output_type": "stream",
     "text": [
      "The simulation of GTEX-14XAO-0526-SM-6AJB7 fluxes takes: 1.6552650928497314 seconds\n"
     ]
    },
    {
     "name": "stderr",
     "output_type": "stream",
     "text": [
      "No defined compartments in model ContextModel. Compartments will be deduced heuristically using regular expressions.\n",
      "Using regular expression found the following compartments:c, e, g, l, m, n, r, x\n"
     ]
    },
    {
     "name": "stdout",
     "output_type": "stream",
     "text": [
      "The simulation of GTEX-13JVG-1426-SM-5MR4W fluxes takes: 1.8561091423034668 seconds\n"
     ]
    },
    {
     "name": "stderr",
     "output_type": "stream",
     "text": [
      "No defined compartments in model ContextModel. Compartments will be deduced heuristically using regular expressions.\n",
      "Using regular expression found the following compartments:c, e, g, l, m, n, r, x\n"
     ]
    },
    {
     "name": "stdout",
     "output_type": "stream",
     "text": [
      "The simulation of GTEX-NPJ8-0011-R1a-SM-33HCB fluxes takes: 1.5162148475646973 seconds\n"
     ]
    },
    {
     "name": "stderr",
     "output_type": "stream",
     "text": [
      "No defined compartments in model ContextModel. Compartments will be deduced heuristically using regular expressions.\n",
      "Using regular expression found the following compartments:c, e, g, i, l, m, n, r, x\n"
     ]
    },
    {
     "name": "stdout",
     "output_type": "stream",
     "text": [
      "The simulation of GTEX-16AAH-0426-SM-7DUFM fluxes takes: 1.6379857063293457 seconds\n"
     ]
    },
    {
     "name": "stderr",
     "output_type": "stream",
     "text": [
      "No defined compartments in model ContextModel. Compartments will be deduced heuristically using regular expressions.\n",
      "Using regular expression found the following compartments:c, e, g, l, m, n, r, x\n"
     ]
    },
    {
     "name": "stdout",
     "output_type": "stream",
     "text": [
      "The simulation of GTEX-12WSM-0011-R1a-SM-5LZW6 fluxes takes: 1.7288391590118408 seconds\n"
     ]
    },
    {
     "name": "stderr",
     "output_type": "stream",
     "text": [
      "No defined compartments in model ContextModel. Compartments will be deduced heuristically using regular expressions.\n",
      "Using regular expression found the following compartments:c, e, g, i, l, m, n, r, x\n"
     ]
    },
    {
     "name": "stdout",
     "output_type": "stream",
     "text": [
      "The simulation of GTEX-1QCLY-1026-SM-EWRNI fluxes takes: 1.622434139251709 seconds\n",
      "The simulation of GTEX-1E1VI-0011-R1a-SM-ARZMM fluxes takes: 1.8071837425231934 seconds\n"
     ]
    },
    {
     "name": "stderr",
     "output_type": "stream",
     "text": [
      "No defined compartments in model ContextModel. Compartments will be deduced heuristically using regular expressions.\n",
      "Using regular expression found the following compartments:c, e, g, l, m, n, r, x\n"
     ]
    },
    {
     "name": "stdout",
     "output_type": "stream",
     "text": [
      "The simulation of GTEX-1QEPI-0826-SM-DTX9B fluxes takes: 1.4926531314849854 seconds\n"
     ]
    },
    {
     "name": "stderr",
     "output_type": "stream",
     "text": [
      "No defined compartments in model ContextModel. Compartments will be deduced heuristically using regular expressions.\n",
      "Using regular expression found the following compartments:c, e, g, l, m, n, r, x\n"
     ]
    },
    {
     "name": "stdout",
     "output_type": "stream",
     "text": [
      "The simulation of GTEX-X4XY-1026-SM-46MVX fluxes takes: 1.468322992324829 seconds\n"
     ]
    },
    {
     "name": "stderr",
     "output_type": "stream",
     "text": [
      "No defined compartments in model ContextModel. Compartments will be deduced heuristically using regular expressions.\n",
      "Using regular expression found the following compartments:c, e, g, l, m, n, r, x\n"
     ]
    },
    {
     "name": "stdout",
     "output_type": "stream",
     "text": [
      "The simulation of GTEX-1H3O1-0326-SM-9WPO8 fluxes takes: 1.5721981525421143 seconds\n"
     ]
    },
    {
     "name": "stderr",
     "output_type": "stream",
     "text": [
      "No defined compartments in model ContextModel. Compartments will be deduced heuristically using regular expressions.\n",
      "Using regular expression found the following compartments:c, e, g, i, l, m, n, r, x\n"
     ]
    },
    {
     "name": "stdout",
     "output_type": "stream",
     "text": [
      "The simulation of GTEX-14LLW-0011-R1a-SM-5ZZVD fluxes takes: 2.063645839691162 seconds\n"
     ]
    },
    {
     "name": "stderr",
     "output_type": "stream",
     "text": [
      "No defined compartments in model ContextModel. Compartments will be deduced heuristically using regular expressions.\n",
      "Using regular expression found the following compartments:c, e, g, i, l, m, n, r, x\n"
     ]
    },
    {
     "name": "stdout",
     "output_type": "stream",
     "text": [
      "The simulation of GTEX-QMR6-0011-R1A-SM-32PKW fluxes takes: 1.7143292427062988 seconds\n"
     ]
    },
    {
     "name": "stderr",
     "output_type": "stream",
     "text": [
      "No defined compartments in model ContextModel. Compartments will be deduced heuristically using regular expressions.\n",
      "Using regular expression found the following compartments:c, e, g, i, l, m, n, r, x\n"
     ]
    },
    {
     "name": "stdout",
     "output_type": "stream",
     "text": [
      "The simulation of GTEX-1HT8W-0011-R1b-SM-CJI3V fluxes takes: 1.7664730548858643 seconds\n"
     ]
    },
    {
     "name": "stderr",
     "output_type": "stream",
     "text": [
      "No defined compartments in model ContextModel. Compartments will be deduced heuristically using regular expressions.\n",
      "Using regular expression found the following compartments:c, e, g, i, l, m, n, r, x\n"
     ]
    },
    {
     "name": "stdout",
     "output_type": "stream",
     "text": [
      "The simulation of GTEX-1B97I-0226-SM-73KVO fluxes takes: 2.238959789276123 seconds\n"
     ]
    },
    {
     "name": "stderr",
     "output_type": "stream",
     "text": [
      "No defined compartments in model ContextModel. Compartments will be deduced heuristically using regular expressions.\n",
      "Using regular expression found the following compartments:c, e, g, l, m, n, r, x\n"
     ]
    },
    {
     "name": "stdout",
     "output_type": "stream",
     "text": [
      "The simulation of GTEX-WYVS-0526-SM-3NM9W fluxes takes: 1.825181245803833 seconds\n"
     ]
    },
    {
     "name": "stderr",
     "output_type": "stream",
     "text": [
      "No defined compartments in model ContextModel. Compartments will be deduced heuristically using regular expressions.\n",
      "Using regular expression found the following compartments:c, e, g, i, l, m, n, r, x\n",
      "No defined compartments in model ContextModel. Compartments will be deduced heuristically using regular expressions.\n",
      "Using regular expression found the following compartments:c, e, g, l, m, n, r, x\n"
     ]
    },
    {
     "name": "stdout",
     "output_type": "stream",
     "text": [
      "The simulation of GTEX-1EX96-0011-R1a-SM-CE6R5 fluxes takes: 1.651641845703125 seconds\n",
      "The simulation of GTEX-13JUV-0526-SM-5K7XE fluxes takes: 1.511864185333252 seconds\n"
     ]
    },
    {
     "name": "stderr",
     "output_type": "stream",
     "text": [
      "No defined compartments in model ContextModel. Compartments will be deduced heuristically using regular expressions.\n",
      "Using regular expression found the following compartments:c, e, g, i, l, m, n, r, x\n",
      "No defined compartments in model ContextModel. Compartments will be deduced heuristically using regular expressions.\n",
      "Using regular expression found the following compartments:c, e, g, l, m, n, r, x\n"
     ]
    },
    {
     "name": "stdout",
     "output_type": "stream",
     "text": [
      "The simulation of GTEX-14PN4-0011-R1b-SM-69LP8 fluxes takes: 2.6512582302093506 seconds\n",
      "The simulation of GTEX-ZTPG-0926-SM-5O99H fluxes takes: 1.4929180145263672 seconds\n"
     ]
    },
    {
     "name": "stderr",
     "output_type": "stream",
     "text": [
      "No defined compartments in model ContextModel. Compartments will be deduced heuristically using regular expressions.\n",
      "Using regular expression found the following compartments:c, e, g, i, l, m, n, r, x\n",
      "No defined compartments in model ContextModel. Compartments will be deduced heuristically using regular expressions.\n",
      "Using regular expression found the following compartments:c, e, g, l, m, n, r, x\n"
     ]
    },
    {
     "name": "stdout",
     "output_type": "stream",
     "text": [
      "The simulation of GTEX-13FLW-0011-R1b-SM-5LZX2 fluxes takes: 2.1368207931518555 seconds\n",
      "The simulation of GTEX-1FIGZ-0326-SM-7RHGT fluxes takes: 1.5978419780731201 seconds\n"
     ]
    },
    {
     "name": "stderr",
     "output_type": "stream",
     "text": [
      "No defined compartments in model ContextModel. Compartments will be deduced heuristically using regular expressions.\n",
      "Using regular expression found the following compartments:c, e, g, i, l, m, n, r, x\n"
     ]
    },
    {
     "name": "stdout",
     "output_type": "stream",
     "text": [
      "The simulation of GTEX-1JMQJ-2126-SM-CNPPA fluxes takes: 2.2916948795318604 seconds\n"
     ]
    },
    {
     "name": "stderr",
     "output_type": "stream",
     "text": [
      "No defined compartments in model ContextModel. Compartments will be deduced heuristically using regular expressions.\n",
      "Using regular expression found the following compartments:c, e, g, l, m, n, r, x\n"
     ]
    },
    {
     "name": "stdout",
     "output_type": "stream",
     "text": [
      "The simulation of GTEX-P44H-1126-SM-48TBU fluxes takes: 1.6806190013885498 seconds\n"
     ]
    }
   ],
   "source": [
    "models = []\n",
    "solutions = []\n",
    "times = []\n",
    "\n",
    "for file_path in file_paths:\n",
    "    model = cobra.io.load_matlab_model(file_path)\n",
    "    model.id = os.path.splitext(os.path.basename(file_path))[0].replace(\"_\", \"-\")\n",
    "    \n",
    "    t0 = time.time()  \n",
    "    model.objective = 'biomass_maintenance'\n",
    "    solution = cobra.flux_analysis.pfba(model) # cobra.flux_analysis.parsimonious.pfba\n",
    "    t = time.time()  \n",
    "    pfba_time = t - t0\n",
    "    \n",
    "    print(f\"The simulation of {model.id} fluxes takes: {pfba_time} seconds\")\n",
    "    \n",
    "    models.append(model)\n",
    "    solutions.append(solution)\n",
    "    times.append(pfba_time)"
   ]
  },
  {
   "cell_type": "code",
   "execution_count": 6,
   "id": "c2ddbef4-7521-443d-a52b-1734f5ebe1ab",
   "metadata": {},
   "outputs": [
    {
     "name": "stdout",
     "output_type": "stream",
     "text": [
      "The 5% of Recon 3D objective value is 13832.493273199752\n",
      "There are 0 models that aren't feasible because of their low objective value.\n",
      "\n"
     ]
    },
    {
     "data": {
      "text/html": [
       "<div>\n",
       "<style scoped>\n",
       "    .dataframe tbody tr th:only-of-type {\n",
       "        vertical-align: middle;\n",
       "    }\n",
       "\n",
       "    .dataframe tbody tr th {\n",
       "        vertical-align: top;\n",
       "    }\n",
       "\n",
       "    .dataframe thead th {\n",
       "        text-align: right;\n",
       "    }\n",
       "</style>\n",
       "<table border=\"1\" class=\"dataframe\">\n",
       "  <thead>\n",
       "    <tr style=\"text-align: right;\">\n",
       "      <th></th>\n",
       "      <th>objective_value</th>\n",
       "      <th>percent_ov</th>\n",
       "      <th>feasible_models</th>\n",
       "    </tr>\n",
       "  </thead>\n",
       "  <tbody>\n",
       "    <tr>\n",
       "      <th>GTEX-1I1GS-0011-R1a-SM-CJI43</th>\n",
       "      <td>236049.955687</td>\n",
       "      <td>85.324443</td>\n",
       "      <td>TRUE</td>\n",
       "    </tr>\n",
       "    <tr>\n",
       "      <th>GTEX-1LB8K-0011-R1b-SM-EZ6MV</th>\n",
       "      <td>123348.177598</td>\n",
       "      <td>44.586386</td>\n",
       "      <td>TRUE</td>\n",
       "    </tr>\n",
       "    <tr>\n",
       "      <th>GTEX-14JG1-0926-SM-5YY8W</th>\n",
       "      <td>86188.709983</td>\n",
       "      <td>31.154438</td>\n",
       "      <td>TRUE</td>\n",
       "    </tr>\n",
       "    <tr>\n",
       "      <th>GTEX-1H4P4-0011-R1b-SM-CL54V</th>\n",
       "      <td>129239.238194</td>\n",
       "      <td>46.715815</td>\n",
       "      <td>TRUE</td>\n",
       "    </tr>\n",
       "    <tr>\n",
       "      <th>GTEX-XMD2-1026-SM-4WWE8</th>\n",
       "      <td>107745.002714</td>\n",
       "      <td>38.946342</td>\n",
       "      <td>TRUE</td>\n",
       "    </tr>\n",
       "  </tbody>\n",
       "</table>\n",
       "</div>"
      ],
      "text/plain": [
       "                              objective_value  percent_ov feasible_models\n",
       "GTEX-1I1GS-0011-R1a-SM-CJI43    236049.955687   85.324443            TRUE\n",
       "GTEX-1LB8K-0011-R1b-SM-EZ6MV    123348.177598   44.586386            TRUE\n",
       "GTEX-14JG1-0926-SM-5YY8W         86188.709983   31.154438            TRUE\n",
       "GTEX-1H4P4-0011-R1b-SM-CL54V    129239.238194   46.715815            TRUE\n",
       "GTEX-XMD2-1026-SM-4WWE8         107745.002714   38.946342            TRUE"
      ]
     },
     "execution_count": 6,
     "metadata": {},
     "output_type": "execute_result"
    }
   ],
   "source": [
    "r_models = pd.DataFrame(index = [model.id for model in models])\n",
    "\n",
    "for i, solution in enumerate(solutions, start = 0):\n",
    "    ov_m = solution.objective_value\n",
    "    percent = (ov_m/ov) * 100\n",
    "    \n",
    "    r_models.loc[r_models.index[i], 'objective_value'] = ov_m\n",
    "    r_models.loc[r_models.index[i], 'percent_ov'] = percent\n",
    "    r_models.loc[r_models.index[i], 'feasible_models'] = \"TRUE\" if percent > 5 else \"FALSE\"\n",
    "\n",
    "\n",
    "print(f\"The 5% of Recon 3D objective value is {5/100*ov}\")\n",
    "print(f\"There are {r_models['feasible_models'].eq('FALSE').sum()} models that aren't feasible because of their low objective value.\\n\")\n",
    "r_models.head()"
   ]
  },
  {
   "cell_type": "code",
   "execution_count": 32,
   "id": "134eed45-ad4b-4434-a37d-2437f65a906c",
   "metadata": {},
   "outputs": [
    {
     "data": {
      "image/png": "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",
      "text/plain": [
       "<Figure size 1500x1000 with 2 Axes>"
      ]
     },
     "metadata": {},
     "output_type": "display_data"
    }
   ],
   "source": [
    "fig, axes = plt.subplots(nrows = 1, ncols = 2, figsize = (15, 10))\n",
    "\n",
    "sns.histplot(r_models[\"objective_value\"], kde = True, color = '#C39BF1', ax = axes[0])\n",
    "sns.histplot(r_models[\"objective_value\"], kde = True, color = '#C39BF1', ax = axes[1])\n",
    "plt.axvline(x = ov, color = 'r', linestyle = '--')\n",
    "for ax in axes:\n",
    "    ax.set_xlabel('Objective value')"
   ]
  },
  {
   "cell_type": "markdown",
   "id": "0a989fc5-7df8-45af-96b8-04e1357b0f9b",
   "metadata": {},
   "source": [
    "# RESULTS VISUALIZATION"
   ]
  },
  {
   "cell_type": "markdown",
   "id": "2df342c1-6a6e-4104-87d5-2bade075f842",
   "metadata": {},
   "source": [
    "## CREATION OF THE FLUXOMES DATAFRAME"
   ]
  },
  {
   "cell_type": "code",
   "execution_count": 8,
   "id": "dd2a2059-9760-4258-84b3-0ba49dca19ba",
   "metadata": {},
   "outputs": [
    {
     "data": {
      "text/html": [
       "<div>\n",
       "<style scoped>\n",
       "    .dataframe tbody tr th:only-of-type {\n",
       "        vertical-align: middle;\n",
       "    }\n",
       "\n",
       "    .dataframe tbody tr th {\n",
       "        vertical-align: top;\n",
       "    }\n",
       "\n",
       "    .dataframe thead th {\n",
       "        text-align: right;\n",
       "    }\n",
       "</style>\n",
       "<table border=\"1\" class=\"dataframe\">\n",
       "  <thead>\n",
       "    <tr style=\"text-align: right;\">\n",
       "      <th></th>\n",
       "      <th>10FTHF7GLUtl</th>\n",
       "      <th>10FTHF7GLUtm</th>\n",
       "      <th>10FTHFtl</th>\n",
       "      <th>13DAMPPOX</th>\n",
       "      <th>2AMACHYD</th>\n",
       "      <th>2AMACSULT</th>\n",
       "      <th>2HBO</th>\n",
       "      <th>2HBt2</th>\n",
       "      <th>2OXOADOXm</th>\n",
       "      <th>2OXOADPTm</th>\n",
       "      <th>...</th>\n",
       "      <th>HDCA24GSc</th>\n",
       "      <th>HDCA24GSr</th>\n",
       "      <th>HDCA24Gtr</th>\n",
       "      <th>EX_lstn1gluc[e]</th>\n",
       "      <th>LSTN1GLUChr</th>\n",
       "      <th>LSTN1GLUCtev</th>\n",
       "      <th>LSTN1GLUCitr</th>\n",
       "      <th>r1955</th>\n",
       "      <th>GLNATB0tc</th>\n",
       "      <th>RE0453C</th>\n",
       "    </tr>\n",
       "  </thead>\n",
       "  <tbody>\n",
       "    <tr>\n",
       "      <th>GTEX-1I1GS-0011-R1a-SM-CJI43</th>\n",
       "      <td>0.0</td>\n",
       "      <td>0.0</td>\n",
       "      <td>0.0</td>\n",
       "      <td>0.000000e+00</td>\n",
       "      <td>0.0</td>\n",
       "      <td>0.0</td>\n",
       "      <td>0.0</td>\n",
       "      <td>0.000000e+00</td>\n",
       "      <td>0.0</td>\n",
       "      <td>-540.644424</td>\n",
       "      <td>...</td>\n",
       "      <td>0.0</td>\n",
       "      <td>0.0</td>\n",
       "      <td>0.0</td>\n",
       "      <td>0.0</td>\n",
       "      <td>0.0</td>\n",
       "      <td>0.0</td>\n",
       "      <td>0.0</td>\n",
       "      <td>0.0</td>\n",
       "      <td>0.0</td>\n",
       "      <td>0.0</td>\n",
       "    </tr>\n",
       "    <tr>\n",
       "      <th>GTEX-1LB8K-0011-R1b-SM-EZ6MV</th>\n",
       "      <td>0.0</td>\n",
       "      <td>0.0</td>\n",
       "      <td>0.0</td>\n",
       "      <td>0.000000e+00</td>\n",
       "      <td>0.0</td>\n",
       "      <td>0.0</td>\n",
       "      <td>0.0</td>\n",
       "      <td>-3.192253e-12</td>\n",
       "      <td>0.0</td>\n",
       "      <td>0.000000</td>\n",
       "      <td>...</td>\n",
       "      <td>0.0</td>\n",
       "      <td>0.0</td>\n",
       "      <td>0.0</td>\n",
       "      <td>0.0</td>\n",
       "      <td>0.0</td>\n",
       "      <td>0.0</td>\n",
       "      <td>0.0</td>\n",
       "      <td>0.0</td>\n",
       "      <td>0.0</td>\n",
       "      <td>0.0</td>\n",
       "    </tr>\n",
       "    <tr>\n",
       "      <th>GTEX-14JG1-0926-SM-5YY8W</th>\n",
       "      <td>0.0</td>\n",
       "      <td>0.0</td>\n",
       "      <td>0.0</td>\n",
       "      <td>0.000000e+00</td>\n",
       "      <td>0.0</td>\n",
       "      <td>0.0</td>\n",
       "      <td>0.0</td>\n",
       "      <td>3.513490e-12</td>\n",
       "      <td>0.0</td>\n",
       "      <td>0.000000</td>\n",
       "      <td>...</td>\n",
       "      <td>0.0</td>\n",
       "      <td>0.0</td>\n",
       "      <td>0.0</td>\n",
       "      <td>0.0</td>\n",
       "      <td>0.0</td>\n",
       "      <td>0.0</td>\n",
       "      <td>0.0</td>\n",
       "      <td>0.0</td>\n",
       "      <td>0.0</td>\n",
       "      <td>0.0</td>\n",
       "    </tr>\n",
       "    <tr>\n",
       "      <th>GTEX-1H4P4-0011-R1b-SM-CL54V</th>\n",
       "      <td>0.0</td>\n",
       "      <td>0.0</td>\n",
       "      <td>0.0</td>\n",
       "      <td>0.000000e+00</td>\n",
       "      <td>0.0</td>\n",
       "      <td>0.0</td>\n",
       "      <td>0.0</td>\n",
       "      <td>0.000000e+00</td>\n",
       "      <td>0.0</td>\n",
       "      <td>0.000000</td>\n",
       "      <td>...</td>\n",
       "      <td>0.0</td>\n",
       "      <td>0.0</td>\n",
       "      <td>0.0</td>\n",
       "      <td>0.0</td>\n",
       "      <td>0.0</td>\n",
       "      <td>0.0</td>\n",
       "      <td>0.0</td>\n",
       "      <td>0.0</td>\n",
       "      <td>0.0</td>\n",
       "      <td>0.0</td>\n",
       "    </tr>\n",
       "    <tr>\n",
       "      <th>GTEX-XMD2-1026-SM-4WWE8</th>\n",
       "      <td>0.0</td>\n",
       "      <td>0.0</td>\n",
       "      <td>0.0</td>\n",
       "      <td>-1.684619e-30</td>\n",
       "      <td>0.0</td>\n",
       "      <td>0.0</td>\n",
       "      <td>0.0</td>\n",
       "      <td>0.000000e+00</td>\n",
       "      <td>0.0</td>\n",
       "      <td>0.000000</td>\n",
       "      <td>...</td>\n",
       "      <td>0.0</td>\n",
       "      <td>0.0</td>\n",
       "      <td>0.0</td>\n",
       "      <td>0.0</td>\n",
       "      <td>0.0</td>\n",
       "      <td>0.0</td>\n",
       "      <td>0.0</td>\n",
       "      <td>0.0</td>\n",
       "      <td>0.0</td>\n",
       "      <td>0.0</td>\n",
       "    </tr>\n",
       "  </tbody>\n",
       "</table>\n",
       "<p>5 rows × 8124 columns</p>\n",
       "</div>"
      ],
      "text/plain": [
       "                              10FTHF7GLUtl  10FTHF7GLUtm  10FTHFtl  \\\n",
       "GTEX-1I1GS-0011-R1a-SM-CJI43           0.0           0.0       0.0   \n",
       "GTEX-1LB8K-0011-R1b-SM-EZ6MV           0.0           0.0       0.0   \n",
       "GTEX-14JG1-0926-SM-5YY8W               0.0           0.0       0.0   \n",
       "GTEX-1H4P4-0011-R1b-SM-CL54V           0.0           0.0       0.0   \n",
       "GTEX-XMD2-1026-SM-4WWE8                0.0           0.0       0.0   \n",
       "\n",
       "                                 13DAMPPOX  2AMACHYD  2AMACSULT  2HBO  \\\n",
       "GTEX-1I1GS-0011-R1a-SM-CJI43  0.000000e+00       0.0        0.0   0.0   \n",
       "GTEX-1LB8K-0011-R1b-SM-EZ6MV  0.000000e+00       0.0        0.0   0.0   \n",
       "GTEX-14JG1-0926-SM-5YY8W      0.000000e+00       0.0        0.0   0.0   \n",
       "GTEX-1H4P4-0011-R1b-SM-CL54V  0.000000e+00       0.0        0.0   0.0   \n",
       "GTEX-XMD2-1026-SM-4WWE8      -1.684619e-30       0.0        0.0   0.0   \n",
       "\n",
       "                                     2HBt2  2OXOADOXm   2OXOADPTm  ...  \\\n",
       "GTEX-1I1GS-0011-R1a-SM-CJI43  0.000000e+00        0.0 -540.644424  ...   \n",
       "GTEX-1LB8K-0011-R1b-SM-EZ6MV -3.192253e-12        0.0    0.000000  ...   \n",
       "GTEX-14JG1-0926-SM-5YY8W      3.513490e-12        0.0    0.000000  ...   \n",
       "GTEX-1H4P4-0011-R1b-SM-CL54V  0.000000e+00        0.0    0.000000  ...   \n",
       "GTEX-XMD2-1026-SM-4WWE8       0.000000e+00        0.0    0.000000  ...   \n",
       "\n",
       "                              HDCA24GSc  HDCA24GSr  HDCA24Gtr  \\\n",
       "GTEX-1I1GS-0011-R1a-SM-CJI43        0.0        0.0        0.0   \n",
       "GTEX-1LB8K-0011-R1b-SM-EZ6MV        0.0        0.0        0.0   \n",
       "GTEX-14JG1-0926-SM-5YY8W            0.0        0.0        0.0   \n",
       "GTEX-1H4P4-0011-R1b-SM-CL54V        0.0        0.0        0.0   \n",
       "GTEX-XMD2-1026-SM-4WWE8             0.0        0.0        0.0   \n",
       "\n",
       "                              EX_lstn1gluc[e]  LSTN1GLUChr  LSTN1GLUCtev  \\\n",
       "GTEX-1I1GS-0011-R1a-SM-CJI43              0.0          0.0           0.0   \n",
       "GTEX-1LB8K-0011-R1b-SM-EZ6MV              0.0          0.0           0.0   \n",
       "GTEX-14JG1-0926-SM-5YY8W                  0.0          0.0           0.0   \n",
       "GTEX-1H4P4-0011-R1b-SM-CL54V              0.0          0.0           0.0   \n",
       "GTEX-XMD2-1026-SM-4WWE8                   0.0          0.0           0.0   \n",
       "\n",
       "                              LSTN1GLUCitr  r1955  GLNATB0tc  RE0453C  \n",
       "GTEX-1I1GS-0011-R1a-SM-CJI43           0.0    0.0        0.0      0.0  \n",
       "GTEX-1LB8K-0011-R1b-SM-EZ6MV           0.0    0.0        0.0      0.0  \n",
       "GTEX-14JG1-0926-SM-5YY8W               0.0    0.0        0.0      0.0  \n",
       "GTEX-1H4P4-0011-R1b-SM-CL54V           0.0    0.0        0.0      0.0  \n",
       "GTEX-XMD2-1026-SM-4WWE8                0.0    0.0        0.0      0.0  \n",
       "\n",
       "[5 rows x 8124 columns]"
      ]
     },
     "execution_count": 8,
     "metadata": {},
     "output_type": "execute_result"
    }
   ],
   "source": [
    "fluxes_df = pd.DataFrame(index = [model.id for model in models])\n",
    "\n",
    "for i, solution in enumerate(solutions, start = 0):\n",
    "    fluxes = solution.fluxes\n",
    "    \n",
    "    for reaction, flux in fluxes.items():\n",
    "        if reaction not in fluxes_df.columns:\n",
    "            fluxes_df[reaction] = 0.0\n",
    "        \n",
    "        fluxes_df.loc[fluxes_df.index[i], reaction] = flux\n",
    "        fluxes_df = fluxes_df.copy()\n",
    "\n",
    "fluxes_df.head()"
   ]
  },
  {
   "cell_type": "markdown",
   "id": "581b35aa-7bd4-4104-8fd9-393296e7b74f",
   "metadata": {},
   "source": [
    "## UMAP PROJECTION"
   ]
  },
  {
   "cell_type": "code",
   "execution_count": 9,
   "id": "26242c9b-376e-41c9-8435-1652b8bf7881",
   "metadata": {
    "scrolled": true
   },
   "outputs": [],
   "source": [
    "c_labs = pd.read_csv('/Users/claudiavicentecomorera/Desktop/TFG/Data/RNA_seq/clabs_bulk200.csv')\n",
    "d_clabs = {}\n",
    "\n",
    "for index, row in c_labs.iterrows():\n",
    "    sample = row['Sample_Name']\n",
    "    tissue = row['Cluster_Label']\n",
    "    if tissue in d_clabs:\n",
    "        d_clabs[tissue].append(sample)\n",
    "    else:\n",
    "        d_clabs[tissue] = [sample]"
   ]
  },
  {
   "cell_type": "code",
   "execution_count": 10,
   "id": "b798eaf9-38e6-47aa-8a93-5f9f4204befd",
   "metadata": {},
   "outputs": [],
   "source": [
    "l = []\n",
    "l_labs = []\n",
    "for key, value in d_clabs.items():\n",
    "    if key == 'hippocampus':\n",
    "        l.append(plt.Line2D([0], [0], marker='o', color='w', markerfacecolor='r', markersize=10))\n",
    "    elif key == 'lung':\n",
    "        l.append(plt.Line2D([0], [0], marker='o', color='w', markerfacecolor='b', markersize=10))\n",
    "    l_labs.append(key)"
   ]
  },
  {
   "cell_type": "code",
   "execution_count": 11,
   "id": "64ae95d1-e2c3-487b-9710-a034dd5b61dc",
   "metadata": {},
   "outputs": [],
   "source": [
    "colors = []\n",
    "\n",
    "for sample in fluxes_df.index:\n",
    "    for tissue in d_clabs:\n",
    "        for samples in d_clabs[tissue]:\n",
    "            if sample in samples:\n",
    "                if tissue == 'hippocampus':\n",
    "                    colors.append('r')\n",
    "                elif tissue == 'lung':\n",
    "                    colors.append('b')"
   ]
  },
  {
   "cell_type": "code",
   "execution_count": 12,
   "id": "7ad3dce5-e01c-46d4-8779-bf361a652d63",
   "metadata": {},
   "outputs": [
    {
     "data": {
      "image/png": "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",
      "text/plain": [
       "<Figure size 640x480 with 1 Axes>"
      ]
     },
     "metadata": {},
     "output_type": "display_data"
    }
   ],
   "source": [
    "reducer = umap.UMAP()\n",
    "embedding = reducer.fit_transform(fluxes_df)\n",
    "\n",
    "plt.scatter(embedding[:, 0], embedding[:, 1], c = colors) \n",
    "plt.legend(l, l_labs)\n",
    "plt.title('UMAP of 200 models fluxes distributions')\n",
    "plt.xlabel('UMAP 1')\n",
    "plt.ylabel('UMAP 2')\n",
    "plt.show()"
   ]
  },
  {
   "cell_type": "code",
   "execution_count": 13,
   "id": "611a666f-e639-4250-ac10-86ffefca8902",
   "metadata": {},
   "outputs": [
    {
     "data": {
      "image/png": "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",
      "text/plain": [
       "<Figure size 640x480 with 2 Axes>"
      ]
     },
     "metadata": {},
     "output_type": "display_data"
    }
   ],
   "source": [
    "d_ov = dict(zip(r_models.index, r_models['objective_value']))\n",
    "\n",
    "plt.scatter(embedding[:, 0], embedding[:, 1], c = [d_ov.get(index, -1) for index in fluxes_df.index], cmap = \"viridis\")\n",
    "plt.colorbar(label = 'Objective value')  \n",
    "plt.title('UMAP of 200 models fluxes distributions')\n",
    "plt.xlabel('UMAP 1')\n",
    "plt.ylabel('UMAP 2')\n",
    "plt.show()"
   ]
  },
  {
   "cell_type": "code",
   "execution_count": 14,
   "id": "cf26307e-86c8-4870-9951-366bd6f33d86",
   "metadata": {},
   "outputs": [
    {
     "data": {
      "text/plain": [
       "Text(74.44444444444444, 0.5, 'Cells')"
      ]
     },
     "execution_count": 14,
     "metadata": {},
     "output_type": "execute_result"
    },
    {
     "data": {
      "image/png": "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",
      "text/plain": [
       "<Figure size 640x480 with 2 Axes>"
      ]
     },
     "metadata": {},
     "output_type": "display_data"
    }
   ],
   "source": [
    "heatmap = sns.heatmap(fluxes_df, cmap = 'seismic', xticklabels = False, yticklabels = False, center = 0)\n",
    "cbar = heatmap.collections[0].colorbar\n",
    "cbar.ax.set_ylabel('Flux')  \n",
    "plt.title('Heatmap of fluxes distribution across samples')\n",
    "plt.xlabel('Reactions')\n",
    "plt.ylabel('Cells')"
   ]
  },
  {
   "cell_type": "markdown",
   "id": "1985714b-029a-421b-b6c6-c3afa3e82f87",
   "metadata": {},
   "source": [
    "# RESULTS VISUALIZATION WITH TRANSFORMED FLUXES"
   ]
  },
  {
   "cell_type": "code",
   "execution_count": 15,
   "id": "2bcf1db3-1f70-4e5c-82ee-57ef83059fa8",
   "metadata": {},
   "outputs": [],
   "source": [
    "def flux_transformer(v):\n",
    "\n",
    "    '''\n",
    "    This function transforms fluxes into log2 scale with three additions:\n",
    "    - zero values are kept.\n",
    "    - values between 0 and 2 are adjusted to fit below one.\n",
    "    - negative fluxes are considered. \n",
    "    '''\n",
    "\n",
    "    def adjusted(v):\n",
    "        new = (np.log2(v + 0.125) + 3) / 4\n",
    "        return np.min([new, 1])\n",
    "\n",
    "    if v == 0:\n",
    "        vprime = 0\n",
    "    elif v > 0:\n",
    "        if v < 2:\n",
    "            vprime = adjusted(v)\n",
    "        else:\n",
    "            vprime = np.log2(v)\n",
    "    elif v < 0:\n",
    "        v = np.abs(v)\n",
    "        if v < 2:\n",
    "            vprime = -adjusted(v)\n",
    "        else:\n",
    "            vprime = -np.log2(v)\n",
    "    else:\n",
    "        raise ValueError('found value not considered')\n",
    "\n",
    "    return vprime"
   ]
  },
  {
   "cell_type": "code",
   "execution_count": 16,
   "id": "63dac610-5e04-4b2c-95b4-33c7aa23d5b3",
   "metadata": {
    "scrolled": true
   },
   "outputs": [
    {
     "data": {
      "text/html": [
       "<div>\n",
       "<style scoped>\n",
       "    .dataframe tbody tr th:only-of-type {\n",
       "        vertical-align: middle;\n",
       "    }\n",
       "\n",
       "    .dataframe tbody tr th {\n",
       "        vertical-align: top;\n",
       "    }\n",
       "\n",
       "    .dataframe thead th {\n",
       "        text-align: right;\n",
       "    }\n",
       "</style>\n",
       "<table border=\"1\" class=\"dataframe\">\n",
       "  <thead>\n",
       "    <tr style=\"text-align: right;\">\n",
       "      <th></th>\n",
       "      <th>10FTHF7GLUtl</th>\n",
       "      <th>10FTHF7GLUtm</th>\n",
       "      <th>10FTHFtl</th>\n",
       "      <th>13DAMPPOX</th>\n",
       "      <th>2AMACHYD</th>\n",
       "      <th>2AMACSULT</th>\n",
       "      <th>2HBO</th>\n",
       "      <th>2HBt2</th>\n",
       "      <th>2OXOADOXm</th>\n",
       "      <th>2OXOADPTm</th>\n",
       "      <th>...</th>\n",
       "      <th>HDCA24GSc</th>\n",
       "      <th>HDCA24GSr</th>\n",
       "      <th>HDCA24Gtr</th>\n",
       "      <th>EX_lstn1gluc[e]</th>\n",
       "      <th>LSTN1GLUChr</th>\n",
       "      <th>LSTN1GLUCtev</th>\n",
       "      <th>LSTN1GLUCitr</th>\n",
       "      <th>r1955</th>\n",
       "      <th>GLNATB0tc</th>\n",
       "      <th>RE0453C</th>\n",
       "    </tr>\n",
       "  </thead>\n",
       "  <tbody>\n",
       "    <tr>\n",
       "      <th>GTEX-1I1GS-0011-R1a-SM-CJI43</th>\n",
       "      <td>0.0</td>\n",
       "      <td>0.0</td>\n",
       "      <td>0.0</td>\n",
       "      <td>0.0</td>\n",
       "      <td>0.0</td>\n",
       "      <td>0.0</td>\n",
       "      <td>0.0</td>\n",
       "      <td>0.000000e+00</td>\n",
       "      <td>0.0</td>\n",
       "      <td>-9.078536</td>\n",
       "      <td>...</td>\n",
       "      <td>0</td>\n",
       "      <td>0</td>\n",
       "      <td>0</td>\n",
       "      <td>0</td>\n",
       "      <td>0</td>\n",
       "      <td>0</td>\n",
       "      <td>0</td>\n",
       "      <td>0</td>\n",
       "      <td>0</td>\n",
       "      <td>0</td>\n",
       "    </tr>\n",
       "    <tr>\n",
       "      <th>GTEX-1LB8K-0011-R1b-SM-EZ6MV</th>\n",
       "      <td>0.0</td>\n",
       "      <td>0.0</td>\n",
       "      <td>0.0</td>\n",
       "      <td>0.0</td>\n",
       "      <td>0.0</td>\n",
       "      <td>0.0</td>\n",
       "      <td>0.0</td>\n",
       "      <td>-9.210854e-12</td>\n",
       "      <td>0.0</td>\n",
       "      <td>0.000000</td>\n",
       "      <td>...</td>\n",
       "      <td>0</td>\n",
       "      <td>0</td>\n",
       "      <td>0</td>\n",
       "      <td>0</td>\n",
       "      <td>0</td>\n",
       "      <td>0</td>\n",
       "      <td>0</td>\n",
       "      <td>0</td>\n",
       "      <td>0</td>\n",
       "      <td>0</td>\n",
       "    </tr>\n",
       "    <tr>\n",
       "      <th>GTEX-14JG1-0926-SM-5YY8W</th>\n",
       "      <td>0.0</td>\n",
       "      <td>0.0</td>\n",
       "      <td>0.0</td>\n",
       "      <td>0.0</td>\n",
       "      <td>0.0</td>\n",
       "      <td>0.0</td>\n",
       "      <td>0.0</td>\n",
       "      <td>1.013778e-11</td>\n",
       "      <td>0.0</td>\n",
       "      <td>0.000000</td>\n",
       "      <td>...</td>\n",
       "      <td>0</td>\n",
       "      <td>0</td>\n",
       "      <td>0</td>\n",
       "      <td>0</td>\n",
       "      <td>0</td>\n",
       "      <td>0</td>\n",
       "      <td>0</td>\n",
       "      <td>0</td>\n",
       "      <td>0</td>\n",
       "      <td>0</td>\n",
       "    </tr>\n",
       "    <tr>\n",
       "      <th>GTEX-1H4P4-0011-R1b-SM-CL54V</th>\n",
       "      <td>0.0</td>\n",
       "      <td>0.0</td>\n",
       "      <td>0.0</td>\n",
       "      <td>0.0</td>\n",
       "      <td>0.0</td>\n",
       "      <td>0.0</td>\n",
       "      <td>0.0</td>\n",
       "      <td>0.000000e+00</td>\n",
       "      <td>0.0</td>\n",
       "      <td>0.000000</td>\n",
       "      <td>...</td>\n",
       "      <td>0</td>\n",
       "      <td>0</td>\n",
       "      <td>0</td>\n",
       "      <td>0</td>\n",
       "      <td>0</td>\n",
       "      <td>0</td>\n",
       "      <td>0</td>\n",
       "      <td>0</td>\n",
       "      <td>0</td>\n",
       "      <td>0</td>\n",
       "    </tr>\n",
       "    <tr>\n",
       "      <th>GTEX-XMD2-1026-SM-4WWE8</th>\n",
       "      <td>0.0</td>\n",
       "      <td>0.0</td>\n",
       "      <td>0.0</td>\n",
       "      <td>-0.0</td>\n",
       "      <td>0.0</td>\n",
       "      <td>0.0</td>\n",
       "      <td>0.0</td>\n",
       "      <td>0.000000e+00</td>\n",
       "      <td>0.0</td>\n",
       "      <td>0.000000</td>\n",
       "      <td>...</td>\n",
       "      <td>0</td>\n",
       "      <td>0</td>\n",
       "      <td>0</td>\n",
       "      <td>0</td>\n",
       "      <td>0</td>\n",
       "      <td>0</td>\n",
       "      <td>0</td>\n",
       "      <td>0</td>\n",
       "      <td>0</td>\n",
       "      <td>0</td>\n",
       "    </tr>\n",
       "    <tr>\n",
       "      <th>...</th>\n",
       "      <td>...</td>\n",
       "      <td>...</td>\n",
       "      <td>...</td>\n",
       "      <td>...</td>\n",
       "      <td>...</td>\n",
       "      <td>...</td>\n",
       "      <td>...</td>\n",
       "      <td>...</td>\n",
       "      <td>...</td>\n",
       "      <td>...</td>\n",
       "      <td>...</td>\n",
       "      <td>...</td>\n",
       "      <td>...</td>\n",
       "      <td>...</td>\n",
       "      <td>...</td>\n",
       "      <td>...</td>\n",
       "      <td>...</td>\n",
       "      <td>...</td>\n",
       "      <td>...</td>\n",
       "      <td>...</td>\n",
       "      <td>...</td>\n",
       "    </tr>\n",
       "    <tr>\n",
       "      <th>GTEX-ZTPG-0926-SM-5O99H</th>\n",
       "      <td>0.0</td>\n",
       "      <td>0.0</td>\n",
       "      <td>0.0</td>\n",
       "      <td>0.0</td>\n",
       "      <td>0.0</td>\n",
       "      <td>0.0</td>\n",
       "      <td>0.0</td>\n",
       "      <td>0.000000e+00</td>\n",
       "      <td>0.0</td>\n",
       "      <td>0.000000</td>\n",
       "      <td>...</td>\n",
       "      <td>0</td>\n",
       "      <td>0</td>\n",
       "      <td>0</td>\n",
       "      <td>0</td>\n",
       "      <td>0</td>\n",
       "      <td>0</td>\n",
       "      <td>0</td>\n",
       "      <td>0</td>\n",
       "      <td>0</td>\n",
       "      <td>0</td>\n",
       "    </tr>\n",
       "    <tr>\n",
       "      <th>GTEX-13FLW-0011-R1b-SM-5LZX2</th>\n",
       "      <td>0.0</td>\n",
       "      <td>0.0</td>\n",
       "      <td>0.0</td>\n",
       "      <td>0.0</td>\n",
       "      <td>0.0</td>\n",
       "      <td>0.0</td>\n",
       "      <td>0.0</td>\n",
       "      <td>0.000000e+00</td>\n",
       "      <td>0.0</td>\n",
       "      <td>0.000000</td>\n",
       "      <td>...</td>\n",
       "      <td>0</td>\n",
       "      <td>0</td>\n",
       "      <td>0</td>\n",
       "      <td>0</td>\n",
       "      <td>0</td>\n",
       "      <td>0</td>\n",
       "      <td>0</td>\n",
       "      <td>0</td>\n",
       "      <td>0</td>\n",
       "      <td>0</td>\n",
       "    </tr>\n",
       "    <tr>\n",
       "      <th>GTEX-1FIGZ-0326-SM-7RHGT</th>\n",
       "      <td>0.0</td>\n",
       "      <td>0.0</td>\n",
       "      <td>0.0</td>\n",
       "      <td>0.0</td>\n",
       "      <td>0.0</td>\n",
       "      <td>0.0</td>\n",
       "      <td>0.0</td>\n",
       "      <td>0.000000e+00</td>\n",
       "      <td>0.0</td>\n",
       "      <td>0.000000</td>\n",
       "      <td>...</td>\n",
       "      <td>0</td>\n",
       "      <td>0</td>\n",
       "      <td>0</td>\n",
       "      <td>0</td>\n",
       "      <td>0</td>\n",
       "      <td>0</td>\n",
       "      <td>0</td>\n",
       "      <td>0</td>\n",
       "      <td>0</td>\n",
       "      <td>0</td>\n",
       "    </tr>\n",
       "    <tr>\n",
       "      <th>GTEX-1JMQJ-2126-SM-CNPPA</th>\n",
       "      <td>0.0</td>\n",
       "      <td>0.0</td>\n",
       "      <td>0.0</td>\n",
       "      <td>0.0</td>\n",
       "      <td>0.0</td>\n",
       "      <td>0.0</td>\n",
       "      <td>0.0</td>\n",
       "      <td>0.000000e+00</td>\n",
       "      <td>0.0</td>\n",
       "      <td>0.000000</td>\n",
       "      <td>...</td>\n",
       "      <td>0</td>\n",
       "      <td>0</td>\n",
       "      <td>0</td>\n",
       "      <td>0</td>\n",
       "      <td>0</td>\n",
       "      <td>0</td>\n",
       "      <td>0</td>\n",
       "      <td>0</td>\n",
       "      <td>0</td>\n",
       "      <td>0</td>\n",
       "    </tr>\n",
       "    <tr>\n",
       "      <th>GTEX-P44H-1126-SM-48TBU</th>\n",
       "      <td>0.0</td>\n",
       "      <td>0.0</td>\n",
       "      <td>0.0</td>\n",
       "      <td>0.0</td>\n",
       "      <td>0.0</td>\n",
       "      <td>0.0</td>\n",
       "      <td>0.0</td>\n",
       "      <td>0.000000e+00</td>\n",
       "      <td>0.0</td>\n",
       "      <td>0.000000</td>\n",
       "      <td>...</td>\n",
       "      <td>0</td>\n",
       "      <td>0</td>\n",
       "      <td>0</td>\n",
       "      <td>0</td>\n",
       "      <td>0</td>\n",
       "      <td>0</td>\n",
       "      <td>0</td>\n",
       "      <td>0</td>\n",
       "      <td>0</td>\n",
       "      <td>0</td>\n",
       "    </tr>\n",
       "  </tbody>\n",
       "</table>\n",
       "<p>200 rows × 8124 columns</p>\n",
       "</div>"
      ],
      "text/plain": [
       "                              10FTHF7GLUtl  10FTHF7GLUtm  10FTHFtl  13DAMPPOX  \\\n",
       "GTEX-1I1GS-0011-R1a-SM-CJI43           0.0           0.0       0.0        0.0   \n",
       "GTEX-1LB8K-0011-R1b-SM-EZ6MV           0.0           0.0       0.0        0.0   \n",
       "GTEX-14JG1-0926-SM-5YY8W               0.0           0.0       0.0        0.0   \n",
       "GTEX-1H4P4-0011-R1b-SM-CL54V           0.0           0.0       0.0        0.0   \n",
       "GTEX-XMD2-1026-SM-4WWE8                0.0           0.0       0.0       -0.0   \n",
       "...                                    ...           ...       ...        ...   \n",
       "GTEX-ZTPG-0926-SM-5O99H                0.0           0.0       0.0        0.0   \n",
       "GTEX-13FLW-0011-R1b-SM-5LZX2           0.0           0.0       0.0        0.0   \n",
       "GTEX-1FIGZ-0326-SM-7RHGT               0.0           0.0       0.0        0.0   \n",
       "GTEX-1JMQJ-2126-SM-CNPPA               0.0           0.0       0.0        0.0   \n",
       "GTEX-P44H-1126-SM-48TBU                0.0           0.0       0.0        0.0   \n",
       "\n",
       "                              2AMACHYD  2AMACSULT  2HBO         2HBt2  \\\n",
       "GTEX-1I1GS-0011-R1a-SM-CJI43       0.0        0.0   0.0  0.000000e+00   \n",
       "GTEX-1LB8K-0011-R1b-SM-EZ6MV       0.0        0.0   0.0 -9.210854e-12   \n",
       "GTEX-14JG1-0926-SM-5YY8W           0.0        0.0   0.0  1.013778e-11   \n",
       "GTEX-1H4P4-0011-R1b-SM-CL54V       0.0        0.0   0.0  0.000000e+00   \n",
       "GTEX-XMD2-1026-SM-4WWE8            0.0        0.0   0.0  0.000000e+00   \n",
       "...                                ...        ...   ...           ...   \n",
       "GTEX-ZTPG-0926-SM-5O99H            0.0        0.0   0.0  0.000000e+00   \n",
       "GTEX-13FLW-0011-R1b-SM-5LZX2       0.0        0.0   0.0  0.000000e+00   \n",
       "GTEX-1FIGZ-0326-SM-7RHGT           0.0        0.0   0.0  0.000000e+00   \n",
       "GTEX-1JMQJ-2126-SM-CNPPA           0.0        0.0   0.0  0.000000e+00   \n",
       "GTEX-P44H-1126-SM-48TBU            0.0        0.0   0.0  0.000000e+00   \n",
       "\n",
       "                              2OXOADOXm  2OXOADPTm  ...  HDCA24GSc  HDCA24GSr  \\\n",
       "GTEX-1I1GS-0011-R1a-SM-CJI43        0.0  -9.078536  ...          0          0   \n",
       "GTEX-1LB8K-0011-R1b-SM-EZ6MV        0.0   0.000000  ...          0          0   \n",
       "GTEX-14JG1-0926-SM-5YY8W            0.0   0.000000  ...          0          0   \n",
       "GTEX-1H4P4-0011-R1b-SM-CL54V        0.0   0.000000  ...          0          0   \n",
       "GTEX-XMD2-1026-SM-4WWE8             0.0   0.000000  ...          0          0   \n",
       "...                                 ...        ...  ...        ...        ...   \n",
       "GTEX-ZTPG-0926-SM-5O99H             0.0   0.000000  ...          0          0   \n",
       "GTEX-13FLW-0011-R1b-SM-5LZX2        0.0   0.000000  ...          0          0   \n",
       "GTEX-1FIGZ-0326-SM-7RHGT            0.0   0.000000  ...          0          0   \n",
       "GTEX-1JMQJ-2126-SM-CNPPA            0.0   0.000000  ...          0          0   \n",
       "GTEX-P44H-1126-SM-48TBU             0.0   0.000000  ...          0          0   \n",
       "\n",
       "                              HDCA24Gtr  EX_lstn1gluc[e]  LSTN1GLUChr  \\\n",
       "GTEX-1I1GS-0011-R1a-SM-CJI43          0                0            0   \n",
       "GTEX-1LB8K-0011-R1b-SM-EZ6MV          0                0            0   \n",
       "GTEX-14JG1-0926-SM-5YY8W              0                0            0   \n",
       "GTEX-1H4P4-0011-R1b-SM-CL54V          0                0            0   \n",
       "GTEX-XMD2-1026-SM-4WWE8               0                0            0   \n",
       "...                                 ...              ...          ...   \n",
       "GTEX-ZTPG-0926-SM-5O99H               0                0            0   \n",
       "GTEX-13FLW-0011-R1b-SM-5LZX2          0                0            0   \n",
       "GTEX-1FIGZ-0326-SM-7RHGT              0                0            0   \n",
       "GTEX-1JMQJ-2126-SM-CNPPA              0                0            0   \n",
       "GTEX-P44H-1126-SM-48TBU               0                0            0   \n",
       "\n",
       "                              LSTN1GLUCtev  LSTN1GLUCitr  r1955  GLNATB0tc  \\\n",
       "GTEX-1I1GS-0011-R1a-SM-CJI43             0             0      0          0   \n",
       "GTEX-1LB8K-0011-R1b-SM-EZ6MV             0             0      0          0   \n",
       "GTEX-14JG1-0926-SM-5YY8W                 0             0      0          0   \n",
       "GTEX-1H4P4-0011-R1b-SM-CL54V             0             0      0          0   \n",
       "GTEX-XMD2-1026-SM-4WWE8                  0             0      0          0   \n",
       "...                                    ...           ...    ...        ...   \n",
       "GTEX-ZTPG-0926-SM-5O99H                  0             0      0          0   \n",
       "GTEX-13FLW-0011-R1b-SM-5LZX2             0             0      0          0   \n",
       "GTEX-1FIGZ-0326-SM-7RHGT                 0             0      0          0   \n",
       "GTEX-1JMQJ-2126-SM-CNPPA                 0             0      0          0   \n",
       "GTEX-P44H-1126-SM-48TBU                  0             0      0          0   \n",
       "\n",
       "                              RE0453C  \n",
       "GTEX-1I1GS-0011-R1a-SM-CJI43        0  \n",
       "GTEX-1LB8K-0011-R1b-SM-EZ6MV        0  \n",
       "GTEX-14JG1-0926-SM-5YY8W            0  \n",
       "GTEX-1H4P4-0011-R1b-SM-CL54V        0  \n",
       "GTEX-XMD2-1026-SM-4WWE8             0  \n",
       "...                               ...  \n",
       "GTEX-ZTPG-0926-SM-5O99H             0  \n",
       "GTEX-13FLW-0011-R1b-SM-5LZX2        0  \n",
       "GTEX-1FIGZ-0326-SM-7RHGT            0  \n",
       "GTEX-1JMQJ-2126-SM-CNPPA            0  \n",
       "GTEX-P44H-1126-SM-48TBU             0  \n",
       "\n",
       "[200 rows x 8124 columns]"
      ]
     },
     "execution_count": 16,
     "metadata": {},
     "output_type": "execute_result"
    }
   ],
   "source": [
    "t_fluxes_df = fluxes_df.map(flux_transformer)\n",
    "t_fluxes_df"
   ]
  },
  {
   "cell_type": "code",
   "execution_count": 17,
   "id": "d1738467-bafe-489c-ad34-40227909f423",
   "metadata": {},
   "outputs": [
    {
     "data": {
      "image/png": "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",
      "text/plain": [
       "<Figure size 640x480 with 1 Axes>"
      ]
     },
     "metadata": {},
     "output_type": "display_data"
    }
   ],
   "source": [
    "reducer = umap.UMAP()\n",
    "embedding = reducer.fit_transform(t_fluxes_df)\n",
    "\n",
    "plt.scatter(embedding[:, 0], embedding[:, 1], c = colors) \n",
    "plt.legend(l, l_labs)\n",
    "plt.title('UMAP of 200 models transformed fluxes distributions')\n",
    "plt.xlabel('UMAP 1')\n",
    "plt.ylabel('UMAP 2')\n",
    "plt.show()"
   ]
  },
  {
   "cell_type": "code",
   "execution_count": 18,
   "id": "19fa65c2-6c91-4f3c-863e-7dfd2e6c69b1",
   "metadata": {},
   "outputs": [
    {
     "data": {
      "image/png": "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",
      "text/plain": [
       "<Figure size 640x480 with 2 Axes>"
      ]
     },
     "metadata": {},
     "output_type": "display_data"
    }
   ],
   "source": [
    "plt.scatter(embedding[:, 0], embedding[:, 1], c = [d_ov.get(index, -1) for index in fluxes_df.index], cmap = \"viridis\")\n",
    "plt.colorbar(label = 'Objective value')  \n",
    "plt.title('UMAP of 200 models transformed fluxes distributions')\n",
    "plt.xlabel('UMAP 1')\n",
    "plt.ylabel('UMAP 2')\n",
    "plt.show()"
   ]
  },
  {
   "cell_type": "code",
   "execution_count": 19,
   "id": "911e62d3-6d91-4ea5-bc8b-a437511a1733",
   "metadata": {},
   "outputs": [
    {
     "data": {
      "text/plain": [
       "Text(74.44444444444444, 0.5, 'Cells')"
      ]
     },
     "execution_count": 19,
     "metadata": {},
     "output_type": "execute_result"
    },
    {
     "data": {
      "image/png": "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",
      "text/plain": [
       "<Figure size 640x480 with 2 Axes>"
      ]
     },
     "metadata": {},
     "output_type": "display_data"
    }
   ],
   "source": [
    "heatmap = sns.heatmap(t_fluxes_df, cmap = 'seismic', xticklabels = False, yticklabels = False, center = 0)\n",
    "cbar = heatmap.collections[0].colorbar\n",
    "cbar.ax.set_ylabel('Transformed flux')  \n",
    "plt.title('Heatmap of transformed fluxes distribution across cells')\n",
    "plt.xlabel('Reactions')\n",
    "plt.ylabel('Cells')"
   ]
  },
  {
   "cell_type": "markdown",
   "id": "5a69267f-30e0-4d5b-b6f0-7846fedd065d",
   "metadata": {},
   "source": [
    "# RESULTS VISUALIZATION WITH THE MOST VARIABLE FLUXES"
   ]
  },
  {
   "cell_type": "code",
   "execution_count": 20,
   "id": "9b420fde-f57d-4e5f-b246-aa3ea53d83e1",
   "metadata": {
    "scrolled": true
   },
   "outputs": [
    {
     "data": {
      "text/html": [
       "<div>\n",
       "<style scoped>\n",
       "    .dataframe tbody tr th:only-of-type {\n",
       "        vertical-align: middle;\n",
       "    }\n",
       "\n",
       "    .dataframe tbody tr th {\n",
       "        vertical-align: top;\n",
       "    }\n",
       "\n",
       "    .dataframe thead th {\n",
       "        text-align: right;\n",
       "    }\n",
       "</style>\n",
       "<table border=\"1\" class=\"dataframe\">\n",
       "  <thead>\n",
       "    <tr style=\"text-align: right;\">\n",
       "      <th></th>\n",
       "      <th>GLUt2m</th>\n",
       "      <th>UREAt</th>\n",
       "      <th>FUM</th>\n",
       "      <th>TPI</th>\n",
       "      <th>LDH_L</th>\n",
       "      <th>r0407</th>\n",
       "      <th>FUMm</th>\n",
       "      <th>EX_gly[e]</th>\n",
       "      <th>EX_so4[e]</th>\n",
       "      <th>EX_urea[e]</th>\n",
       "      <th>...</th>\n",
       "      <th>MMTSADm</th>\n",
       "      <th>NAt3_1</th>\n",
       "      <th>r0191</th>\n",
       "      <th>sink_pro_L[c]</th>\n",
       "      <th>GLNtN1</th>\n",
       "      <th>HMR_2281</th>\n",
       "      <th>C140CPT1</th>\n",
       "      <th>HMR_2611</th>\n",
       "      <th>sink_phe_L[c]</th>\n",
       "      <th>RE2426C</th>\n",
       "    </tr>\n",
       "  </thead>\n",
       "  <tbody>\n",
       "    <tr>\n",
       "      <th>GTEX-1I1GS-0011-R1a-SM-CJI43</th>\n",
       "      <td>9.965784e+00</td>\n",
       "      <td>9.965784e+00</td>\n",
       "      <td>6.293473e+00</td>\n",
       "      <td>-6.398703</td>\n",
       "      <td>8.447687e-13</td>\n",
       "      <td>-6.398703</td>\n",
       "      <td>9.863791e+00</td>\n",
       "      <td>9.965784</td>\n",
       "      <td>-9.965784e+00</td>\n",
       "      <td>-9.965784</td>\n",
       "      <td>...</td>\n",
       "      <td>0.000000e+00</td>\n",
       "      <td>0.000000</td>\n",
       "      <td>0.000000</td>\n",
       "      <td>-9.965784</td>\n",
       "      <td>0.000000</td>\n",
       "      <td>0.000000</td>\n",
       "      <td>0.000000</td>\n",
       "      <td>0.000000</td>\n",
       "      <td>0.000000</td>\n",
       "      <td>0.000000</td>\n",
       "    </tr>\n",
       "    <tr>\n",
       "      <th>GTEX-1LB8K-0011-R1b-SM-EZ6MV</th>\n",
       "      <td>7.941323e+00</td>\n",
       "      <td>9.320777e+00</td>\n",
       "      <td>7.989838e+00</td>\n",
       "      <td>9.706227</td>\n",
       "      <td>-9.215718e+00</td>\n",
       "      <td>8.363307</td>\n",
       "      <td>8.004878e+00</td>\n",
       "      <td>-6.890733</td>\n",
       "      <td>0.000000e+00</td>\n",
       "      <td>-9.320777</td>\n",
       "      <td>...</td>\n",
       "      <td>7.941323e+00</td>\n",
       "      <td>0.000000</td>\n",
       "      <td>8.061669</td>\n",
       "      <td>0.000000</td>\n",
       "      <td>0.000000</td>\n",
       "      <td>9.965784</td>\n",
       "      <td>-9.965784</td>\n",
       "      <td>9.965784</td>\n",
       "      <td>0.000000</td>\n",
       "      <td>0.000000</td>\n",
       "    </tr>\n",
       "    <tr>\n",
       "      <th>GTEX-14JG1-0926-SM-5YY8W</th>\n",
       "      <td>9.965784e+00</td>\n",
       "      <td>-9.533084e+00</td>\n",
       "      <td>-7.514595e+00</td>\n",
       "      <td>8.380822</td>\n",
       "      <td>-9.965784e+00</td>\n",
       "      <td>8.380822</td>\n",
       "      <td>8.123900e+00</td>\n",
       "      <td>0.000000</td>\n",
       "      <td>0.000000e+00</td>\n",
       "      <td>-8.017510</td>\n",
       "      <td>...</td>\n",
       "      <td>0.000000e+00</td>\n",
       "      <td>0.000000</td>\n",
       "      <td>0.000000</td>\n",
       "      <td>0.000000</td>\n",
       "      <td>9.714108</td>\n",
       "      <td>0.000000</td>\n",
       "      <td>0.000000</td>\n",
       "      <td>0.000000</td>\n",
       "      <td>0.000000</td>\n",
       "      <td>0.000000</td>\n",
       "    </tr>\n",
       "    <tr>\n",
       "      <th>GTEX-1H4P4-0011-R1b-SM-CL54V</th>\n",
       "      <td>9.965784e+00</td>\n",
       "      <td>9.513744e+00</td>\n",
       "      <td>9.374282e+00</td>\n",
       "      <td>8.384195</td>\n",
       "      <td>-9.965784e+00</td>\n",
       "      <td>8.374052</td>\n",
       "      <td>7.560194e+00</td>\n",
       "      <td>9.795261</td>\n",
       "      <td>7.567874e+00</td>\n",
       "      <td>-9.513744</td>\n",
       "      <td>...</td>\n",
       "      <td>0.000000e+00</td>\n",
       "      <td>0.000000</td>\n",
       "      <td>8.732435</td>\n",
       "      <td>-9.647579</td>\n",
       "      <td>6.460612</td>\n",
       "      <td>9.965784</td>\n",
       "      <td>-9.965784</td>\n",
       "      <td>9.965784</td>\n",
       "      <td>0.000000</td>\n",
       "      <td>0.000000</td>\n",
       "    </tr>\n",
       "    <tr>\n",
       "      <th>GTEX-XMD2-1026-SM-4WWE8</th>\n",
       "      <td>-1.389366e-11</td>\n",
       "      <td>0.000000e+00</td>\n",
       "      <td>3.962386e-13</td>\n",
       "      <td>7.398740</td>\n",
       "      <td>-9.965784e+00</td>\n",
       "      <td>6.673719</td>\n",
       "      <td>0.000000e+00</td>\n",
       "      <td>-6.807502</td>\n",
       "      <td>9.965784e+00</td>\n",
       "      <td>-9.965784</td>\n",
       "      <td>...</td>\n",
       "      <td>2.796430e-11</td>\n",
       "      <td>8.367749</td>\n",
       "      <td>0.000000</td>\n",
       "      <td>0.000000</td>\n",
       "      <td>0.000000</td>\n",
       "      <td>0.000000</td>\n",
       "      <td>0.000000</td>\n",
       "      <td>0.000000</td>\n",
       "      <td>0.000000</td>\n",
       "      <td>-8.804799</td>\n",
       "    </tr>\n",
       "    <tr>\n",
       "      <th>...</th>\n",
       "      <td>...</td>\n",
       "      <td>...</td>\n",
       "      <td>...</td>\n",
       "      <td>...</td>\n",
       "      <td>...</td>\n",
       "      <td>...</td>\n",
       "      <td>...</td>\n",
       "      <td>...</td>\n",
       "      <td>...</td>\n",
       "      <td>...</td>\n",
       "      <td>...</td>\n",
       "      <td>...</td>\n",
       "      <td>...</td>\n",
       "      <td>...</td>\n",
       "      <td>...</td>\n",
       "      <td>...</td>\n",
       "      <td>...</td>\n",
       "      <td>...</td>\n",
       "      <td>...</td>\n",
       "      <td>...</td>\n",
       "      <td>...</td>\n",
       "    </tr>\n",
       "    <tr>\n",
       "      <th>GTEX-ZTPG-0926-SM-5O99H</th>\n",
       "      <td>-1.091127e-12</td>\n",
       "      <td>6.975257e+00</td>\n",
       "      <td>7.775891e+00</td>\n",
       "      <td>-8.212516</td>\n",
       "      <td>-9.495062e+00</td>\n",
       "      <td>-8.521587</td>\n",
       "      <td>9.480357e+00</td>\n",
       "      <td>0.000000</td>\n",
       "      <td>-9.478699e+00</td>\n",
       "      <td>-6.975257</td>\n",
       "      <td>...</td>\n",
       "      <td>0.000000e+00</td>\n",
       "      <td>0.000000</td>\n",
       "      <td>0.000000</td>\n",
       "      <td>-6.677744</td>\n",
       "      <td>9.355078</td>\n",
       "      <td>0.000000</td>\n",
       "      <td>0.000000</td>\n",
       "      <td>0.000000</td>\n",
       "      <td>0.000000</td>\n",
       "      <td>-9.590804</td>\n",
       "    </tr>\n",
       "    <tr>\n",
       "      <th>GTEX-13FLW-0011-R1b-SM-5LZX2</th>\n",
       "      <td>8.191156e+00</td>\n",
       "      <td>8.447687e-13</td>\n",
       "      <td>0.000000e+00</td>\n",
       "      <td>-7.182228</td>\n",
       "      <td>-9.965784e+00</td>\n",
       "      <td>-7.182228</td>\n",
       "      <td>9.696090e+00</td>\n",
       "      <td>-7.407865</td>\n",
       "      <td>6.609158e-13</td>\n",
       "      <td>-9.965784</td>\n",
       "      <td>...</td>\n",
       "      <td>0.000000e+00</td>\n",
       "      <td>-9.067505</td>\n",
       "      <td>0.000000</td>\n",
       "      <td>-6.744883</td>\n",
       "      <td>0.000000</td>\n",
       "      <td>0.000000</td>\n",
       "      <td>0.000000</td>\n",
       "      <td>0.000000</td>\n",
       "      <td>0.000000</td>\n",
       "      <td>0.000000</td>\n",
       "    </tr>\n",
       "    <tr>\n",
       "      <th>GTEX-1FIGZ-0326-SM-7RHGT</th>\n",
       "      <td>-9.965784e+00</td>\n",
       "      <td>9.965784e+00</td>\n",
       "      <td>0.000000e+00</td>\n",
       "      <td>-7.346921</td>\n",
       "      <td>-9.965784e+00</td>\n",
       "      <td>-5.476602</td>\n",
       "      <td>9.965784e+00</td>\n",
       "      <td>0.000000</td>\n",
       "      <td>-9.885922e+00</td>\n",
       "      <td>-9.965784</td>\n",
       "      <td>...</td>\n",
       "      <td>9.965784e+00</td>\n",
       "      <td>0.000000</td>\n",
       "      <td>0.000000</td>\n",
       "      <td>9.806760</td>\n",
       "      <td>9.507716</td>\n",
       "      <td>0.000000</td>\n",
       "      <td>0.000000</td>\n",
       "      <td>0.000000</td>\n",
       "      <td>-6.036795</td>\n",
       "      <td>-7.459616</td>\n",
       "    </tr>\n",
       "    <tr>\n",
       "      <th>GTEX-1JMQJ-2126-SM-CNPPA</th>\n",
       "      <td>9.965784e+00</td>\n",
       "      <td>-9.965784e+00</td>\n",
       "      <td>-9.322065e+00</td>\n",
       "      <td>8.380822</td>\n",
       "      <td>-8.317366e+00</td>\n",
       "      <td>8.380822</td>\n",
       "      <td>9.965784e+00</td>\n",
       "      <td>0.000000</td>\n",
       "      <td>0.000000e+00</td>\n",
       "      <td>6.632560</td>\n",
       "      <td>...</td>\n",
       "      <td>0.000000e+00</td>\n",
       "      <td>0.000000</td>\n",
       "      <td>0.000000</td>\n",
       "      <td>0.000000</td>\n",
       "      <td>0.000000</td>\n",
       "      <td>0.000000</td>\n",
       "      <td>0.000000</td>\n",
       "      <td>0.000000</td>\n",
       "      <td>0.000000</td>\n",
       "      <td>0.000000</td>\n",
       "    </tr>\n",
       "    <tr>\n",
       "      <th>GTEX-P44H-1126-SM-48TBU</th>\n",
       "      <td>-7.661401e+00</td>\n",
       "      <td>9.965784e+00</td>\n",
       "      <td>-7.893686e-13</td>\n",
       "      <td>7.398740</td>\n",
       "      <td>-9.920802e+00</td>\n",
       "      <td>6.673719</td>\n",
       "      <td>7.924772e-13</td>\n",
       "      <td>0.000000</td>\n",
       "      <td>9.965784e+00</td>\n",
       "      <td>-9.965784</td>\n",
       "      <td>...</td>\n",
       "      <td>1.078471e-12</td>\n",
       "      <td>-9.965784</td>\n",
       "      <td>0.000000</td>\n",
       "      <td>-6.544455</td>\n",
       "      <td>0.000000</td>\n",
       "      <td>0.000000</td>\n",
       "      <td>0.000000</td>\n",
       "      <td>0.000000</td>\n",
       "      <td>-5.923005</td>\n",
       "      <td>-7.965784</td>\n",
       "    </tr>\n",
       "  </tbody>\n",
       "</table>\n",
       "<p>200 rows × 200 columns</p>\n",
       "</div>"
      ],
      "text/plain": [
       "                                    GLUt2m         UREAt           FUM  \\\n",
       "GTEX-1I1GS-0011-R1a-SM-CJI43  9.965784e+00  9.965784e+00  6.293473e+00   \n",
       "GTEX-1LB8K-0011-R1b-SM-EZ6MV  7.941323e+00  9.320777e+00  7.989838e+00   \n",
       "GTEX-14JG1-0926-SM-5YY8W      9.965784e+00 -9.533084e+00 -7.514595e+00   \n",
       "GTEX-1H4P4-0011-R1b-SM-CL54V  9.965784e+00  9.513744e+00  9.374282e+00   \n",
       "GTEX-XMD2-1026-SM-4WWE8      -1.389366e-11  0.000000e+00  3.962386e-13   \n",
       "...                                    ...           ...           ...   \n",
       "GTEX-ZTPG-0926-SM-5O99H      -1.091127e-12  6.975257e+00  7.775891e+00   \n",
       "GTEX-13FLW-0011-R1b-SM-5LZX2  8.191156e+00  8.447687e-13  0.000000e+00   \n",
       "GTEX-1FIGZ-0326-SM-7RHGT     -9.965784e+00  9.965784e+00  0.000000e+00   \n",
       "GTEX-1JMQJ-2126-SM-CNPPA      9.965784e+00 -9.965784e+00 -9.322065e+00   \n",
       "GTEX-P44H-1126-SM-48TBU      -7.661401e+00  9.965784e+00 -7.893686e-13   \n",
       "\n",
       "                                   TPI         LDH_L     r0407          FUMm  \\\n",
       "GTEX-1I1GS-0011-R1a-SM-CJI43 -6.398703  8.447687e-13 -6.398703  9.863791e+00   \n",
       "GTEX-1LB8K-0011-R1b-SM-EZ6MV  9.706227 -9.215718e+00  8.363307  8.004878e+00   \n",
       "GTEX-14JG1-0926-SM-5YY8W      8.380822 -9.965784e+00  8.380822  8.123900e+00   \n",
       "GTEX-1H4P4-0011-R1b-SM-CL54V  8.384195 -9.965784e+00  8.374052  7.560194e+00   \n",
       "GTEX-XMD2-1026-SM-4WWE8       7.398740 -9.965784e+00  6.673719  0.000000e+00   \n",
       "...                                ...           ...       ...           ...   \n",
       "GTEX-ZTPG-0926-SM-5O99H      -8.212516 -9.495062e+00 -8.521587  9.480357e+00   \n",
       "GTEX-13FLW-0011-R1b-SM-5LZX2 -7.182228 -9.965784e+00 -7.182228  9.696090e+00   \n",
       "GTEX-1FIGZ-0326-SM-7RHGT     -7.346921 -9.965784e+00 -5.476602  9.965784e+00   \n",
       "GTEX-1JMQJ-2126-SM-CNPPA      8.380822 -8.317366e+00  8.380822  9.965784e+00   \n",
       "GTEX-P44H-1126-SM-48TBU       7.398740 -9.920802e+00  6.673719  7.924772e-13   \n",
       "\n",
       "                              EX_gly[e]     EX_so4[e]  EX_urea[e]  ...  \\\n",
       "GTEX-1I1GS-0011-R1a-SM-CJI43   9.965784 -9.965784e+00   -9.965784  ...   \n",
       "GTEX-1LB8K-0011-R1b-SM-EZ6MV  -6.890733  0.000000e+00   -9.320777  ...   \n",
       "GTEX-14JG1-0926-SM-5YY8W       0.000000  0.000000e+00   -8.017510  ...   \n",
       "GTEX-1H4P4-0011-R1b-SM-CL54V   9.795261  7.567874e+00   -9.513744  ...   \n",
       "GTEX-XMD2-1026-SM-4WWE8       -6.807502  9.965784e+00   -9.965784  ...   \n",
       "...                                 ...           ...         ...  ...   \n",
       "GTEX-ZTPG-0926-SM-5O99H        0.000000 -9.478699e+00   -6.975257  ...   \n",
       "GTEX-13FLW-0011-R1b-SM-5LZX2  -7.407865  6.609158e-13   -9.965784  ...   \n",
       "GTEX-1FIGZ-0326-SM-7RHGT       0.000000 -9.885922e+00   -9.965784  ...   \n",
       "GTEX-1JMQJ-2126-SM-CNPPA       0.000000  0.000000e+00    6.632560  ...   \n",
       "GTEX-P44H-1126-SM-48TBU        0.000000  9.965784e+00   -9.965784  ...   \n",
       "\n",
       "                                   MMTSADm    NAt3_1     r0191  sink_pro_L[c]  \\\n",
       "GTEX-1I1GS-0011-R1a-SM-CJI43  0.000000e+00  0.000000  0.000000      -9.965784   \n",
       "GTEX-1LB8K-0011-R1b-SM-EZ6MV  7.941323e+00  0.000000  8.061669       0.000000   \n",
       "GTEX-14JG1-0926-SM-5YY8W      0.000000e+00  0.000000  0.000000       0.000000   \n",
       "GTEX-1H4P4-0011-R1b-SM-CL54V  0.000000e+00  0.000000  8.732435      -9.647579   \n",
       "GTEX-XMD2-1026-SM-4WWE8       2.796430e-11  8.367749  0.000000       0.000000   \n",
       "...                                    ...       ...       ...            ...   \n",
       "GTEX-ZTPG-0926-SM-5O99H       0.000000e+00  0.000000  0.000000      -6.677744   \n",
       "GTEX-13FLW-0011-R1b-SM-5LZX2  0.000000e+00 -9.067505  0.000000      -6.744883   \n",
       "GTEX-1FIGZ-0326-SM-7RHGT      9.965784e+00  0.000000  0.000000       9.806760   \n",
       "GTEX-1JMQJ-2126-SM-CNPPA      0.000000e+00  0.000000  0.000000       0.000000   \n",
       "GTEX-P44H-1126-SM-48TBU       1.078471e-12 -9.965784  0.000000      -6.544455   \n",
       "\n",
       "                                GLNtN1  HMR_2281  C140CPT1  HMR_2611  \\\n",
       "GTEX-1I1GS-0011-R1a-SM-CJI43  0.000000  0.000000  0.000000  0.000000   \n",
       "GTEX-1LB8K-0011-R1b-SM-EZ6MV  0.000000  9.965784 -9.965784  9.965784   \n",
       "GTEX-14JG1-0926-SM-5YY8W      9.714108  0.000000  0.000000  0.000000   \n",
       "GTEX-1H4P4-0011-R1b-SM-CL54V  6.460612  9.965784 -9.965784  9.965784   \n",
       "GTEX-XMD2-1026-SM-4WWE8       0.000000  0.000000  0.000000  0.000000   \n",
       "...                                ...       ...       ...       ...   \n",
       "GTEX-ZTPG-0926-SM-5O99H       9.355078  0.000000  0.000000  0.000000   \n",
       "GTEX-13FLW-0011-R1b-SM-5LZX2  0.000000  0.000000  0.000000  0.000000   \n",
       "GTEX-1FIGZ-0326-SM-7RHGT      9.507716  0.000000  0.000000  0.000000   \n",
       "GTEX-1JMQJ-2126-SM-CNPPA      0.000000  0.000000  0.000000  0.000000   \n",
       "GTEX-P44H-1126-SM-48TBU       0.000000  0.000000  0.000000  0.000000   \n",
       "\n",
       "                              sink_phe_L[c]   RE2426C  \n",
       "GTEX-1I1GS-0011-R1a-SM-CJI43       0.000000  0.000000  \n",
       "GTEX-1LB8K-0011-R1b-SM-EZ6MV       0.000000  0.000000  \n",
       "GTEX-14JG1-0926-SM-5YY8W           0.000000  0.000000  \n",
       "GTEX-1H4P4-0011-R1b-SM-CL54V       0.000000  0.000000  \n",
       "GTEX-XMD2-1026-SM-4WWE8            0.000000 -8.804799  \n",
       "...                                     ...       ...  \n",
       "GTEX-ZTPG-0926-SM-5O99H            0.000000 -9.590804  \n",
       "GTEX-13FLW-0011-R1b-SM-5LZX2       0.000000  0.000000  \n",
       "GTEX-1FIGZ-0326-SM-7RHGT          -6.036795 -7.459616  \n",
       "GTEX-1JMQJ-2126-SM-CNPPA           0.000000  0.000000  \n",
       "GTEX-P44H-1126-SM-48TBU           -5.923005 -7.965784  \n",
       "\n",
       "[200 rows x 200 columns]"
      ]
     },
     "execution_count": 20,
     "metadata": {},
     "output_type": "execute_result"
    }
   ],
   "source": [
    "variability = t_fluxes_df.std(axis = 0)\n",
    "\n",
    "s_cols = variability.sort_values(ascending = False)\n",
    "s_cols = s_cols.head(200)\n",
    "s_colnames = s_cols.index\n",
    "var_df = t_fluxes_df[s_colnames]\n",
    "var_df"
   ]
  },
  {
   "cell_type": "code",
   "execution_count": 21,
   "id": "5238c883-5617-44ee-ac95-3241a49bd30e",
   "metadata": {},
   "outputs": [
    {
     "data": {
      "image/png": "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",
      "text/plain": [
       "<Figure size 640x480 with 1 Axes>"
      ]
     },
     "metadata": {},
     "output_type": "display_data"
    }
   ],
   "source": [
    "reducer = umap.UMAP()\n",
    "embedding = reducer.fit_transform(var_df)\n",
    "\n",
    "plt.scatter(embedding[:, 0], embedding[:, 1], c = colors) \n",
    "plt.legend(l, l_labs)\n",
    "\n",
    "plt.title('UMAP of 200 models transformed fluxes distributions')\n",
    "plt.xlabel('UMAP 1')\n",
    "plt.ylabel('UMAP 2')\n",
    "plt.show()"
   ]
  },
  {
   "cell_type": "code",
   "execution_count": 22,
   "id": "a7f88a8a-6136-465d-b178-dc8ddeba70fc",
   "metadata": {},
   "outputs": [
    {
     "data": {
      "image/png": "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",
      "text/plain": [
       "<Figure size 640x480 with 2 Axes>"
      ]
     },
     "metadata": {},
     "output_type": "display_data"
    }
   ],
   "source": [
    "plt.scatter(embedding[:, 0], embedding[:, 1], c = [d_ov.get(index, -1) for index in fluxes_df.index], cmap = \"viridis\")\n",
    "plt.colorbar(label = 'Objective value')  \n",
    "plt.title('UMAP of 200 models transformed fluxes distributions')\n",
    "plt.xlabel('UMAP 1')\n",
    "plt.ylabel('UMAP 2')\n",
    "plt.show()"
   ]
  },
  {
   "cell_type": "code",
   "execution_count": 23,
   "id": "32ba0a8f-3f46-402b-952b-23eb4c2dc329",
   "metadata": {},
   "outputs": [
    {
     "data": {
      "text/plain": [
       "Text(74.44444444444444, 0.5, 'Cells')"
      ]
     },
     "execution_count": 23,
     "metadata": {},
     "output_type": "execute_result"
    },
    {
     "data": {
      "image/png": "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",
      "text/plain": [
       "<Figure size 640x480 with 2 Axes>"
      ]
     },
     "metadata": {},
     "output_type": "display_data"
    }
   ],
   "source": [
    "heatmap = sns.heatmap(var_df, cmap = 'seismic', xticklabels = False, yticklabels = False, center = 0)\n",
    "cbar = heatmap.collections[0].colorbar\n",
    "cbar.ax.set_ylabel('Transformed flux')  \n",
    "plt.title('Heatmap of transformed fluxes distribution across cells')\n",
    "plt.xlabel('Reactions')\n",
    "plt.ylabel('Cells')"
   ]
  },
  {
   "cell_type": "code",
   "execution_count": 24,
   "id": "347e157f-d8f4-4271-9d92-774b1935ffe1",
   "metadata": {},
   "outputs": [
    {
     "name": "stderr",
     "output_type": "stream",
     "text": [
      "/Users/claudiavicentecomorera/anaconda3/lib/python3.11/site-packages/seaborn/matrix.py:560: UserWarning: Clustering large matrix with scipy. Installing `fastcluster` may give better performance.\n",
      "  warnings.warn(msg)\n",
      "/Users/claudiavicentecomorera/anaconda3/lib/python3.11/site-packages/seaborn/matrix.py:560: UserWarning: Clustering large matrix with scipy. Installing `fastcluster` may give better performance.\n",
      "  warnings.warn(msg)\n"
     ]
    },
    {
     "data": {
      "text/plain": [
       "<seaborn.matrix.ClusterGrid at 0x5123bd450>"
      ]
     },
     "execution_count": 24,
     "metadata": {},
     "output_type": "execute_result"
    },
    {
     "data": {
      "image/png": "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",
      "text/plain": [
       "<Figure size 1000x1000 with 5 Axes>"
      ]
     },
     "metadata": {},
     "output_type": "display_data"
    }
   ],
   "source": [
    "sns.clustermap(var_df, cmap = 'seismic', xticklabels = False, yticklabels = False, row_colors = colors)"
   ]
  }
