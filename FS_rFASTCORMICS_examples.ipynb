{
 "cells": [
  {
   "cell_type": "markdown",
   "id": "08e37b37-6baa-4049-bce3-a7f987df549a",
   "metadata": {},
   "source": [
    "# IMPORT LIBRARIES"
   ]
  },
  {
   "cell_type": "code",
   "execution_count": 1,
   "id": "67426375-e66e-44cd-92d0-54efb450d67e",
   "metadata": {},
   "outputs": [],
   "source": [
    "import cobra\n",
    "import glob\n",
    "import os\n",
    "import pandas as pd"
   ]
  },
  {
   "cell_type": "code",
   "execution_count": 2,
   "id": "824a92b1-ad99-441f-b468-f4ab76419e6c",
   "metadata": {},
   "outputs": [
    {
     "name": "stderr",
     "output_type": "stream",
     "text": [
      "This model seems to have metCharge instead of metCharges field. Will use metCharge for what metCharges represents.\n",
      "This model seems to have metHMDB instead of metHMDBID field. Will use metHMDB for what metHMDBID represents.\n",
      "No defined compartments in model modelR204. Compartments will be deduced heuristically using regular expressions.\n",
      "Using regular expression found the following compartments:c, e, g, l, m, n, r, x\n"
     ]
    },
    {
     "data": {
      "text/html": [
       "\n",
       "        <table>\n",
       "            <tr>\n",
       "                <td><strong>Name</strong></td>\n",
       "                <td>modelR204</td>\n",
       "            </tr><tr>\n",
       "                <td><strong>Memory address</strong></td>\n",
       "                <td>16ba2be90</td>\n",
       "            </tr><tr>\n",
       "                <td><strong>Number of metabolites</strong></td>\n",
       "                <td>5063</td>\n",
       "            </tr><tr>\n",
       "                <td><strong>Number of reactions</strong></td>\n",
       "                <td>7440</td>\n",
       "            </tr><tr>\n",
       "                <td><strong>Number of genes</strong></td>\n",
       "                <td>2140</td>\n",
       "            </tr><tr>\n",
       "                <td><strong>Number of groups</strong></td>\n",
       "                <td>100</td>\n",
       "            </tr><tr>\n",
       "                <td><strong>Objective expression</strong></td>\n",
       "                <td>1.0*biomass_reaction - 1.0*biomass_reaction_reverse_32a6c</td>\n",
       "            </tr><tr>\n",
       "                <td><strong>Compartments</strong></td>\n",
       "                <td>c, l, m, r, e, x, n, g</td>\n",
       "            </tr>\n",
       "          </table>"
      ],
      "text/plain": [
       "<Model modelR204 at 0x16ba2be90>"
      ]
     },
     "execution_count": 2,
     "metadata": {},
     "output_type": "execute_result"
    }
   ],
   "source": [
    "recon_2 = cobra.io.load_matlab_model(\"/Users/claudiavicentecomorera/Desktop/TFG/rFASTCORMICS/rFASTCORMICS_RNA-seq/exampleData/Recon2.v04.mat\")\n",
    "recon_2"
   ]
  },
  {
   "cell_type": "code",
   "execution_count": 3,
   "id": "771cd353-07cd-46bf-9be4-1d3a954091fc",
   "metadata": {},
   "outputs": [
    {
     "data": {
      "text/html": [
       "<strong><em>Optimal</em> solution with objective value 3.198</strong><br><div>\n",
       "<style scoped>\n",
       "    .dataframe tbody tr th:only-of-type {\n",
       "        vertical-align: middle;\n",
       "    }\n",
       "\n",
       "    .dataframe tbody tr th {\n",
       "        vertical-align: top;\n",
       "    }\n",
       "\n",
       "    .dataframe thead th {\n",
       "        text-align: right;\n",
       "    }\n",
       "</style>\n",
       "<table border=\"1\" class=\"dataframe\">\n",
       "  <thead>\n",
       "    <tr style=\"text-align: right;\">\n",
       "      <th></th>\n",
       "      <th>fluxes</th>\n",
       "      <th>reduced_costs</th>\n",
       "    </tr>\n",
       "  </thead>\n",
       "  <tbody>\n",
       "    <tr>\n",
       "      <th>10FTHF5GLUtl</th>\n",
       "      <td>0.0</td>\n",
       "      <td>0.000000e+00</td>\n",
       "    </tr>\n",
       "    <tr>\n",
       "      <th>10FTHF5GLUtm</th>\n",
       "      <td>0.0</td>\n",
       "      <td>0.000000e+00</td>\n",
       "    </tr>\n",
       "    <tr>\n",
       "      <th>10FTHF6GLUtl</th>\n",
       "      <td>0.0</td>\n",
       "      <td>0.000000e+00</td>\n",
       "    </tr>\n",
       "    <tr>\n",
       "      <th>10FTHF6GLUtm</th>\n",
       "      <td>0.0</td>\n",
       "      <td>0.000000e+00</td>\n",
       "    </tr>\n",
       "    <tr>\n",
       "      <th>10FTHF7GLUtl</th>\n",
       "      <td>0.0</td>\n",
       "      <td>0.000000e+00</td>\n",
       "    </tr>\n",
       "    <tr>\n",
       "      <th>...</th>\n",
       "      <td>...</td>\n",
       "      <td>...</td>\n",
       "    </tr>\n",
       "    <tr>\n",
       "      <th>MAL_Lte</th>\n",
       "      <td>0.0</td>\n",
       "      <td>0.000000e+00</td>\n",
       "    </tr>\n",
       "    <tr>\n",
       "      <th>OROTGLUt</th>\n",
       "      <td>0.0</td>\n",
       "      <td>0.000000e+00</td>\n",
       "    </tr>\n",
       "    <tr>\n",
       "      <th>PNTOte</th>\n",
       "      <td>0.0</td>\n",
       "      <td>0.000000e+00</td>\n",
       "    </tr>\n",
       "    <tr>\n",
       "      <th>IDOURte</th>\n",
       "      <td>0.0</td>\n",
       "      <td>-1.028504e-14</td>\n",
       "    </tr>\n",
       "    <tr>\n",
       "      <th>EX_idour(e)</th>\n",
       "      <td>0.0</td>\n",
       "      <td>0.000000e+00</td>\n",
       "    </tr>\n",
       "  </tbody>\n",
       "</table>\n",
       "<p>7440 rows × 2 columns</p>\n",
       "</div>"
      ],
      "text/plain": [
       "<Solution 3.198 at 0x281bc9b90>"
      ]
     },
     "execution_count": 3,
     "metadata": {},
     "output_type": "execute_result"
    }
   ],
   "source": [
    "solution_recon_2 = recon_2.optimize()\n",
    "solution_recon_2"
   ]
  },
  {
   "cell_type": "code",
   "execution_count": 4,
   "id": "d9a9bd64-373d-4d14-a557-eb6787c5a739",
   "metadata": {},
   "outputs": [
    {
     "data": {
      "text/plain": [
       "0.15990277911030093"
      ]
     },
     "execution_count": 4,
     "metadata": {},
     "output_type": "execute_result"
    }
   ],
   "source": [
    "bm = solution_recon_2.objective_value\n",
    "5/100*bm"
   ]
  },
  {
   "cell_type": "markdown",
   "id": "04164dff-f86b-4058-90b2-429084a6240e",
   "metadata": {},
   "source": [
    "# FLUXES SIMULATION: rFASTCORMICS EXAMPLE_V4"
   ]
  },
  {
   "cell_type": "code",
   "execution_count": 5,
   "id": "5b2e7537-7a29-48e7-9d70-f532ad39b305",
   "metadata": {},
   "outputs": [
    {
     "name": "stderr",
     "output_type": "stream",
     "text": [
      "This model seems to have metCharge instead of metCharges field. Will use metCharge for what metCharges represents.\n",
      "This model seems to have metHMDB instead of metHMDBID field. Will use metHMDB for what metHMDBID represents.\n",
      "No defined compartments in model ContextModel. Compartments will be deduced heuristically using regular expressions.\n",
      "Using regular expression found the following compartments:c, e, g, l, m, n, r, x\n",
      "This model seems to have metCharge instead of metCharges field. Will use metCharge for what metCharges represents.\n",
      "This model seems to have metHMDB instead of metHMDBID field. Will use metHMDB for what metHMDBID represents.\n",
      "No defined compartments in model ContextModel. Compartments will be deduced heuristically using regular expressions.\n",
      "Using regular expression found the following compartments:c, e, g, l, m, n, r, x\n"
     ]
    }
   ],
   "source": [
    "sample1 =  cobra.io.load_matlab_model(\"/Users/claudiavicentecomorera/Desktop/TFG/rFASTCORMICS/rFASTCORMICS_RNA-seq/exampleResults/Example_v4/SampleModel_TCGA06067511A32RA36H07.mat\")\n",
    "sample2 =  cobra.io.load_matlab_model(\"/Users/claudiavicentecomorera/Desktop/TFG/rFASTCORMICS/rFASTCORMICS_RNA-seq/exampleResults/Example_v4/SampleModel_TCGA06067811A32RA36H07.mat\")"
   ]
  },
  {
   "cell_type": "code",
   "execution_count": 6,
   "id": "a3d26c10-e6c0-4e9d-a897-7d59c93ad699",
   "metadata": {},
   "outputs": [
    {
     "data": {
      "text/html": [
       "\n",
       "        <table>\n",
       "            <tr>\n",
       "                <td><strong>Name</strong></td>\n",
       "                <td>ContextModel</td>\n",
       "            </tr><tr>\n",
       "                <td><strong>Memory address</strong></td>\n",
       "                <td>17ef49510</td>\n",
       "            </tr><tr>\n",
       "                <td><strong>Number of metabolites</strong></td>\n",
       "                <td>1401</td>\n",
       "            </tr><tr>\n",
       "                <td><strong>Number of reactions</strong></td>\n",
       "                <td>1936</td>\n",
       "            </tr><tr>\n",
       "                <td><strong>Number of genes</strong></td>\n",
       "                <td>2140</td>\n",
       "            </tr><tr>\n",
       "                <td><strong>Number of groups</strong></td>\n",
       "                <td>79</td>\n",
       "            </tr><tr>\n",
       "                <td><strong>Objective expression</strong></td>\n",
       "                <td>1.0*biomass_reaction - 1.0*biomass_reaction_reverse_32a6c</td>\n",
       "            </tr><tr>\n",
       "                <td><strong>Compartments</strong></td>\n",
       "                <td>c, m, x, e, l, r, g, n</td>\n",
       "            </tr>\n",
       "          </table>"
      ],
      "text/plain": [
       "<Model ContextModel at 0x17ef49510>"
      ]
     },
     "execution_count": 6,
     "metadata": {},
     "output_type": "execute_result"
    }
   ],
   "source": [
    "sample1"
   ]
  },
  {
   "cell_type": "code",
   "execution_count": 7,
   "id": "0141c699-ed86-4070-9b94-3bb3f61d7ffe",
   "metadata": {},
   "outputs": [
    {
     "data": {
      "text/html": [
       "\n",
       "        <table>\n",
       "            <tr>\n",
       "                <td><strong>Name</strong></td>\n",
       "                <td>ContextModel</td>\n",
       "            </tr><tr>\n",
       "                <td><strong>Memory address</strong></td>\n",
       "                <td>2815178d0</td>\n",
       "            </tr><tr>\n",
       "                <td><strong>Number of metabolites</strong></td>\n",
       "                <td>1435</td>\n",
       "            </tr><tr>\n",
       "                <td><strong>Number of reactions</strong></td>\n",
       "                <td>1980</td>\n",
       "            </tr><tr>\n",
       "                <td><strong>Number of genes</strong></td>\n",
       "                <td>2140</td>\n",
       "            </tr><tr>\n",
       "                <td><strong>Number of groups</strong></td>\n",
       "                <td>79</td>\n",
       "            </tr><tr>\n",
       "                <td><strong>Objective expression</strong></td>\n",
       "                <td>1.0*biomass_reaction - 1.0*biomass_reaction_reverse_32a6c</td>\n",
       "            </tr><tr>\n",
       "                <td><strong>Compartments</strong></td>\n",
       "                <td>c, l, m, x, e, r, g, n</td>\n",
       "            </tr>\n",
       "          </table>"
      ],
      "text/plain": [
       "<Model ContextModel at 0x2815178d0>"
      ]
     },
     "execution_count": 7,
     "metadata": {},
     "output_type": "execute_result"
    }
   ],
   "source": [
    "sample2"
   ]
  },
  {
   "cell_type": "code",
   "execution_count": 8,
   "id": "ea3409a2-0b03-4835-83b9-dd5ffd2ea45c",
   "metadata": {
    "scrolled": true
   },
   "outputs": [
    {
     "data": {
      "text/html": [
       "<strong><em>Optimal</em> solution with objective value 0.295</strong><br><div>\n",
       "<style scoped>\n",
       "    .dataframe tbody tr th:only-of-type {\n",
       "        vertical-align: middle;\n",
       "    }\n",
       "\n",
       "    .dataframe tbody tr th {\n",
       "        vertical-align: top;\n",
       "    }\n",
       "\n",
       "    .dataframe thead th {\n",
       "        text-align: right;\n",
       "    }\n",
       "</style>\n",
       "<table border=\"1\" class=\"dataframe\">\n",
       "  <thead>\n",
       "    <tr style=\"text-align: right;\">\n",
       "      <th></th>\n",
       "      <th>fluxes</th>\n",
       "      <th>reduced_costs</th>\n",
       "    </tr>\n",
       "  </thead>\n",
       "  <tbody>\n",
       "    <tr>\n",
       "      <th>13DAMPPOX</th>\n",
       "      <td>0.000000</td>\n",
       "      <td>-6.938894e-18</td>\n",
       "    </tr>\n",
       "    <tr>\n",
       "      <th>25HVITD3t</th>\n",
       "      <td>0.000000</td>\n",
       "      <td>0.000000e+00</td>\n",
       "    </tr>\n",
       "    <tr>\n",
       "      <th>25HVITD3tm</th>\n",
       "      <td>0.000000</td>\n",
       "      <td>0.000000e+00</td>\n",
       "    </tr>\n",
       "    <tr>\n",
       "      <th>2HBO</th>\n",
       "      <td>0.000000</td>\n",
       "      <td>-1.885996e-17</td>\n",
       "    </tr>\n",
       "    <tr>\n",
       "      <th>2HBt2</th>\n",
       "      <td>0.000000</td>\n",
       "      <td>-0.000000e+00</td>\n",
       "    </tr>\n",
       "    <tr>\n",
       "      <th>...</th>\n",
       "      <td>...</td>\n",
       "      <td>...</td>\n",
       "    </tr>\n",
       "    <tr>\n",
       "      <th>4HPRO_LTte</th>\n",
       "      <td>0.000000</td>\n",
       "      <td>-0.000000e+00</td>\n",
       "    </tr>\n",
       "    <tr>\n",
       "      <th>5MTAte</th>\n",
       "      <td>0.033276</td>\n",
       "      <td>0.000000e+00</td>\n",
       "    </tr>\n",
       "    <tr>\n",
       "      <th>DM_Lcystin</th>\n",
       "      <td>0.100631</td>\n",
       "      <td>0.000000e+00</td>\n",
       "    </tr>\n",
       "    <tr>\n",
       "      <th>EX_34hpp</th>\n",
       "      <td>0.000000</td>\n",
       "      <td>2.886506e-16</td>\n",
       "    </tr>\n",
       "    <tr>\n",
       "      <th>EX_5mta(e)</th>\n",
       "      <td>-0.033276</td>\n",
       "      <td>-0.000000e+00</td>\n",
       "    </tr>\n",
       "  </tbody>\n",
       "</table>\n",
       "<p>1936 rows × 2 columns</p>\n",
       "</div>"
      ],
      "text/plain": [
       "<Solution 0.295 at 0x281023c10>"
      ]
     },
     "execution_count": 8,
     "metadata": {},
     "output_type": "execute_result"
    }
   ],
   "source": [
    "solution1 = sample1.optimize()\n",
    "bm1 = solution1.objective_value\n",
    "solution1"
   ]
  },
  {
   "cell_type": "code",
   "execution_count": 9,
   "id": "89cc4a7e-3d8b-4502-9407-72e51bda3fb4",
   "metadata": {},
   "outputs": [
    {
     "data": {
      "text/html": [
       "<strong><em>Optimal</em> solution with objective value 0.337</strong><br><div>\n",
       "<style scoped>\n",
       "    .dataframe tbody tr th:only-of-type {\n",
       "        vertical-align: middle;\n",
       "    }\n",
       "\n",
       "    .dataframe tbody tr th {\n",
       "        vertical-align: top;\n",
       "    }\n",
       "\n",
       "    .dataframe thead th {\n",
       "        text-align: right;\n",
       "    }\n",
       "</style>\n",
       "<table border=\"1\" class=\"dataframe\">\n",
       "  <thead>\n",
       "    <tr style=\"text-align: right;\">\n",
       "      <th></th>\n",
       "      <th>fluxes</th>\n",
       "      <th>reduced_costs</th>\n",
       "    </tr>\n",
       "  </thead>\n",
       "  <tbody>\n",
       "    <tr>\n",
       "      <th>10FTHF7GLUtl</th>\n",
       "      <td>4.403193e-18</td>\n",
       "      <td>0.000000e+00</td>\n",
       "    </tr>\n",
       "    <tr>\n",
       "      <th>10FTHFtl</th>\n",
       "      <td>-4.403193e-18</td>\n",
       "      <td>-0.000000e+00</td>\n",
       "    </tr>\n",
       "    <tr>\n",
       "      <th>13DAMPPOX</th>\n",
       "      <td>1.876007e-18</td>\n",
       "      <td>-3.469447e-18</td>\n",
       "    </tr>\n",
       "    <tr>\n",
       "      <th>25HVITD3t</th>\n",
       "      <td>0.000000e+00</td>\n",
       "      <td>0.000000e+00</td>\n",
       "    </tr>\n",
       "    <tr>\n",
       "      <th>25HVITD3tm</th>\n",
       "      <td>0.000000e+00</td>\n",
       "      <td>0.000000e+00</td>\n",
       "    </tr>\n",
       "    <tr>\n",
       "      <th>...</th>\n",
       "      <td>...</td>\n",
       "      <td>...</td>\n",
       "    </tr>\n",
       "    <tr>\n",
       "      <th>5MTAte</th>\n",
       "      <td>3.797196e-02</td>\n",
       "      <td>0.000000e+00</td>\n",
       "    </tr>\n",
       "    <tr>\n",
       "      <th>DM_Lcystin</th>\n",
       "      <td>4.921632e-01</td>\n",
       "      <td>2.562012e-17</td>\n",
       "    </tr>\n",
       "    <tr>\n",
       "      <th>DM_anth</th>\n",
       "      <td>6.367680e-01</td>\n",
       "      <td>0.000000e+00</td>\n",
       "    </tr>\n",
       "    <tr>\n",
       "      <th>EX_34hpp</th>\n",
       "      <td>0.000000e+00</td>\n",
       "      <td>-5.583630e-04</td>\n",
       "    </tr>\n",
       "    <tr>\n",
       "      <th>EX_5mta(e)</th>\n",
       "      <td>-3.797196e-02</td>\n",
       "      <td>-0.000000e+00</td>\n",
       "    </tr>\n",
       "  </tbody>\n",
       "</table>\n",
       "<p>1980 rows × 2 columns</p>\n",
       "</div>"
      ],
      "text/plain": [
       "<Solution 0.337 at 0x2808b8dd0>"
      ]
     },
     "execution_count": 9,
     "metadata": {},
     "output_type": "execute_result"
    }
   ],
   "source": [
    "solution2 = sample2.optimize()\n",
    "bm2 = solution2.objective_value\n",
    "solution2"
   ]
  },
  {
   "cell_type": "code",
   "execution_count": 10,
   "id": "28e153e8-3089-467e-acb5-c41747492b58",
   "metadata": {},
   "outputs": [
    {
     "name": "stdout",
     "output_type": "stream",
     "text": [
      "9.2222339505548\n",
      "10.523684294157524\n"
     ]
    }
   ],
   "source": [
    "print((bm1/bm)*100)\n",
    "print((bm2/bm)*100)"
   ]
  },
  {
   "cell_type": "markdown",
   "id": "be2d0cae-4a89-4541-bfa5-84dad75f638b",
   "metadata": {},
   "source": [
    "# FLUXES SIMULATION: rFASTCORMICS ADDITIONAL EXAMPLE"
   ]
  },
  {
   "cell_type": "code",
   "execution_count": 11,
   "id": "6cda89fe-eb6d-4fb6-972a-70188aaa4fc6",
   "metadata": {},
   "outputs": [
    {
     "name": "stderr",
     "output_type": "stream",
     "text": [
      "This model seems to have metCharge instead of metCharges field. Will use metCharge for what metCharges represents.\n",
      "This model seems to have metHMDB instead of metHMDBID field. Will use metHMDB for what metHMDBID represents.\n",
      "No defined compartments in model ContextModel. Compartments will be deduced heuristically using regular expressions.\n",
      "Using regular expression found the following compartments:c, e, g, l, m, n, r, x\n",
      "This model seems to have metCharge instead of metCharges field. Will use metCharge for what metCharges represents.\n",
      "This model seems to have metHMDB instead of metHMDBID field. Will use metHMDB for what metHMDBID represents.\n",
      "No defined compartments in model ContextModel. Compartments will be deduced heuristically using regular expressions.\n",
      "Using regular expression found the following compartments:c, e, g, l, m, n, r, x\n"
     ]
    },
    {
     "name": "stdout",
     "output_type": "stream",
     "text": [
      "<Solution 0.358 at 0x280e6a150>\n"
     ]
    },
    {
     "name": "stderr",
     "output_type": "stream",
     "text": [
      "This model seems to have metCharge instead of metCharges field. Will use metCharge for what metCharges represents.\n",
      "This model seems to have metHMDB instead of metHMDBID field. Will use metHMDB for what metHMDBID represents.\n",
      "No defined compartments in model ContextModel. Compartments will be deduced heuristically using regular expressions.\n",
      "Using regular expression found the following compartments:c, e, g, l, m, n, r, x\n"
     ]
    },
    {
     "name": "stdout",
     "output_type": "stream",
     "text": [
      "<Solution 0.427 at 0x2810aff90>\n"
     ]
    },
    {
     "name": "stderr",
     "output_type": "stream",
     "text": [
      "This model seems to have metCharge instead of metCharges field. Will use metCharge for what metCharges represents.\n",
      "This model seems to have metHMDB instead of metHMDBID field. Will use metHMDB for what metHMDBID represents.\n",
      "No defined compartments in model ContextModel. Compartments will be deduced heuristically using regular expressions.\n",
      "Using regular expression found the following compartments:c, e, g, l, m, n, r, x\n"
     ]
    },
    {
     "name": "stdout",
     "output_type": "stream",
     "text": [
      "<Solution 0.328 at 0x17b9900d0>\n"
     ]
    },
    {
     "name": "stderr",
     "output_type": "stream",
     "text": [
      "This model seems to have metCharge instead of metCharges field. Will use metCharge for what metCharges represents.\n",
      "This model seems to have metHMDB instead of metHMDBID field. Will use metHMDB for what metHMDBID represents.\n",
      "No defined compartments in model ContextModel. Compartments will be deduced heuristically using regular expressions.\n",
      "Using regular expression found the following compartments:c, e, g, l, m, n, r, x\n"
     ]
    },
    {
     "name": "stdout",
     "output_type": "stream",
     "text": [
      "<Solution 0.518 at 0x28629acd0>\n"
     ]
    },
    {
     "name": "stderr",
     "output_type": "stream",
     "text": [
      "This model seems to have metCharge instead of metCharges field. Will use metCharge for what metCharges represents.\n",
      "This model seems to have metHMDB instead of metHMDBID field. Will use metHMDB for what metHMDBID represents.\n",
      "No defined compartments in model ContextModel. Compartments will be deduced heuristically using regular expressions.\n",
      "Using regular expression found the following compartments:c, e, g, l, m, n, r, x\n"
     ]
    },
    {
     "name": "stdout",
     "output_type": "stream",
     "text": [
      "<Solution 0.164 at 0x28676ff50>\n"
     ]
    },
    {
     "name": "stderr",
     "output_type": "stream",
     "text": [
      "This model seems to have metCharge instead of metCharges field. Will use metCharge for what metCharges represents.\n",
      "This model seems to have metHMDB instead of metHMDBID field. Will use metHMDB for what metHMDBID represents.\n",
      "No defined compartments in model ContextModel. Compartments will be deduced heuristically using regular expressions.\n",
      "Using regular expression found the following compartments:c, e, g, l, m, n, r, x\n"
     ]
    },
    {
     "name": "stdout",
     "output_type": "stream",
     "text": [
      "<Solution 0.345 at 0x286b2acd0>\n"
     ]
    },
    {
     "name": "stderr",
     "output_type": "stream",
     "text": [
      "This model seems to have metCharge instead of metCharges field. Will use metCharge for what metCharges represents.\n",
      "This model seems to have metHMDB instead of metHMDBID field. Will use metHMDB for what metHMDBID represents.\n",
      "No defined compartments in model ContextModel. Compartments will be deduced heuristically using regular expressions.\n",
      "Using regular expression found the following compartments:c, e, g, l, m, n, r, x\n"
     ]
    },
    {
     "name": "stdout",
     "output_type": "stream",
     "text": [
      "<Solution 0.210 at 0x28924ac10>\n"
     ]
    },
    {
     "name": "stderr",
     "output_type": "stream",
     "text": [
      "This model seems to have metCharge instead of metCharges field. Will use metCharge for what metCharges represents.\n",
      "This model seems to have metHMDB instead of metHMDBID field. Will use metHMDB for what metHMDBID represents.\n",
      "No defined compartments in model ContextModel. Compartments will be deduced heuristically using regular expressions.\n",
      "Using regular expression found the following compartments:c, e, g, l, m, n, r, x\n"
     ]
    },
    {
     "name": "stdout",
     "output_type": "stream",
     "text": [
      "<Solution 0.405 at 0x28897d0d0>\n"
     ]
    },
    {
     "name": "stderr",
     "output_type": "stream",
     "text": [
      "This model seems to have metCharge instead of metCharges field. Will use metCharge for what metCharges represents.\n",
      "This model seems to have metHMDB instead of metHMDBID field. Will use metHMDB for what metHMDBID represents.\n",
      "No defined compartments in model ContextModel. Compartments will be deduced heuristically using regular expressions.\n",
      "Using regular expression found the following compartments:c, e, g, l, m, n, r, x\n"
     ]
    },
    {
     "name": "stdout",
     "output_type": "stream",
     "text": [
      "<Solution 0.247 at 0x28c5f2fd0>\n"
     ]
    },
    {
     "name": "stderr",
     "output_type": "stream",
     "text": [
      "This model seems to have metCharge instead of metCharges field. Will use metCharge for what metCharges represents.\n",
      "This model seems to have metHMDB instead of metHMDBID field. Will use metHMDB for what metHMDBID represents.\n",
      "No defined compartments in model ContextModel. Compartments will be deduced heuristically using regular expressions.\n",
      "Using regular expression found the following compartments:c, e, g, l, m, n, r, x\n"
     ]
    },
    {
     "name": "stdout",
     "output_type": "stream",
     "text": [
      "<Solution 0.139 at 0x28d870b50>\n"
     ]
    },
    {
     "name": "stderr",
     "output_type": "stream",
     "text": [
      "This model seems to have metCharge instead of metCharges field. Will use metCharge for what metCharges represents.\n",
      "This model seems to have metHMDB instead of metHMDBID field. Will use metHMDB for what metHMDBID represents.\n",
      "No defined compartments in model ContextModel. Compartments will be deduced heuristically using regular expressions.\n",
      "Using regular expression found the following compartments:c, e, g, l, m, n, r, x\n"
     ]
    },
    {
     "name": "stdout",
     "output_type": "stream",
     "text": [
      "<Solution 0.623 at 0x28f059a50>\n"
     ]
    },
    {
     "name": "stderr",
     "output_type": "stream",
     "text": [
      "This model seems to have metCharge instead of metCharges field. Will use metCharge for what metCharges represents.\n",
      "This model seems to have metHMDB instead of metHMDBID field. Will use metHMDB for what metHMDBID represents.\n",
      "No defined compartments in model ContextModel. Compartments will be deduced heuristically using regular expressions.\n",
      "Using regular expression found the following compartments:c, e, g, l, m, n, r, x\n"
     ]
    },
    {
     "name": "stdout",
     "output_type": "stream",
     "text": [
      "<Solution 0.282 at 0x28fa4e350>\n"
     ]
    },
    {
     "name": "stderr",
     "output_type": "stream",
     "text": [
      "This model seems to have metCharge instead of metCharges field. Will use metCharge for what metCharges represents.\n",
      "This model seems to have metHMDB instead of metHMDBID field. Will use metHMDB for what metHMDBID represents.\n",
      "No defined compartments in model ContextModel. Compartments will be deduced heuristically using regular expressions.\n",
      "Using regular expression found the following compartments:c, e, g, l, m, n, r, x\n"
     ]
    },
    {
     "name": "stdout",
     "output_type": "stream",
     "text": [
      "<Solution 0.238 at 0x2912f7650>\n"
     ]
    },
    {
     "name": "stderr",
     "output_type": "stream",
     "text": [
      "This model seems to have metCharge instead of metCharges field. Will use metCharge for what metCharges represents.\n",
      "This model seems to have metHMDB instead of metHMDBID field. Will use metHMDB for what metHMDBID represents.\n",
      "No defined compartments in model ContextModel. Compartments will be deduced heuristically using regular expressions.\n",
      "Using regular expression found the following compartments:c, e, g, l, m, n, r, x\n"
     ]
    },
    {
     "name": "stdout",
     "output_type": "stream",
     "text": [
      "<Solution 0.185 at 0x291b73390>\n"
     ]
    },
    {
     "name": "stderr",
     "output_type": "stream",
     "text": [
      "This model seems to have metCharge instead of metCharges field. Will use metCharge for what metCharges represents.\n",
      "This model seems to have metHMDB instead of metHMDBID field. Will use metHMDB for what metHMDBID represents.\n",
      "No defined compartments in model ContextModel. Compartments will be deduced heuristically using regular expressions.\n",
      "Using regular expression found the following compartments:c, e, g, l, m, n, r, x\n"
     ]
    },
    {
     "name": "stdout",
     "output_type": "stream",
     "text": [
      "<Solution 0.149 at 0x293c8ed10>\n"
     ]
    },
    {
     "name": "stderr",
     "output_type": "stream",
     "text": [
      "This model seems to have metCharge instead of metCharges field. Will use metCharge for what metCharges represents.\n",
      "This model seems to have metHMDB instead of metHMDBID field. Will use metHMDB for what metHMDBID represents.\n",
      "No defined compartments in model ContextModel. Compartments will be deduced heuristically using regular expressions.\n",
      "Using regular expression found the following compartments:c, e, g, l, m, n, r, x\n"
     ]
    },
    {
     "name": "stdout",
     "output_type": "stream",
     "text": [
      "<Solution 0.160 at 0x294889ad0>\n"
     ]
    },
    {
     "name": "stderr",
     "output_type": "stream",
     "text": [
      "This model seems to have metCharge instead of metCharges field. Will use metCharge for what metCharges represents.\n",
      "This model seems to have metHMDB instead of metHMDBID field. Will use metHMDB for what metHMDBID represents.\n",
      "No defined compartments in model ContextModel. Compartments will be deduced heuristically using regular expressions.\n",
      "Using regular expression found the following compartments:c, e, g, l, m, n, r, x\n"
     ]
    },
    {
     "name": "stdout",
     "output_type": "stream",
     "text": [
      "<Solution 0.109 at 0x29574a190>\n"
     ]
    },
    {
     "name": "stderr",
     "output_type": "stream",
     "text": [
      "This model seems to have metCharge instead of metCharges field. Will use metCharge for what metCharges represents.\n",
      "This model seems to have metHMDB instead of metHMDBID field. Will use metHMDB for what metHMDBID represents.\n",
      "No defined compartments in model ContextModel. Compartments will be deduced heuristically using regular expressions.\n",
      "Using regular expression found the following compartments:c, e, g, l, m, n, r, x\n"
     ]
    },
    {
     "name": "stdout",
     "output_type": "stream",
     "text": [
      "<Solution 0.257 at 0x2977b6610>\n"
     ]
    },
    {
     "name": "stderr",
     "output_type": "stream",
     "text": [
      "This model seems to have metCharge instead of metCharges field. Will use metCharge for what metCharges represents.\n",
      "This model seems to have metHMDB instead of metHMDBID field. Will use metHMDB for what metHMDBID represents.\n",
      "No defined compartments in model ContextModel. Compartments will be deduced heuristically using regular expressions.\n",
      "Using regular expression found the following compartments:c, e, g, l, m, n, r, x\n"
     ]
    },
    {
     "name": "stdout",
     "output_type": "stream",
     "text": [
      "<Solution 0.523 at 0x296fad910>\n",
      "<Solution 0.295 at 0x299303150>\n"
     ]
    }
   ],
   "source": [
    "f_path = \"/Users/claudiavicentecomorera/Desktop/TFG/rFASTCORMICS/rFASTCORMICS_RNA-seq/exampleResults/Example_BRCA/\"\n",
    "file_paths = glob.glob(f_path + \"*.mat\")\n",
    "\n",
    "models = []\n",
    "solutions = []\n",
    "\n",
    "for file_path in file_paths:\n",
    "    model = cobra.io.load_matlab_model(file_path)\n",
    "    model.id = os.path.splitext(os.path.basename(file_path))[0].replace(\"_\", \"-\")\n",
    "    solution = model.optimize()\n",
    "    print(solution)\n",
    "    \n",
    "    models.append(model)\n",
    "    solutions.append(solution)"
   ]
  },
  {
   "cell_type": "code",
   "execution_count": 12,
   "id": "2019875d-2465-40d5-a374-f9886b82f003",
   "metadata": {},
   "outputs": [
    {
     "data": {
      "text/html": [
       "<strong><em>Optimal</em> solution with objective value 0.427</strong><br><div>\n",
       "<style scoped>\n",
       "    .dataframe tbody tr th:only-of-type {\n",
       "        vertical-align: middle;\n",
       "    }\n",
       "\n",
       "    .dataframe tbody tr th {\n",
       "        vertical-align: top;\n",
       "    }\n",
       "\n",
       "    .dataframe thead th {\n",
       "        text-align: right;\n",
       "    }\n",
       "</style>\n",
       "<table border=\"1\" class=\"dataframe\">\n",
       "  <thead>\n",
       "    <tr style=\"text-align: right;\">\n",
       "      <th></th>\n",
       "      <th>fluxes</th>\n",
       "      <th>reduced_costs</th>\n",
       "    </tr>\n",
       "  </thead>\n",
       "  <tbody>\n",
       "    <tr>\n",
       "      <th>10FTHF7GLUtl</th>\n",
       "      <td>0.000000e+00</td>\n",
       "      <td>0.000000e+00</td>\n",
       "    </tr>\n",
       "    <tr>\n",
       "      <th>10FTHF7GLUtm</th>\n",
       "      <td>0.000000e+00</td>\n",
       "      <td>0.000000e+00</td>\n",
       "    </tr>\n",
       "    <tr>\n",
       "      <th>10FTHFtl</th>\n",
       "      <td>0.000000e+00</td>\n",
       "      <td>-0.000000e+00</td>\n",
       "    </tr>\n",
       "    <tr>\n",
       "      <th>13DAMPPOX</th>\n",
       "      <td>0.000000e+00</td>\n",
       "      <td>-2.887694e-01</td>\n",
       "    </tr>\n",
       "    <tr>\n",
       "      <th>1MNCAMti</th>\n",
       "      <td>-2.859287e-16</td>\n",
       "      <td>5.551115e-17</td>\n",
       "    </tr>\n",
       "    <tr>\n",
       "      <th>...</th>\n",
       "      <td>...</td>\n",
       "      <td>...</td>\n",
       "    </tr>\n",
       "    <tr>\n",
       "      <th>5MTAte</th>\n",
       "      <td>4.818745e-02</td>\n",
       "      <td>0.000000e+00</td>\n",
       "    </tr>\n",
       "    <tr>\n",
       "      <th>DM_Lcystin</th>\n",
       "      <td>6.521982e-01</td>\n",
       "      <td>0.000000e+00</td>\n",
       "    </tr>\n",
       "    <tr>\n",
       "      <th>DM_anth</th>\n",
       "      <td>0.000000e+00</td>\n",
       "      <td>0.000000e+00</td>\n",
       "    </tr>\n",
       "    <tr>\n",
       "      <th>EX_34hpp</th>\n",
       "      <td>0.000000e+00</td>\n",
       "      <td>-5.191360e-02</td>\n",
       "    </tr>\n",
       "    <tr>\n",
       "      <th>EX_5mta(e)</th>\n",
       "      <td>-4.818745e-02</td>\n",
       "      <td>-0.000000e+00</td>\n",
       "    </tr>\n",
       "  </tbody>\n",
       "</table>\n",
       "<p>1960 rows × 2 columns</p>\n",
       "</div>"
      ],
      "text/plain": [
       "<Solution 0.427 at 0x2810aff90>"
      ]
     },
     "execution_count": 12,
     "metadata": {},
     "output_type": "execute_result"
    }
   ],
   "source": [
    "solutions[1]"
   ]
  },
  {
   "cell_type": "markdown",
   "id": "7df5360d-e799-413e-af42-0001ff8ae4dd",
   "metadata": {},
   "source": [
    "## CREATION OF THE FLUXOMES DATAFRAME "
   ]
  },
  {
   "cell_type": "code",
   "execution_count": 13,
   "id": "ab223a5f-9d5d-42a0-a9e0-405721d21bfd",
   "metadata": {
    "scrolled": true
   },
   "outputs": [
    {
     "data": {
      "text/html": [
       "<div>\n",
       "<style scoped>\n",
       "    .dataframe tbody tr th:only-of-type {\n",
       "        vertical-align: middle;\n",
       "    }\n",
       "\n",
       "    .dataframe tbody tr th {\n",
       "        vertical-align: top;\n",
       "    }\n",
       "\n",
       "    .dataframe thead th {\n",
       "        text-align: right;\n",
       "    }\n",
       "</style>\n",
       "<table border=\"1\" class=\"dataframe\">\n",
       "  <thead>\n",
       "    <tr style=\"text-align: right;\">\n",
       "      <th></th>\n",
       "      <th>10FTHF7GLUtl</th>\n",
       "      <th>10FTHF7GLUtm</th>\n",
       "      <th>10FTHFtl</th>\n",
       "      <th>13DAMPPOX</th>\n",
       "      <th>1MNCAMti</th>\n",
       "      <th>25HVITD3t</th>\n",
       "      <th>25HVITD3tm</th>\n",
       "      <th>2HBO</th>\n",
       "      <th>2HBt2</th>\n",
       "      <th>2OXOADOXm</th>\n",
       "      <th>...</th>\n",
       "      <th>FAOXC14DCC12DCx</th>\n",
       "      <th>FAOXC16DCC14DCx</th>\n",
       "      <th>FAOXC16DCr</th>\n",
       "      <th>FAOXC16OHC16r</th>\n",
       "      <th>FAOXC6DCC4DCx</th>\n",
       "      <th>FAOXC8DCC6DCx</th>\n",
       "      <th>FAOXOHC16C16DCc</th>\n",
       "      <th>HEXDIACTD</th>\n",
       "      <th>HEXDICOAACBPx</th>\n",
       "      <th>OMHPALTD</th>\n",
       "    </tr>\n",
       "  </thead>\n",
       "  <tbody>\n",
       "    <tr>\n",
       "      <th>SampleModel-BRCA-C-TCGA-E9-A1NC-01A-21R-A26B-07</th>\n",
       "      <td>3.674972e-16</td>\n",
       "      <td>1.922624e-16</td>\n",
       "      <td>-3.674972e-16</td>\n",
       "      <td>0.0</td>\n",
       "      <td>-1.340291e-16</td>\n",
       "      <td>0.0</td>\n",
       "      <td>0.0</td>\n",
       "      <td>0.000000</td>\n",
       "      <td>0.00000</td>\n",
       "      <td>0.0</td>\n",
       "      <td>...</td>\n",
       "      <td>0.0</td>\n",
       "      <td>0.0</td>\n",
       "      <td>0.0</td>\n",
       "      <td>0.0</td>\n",
       "      <td>0.0</td>\n",
       "      <td>0.0</td>\n",
       "      <td>0.0</td>\n",
       "      <td>0.0</td>\n",
       "      <td>0.0</td>\n",
       "      <td>0.0</td>\n",
       "    </tr>\n",
       "    <tr>\n",
       "      <th>SampleModel-BRCA-C-TCGA-AO-A12H-01A-11R-A115-07</th>\n",
       "      <td>0.000000e+00</td>\n",
       "      <td>0.000000e+00</td>\n",
       "      <td>0.000000e+00</td>\n",
       "      <td>0.0</td>\n",
       "      <td>-2.859287e-16</td>\n",
       "      <td>0.0</td>\n",
       "      <td>0.0</td>\n",
       "      <td>-0.721624</td>\n",
       "      <td>0.00000</td>\n",
       "      <td>0.0</td>\n",
       "      <td>...</td>\n",
       "      <td>0.0</td>\n",
       "      <td>0.0</td>\n",
       "      <td>0.0</td>\n",
       "      <td>0.0</td>\n",
       "      <td>0.0</td>\n",
       "      <td>0.0</td>\n",
       "      <td>0.0</td>\n",
       "      <td>0.0</td>\n",
       "      <td>0.0</td>\n",
       "      <td>0.0</td>\n",
       "    </tr>\n",
       "    <tr>\n",
       "      <th>SampleModel-BRCA-C-TCGA-B6-A0RH-01A-21R-A115-07</th>\n",
       "      <td>0.000000e+00</td>\n",
       "      <td>0.000000e+00</td>\n",
       "      <td>0.000000e+00</td>\n",
       "      <td>0.0</td>\n",
       "      <td>0.000000e+00</td>\n",
       "      <td>0.0</td>\n",
       "      <td>0.0</td>\n",
       "      <td>0.000000</td>\n",
       "      <td>0.00000</td>\n",
       "      <td>0.0</td>\n",
       "      <td>...</td>\n",
       "      <td>0.0</td>\n",
       "      <td>0.0</td>\n",
       "      <td>0.0</td>\n",
       "      <td>0.0</td>\n",
       "      <td>0.0</td>\n",
       "      <td>0.0</td>\n",
       "      <td>0.0</td>\n",
       "      <td>0.0</td>\n",
       "      <td>0.0</td>\n",
       "      <td>0.0</td>\n",
       "    </tr>\n",
       "    <tr>\n",
       "      <th>SampleModel-BRCA-H-TCGA-BH-A1EO-11A-31R-A137-07</th>\n",
       "      <td>0.000000e+00</td>\n",
       "      <td>0.000000e+00</td>\n",
       "      <td>0.000000e+00</td>\n",
       "      <td>0.0</td>\n",
       "      <td>0.000000e+00</td>\n",
       "      <td>0.0</td>\n",
       "      <td>0.0</td>\n",
       "      <td>-1.878870</td>\n",
       "      <td>-1.87887</td>\n",
       "      <td>0.0</td>\n",
       "      <td>...</td>\n",
       "      <td>0.0</td>\n",
       "      <td>0.0</td>\n",
       "      <td>0.0</td>\n",
       "      <td>0.0</td>\n",
       "      <td>0.0</td>\n",
       "      <td>0.0</td>\n",
       "      <td>0.0</td>\n",
       "      <td>0.0</td>\n",
       "      <td>0.0</td>\n",
       "      <td>0.0</td>\n",
       "    </tr>\n",
       "    <tr>\n",
       "      <th>SampleModel-BRCA-H-TCGA-BH-A1FG-11B-12R-A13Q-07</th>\n",
       "      <td>0.000000e+00</td>\n",
       "      <td>0.000000e+00</td>\n",
       "      <td>0.000000e+00</td>\n",
       "      <td>0.0</td>\n",
       "      <td>3.063198e-16</td>\n",
       "      <td>0.0</td>\n",
       "      <td>0.0</td>\n",
       "      <td>0.000000</td>\n",
       "      <td>0.00000</td>\n",
       "      <td>0.0</td>\n",
       "      <td>...</td>\n",
       "      <td>0.0</td>\n",
       "      <td>0.0</td>\n",
       "      <td>0.0</td>\n",
       "      <td>0.0</td>\n",
       "      <td>0.0</td>\n",
       "      <td>0.0</td>\n",
       "      <td>0.0</td>\n",
       "      <td>0.0</td>\n",
       "      <td>0.0</td>\n",
       "      <td>0.0</td>\n",
       "    </tr>\n",
       "  </tbody>\n",
       "</table>\n",
       "<p>5 rows × 2903 columns</p>\n",
       "</div>"
      ],
      "text/plain": [
       "                                                 10FTHF7GLUtl  10FTHF7GLUtm  \\\n",
       "SampleModel-BRCA-C-TCGA-E9-A1NC-01A-21R-A26B-07  3.674972e-16  1.922624e-16   \n",
       "SampleModel-BRCA-C-TCGA-AO-A12H-01A-11R-A115-07  0.000000e+00  0.000000e+00   \n",
       "SampleModel-BRCA-C-TCGA-B6-A0RH-01A-21R-A115-07  0.000000e+00  0.000000e+00   \n",
       "SampleModel-BRCA-H-TCGA-BH-A1EO-11A-31R-A137-07  0.000000e+00  0.000000e+00   \n",
       "SampleModel-BRCA-H-TCGA-BH-A1FG-11B-12R-A13Q-07  0.000000e+00  0.000000e+00   \n",
       "\n",
       "                                                     10FTHFtl  13DAMPPOX  \\\n",
       "SampleModel-BRCA-C-TCGA-E9-A1NC-01A-21R-A26B-07 -3.674972e-16        0.0   \n",
       "SampleModel-BRCA-C-TCGA-AO-A12H-01A-11R-A115-07  0.000000e+00        0.0   \n",
       "SampleModel-BRCA-C-TCGA-B6-A0RH-01A-21R-A115-07  0.000000e+00        0.0   \n",
       "SampleModel-BRCA-H-TCGA-BH-A1EO-11A-31R-A137-07  0.000000e+00        0.0   \n",
       "SampleModel-BRCA-H-TCGA-BH-A1FG-11B-12R-A13Q-07  0.000000e+00        0.0   \n",
       "\n",
       "                                                     1MNCAMti  25HVITD3t  \\\n",
       "SampleModel-BRCA-C-TCGA-E9-A1NC-01A-21R-A26B-07 -1.340291e-16        0.0   \n",
       "SampleModel-BRCA-C-TCGA-AO-A12H-01A-11R-A115-07 -2.859287e-16        0.0   \n",
       "SampleModel-BRCA-C-TCGA-B6-A0RH-01A-21R-A115-07  0.000000e+00        0.0   \n",
       "SampleModel-BRCA-H-TCGA-BH-A1EO-11A-31R-A137-07  0.000000e+00        0.0   \n",
       "SampleModel-BRCA-H-TCGA-BH-A1FG-11B-12R-A13Q-07  3.063198e-16        0.0   \n",
       "\n",
       "                                                 25HVITD3tm      2HBO  \\\n",
       "SampleModel-BRCA-C-TCGA-E9-A1NC-01A-21R-A26B-07         0.0  0.000000   \n",
       "SampleModel-BRCA-C-TCGA-AO-A12H-01A-11R-A115-07         0.0 -0.721624   \n",
       "SampleModel-BRCA-C-TCGA-B6-A0RH-01A-21R-A115-07         0.0  0.000000   \n",
       "SampleModel-BRCA-H-TCGA-BH-A1EO-11A-31R-A137-07         0.0 -1.878870   \n",
       "SampleModel-BRCA-H-TCGA-BH-A1FG-11B-12R-A13Q-07         0.0  0.000000   \n",
       "\n",
       "                                                   2HBt2  2OXOADOXm  ...  \\\n",
       "SampleModel-BRCA-C-TCGA-E9-A1NC-01A-21R-A26B-07  0.00000        0.0  ...   \n",
       "SampleModel-BRCA-C-TCGA-AO-A12H-01A-11R-A115-07  0.00000        0.0  ...   \n",
       "SampleModel-BRCA-C-TCGA-B6-A0RH-01A-21R-A115-07  0.00000        0.0  ...   \n",
       "SampleModel-BRCA-H-TCGA-BH-A1EO-11A-31R-A137-07 -1.87887        0.0  ...   \n",
       "SampleModel-BRCA-H-TCGA-BH-A1FG-11B-12R-A13Q-07  0.00000        0.0  ...   \n",
       "\n",
       "                                                 FAOXC14DCC12DCx  \\\n",
       "SampleModel-BRCA-C-TCGA-E9-A1NC-01A-21R-A26B-07              0.0   \n",
       "SampleModel-BRCA-C-TCGA-AO-A12H-01A-11R-A115-07              0.0   \n",
       "SampleModel-BRCA-C-TCGA-B6-A0RH-01A-21R-A115-07              0.0   \n",
       "SampleModel-BRCA-H-TCGA-BH-A1EO-11A-31R-A137-07              0.0   \n",
       "SampleModel-BRCA-H-TCGA-BH-A1FG-11B-12R-A13Q-07              0.0   \n",
       "\n",
       "                                                 FAOXC16DCC14DCx  FAOXC16DCr  \\\n",
       "SampleModel-BRCA-C-TCGA-E9-A1NC-01A-21R-A26B-07              0.0         0.0   \n",
       "SampleModel-BRCA-C-TCGA-AO-A12H-01A-11R-A115-07              0.0         0.0   \n",
       "SampleModel-BRCA-C-TCGA-B6-A0RH-01A-21R-A115-07              0.0         0.0   \n",
       "SampleModel-BRCA-H-TCGA-BH-A1EO-11A-31R-A137-07              0.0         0.0   \n",
       "SampleModel-BRCA-H-TCGA-BH-A1FG-11B-12R-A13Q-07              0.0         0.0   \n",
       "\n",
       "                                                 FAOXC16OHC16r  FAOXC6DCC4DCx  \\\n",
       "SampleModel-BRCA-C-TCGA-E9-A1NC-01A-21R-A26B-07            0.0            0.0   \n",
       "SampleModel-BRCA-C-TCGA-AO-A12H-01A-11R-A115-07            0.0            0.0   \n",
       "SampleModel-BRCA-C-TCGA-B6-A0RH-01A-21R-A115-07            0.0            0.0   \n",
       "SampleModel-BRCA-H-TCGA-BH-A1EO-11A-31R-A137-07            0.0            0.0   \n",
       "SampleModel-BRCA-H-TCGA-BH-A1FG-11B-12R-A13Q-07            0.0            0.0   \n",
       "\n",
       "                                                 FAOXC8DCC6DCx  \\\n",
       "SampleModel-BRCA-C-TCGA-E9-A1NC-01A-21R-A26B-07            0.0   \n",
       "SampleModel-BRCA-C-TCGA-AO-A12H-01A-11R-A115-07            0.0   \n",
       "SampleModel-BRCA-C-TCGA-B6-A0RH-01A-21R-A115-07            0.0   \n",
       "SampleModel-BRCA-H-TCGA-BH-A1EO-11A-31R-A137-07            0.0   \n",
       "SampleModel-BRCA-H-TCGA-BH-A1FG-11B-12R-A13Q-07            0.0   \n",
       "\n",
       "                                                 FAOXOHC16C16DCc  HEXDIACTD  \\\n",
       "SampleModel-BRCA-C-TCGA-E9-A1NC-01A-21R-A26B-07              0.0        0.0   \n",
       "SampleModel-BRCA-C-TCGA-AO-A12H-01A-11R-A115-07              0.0        0.0   \n",
       "SampleModel-BRCA-C-TCGA-B6-A0RH-01A-21R-A115-07              0.0        0.0   \n",
       "SampleModel-BRCA-H-TCGA-BH-A1EO-11A-31R-A137-07              0.0        0.0   \n",
       "SampleModel-BRCA-H-TCGA-BH-A1FG-11B-12R-A13Q-07              0.0        0.0   \n",
       "\n",
       "                                                 HEXDICOAACBPx  OMHPALTD  \n",
       "SampleModel-BRCA-C-TCGA-E9-A1NC-01A-21R-A26B-07            0.0       0.0  \n",
       "SampleModel-BRCA-C-TCGA-AO-A12H-01A-11R-A115-07            0.0       0.0  \n",
       "SampleModel-BRCA-C-TCGA-B6-A0RH-01A-21R-A115-07            0.0       0.0  \n",
       "SampleModel-BRCA-H-TCGA-BH-A1EO-11A-31R-A137-07            0.0       0.0  \n",
       "SampleModel-BRCA-H-TCGA-BH-A1FG-11B-12R-A13Q-07            0.0       0.0  \n",
       "\n",
       "[5 rows x 2903 columns]"
      ]
     },
     "execution_count": 13,
     "metadata": {},
     "output_type": "execute_result"
    }
   ],
   "source": [
    "fluxes_df = pd.DataFrame(index = [model.id for model in models])\n",
    "\n",
    "for i, solution in enumerate(solutions, start = 0):\n",
    "    fluxes = solution.fluxes\n",
    "    \n",
    "    for reaction, flux in fluxes.items():\n",
    "        if reaction not in fluxes_df.columns:\n",
    "            fluxes_df[reaction] = 0.0\n",
    "        \n",
    "        fluxes_df.loc[fluxes_df.index[i], reaction] = flux\n",
    "        fluxes_df = fluxes_df.copy()\n",
    "\n",
    "fluxes_df.head()"
   ]
  }
 ],
 "metadata": {
  "kernelspec": {
   "display_name": "Python 3 (ipykernel)",
   "language": "python",
   "name": "python3"
  },
  "language_info": {
   "codemirror_mode": {
    "name": "ipython",
    "version": 3
   },
   "file_extension": ".py",
   "mimetype": "text/x-python",
   "name": "python",
   "nbconvert_exporter": "python",
   "pygments_lexer": "ipython3",
   "version": "3.11.7"
  }
 },
 "nbformat": 4,
 "nbformat_minor": 5
}
