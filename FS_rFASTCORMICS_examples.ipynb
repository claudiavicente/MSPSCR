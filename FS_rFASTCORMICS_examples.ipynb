{
 "cells": [
  {
   "cell_type": "markdown",
   "id": "08e37b37-6baa-4049-bce3-a7f987df549a",
   "metadata": {},
   "source": [
    "# IMPORT LIBRARIES"
   ]
  },
  {
   "cell_type": "code",
   "execution_count": 1,
   "id": "67426375-e66e-44cd-92d0-54efb450d67e",
   "metadata": {},
   "outputs": [],
   "source": [
    "import cobra\n",
    "import glob\n",
    "import os\n",
    "import time\n",
    "import pandas as pd"
   ]
  },
  {
   "cell_type": "code",
   "execution_count": 2,
   "id": "824a92b1-ad99-441f-b468-f4ab76419e6c",
   "metadata": {},
   "outputs": [
    {
     "name": "stderr",
     "output_type": "stream",
     "text": [
      "This model seems to have metCharge instead of metCharges field. Will use metCharge for what metCharges represents.\n",
      "This model seems to have metHMDB instead of metHMDBID field. Will use metHMDB for what metHMDBID represents.\n",
      "No defined compartments in model modelR204. Compartments will be deduced heuristically using regular expressions.\n",
      "Using regular expression found the following compartments:c, e, g, l, m, n, r, x\n"
     ]
    },
    {
     "data": {
      "text/html": [
       "\n",
       "        <table>\n",
       "            <tr>\n",
       "                <td><strong>Name</strong></td>\n",
       "                <td>modelR204</td>\n",
       "            </tr><tr>\n",
       "                <td><strong>Memory address</strong></td>\n",
       "                <td>146dacc50</td>\n",
       "            </tr><tr>\n",
       "                <td><strong>Number of metabolites</strong></td>\n",
       "                <td>5063</td>\n",
       "            </tr><tr>\n",
       "                <td><strong>Number of reactions</strong></td>\n",
       "                <td>7440</td>\n",
       "            </tr><tr>\n",
       "                <td><strong>Number of genes</strong></td>\n",
       "                <td>2140</td>\n",
       "            </tr><tr>\n",
       "                <td><strong>Number of groups</strong></td>\n",
       "                <td>100</td>\n",
       "            </tr><tr>\n",
       "                <td><strong>Objective expression</strong></td>\n",
       "                <td>1.0*biomass_reaction - 1.0*biomass_reaction_reverse_32a6c</td>\n",
       "            </tr><tr>\n",
       "                <td><strong>Compartments</strong></td>\n",
       "                <td>c, l, m, r, e, x, n, g</td>\n",
       "            </tr>\n",
       "          </table>"
      ],
      "text/plain": [
       "<Model modelR204 at 0x146dacc50>"
      ]
     },
     "execution_count": 2,
     "metadata": {},
     "output_type": "execute_result"
    }
   ],
   "source": [
    "recon_2 = cobra.io.load_matlab_model(\"/Users/claudiavicentecomorera/Desktop/TFG/rFASTCORMICS/rFASTCORMICS_RNA-seq/exampleData/Recon2.v04.mat\")\n",
    "recon_2"
   ]
  },
  {
   "cell_type": "code",
   "execution_count": 3,
   "id": "771cd353-07cd-46bf-9be4-1d3a954091fc",
   "metadata": {},
   "outputs": [
    {
     "data": {
      "text/html": [
       "<strong><em>Optimal</em> solution with objective value 3.198</strong><br><div>\n",
       "<style scoped>\n",
       "    .dataframe tbody tr th:only-of-type {\n",
       "        vertical-align: middle;\n",
       "    }\n",
       "\n",
       "    .dataframe tbody tr th {\n",
       "        vertical-align: top;\n",
       "    }\n",
       "\n",
       "    .dataframe thead th {\n",
       "        text-align: right;\n",
       "    }\n",
       "</style>\n",
       "<table border=\"1\" class=\"dataframe\">\n",
       "  <thead>\n",
       "    <tr style=\"text-align: right;\">\n",
       "      <th></th>\n",
       "      <th>fluxes</th>\n",
       "      <th>reduced_costs</th>\n",
       "    </tr>\n",
       "  </thead>\n",
       "  <tbody>\n",
       "    <tr>\n",
       "      <th>10FTHF5GLUtl</th>\n",
       "      <td>0.0</td>\n",
       "      <td>0.000000e+00</td>\n",
       "    </tr>\n",
       "    <tr>\n",
       "      <th>10FTHF5GLUtm</th>\n",
       "      <td>0.0</td>\n",
       "      <td>0.000000e+00</td>\n",
       "    </tr>\n",
       "    <tr>\n",
       "      <th>10FTHF6GLUtl</th>\n",
       "      <td>0.0</td>\n",
       "      <td>0.000000e+00</td>\n",
       "    </tr>\n",
       "    <tr>\n",
       "      <th>10FTHF6GLUtm</th>\n",
       "      <td>0.0</td>\n",
       "      <td>0.000000e+00</td>\n",
       "    </tr>\n",
       "    <tr>\n",
       "      <th>10FTHF7GLUtl</th>\n",
       "      <td>0.0</td>\n",
       "      <td>0.000000e+00</td>\n",
       "    </tr>\n",
       "    <tr>\n",
       "      <th>...</th>\n",
       "      <td>...</td>\n",
       "      <td>...</td>\n",
       "    </tr>\n",
       "    <tr>\n",
       "      <th>MAL_Lte</th>\n",
       "      <td>0.0</td>\n",
       "      <td>0.000000e+00</td>\n",
       "    </tr>\n",
       "    <tr>\n",
       "      <th>OROTGLUt</th>\n",
       "      <td>0.0</td>\n",
       "      <td>0.000000e+00</td>\n",
       "    </tr>\n",
       "    <tr>\n",
       "      <th>PNTOte</th>\n",
       "      <td>0.0</td>\n",
       "      <td>0.000000e+00</td>\n",
       "    </tr>\n",
       "    <tr>\n",
       "      <th>IDOURte</th>\n",
       "      <td>0.0</td>\n",
       "      <td>-1.028504e-14</td>\n",
       "    </tr>\n",
       "    <tr>\n",
       "      <th>EX_idour(e)</th>\n",
       "      <td>0.0</td>\n",
       "      <td>0.000000e+00</td>\n",
       "    </tr>\n",
       "  </tbody>\n",
       "</table>\n",
       "<p>7440 rows × 2 columns</p>\n",
       "</div>"
      ],
      "text/plain": [
       "<Solution 3.198 at 0x1630ed910>"
      ]
     },
     "execution_count": 3,
     "metadata": {},
     "output_type": "execute_result"
    }
   ],
   "source": [
    "solution_recon_2 = recon_2.optimize()\n",
    "solution_recon_2"
   ]
  },
  {
   "cell_type": "code",
   "execution_count": 4,
   "id": "d9a9bd64-373d-4d14-a557-eb6787c5a739",
   "metadata": {},
   "outputs": [],
   "source": [
    "bm = solution_recon_2.objective_value"
   ]
  },
  {
   "cell_type": "markdown",
   "id": "04164dff-f86b-4058-90b2-429084a6240e",
   "metadata": {},
   "source": [
    "# FLUXES SIMULATION: rFASTCORMICS EXAMPLE_V4"
   ]
  },
  {
   "cell_type": "code",
   "execution_count": 5,
   "id": "5b2e7537-7a29-48e7-9d70-f532ad39b305",
   "metadata": {},
   "outputs": [
    {
     "name": "stderr",
     "output_type": "stream",
     "text": [
      "This model seems to have metCharge instead of metCharges field. Will use metCharge for what metCharges represents.\n",
      "This model seems to have metHMDB instead of metHMDBID field. Will use metHMDB for what metHMDBID represents.\n",
      "No defined compartments in model ContextModel. Compartments will be deduced heuristically using regular expressions.\n",
      "Using regular expression found the following compartments:c, e, g, l, m, n, r, x\n",
      "This model seems to have metCharge instead of metCharges field. Will use metCharge for what metCharges represents.\n",
      "This model seems to have metHMDB instead of metHMDBID field. Will use metHMDB for what metHMDBID represents.\n",
      "No defined compartments in model ContextModel. Compartments will be deduced heuristically using regular expressions.\n",
      "Using regular expression found the following compartments:c, e, g, l, m, n, r, x\n"
     ]
    }
   ],
   "source": [
    "model1 =  cobra.io.load_matlab_model(\"/Users/claudiavicentecomorera/Desktop/TFG/rFASTCORMICS/rFASTCORMICS_RNA-seq/exampleResults/Example_v4/SampleModel_TCGA06067511A32RA36H07.mat\")\n",
    "model2 =  cobra.io.load_matlab_model(\"/Users/claudiavicentecomorera/Desktop/TFG/rFASTCORMICS/rFASTCORMICS_RNA-seq/exampleResults/Example_v4/SampleModel_TCGA06067811A32RA36H07.mat\")"
   ]
  },
  {
   "cell_type": "code",
   "execution_count": 6,
   "id": "a3d26c10-e6c0-4e9d-a897-7d59c93ad699",
   "metadata": {},
   "outputs": [
    {
     "data": {
      "text/html": [
       "\n",
       "        <table>\n",
       "            <tr>\n",
       "                <td><strong>Name</strong></td>\n",
       "                <td>ContextModel</td>\n",
       "            </tr><tr>\n",
       "                <td><strong>Memory address</strong></td>\n",
       "                <td>16311bad0</td>\n",
       "            </tr><tr>\n",
       "                <td><strong>Number of metabolites</strong></td>\n",
       "                <td>1401</td>\n",
       "            </tr><tr>\n",
       "                <td><strong>Number of reactions</strong></td>\n",
       "                <td>1936</td>\n",
       "            </tr><tr>\n",
       "                <td><strong>Number of genes</strong></td>\n",
       "                <td>2140</td>\n",
       "            </tr><tr>\n",
       "                <td><strong>Number of groups</strong></td>\n",
       "                <td>79</td>\n",
       "            </tr><tr>\n",
       "                <td><strong>Objective expression</strong></td>\n",
       "                <td>1.0*biomass_reaction - 1.0*biomass_reaction_reverse_32a6c</td>\n",
       "            </tr><tr>\n",
       "                <td><strong>Compartments</strong></td>\n",
       "                <td>c, m, x, e, l, r, g, n</td>\n",
       "            </tr>\n",
       "          </table>"
      ],
      "text/plain": [
       "<Model ContextModel at 0x16311bad0>"
      ]
     },
     "execution_count": 6,
     "metadata": {},
     "output_type": "execute_result"
    }
   ],
   "source": [
    "model1"
   ]
  },
  {
   "cell_type": "code",
   "execution_count": 7,
   "id": "0141c699-ed86-4070-9b94-3bb3f61d7ffe",
   "metadata": {},
   "outputs": [
    {
     "data": {
      "text/html": [
       "\n",
       "        <table>\n",
       "            <tr>\n",
       "                <td><strong>Name</strong></td>\n",
       "                <td>ContextModel</td>\n",
       "            </tr><tr>\n",
       "                <td><strong>Memory address</strong></td>\n",
       "                <td>162cb01d0</td>\n",
       "            </tr><tr>\n",
       "                <td><strong>Number of metabolites</strong></td>\n",
       "                <td>1435</td>\n",
       "            </tr><tr>\n",
       "                <td><strong>Number of reactions</strong></td>\n",
       "                <td>1980</td>\n",
       "            </tr><tr>\n",
       "                <td><strong>Number of genes</strong></td>\n",
       "                <td>2140</td>\n",
       "            </tr><tr>\n",
       "                <td><strong>Number of groups</strong></td>\n",
       "                <td>79</td>\n",
       "            </tr><tr>\n",
       "                <td><strong>Objective expression</strong></td>\n",
       "                <td>1.0*biomass_reaction - 1.0*biomass_reaction_reverse_32a6c</td>\n",
       "            </tr><tr>\n",
       "                <td><strong>Compartments</strong></td>\n",
       "                <td>c, l, m, x, e, r, g, n</td>\n",
       "            </tr>\n",
       "          </table>"
      ],
      "text/plain": [
       "<Model ContextModel at 0x162cb01d0>"
      ]
     },
     "execution_count": 7,
     "metadata": {},
     "output_type": "execute_result"
    }
   ],
   "source": [
    "model2"
   ]
  },
  {
   "cell_type": "code",
   "execution_count": 8,
   "id": "ea3409a2-0b03-4835-83b9-dd5ffd2ea45c",
   "metadata": {
    "scrolled": true
   },
   "outputs": [
    {
     "name": "stdout",
     "output_type": "stream",
     "text": [
      "The simulation of ContextModel fluxes takes: 0.21251296997070312 seconds\n"
     ]
    },
    {
     "data": {
      "text/html": [
       "<strong><em>Optimal</em> solution with objective value 0.295</strong><br><div>\n",
       "<style scoped>\n",
       "    .dataframe tbody tr th:only-of-type {\n",
       "        vertical-align: middle;\n",
       "    }\n",
       "\n",
       "    .dataframe tbody tr th {\n",
       "        vertical-align: top;\n",
       "    }\n",
       "\n",
       "    .dataframe thead th {\n",
       "        text-align: right;\n",
       "    }\n",
       "</style>\n",
       "<table border=\"1\" class=\"dataframe\">\n",
       "  <thead>\n",
       "    <tr style=\"text-align: right;\">\n",
       "      <th></th>\n",
       "      <th>fluxes</th>\n",
       "      <th>reduced_costs</th>\n",
       "    </tr>\n",
       "  </thead>\n",
       "  <tbody>\n",
       "    <tr>\n",
       "      <th>13DAMPPOX</th>\n",
       "      <td>0.000000</td>\n",
       "      <td>-6.938894e-18</td>\n",
       "    </tr>\n",
       "    <tr>\n",
       "      <th>25HVITD3t</th>\n",
       "      <td>0.000000</td>\n",
       "      <td>0.000000e+00</td>\n",
       "    </tr>\n",
       "    <tr>\n",
       "      <th>25HVITD3tm</th>\n",
       "      <td>0.000000</td>\n",
       "      <td>0.000000e+00</td>\n",
       "    </tr>\n",
       "    <tr>\n",
       "      <th>2HBO</th>\n",
       "      <td>0.000000</td>\n",
       "      <td>-1.885996e-17</td>\n",
       "    </tr>\n",
       "    <tr>\n",
       "      <th>2HBt2</th>\n",
       "      <td>0.000000</td>\n",
       "      <td>-0.000000e+00</td>\n",
       "    </tr>\n",
       "    <tr>\n",
       "      <th>...</th>\n",
       "      <td>...</td>\n",
       "      <td>...</td>\n",
       "    </tr>\n",
       "    <tr>\n",
       "      <th>4HPRO_LTte</th>\n",
       "      <td>0.000000</td>\n",
       "      <td>-0.000000e+00</td>\n",
       "    </tr>\n",
       "    <tr>\n",
       "      <th>5MTAte</th>\n",
       "      <td>0.033276</td>\n",
       "      <td>0.000000e+00</td>\n",
       "    </tr>\n",
       "    <tr>\n",
       "      <th>DM_Lcystin</th>\n",
       "      <td>0.100631</td>\n",
       "      <td>0.000000e+00</td>\n",
       "    </tr>\n",
       "    <tr>\n",
       "      <th>EX_34hpp</th>\n",
       "      <td>0.000000</td>\n",
       "      <td>2.886506e-16</td>\n",
       "    </tr>\n",
       "    <tr>\n",
       "      <th>EX_5mta(e)</th>\n",
       "      <td>-0.033276</td>\n",
       "      <td>-0.000000e+00</td>\n",
       "    </tr>\n",
       "  </tbody>\n",
       "</table>\n",
       "<p>1936 rows × 2 columns</p>\n",
       "</div>"
      ],
      "text/plain": [
       "<Solution 0.295 at 0x161e7ba50>"
      ]
     },
     "execution_count": 8,
     "metadata": {},
     "output_type": "execute_result"
    }
   ],
   "source": [
    "t0_1 = time.time()  \n",
    "solution1 = model1.optimize()\n",
    "t_1 = time.time()  \n",
    "time1 = t_1 - t0_1\n",
    "print(f\"The simulation of {model1.id} fluxes takes: {time1} seconds\")\n",
    "\n",
    "bm1 = solution1.objective_value\n",
    "solution1"
   ]
  },
  {
   "cell_type": "code",
   "execution_count": 9,
   "id": "89cc4a7e-3d8b-4502-9407-72e51bda3fb4",
   "metadata": {},
   "outputs": [
    {
     "name": "stdout",
     "output_type": "stream",
     "text": [
      "The simulation of ContextModel fluxes takes: 0.21233105659484863 seconds\n"
     ]
    },
    {
     "data": {
      "text/html": [
       "<strong><em>Optimal</em> solution with objective value 0.337</strong><br><div>\n",
       "<style scoped>\n",
       "    .dataframe tbody tr th:only-of-type {\n",
       "        vertical-align: middle;\n",
       "    }\n",
       "\n",
       "    .dataframe tbody tr th {\n",
       "        vertical-align: top;\n",
       "    }\n",
       "\n",
       "    .dataframe thead th {\n",
       "        text-align: right;\n",
       "    }\n",
       "</style>\n",
       "<table border=\"1\" class=\"dataframe\">\n",
       "  <thead>\n",
       "    <tr style=\"text-align: right;\">\n",
       "      <th></th>\n",
       "      <th>fluxes</th>\n",
       "      <th>reduced_costs</th>\n",
       "    </tr>\n",
       "  </thead>\n",
       "  <tbody>\n",
       "    <tr>\n",
       "      <th>10FTHF7GLUtl</th>\n",
       "      <td>4.403193e-18</td>\n",
       "      <td>0.000000e+00</td>\n",
       "    </tr>\n",
       "    <tr>\n",
       "      <th>10FTHFtl</th>\n",
       "      <td>-4.403193e-18</td>\n",
       "      <td>-0.000000e+00</td>\n",
       "    </tr>\n",
       "    <tr>\n",
       "      <th>13DAMPPOX</th>\n",
       "      <td>1.876007e-18</td>\n",
       "      <td>-3.469447e-18</td>\n",
       "    </tr>\n",
       "    <tr>\n",
       "      <th>25HVITD3t</th>\n",
       "      <td>0.000000e+00</td>\n",
       "      <td>0.000000e+00</td>\n",
       "    </tr>\n",
       "    <tr>\n",
       "      <th>25HVITD3tm</th>\n",
       "      <td>0.000000e+00</td>\n",
       "      <td>0.000000e+00</td>\n",
       "    </tr>\n",
       "    <tr>\n",
       "      <th>...</th>\n",
       "      <td>...</td>\n",
       "      <td>...</td>\n",
       "    </tr>\n",
       "    <tr>\n",
       "      <th>5MTAte</th>\n",
       "      <td>3.797196e-02</td>\n",
       "      <td>0.000000e+00</td>\n",
       "    </tr>\n",
       "    <tr>\n",
       "      <th>DM_Lcystin</th>\n",
       "      <td>4.921632e-01</td>\n",
       "      <td>2.562012e-17</td>\n",
       "    </tr>\n",
       "    <tr>\n",
       "      <th>DM_anth</th>\n",
       "      <td>6.367680e-01</td>\n",
       "      <td>0.000000e+00</td>\n",
       "    </tr>\n",
       "    <tr>\n",
       "      <th>EX_34hpp</th>\n",
       "      <td>0.000000e+00</td>\n",
       "      <td>-5.583630e-04</td>\n",
       "    </tr>\n",
       "    <tr>\n",
       "      <th>EX_5mta(e)</th>\n",
       "      <td>-3.797196e-02</td>\n",
       "      <td>-0.000000e+00</td>\n",
       "    </tr>\n",
       "  </tbody>\n",
       "</table>\n",
       "<p>1980 rows × 2 columns</p>\n",
       "</div>"
      ],
      "text/plain": [
       "<Solution 0.337 at 0x161e87b10>"
      ]
     },
     "execution_count": 9,
     "metadata": {},
     "output_type": "execute_result"
    }
   ],
   "source": [
    "t0_2 = time.time()  \n",
    "solution2 = model2.optimize()\n",
    "t_2 = time.time()  \n",
    "time2 = t_2 - t0_2\n",
    "print(f\"The simulation of {model1.id} fluxes takes: {time2} seconds\")\n",
    "\n",
    "bm2 = solution2.objective_value\n",
    "solution2"
   ]
  },
  {
   "cell_type": "code",
   "execution_count": 10,
   "id": "28e153e8-3089-467e-acb5-c41747492b58",
   "metadata": {},
   "outputs": [
    {
     "name": "stdout",
     "output_type": "stream",
     "text": [
      "9.2222339505548\n",
      "10.523684294157524\n"
     ]
    }
   ],
   "source": [
    "print((bm1/bm)*100)\n",
    "print((bm2/bm)*100)"
   ]
  },
  {
   "cell_type": "markdown",
   "id": "be2d0cae-4a89-4541-bfa5-84dad75f638b",
   "metadata": {},
   "source": [
    "# FLUXES SIMULATION: rFASTCORMICS ADDITIONAL EXAMPLE"
   ]
  },
  {
   "cell_type": "code",
   "execution_count": 11,
   "id": "6cda89fe-eb6d-4fb6-972a-70188aaa4fc6",
   "metadata": {},
   "outputs": [
    {
     "name": "stderr",
     "output_type": "stream",
     "text": [
      "This model seems to have metCharge instead of metCharges field. Will use metCharge for what metCharges represents.\n",
      "This model seems to have metHMDB instead of metHMDBID field. Will use metHMDB for what metHMDBID represents.\n",
      "No defined compartments in model ContextModel. Compartments will be deduced heuristically using regular expressions.\n",
      "Using regular expression found the following compartments:c, e, g, l, m, n, r, x\n",
      "This model seems to have metCharge instead of metCharges field. Will use metCharge for what metCharges represents.\n",
      "This model seems to have metHMDB instead of metHMDBID field. Will use metHMDB for what metHMDBID represents.\n",
      "No defined compartments in model ContextModel. Compartments will be deduced heuristically using regular expressions.\n",
      "Using regular expression found the following compartments:c, e, g, l, m, n, r, x\n"
     ]
    },
    {
     "name": "stdout",
     "output_type": "stream",
     "text": [
      "The simulation of SampleModel-BRCA-C-TCGA-E9-A1NC-01A-21R-A26B-07 fluxes takes: 0.2733120918273926 seconds\n"
     ]
    },
    {
     "name": "stderr",
     "output_type": "stream",
     "text": [
      "This model seems to have metCharge instead of metCharges field. Will use metCharge for what metCharges represents.\n",
      "This model seems to have metHMDB instead of metHMDBID field. Will use metHMDB for what metHMDBID represents.\n",
      "No defined compartments in model ContextModel. Compartments will be deduced heuristically using regular expressions.\n",
      "Using regular expression found the following compartments:c, e, g, l, m, n, r, x\n"
     ]
    },
    {
     "name": "stdout",
     "output_type": "stream",
     "text": [
      "The simulation of SampleModel-BRCA-C-TCGA-AO-A12H-01A-11R-A115-07 fluxes takes: 0.31087732315063477 seconds\n"
     ]
    },
    {
     "name": "stderr",
     "output_type": "stream",
     "text": [
      "This model seems to have metCharge instead of metCharges field. Will use metCharge for what metCharges represents.\n",
      "This model seems to have metHMDB instead of metHMDBID field. Will use metHMDB for what metHMDBID represents.\n",
      "No defined compartments in model ContextModel. Compartments will be deduced heuristically using regular expressions.\n",
      "Using regular expression found the following compartments:c, e, g, l, m, n, r, x\n"
     ]
    },
    {
     "name": "stdout",
     "output_type": "stream",
     "text": [
      "The simulation of SampleModel-BRCA-C-TCGA-B6-A0RH-01A-21R-A115-07 fluxes takes: 0.26493096351623535 seconds\n"
     ]
    },
    {
     "name": "stderr",
     "output_type": "stream",
     "text": [
      "This model seems to have metCharge instead of metCharges field. Will use metCharge for what metCharges represents.\n",
      "This model seems to have metHMDB instead of metHMDBID field. Will use metHMDB for what metHMDBID represents.\n",
      "No defined compartments in model ContextModel. Compartments will be deduced heuristically using regular expressions.\n",
      "Using regular expression found the following compartments:c, e, g, l, m, n, r, x\n"
     ]
    },
    {
     "name": "stdout",
     "output_type": "stream",
     "text": [
      "The simulation of SampleModel-BRCA-H-TCGA-BH-A1EO-11A-31R-A137-07 fluxes takes: 0.22640299797058105 seconds\n"
     ]
    },
    {
     "name": "stderr",
     "output_type": "stream",
     "text": [
      "This model seems to have metCharge instead of metCharges field. Will use metCharge for what metCharges represents.\n",
      "This model seems to have metHMDB instead of metHMDBID field. Will use metHMDB for what metHMDBID represents.\n",
      "No defined compartments in model ContextModel. Compartments will be deduced heuristically using regular expressions.\n",
      "Using regular expression found the following compartments:c, e, g, l, m, n, r, x\n"
     ]
    },
    {
     "name": "stdout",
     "output_type": "stream",
     "text": [
      "The simulation of SampleModel-BRCA-H-TCGA-BH-A1FG-11B-12R-A13Q-07 fluxes takes: 0.20227909088134766 seconds\n"
     ]
    },
    {
     "name": "stderr",
     "output_type": "stream",
     "text": [
      "This model seems to have metCharge instead of metCharges field. Will use metCharge for what metCharges represents.\n",
      "This model seems to have metHMDB instead of metHMDBID field. Will use metHMDB for what metHMDBID represents.\n",
      "No defined compartments in model ContextModel. Compartments will be deduced heuristically using regular expressions.\n",
      "Using regular expression found the following compartments:c, e, g, l, m, n, r, x\n"
     ]
    },
    {
     "name": "stdout",
     "output_type": "stream",
     "text": [
      "The simulation of SampleModel-BRCA-C-TCGA-A8-A0AB-01A-11R-A034-07 fluxes takes: 0.28290510177612305 seconds\n"
     ]
    },
    {
     "name": "stderr",
     "output_type": "stream",
     "text": [
      "This model seems to have metCharge instead of metCharges field. Will use metCharge for what metCharges represents.\n",
      "This model seems to have metHMDB instead of metHMDBID field. Will use metHMDB for what metHMDBID represents.\n",
      "No defined compartments in model ContextModel. Compartments will be deduced heuristically using regular expressions.\n",
      "Using regular expression found the following compartments:c, e, g, l, m, n, r, x\n"
     ]
    },
    {
     "name": "stdout",
     "output_type": "stream",
     "text": [
      "The simulation of SampleModel-BRCA-H-TCGA-BH-A0BC-11A-22R-A089-07 fluxes takes: 0.2501072883605957 seconds\n"
     ]
    },
    {
     "name": "stderr",
     "output_type": "stream",
     "text": [
      "This model seems to have metCharge instead of metCharges field. Will use metCharge for what metCharges represents.\n",
      "This model seems to have metHMDB instead of metHMDBID field. Will use metHMDB for what metHMDBID represents.\n",
      "No defined compartments in model ContextModel. Compartments will be deduced heuristically using regular expressions.\n",
      "Using regular expression found the following compartments:c, e, g, l, m, n, r, x\n"
     ]
    },
    {
     "name": "stdout",
     "output_type": "stream",
     "text": [
      "The simulation of SampleModel-BRCA-H-TCGA-BH-A0DT-11A-12R-A12D-07 fluxes takes: 0.22606897354125977 seconds\n"
     ]
    },
    {
     "name": "stderr",
     "output_type": "stream",
     "text": [
      "This model seems to have metCharge instead of metCharges field. Will use metCharge for what metCharges represents.\n",
      "This model seems to have metHMDB instead of metHMDBID field. Will use metHMDB for what metHMDBID represents.\n",
      "No defined compartments in model ContextModel. Compartments will be deduced heuristically using regular expressions.\n",
      "Using regular expression found the following compartments:c, e, g, l, m, n, r, x\n"
     ]
    },
    {
     "name": "stdout",
     "output_type": "stream",
     "text": [
      "The simulation of SampleModel-BRCA-H-TCGA-BH-A0BA-11A-22R-A19E-07 fluxes takes: 0.2955300807952881 seconds\n"
     ]
    },
    {
     "name": "stderr",
     "output_type": "stream",
     "text": [
      "This model seems to have metCharge instead of metCharges field. Will use metCharge for what metCharges represents.\n",
      "This model seems to have metHMDB instead of metHMDBID field. Will use metHMDB for what metHMDBID represents.\n",
      "No defined compartments in model ContextModel. Compartments will be deduced heuristically using regular expressions.\n",
      "Using regular expression found the following compartments:c, e, g, l, m, n, r, x\n"
     ]
    },
    {
     "name": "stdout",
     "output_type": "stream",
     "text": [
      "The simulation of SampleModel-BRCA-C-TCGA-A2-A0D0-01A-11R-A00Z-07 fluxes takes: 0.2672138214111328 seconds\n"
     ]
    },
    {
     "name": "stderr",
     "output_type": "stream",
     "text": [
      "This model seems to have metCharge instead of metCharges field. Will use metCharge for what metCharges represents.\n",
      "This model seems to have metHMDB instead of metHMDBID field. Will use metHMDB for what metHMDBID represents.\n",
      "No defined compartments in model ContextModel. Compartments will be deduced heuristically using regular expressions.\n",
      "Using regular expression found the following compartments:c, e, g, l, m, n, r, x\n"
     ]
    },
    {
     "name": "stdout",
     "output_type": "stream",
     "text": [
      "The simulation of SampleModel-BRCA-H-TCGA-BH-A203-11A-42R-A169-07 fluxes takes: 0.23517990112304688 seconds\n"
     ]
    },
    {
     "name": "stderr",
     "output_type": "stream",
     "text": [
      "This model seems to have metCharge instead of metCharges field. Will use metCharge for what metCharges represents.\n",
      "This model seems to have metHMDB instead of metHMDBID field. Will use metHMDB for what metHMDBID represents.\n",
      "No defined compartments in model ContextModel. Compartments will be deduced heuristically using regular expressions.\n",
      "Using regular expression found the following compartments:c, e, g, l, m, n, r, x\n"
     ]
    },
    {
     "name": "stdout",
     "output_type": "stream",
     "text": [
      "The simulation of SampleModel-BRCA-H-TCGA-AC-A23H-11A-12R-A157-07 fluxes takes: 0.22660422325134277 seconds\n"
     ]
    },
    {
     "name": "stderr",
     "output_type": "stream",
     "text": [
      "This model seems to have metCharge instead of metCharges field. Will use metCharge for what metCharges represents.\n",
      "This model seems to have metHMDB instead of metHMDBID field. Will use metHMDB for what metHMDBID represents.\n",
      "No defined compartments in model ContextModel. Compartments will be deduced heuristically using regular expressions.\n",
      "Using regular expression found the following compartments:c, e, g, l, m, n, r, x\n"
     ]
    },
    {
     "name": "stdout",
     "output_type": "stream",
     "text": [
      "The simulation of SampleModel-BRCA-C-TCGA-C8-A1HO-01A-11R-A13Q-07 fluxes takes: 0.28466796875 seconds\n"
     ]
    },
    {
     "name": "stderr",
     "output_type": "stream",
     "text": [
      "This model seems to have metCharge instead of metCharges field. Will use metCharge for what metCharges represents.\n",
      "This model seems to have metHMDB instead of metHMDBID field. Will use metHMDB for what metHMDBID represents.\n",
      "No defined compartments in model ContextModel. Compartments will be deduced heuristically using regular expressions.\n",
      "Using regular expression found the following compartments:c, e, g, l, m, n, r, x\n"
     ]
    },
    {
     "name": "stdout",
     "output_type": "stream",
     "text": [
      "The simulation of SampleModel-BRCA-H-TCGA-BH-A1F0-11B-23R-A137-07 fluxes takes: 0.24702095985412598 seconds\n"
     ]
    },
    {
     "name": "stderr",
     "output_type": "stream",
     "text": [
      "This model seems to have metCharge instead of metCharges field. Will use metCharge for what metCharges represents.\n",
      "This model seems to have metHMDB instead of metHMDBID field. Will use metHMDB for what metHMDBID represents.\n",
      "No defined compartments in model ContextModel. Compartments will be deduced heuristically using regular expressions.\n",
      "Using regular expression found the following compartments:c, e, g, l, m, n, r, x\n"
     ]
    },
    {
     "name": "stdout",
     "output_type": "stream",
     "text": [
      "The simulation of SampleModel-BRCA-C-TCGA-A8-A06Y-01A-21R-A00Z-07 fluxes takes: 0.2744109630584717 seconds\n"
     ]
    },
    {
     "name": "stderr",
     "output_type": "stream",
     "text": [
      "This model seems to have metCharge instead of metCharges field. Will use metCharge for what metCharges represents.\n",
      "This model seems to have metHMDB instead of metHMDBID field. Will use metHMDB for what metHMDBID represents.\n",
      "No defined compartments in model ContextModel. Compartments will be deduced heuristically using regular expressions.\n",
      "Using regular expression found the following compartments:c, e, g, l, m, n, r, x\n"
     ]
    },
    {
     "name": "stdout",
     "output_type": "stream",
     "text": [
      "The simulation of SampleModel-BRCA-C-TCGA-C8-A1HL-01A-11R-A137-07 fluxes takes: 0.23878884315490723 seconds\n"
     ]
    },
    {
     "name": "stderr",
     "output_type": "stream",
     "text": [
      "This model seems to have metCharge instead of metCharges field. Will use metCharge for what metCharges represents.\n",
      "This model seems to have metHMDB instead of metHMDBID field. Will use metHMDB for what metHMDBID represents.\n",
      "No defined compartments in model ContextModel. Compartments will be deduced heuristically using regular expressions.\n",
      "Using regular expression found the following compartments:c, e, g, l, m, n, r, x\n"
     ]
    },
    {
     "name": "stdout",
     "output_type": "stream",
     "text": [
      "The simulation of SampleModel-BRCA-C-TCGA-D8-A4Z1-01A-21R-A266-07 fluxes takes: 0.23082399368286133 seconds\n"
     ]
    },
    {
     "name": "stderr",
     "output_type": "stream",
     "text": [
      "This model seems to have metCharge instead of metCharges field. Will use metCharge for what metCharges represents.\n",
      "This model seems to have metHMDB instead of metHMDBID field. Will use metHMDB for what metHMDBID represents.\n",
      "No defined compartments in model ContextModel. Compartments will be deduced heuristically using regular expressions.\n",
      "Using regular expression found the following compartments:c, e, g, l, m, n, r, x\n"
     ]
    },
    {
     "name": "stdout",
     "output_type": "stream",
     "text": [
      "The simulation of SampleModel-BRCA-H-TCGA-BH-A204-11A-53R-A157-07 fluxes takes: 0.2669491767883301 seconds\n"
     ]
    },
    {
     "name": "stderr",
     "output_type": "stream",
     "text": [
      "This model seems to have metCharge instead of metCharges field. Will use metCharge for what metCharges represents.\n",
      "This model seems to have metHMDB instead of metHMDBID field. Will use metHMDB for what metHMDBID represents.\n",
      "No defined compartments in model ContextModel. Compartments will be deduced heuristically using regular expressions.\n",
      "Using regular expression found the following compartments:c, e, g, l, m, n, r, x\n"
     ]
    },
    {
     "name": "stdout",
     "output_type": "stream",
     "text": [
      "The simulation of SampleModel-BRCA-H-TCGA-BH-A0DH-11A-31R-A089-07 fluxes takes: 0.27349376678466797 seconds\n",
      "The simulation of SampleModel-BRCA-C-TCGA-A1-A0SM-01A-11R-A084-07 fluxes takes: 0.2570178508758545 seconds\n"
     ]
    }
   ],
   "source": [
    "f_path = \"/Users/claudiavicentecomorera/Desktop/TFG/rFASTCORMICS/rFASTCORMICS_RNA-seq/exampleResults/Example_BRCA/\"\n",
    "file_paths = glob.glob(f_path + \"*.mat\")\n",
    "\n",
    "models = []\n",
    "solutions = []\n",
    "times = []\n",
    "\n",
    "for file_path in file_paths:\n",
    "    model = cobra.io.load_matlab_model(file_path)\n",
    "    model.id = os.path.splitext(os.path.basename(file_path))[0].replace(\"_\", \"-\")\n",
    "    \n",
    "    t0_add = time.time()  \n",
    "    solution = model.optimize()\n",
    "    t_add = time.time()  \n",
    "    time_add = t_add - t0_add  # Calculate the time taken for FBA\n",
    "    \n",
    "    print(f\"The simulation of {model.id} fluxes takes: {time_add} seconds\")\n",
    "    \n",
    "    models.append(model)\n",
    "    solutions.append(solution)\n",
    "    times.append(time)\n"
   ]
  },
  {
   "cell_type": "code",
   "execution_count": 12,
   "id": "2019875d-2465-40d5-a374-f9886b82f003",
   "metadata": {},
   "outputs": [
    {
     "data": {
      "text/html": [
       "<strong><em>Optimal</em> solution with objective value 0.427</strong><br><div>\n",
       "<style scoped>\n",
       "    .dataframe tbody tr th:only-of-type {\n",
       "        vertical-align: middle;\n",
       "    }\n",
       "\n",
       "    .dataframe tbody tr th {\n",
       "        vertical-align: top;\n",
       "    }\n",
       "\n",
       "    .dataframe thead th {\n",
       "        text-align: right;\n",
       "    }\n",
       "</style>\n",
       "<table border=\"1\" class=\"dataframe\">\n",
       "  <thead>\n",
       "    <tr style=\"text-align: right;\">\n",
       "      <th></th>\n",
       "      <th>fluxes</th>\n",
       "      <th>reduced_costs</th>\n",
       "    </tr>\n",
       "  </thead>\n",
       "  <tbody>\n",
       "    <tr>\n",
       "      <th>10FTHF7GLUtl</th>\n",
       "      <td>0.000000e+00</td>\n",
       "      <td>0.000000e+00</td>\n",
       "    </tr>\n",
       "    <tr>\n",
       "      <th>10FTHF7GLUtm</th>\n",
       "      <td>0.000000e+00</td>\n",
       "      <td>0.000000e+00</td>\n",
       "    </tr>\n",
       "    <tr>\n",
       "      <th>10FTHFtl</th>\n",
       "      <td>0.000000e+00</td>\n",
       "      <td>-0.000000e+00</td>\n",
       "    </tr>\n",
       "    <tr>\n",
       "      <th>13DAMPPOX</th>\n",
       "      <td>0.000000e+00</td>\n",
       "      <td>-2.887694e-01</td>\n",
       "    </tr>\n",
       "    <tr>\n",
       "      <th>1MNCAMti</th>\n",
       "      <td>-2.859287e-16</td>\n",
       "      <td>5.551115e-17</td>\n",
       "    </tr>\n",
       "    <tr>\n",
       "      <th>...</th>\n",
       "      <td>...</td>\n",
       "      <td>...</td>\n",
       "    </tr>\n",
       "    <tr>\n",
       "      <th>5MTAte</th>\n",
       "      <td>4.818745e-02</td>\n",
       "      <td>0.000000e+00</td>\n",
       "    </tr>\n",
       "    <tr>\n",
       "      <th>DM_Lcystin</th>\n",
       "      <td>6.521982e-01</td>\n",
       "      <td>0.000000e+00</td>\n",
       "    </tr>\n",
       "    <tr>\n",
       "      <th>DM_anth</th>\n",
       "      <td>0.000000e+00</td>\n",
       "      <td>0.000000e+00</td>\n",
       "    </tr>\n",
       "    <tr>\n",
       "      <th>EX_34hpp</th>\n",
       "      <td>0.000000e+00</td>\n",
       "      <td>-5.191360e-02</td>\n",
       "    </tr>\n",
       "    <tr>\n",
       "      <th>EX_5mta(e)</th>\n",
       "      <td>-4.818745e-02</td>\n",
       "      <td>-0.000000e+00</td>\n",
       "    </tr>\n",
       "  </tbody>\n",
       "</table>\n",
       "<p>1960 rows × 2 columns</p>\n",
       "</div>"
      ],
      "text/plain": [
       "<Solution 0.427 at 0x165533350>"
      ]
     },
     "execution_count": 12,
     "metadata": {},
     "output_type": "execute_result"
    }
   ],
   "source": [
    "solutions[1]"
   ]
  },
  {
   "cell_type": "code",
   "execution_count": 13,
   "id": "7a1a6fc1-0cfc-4caa-bf38-385144a3f259",
   "metadata": {},
   "outputs": [
    {
     "name": "stdout",
     "output_type": "stream",
     "text": [
      "The 5% of Recon 2 v.04 objective value is 0.15990277911030093\n",
      "There are 3 models that aren't feasible because of their low objective value.\n",
      "\n"
     ]
    },
    {
     "data": {
      "text/html": [
       "<div>\n",
       "<style scoped>\n",
       "    .dataframe tbody tr th:only-of-type {\n",
       "        vertical-align: middle;\n",
       "    }\n",
       "\n",
       "    .dataframe tbody tr th {\n",
       "        vertical-align: top;\n",
       "    }\n",
       "\n",
       "    .dataframe thead th {\n",
       "        text-align: right;\n",
       "    }\n",
       "</style>\n",
       "<table border=\"1\" class=\"dataframe\">\n",
       "  <thead>\n",
       "    <tr style=\"text-align: right;\">\n",
       "      <th></th>\n",
       "      <th>flux_bm</th>\n",
       "      <th>percent_bm</th>\n",
       "      <th>feasible_models</th>\n",
       "    </tr>\n",
       "  </thead>\n",
       "  <tbody>\n",
       "    <tr>\n",
       "      <th>SampleModel-BRCA-C-TCGA-E9-A1NC-01A-21R-A26B-07</th>\n",
       "      <td>0.358401</td>\n",
       "      <td>11.206848</td>\n",
       "      <td>TRUE</td>\n",
       "    </tr>\n",
       "    <tr>\n",
       "      <th>SampleModel-BRCA-C-TCGA-AO-A12H-01A-11R-A115-07</th>\n",
       "      <td>0.427095</td>\n",
       "      <td>13.354842</td>\n",
       "      <td>TRUE</td>\n",
       "    </tr>\n",
       "    <tr>\n",
       "      <th>SampleModel-BRCA-C-TCGA-B6-A0RH-01A-21R-A115-07</th>\n",
       "      <td>0.328348</td>\n",
       "      <td>10.267114</td>\n",
       "      <td>TRUE</td>\n",
       "    </tr>\n",
       "    <tr>\n",
       "      <th>SampleModel-BRCA-H-TCGA-BH-A1EO-11A-31R-A137-07</th>\n",
       "      <td>0.518156</td>\n",
       "      <td>16.202235</td>\n",
       "      <td>TRUE</td>\n",
       "    </tr>\n",
       "    <tr>\n",
       "      <th>SampleModel-BRCA-H-TCGA-BH-A1FG-11B-12R-A13Q-07</th>\n",
       "      <td>0.163898</td>\n",
       "      <td>5.124927</td>\n",
       "      <td>TRUE</td>\n",
       "    </tr>\n",
       "    <tr>\n",
       "      <th>SampleModel-BRCA-C-TCGA-A8-A0AB-01A-11R-A034-07</th>\n",
       "      <td>0.345294</td>\n",
       "      <td>10.797005</td>\n",
       "      <td>TRUE</td>\n",
       "    </tr>\n",
       "    <tr>\n",
       "      <th>SampleModel-BRCA-H-TCGA-BH-A0BC-11A-22R-A089-07</th>\n",
       "      <td>0.209855</td>\n",
       "      <td>6.561966</td>\n",
       "      <td>TRUE</td>\n",
       "    </tr>\n",
       "    <tr>\n",
       "      <th>SampleModel-BRCA-H-TCGA-BH-A0DT-11A-12R-A12D-07</th>\n",
       "      <td>0.405128</td>\n",
       "      <td>12.667935</td>\n",
       "      <td>TRUE</td>\n",
       "    </tr>\n",
       "    <tr>\n",
       "      <th>SampleModel-BRCA-H-TCGA-BH-A0BA-11A-22R-A19E-07</th>\n",
       "      <td>0.247415</td>\n",
       "      <td>7.736422</td>\n",
       "      <td>TRUE</td>\n",
       "    </tr>\n",
       "    <tr>\n",
       "      <th>SampleModel-BRCA-C-TCGA-A2-A0D0-01A-11R-A00Z-07</th>\n",
       "      <td>0.139380</td>\n",
       "      <td>4.358261</td>\n",
       "      <td>FALSE</td>\n",
       "    </tr>\n",
       "    <tr>\n",
       "      <th>SampleModel-BRCA-H-TCGA-BH-A203-11A-42R-A169-07</th>\n",
       "      <td>0.623419</td>\n",
       "      <td>19.493685</td>\n",
       "      <td>TRUE</td>\n",
       "    </tr>\n",
       "    <tr>\n",
       "      <th>SampleModel-BRCA-H-TCGA-AC-A23H-11A-12R-A157-07</th>\n",
       "      <td>0.282205</td>\n",
       "      <td>8.824271</td>\n",
       "      <td>TRUE</td>\n",
       "    </tr>\n",
       "    <tr>\n",
       "      <th>SampleModel-BRCA-C-TCGA-C8-A1HO-01A-11R-A13Q-07</th>\n",
       "      <td>0.237727</td>\n",
       "      <td>7.433484</td>\n",
       "      <td>TRUE</td>\n",
       "    </tr>\n",
       "    <tr>\n",
       "      <th>SampleModel-BRCA-H-TCGA-BH-A1F0-11B-23R-A137-07</th>\n",
       "      <td>0.185250</td>\n",
       "      <td>5.792575</td>\n",
       "      <td>TRUE</td>\n",
       "    </tr>\n",
       "    <tr>\n",
       "      <th>SampleModel-BRCA-C-TCGA-A8-A06Y-01A-21R-A00Z-07</th>\n",
       "      <td>0.148671</td>\n",
       "      <td>4.648796</td>\n",
       "      <td>FALSE</td>\n",
       "    </tr>\n",
       "    <tr>\n",
       "      <th>SampleModel-BRCA-C-TCGA-C8-A1HL-01A-11R-A137-07</th>\n",
       "      <td>0.160454</td>\n",
       "      <td>5.017221</td>\n",
       "      <td>TRUE</td>\n",
       "    </tr>\n",
       "    <tr>\n",
       "      <th>SampleModel-BRCA-C-TCGA-D8-A4Z1-01A-21R-A266-07</th>\n",
       "      <td>0.109006</td>\n",
       "      <td>3.408494</td>\n",
       "      <td>FALSE</td>\n",
       "    </tr>\n",
       "    <tr>\n",
       "      <th>SampleModel-BRCA-H-TCGA-BH-A204-11A-53R-A157-07</th>\n",
       "      <td>0.256920</td>\n",
       "      <td>8.033638</td>\n",
       "      <td>TRUE</td>\n",
       "    </tr>\n",
       "    <tr>\n",
       "      <th>SampleModel-BRCA-H-TCGA-BH-A0DH-11A-31R-A089-07</th>\n",
       "      <td>0.523479</td>\n",
       "      <td>16.368663</td>\n",
       "      <td>TRUE</td>\n",
       "    </tr>\n",
       "    <tr>\n",
       "      <th>SampleModel-BRCA-C-TCGA-A1-A0SM-01A-11R-A084-07</th>\n",
       "      <td>0.295379</td>\n",
       "      <td>9.236193</td>\n",
       "      <td>TRUE</td>\n",
       "    </tr>\n",
       "  </tbody>\n",
       "</table>\n",
       "</div>"
      ],
      "text/plain": [
       "                                                  flux_bm  percent_bm  \\\n",
       "SampleModel-BRCA-C-TCGA-E9-A1NC-01A-21R-A26B-07  0.358401   11.206848   \n",
       "SampleModel-BRCA-C-TCGA-AO-A12H-01A-11R-A115-07  0.427095   13.354842   \n",
       "SampleModel-BRCA-C-TCGA-B6-A0RH-01A-21R-A115-07  0.328348   10.267114   \n",
       "SampleModel-BRCA-H-TCGA-BH-A1EO-11A-31R-A137-07  0.518156   16.202235   \n",
       "SampleModel-BRCA-H-TCGA-BH-A1FG-11B-12R-A13Q-07  0.163898    5.124927   \n",
       "SampleModel-BRCA-C-TCGA-A8-A0AB-01A-11R-A034-07  0.345294   10.797005   \n",
       "SampleModel-BRCA-H-TCGA-BH-A0BC-11A-22R-A089-07  0.209855    6.561966   \n",
       "SampleModel-BRCA-H-TCGA-BH-A0DT-11A-12R-A12D-07  0.405128   12.667935   \n",
       "SampleModel-BRCA-H-TCGA-BH-A0BA-11A-22R-A19E-07  0.247415    7.736422   \n",
       "SampleModel-BRCA-C-TCGA-A2-A0D0-01A-11R-A00Z-07  0.139380    4.358261   \n",
       "SampleModel-BRCA-H-TCGA-BH-A203-11A-42R-A169-07  0.623419   19.493685   \n",
       "SampleModel-BRCA-H-TCGA-AC-A23H-11A-12R-A157-07  0.282205    8.824271   \n",
       "SampleModel-BRCA-C-TCGA-C8-A1HO-01A-11R-A13Q-07  0.237727    7.433484   \n",
       "SampleModel-BRCA-H-TCGA-BH-A1F0-11B-23R-A137-07  0.185250    5.792575   \n",
       "SampleModel-BRCA-C-TCGA-A8-A06Y-01A-21R-A00Z-07  0.148671    4.648796   \n",
       "SampleModel-BRCA-C-TCGA-C8-A1HL-01A-11R-A137-07  0.160454    5.017221   \n",
       "SampleModel-BRCA-C-TCGA-D8-A4Z1-01A-21R-A266-07  0.109006    3.408494   \n",
       "SampleModel-BRCA-H-TCGA-BH-A204-11A-53R-A157-07  0.256920    8.033638   \n",
       "SampleModel-BRCA-H-TCGA-BH-A0DH-11A-31R-A089-07  0.523479   16.368663   \n",
       "SampleModel-BRCA-C-TCGA-A1-A0SM-01A-11R-A084-07  0.295379    9.236193   \n",
       "\n",
       "                                                feasible_models  \n",
       "SampleModel-BRCA-C-TCGA-E9-A1NC-01A-21R-A26B-07            TRUE  \n",
       "SampleModel-BRCA-C-TCGA-AO-A12H-01A-11R-A115-07            TRUE  \n",
       "SampleModel-BRCA-C-TCGA-B6-A0RH-01A-21R-A115-07            TRUE  \n",
       "SampleModel-BRCA-H-TCGA-BH-A1EO-11A-31R-A137-07            TRUE  \n",
       "SampleModel-BRCA-H-TCGA-BH-A1FG-11B-12R-A13Q-07            TRUE  \n",
       "SampleModel-BRCA-C-TCGA-A8-A0AB-01A-11R-A034-07            TRUE  \n",
       "SampleModel-BRCA-H-TCGA-BH-A0BC-11A-22R-A089-07            TRUE  \n",
       "SampleModel-BRCA-H-TCGA-BH-A0DT-11A-12R-A12D-07            TRUE  \n",
       "SampleModel-BRCA-H-TCGA-BH-A0BA-11A-22R-A19E-07            TRUE  \n",
       "SampleModel-BRCA-C-TCGA-A2-A0D0-01A-11R-A00Z-07           FALSE  \n",
       "SampleModel-BRCA-H-TCGA-BH-A203-11A-42R-A169-07            TRUE  \n",
       "SampleModel-BRCA-H-TCGA-AC-A23H-11A-12R-A157-07            TRUE  \n",
       "SampleModel-BRCA-C-TCGA-C8-A1HO-01A-11R-A13Q-07            TRUE  \n",
       "SampleModel-BRCA-H-TCGA-BH-A1F0-11B-23R-A137-07            TRUE  \n",
       "SampleModel-BRCA-C-TCGA-A8-A06Y-01A-21R-A00Z-07           FALSE  \n",
       "SampleModel-BRCA-C-TCGA-C8-A1HL-01A-11R-A137-07            TRUE  \n",
       "SampleModel-BRCA-C-TCGA-D8-A4Z1-01A-21R-A266-07           FALSE  \n",
       "SampleModel-BRCA-H-TCGA-BH-A204-11A-53R-A157-07            TRUE  \n",
       "SampleModel-BRCA-H-TCGA-BH-A0DH-11A-31R-A089-07            TRUE  \n",
       "SampleModel-BRCA-C-TCGA-A1-A0SM-01A-11R-A084-07            TRUE  "
      ]
     },
     "execution_count": 13,
     "metadata": {},
     "output_type": "execute_result"
    }
   ],
   "source": [
    "r_models = pd.DataFrame(index=[model.id for model in models])\n",
    "\n",
    "for i, solution in enumerate(solutions, start = 0):\n",
    "    bm_m = solution.objective_value\n",
    "    percent = (bm_m/bm) * 100\n",
    "    \n",
    "    r_models.loc[r_models.index[i], 'flux_bm'] = bm_m\n",
    "    r_models.loc[r_models.index[i], 'percent_bm'] = percent\n",
    "    r_models.loc[r_models.index[i], 'feasible_models'] = \"TRUE\" if percent > 5 else \"FALSE\"\n",
    "\n",
    "print(f'The 5% of Recon 2 v.04 objective value is {5/100*bm}')\n",
    "print(f'There are {r_models[\"feasible_models\"].eq(\"FALSE\").sum()} models that aren\\'t feasible because of their low objective value.\\n')\n",
    "r_models"
   ]
  }
 ],
 "metadata": {
  "kernelspec": {
   "display_name": "Python 3 (ipykernel)",
   "language": "python",
   "name": "python3"
  },
  "language_info": {
   "codemirror_mode": {
    "name": "ipython",
    "version": 3
   },
   "file_extension": ".py",
   "mimetype": "text/x-python",
   "name": "python",
   "nbconvert_exporter": "python",
   "pygments_lexer": "ipython3",
   "version": "3.11.7"
  }
 },
 "nbformat": 4,
 "nbformat_minor": 5
}
